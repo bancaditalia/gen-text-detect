{
 "cells": [
  {
   "cell_type": "code",
   "execution_count": 1,
   "id": "9f963291",
   "metadata": {},
   "outputs": [],
   "source": [
    "import json\n",
    "import pandas as pd\n",
    "import os"
   ]
  },
  {
   "cell_type": "code",
   "execution_count": null,
   "id": "021f41dc",
   "metadata": {},
   "outputs": [],
   "source": [
    "data_path = \"./\"\n",
    "embed_path = \"./output/train/embed\""
   ]
  },
  {
   "cell_type": "code",
   "execution_count": 9,
   "id": "85ce9092",
   "metadata": {},
   "outputs": [],
   "source": [
    "import pickle\n",
    "\n",
    "def load_dataset(file_path, prefix_path=data_path):\n",
    "    ds = None\n",
    "    full_path = os.path.join(prefix_path, file_path)\n",
    "    if os.path.splitext(file_path)[-1] == \".csv\":\n",
    "        ds = pd.read_csv(full_path)\n",
    "    elif os.path.splitext(file_path)[-1] == \".jsonl\":\n",
    "        ds = pd.read_json(full_path, lines=True)\n",
    "    elif os.path.splitext(file_path)[-1] == \".pickle\":\n",
    "        with open(full_path, \"rb\") as f:\n",
    "            ds = pickle.load(f)\n",
    "    return ds"
   ]
  },
  {
   "cell_type": "markdown",
   "id": "b61e28e1",
   "metadata": {},
   "source": [
    "# Words-embedding"
   ]
  },
  {
   "cell_type": "markdown",
   "id": "26b42680",
   "metadata": {},
   "source": [
    "## Load training datasets"
   ]
  },
  {
   "cell_type": "code",
   "execution_count": 10,
   "id": "a7e0c459",
   "metadata": {},
   "outputs": [],
   "source": [
    "real_data_file = 'webtext.train.jsonl.clean100k.csv'\n",
    "fake_data_file = 'xl-1542M.train.jsonl.clean100k.csv'"
   ]
  },
  {
   "cell_type": "code",
   "execution_count": 11,
   "id": "6eb296e5",
   "metadata": {},
   "outputs": [],
   "source": [
    "df_real = load_dataset(real_data_file)\n",
    "df_fake = load_dataset(fake_data_file)\n",
    "\n",
    "corpus = df_real[\"text\"].to_list() + df_fake[\"text\"].to_list()\n",
    "labels = [0 for _ in range(len(df_real))] + [1 for _ in range(len(df_fake))]"
   ]
  },
  {
   "cell_type": "markdown",
   "id": "01d885f3",
   "metadata": {},
   "source": [
    "## Build vocabulary"
   ]
  },
  {
   "cell_type": "code",
   "execution_count": 12,
   "id": "af737da1",
   "metadata": {},
   "outputs": [],
   "source": [
    "from nlp_engine.preprocessing import transformers as tfs\n",
    "from sklearn.pipeline import make_pipeline"
   ]
  },
  {
   "cell_type": "code",
   "execution_count": 13,
   "id": "4423dbec",
   "metadata": {},
   "outputs": [],
   "source": [
    "tokenized_corpus = make_pipeline(\n",
    "    tfs.WordTokenizer(), \n",
    "    tfs.WordsFilter(drop_symbols=False, drop_digits=True)\n",
    ").fit_transform(corpus)"
   ]
  },
  {
   "cell_type": "code",
   "execution_count": 14,
   "id": "7cfa4c74",
   "metadata": {},
   "outputs": [],
   "source": [
    "from nlp_engine.analysis import vocabulary"
   ]
  },
  {
   "cell_type": "code",
   "execution_count": 15,
   "id": "4e963532",
   "metadata": {},
   "outputs": [],
   "source": [
    "vocab_real = vocabulary.get_vocabulary(tokenized_corpus[:len(df_real)])\n",
    "vocab_fake = vocabulary.get_vocabulary(tokenized_corpus[len(df_real):])"
   ]
  },
  {
   "cell_type": "code",
   "execution_count": 16,
   "id": "8f00b9e3",
   "metadata": {},
   "outputs": [],
   "source": [
    "vocab_shared = vocab_real.intersection(vocab_fake)"
   ]
  },
  {
   "cell_type": "code",
   "execution_count": 17,
   "id": "2269fdb0",
   "metadata": {},
   "outputs": [
    {
     "name": "stdout",
     "output_type": "stream",
     "text": [
      "Size of \"real\" vocabulary: 290187\n",
      "Size of \"fake\" vocabulary: 511432\n",
      "Size of intersection: 160741\n"
     ]
    }
   ],
   "source": [
    "print(f'Size of \"real\" vocabulary: {len(vocab_real)}\\nSize of \"fake\" vocabulary: {len(vocab_fake)}\\nSize of intersection: {len(vocab_shared)}')"
   ]
  },
  {
   "cell_type": "markdown",
   "id": "ffa4433f",
   "metadata": {},
   "source": [
    "## Compute TF-IDF embedding"
   ]
  },
  {
   "cell_type": "code",
   "execution_count": 18,
   "id": "512ffb57",
   "metadata": {},
   "outputs": [],
   "source": [
    "from sklearn.feature_extraction.text import TfidfVectorizer\n",
    "from sklearn.decomposition import TruncatedSVD"
   ]
  },
  {
   "cell_type": "code",
   "execution_count": 19,
   "id": "a1e8e962",
   "metadata": {},
   "outputs": [],
   "source": [
    "def identity(x):\n",
    "    return x"
   ]
  },
  {
   "cell_type": "code",
   "execution_count": 20,
   "id": "0301fced",
   "metadata": {},
   "outputs": [],
   "source": [
    "words_pipeline = make_pipeline(\n",
    "    tfs.WordTokenizer(),\n",
    "    tfs.WordsFilter(\n",
    "        drop_symbols=False, \n",
    "        drop_digits=True, \n",
    "        whitelist=vocab_shared),\n",
    "    TfidfVectorizer(\n",
    "        ngram_range=(1,3), \n",
    "        max_features=1000000, \n",
    "        sublinear_tf=True, \n",
    "        tokenizer=identity, \n",
    "        preprocessor=identity),\n",
    "    TruncatedSVD(n_components=500)\n",
    ")"
   ]
  },
  {
   "cell_type": "code",
   "execution_count": 21,
   "id": "6af4c3a8",
   "metadata": {
    "scrolled": false
   },
   "outputs": [
    {
     "name": "stderr",
     "output_type": "stream",
     "text": [
      "/Users/alessandro/Documents/dev/ml-env/lib/python3.9/site-packages/sklearn/feature_extraction/text.py:528: UserWarning: The parameter 'token_pattern' will not be used since 'tokenizer' is not None'\n",
      "  warnings.warn(\n"
     ]
    },
    {
     "name": "stdout",
     "output_type": "stream",
     "text": [
      "CPU times: user 34min 47s, sys: 21min 20s, total: 56min 8s\n",
      "Wall time: 47min 46s\n"
     ]
    },
    {
     "data": {
      "text/html": [
       "<style>#sk-container-id-1 {color: black;background-color: white;}#sk-container-id-1 pre{padding: 0;}#sk-container-id-1 div.sk-toggleable {background-color: white;}#sk-container-id-1 label.sk-toggleable__label {cursor: pointer;display: block;width: 100%;margin-bottom: 0;padding: 0.3em;box-sizing: border-box;text-align: center;}#sk-container-id-1 label.sk-toggleable__label-arrow:before {content: \"▸\";float: left;margin-right: 0.25em;color: #696969;}#sk-container-id-1 label.sk-toggleable__label-arrow:hover:before {color: black;}#sk-container-id-1 div.sk-estimator:hover label.sk-toggleable__label-arrow:before {color: black;}#sk-container-id-1 div.sk-toggleable__content {max-height: 0;max-width: 0;overflow: hidden;text-align: left;background-color: #f0f8ff;}#sk-container-id-1 div.sk-toggleable__content pre {margin: 0.2em;color: black;border-radius: 0.25em;background-color: #f0f8ff;}#sk-container-id-1 input.sk-toggleable__control:checked~div.sk-toggleable__content {max-height: 200px;max-width: 100%;overflow: auto;}#sk-container-id-1 input.sk-toggleable__control:checked~label.sk-toggleable__label-arrow:before {content: \"▾\";}#sk-container-id-1 div.sk-estimator input.sk-toggleable__control:checked~label.sk-toggleable__label {background-color: #d4ebff;}#sk-container-id-1 div.sk-label input.sk-toggleable__control:checked~label.sk-toggleable__label {background-color: #d4ebff;}#sk-container-id-1 input.sk-hidden--visually {border: 0;clip: rect(1px 1px 1px 1px);clip: rect(1px, 1px, 1px, 1px);height: 1px;margin: -1px;overflow: hidden;padding: 0;position: absolute;width: 1px;}#sk-container-id-1 div.sk-estimator {font-family: monospace;background-color: #f0f8ff;border: 1px dotted black;border-radius: 0.25em;box-sizing: border-box;margin-bottom: 0.5em;}#sk-container-id-1 div.sk-estimator:hover {background-color: #d4ebff;}#sk-container-id-1 div.sk-parallel-item::after {content: \"\";width: 100%;border-bottom: 1px solid gray;flex-grow: 1;}#sk-container-id-1 div.sk-label:hover label.sk-toggleable__label {background-color: #d4ebff;}#sk-container-id-1 div.sk-serial::before {content: \"\";position: absolute;border-left: 1px solid gray;box-sizing: border-box;top: 0;bottom: 0;left: 50%;z-index: 0;}#sk-container-id-1 div.sk-serial {display: flex;flex-direction: column;align-items: center;background-color: white;padding-right: 0.2em;padding-left: 0.2em;position: relative;}#sk-container-id-1 div.sk-item {position: relative;z-index: 1;}#sk-container-id-1 div.sk-parallel {display: flex;align-items: stretch;justify-content: center;background-color: white;position: relative;}#sk-container-id-1 div.sk-item::before, #sk-container-id-1 div.sk-parallel-item::before {content: \"\";position: absolute;border-left: 1px solid gray;box-sizing: border-box;top: 0;bottom: 0;left: 50%;z-index: -1;}#sk-container-id-1 div.sk-parallel-item {display: flex;flex-direction: column;z-index: 1;position: relative;background-color: white;}#sk-container-id-1 div.sk-parallel-item:first-child::after {align-self: flex-end;width: 50%;}#sk-container-id-1 div.sk-parallel-item:last-child::after {align-self: flex-start;width: 50%;}#sk-container-id-1 div.sk-parallel-item:only-child::after {width: 0;}#sk-container-id-1 div.sk-dashed-wrapped {border: 1px dashed gray;margin: 0 0.4em 0.5em 0.4em;box-sizing: border-box;padding-bottom: 0.4em;background-color: white;}#sk-container-id-1 div.sk-label label {font-family: monospace;font-weight: bold;display: inline-block;line-height: 1.2em;}#sk-container-id-1 div.sk-label-container {text-align: center;}#sk-container-id-1 div.sk-container {/* jupyter's `normalize.less` sets `[hidden] { display: none; }` but bootstrap.min.css set `[hidden] { display: none !important; }` so we also need the `!important` here to be able to override the default hidden behavior on the sphinx rendered scikit-learn.org. See: https://github.com/scikit-learn/scikit-learn/issues/21755 */display: inline-block !important;position: relative;}#sk-container-id-1 div.sk-text-repr-fallback {display: none;}</style><div id=\"sk-container-id-1\" class=\"sk-top-container\"><div class=\"sk-text-repr-fallback\"><pre>Pipeline(steps=[(&#x27;wordtokenizer&#x27;, WordTokenizer()),\n",
       "                (&#x27;wordsfilter&#x27;,\n",
       "                 WordsFilter(drop_digits=True,\n",
       "                             whitelist={&#x27;!&#x27;, &#x27;&quot;&#x27;, &#x27;#&#x27;, &#x27;$&#x27;, &#x27;%&#x27;, &#x27;&amp;&#x27;, &quot;&#x27;&quot;, &#x27;(&#x27;,\n",
       "                                        &#x27;)&#x27;, &#x27;*&#x27;, &#x27;+&#x27;, &#x27;,&#x27;, &#x27;-&#x27;, &#x27;.&#x27;, &#x27;/&#x27;, &#x27;:&#x27;,\n",
       "                                        &#x27;;&#x27;, &#x27;&lt;&#x27;, &#x27;=&#x27;, &#x27;&gt;&#x27;, &#x27;?&#x27;, &#x27;@&#x27;, &#x27;[&#x27;, &#x27;\\\\&#x27;,\n",
       "                                        &#x27;]&#x27;, &#x27;^&#x27;, &#x27;`&#x27;, &#x27;a&#x27;, &#x27;a0&#x27;, &#x27;a02&#x27;, ...})),\n",
       "                (&#x27;tfidfvectorizer&#x27;,\n",
       "                 TfidfVectorizer(max_features=1000000, ngram_range=(1, 3),\n",
       "                                 preprocessor=&lt;function identity at 0x2de2ca160&gt;,\n",
       "                                 sublinear_tf=True,\n",
       "                                 tokenizer=&lt;function identity at 0x2de2ca160&gt;)),\n",
       "                (&#x27;truncatedsvd&#x27;, TruncatedSVD(n_components=500))])</pre><b>In a Jupyter environment, please rerun this cell to show the HTML representation or trust the notebook. <br />On GitHub, the HTML representation is unable to render, please try loading this page with nbviewer.org.</b></div><div class=\"sk-container\" hidden><div class=\"sk-item sk-dashed-wrapped\"><div class=\"sk-label-container\"><div class=\"sk-label sk-toggleable\"><input class=\"sk-toggleable__control sk-hidden--visually\" id=\"sk-estimator-id-1\" type=\"checkbox\" ><label for=\"sk-estimator-id-1\" class=\"sk-toggleable__label sk-toggleable__label-arrow\">Pipeline</label><div class=\"sk-toggleable__content\"><pre>Pipeline(steps=[(&#x27;wordtokenizer&#x27;, WordTokenizer()),\n",
       "                (&#x27;wordsfilter&#x27;,\n",
       "                 WordsFilter(drop_digits=True,\n",
       "                             whitelist={&#x27;!&#x27;, &#x27;&quot;&#x27;, &#x27;#&#x27;, &#x27;$&#x27;, &#x27;%&#x27;, &#x27;&amp;&#x27;, &quot;&#x27;&quot;, &#x27;(&#x27;,\n",
       "                                        &#x27;)&#x27;, &#x27;*&#x27;, &#x27;+&#x27;, &#x27;,&#x27;, &#x27;-&#x27;, &#x27;.&#x27;, &#x27;/&#x27;, &#x27;:&#x27;,\n",
       "                                        &#x27;;&#x27;, &#x27;&lt;&#x27;, &#x27;=&#x27;, &#x27;&gt;&#x27;, &#x27;?&#x27;, &#x27;@&#x27;, &#x27;[&#x27;, &#x27;\\\\&#x27;,\n",
       "                                        &#x27;]&#x27;, &#x27;^&#x27;, &#x27;`&#x27;, &#x27;a&#x27;, &#x27;a0&#x27;, &#x27;a02&#x27;, ...})),\n",
       "                (&#x27;tfidfvectorizer&#x27;,\n",
       "                 TfidfVectorizer(max_features=1000000, ngram_range=(1, 3),\n",
       "                                 preprocessor=&lt;function identity at 0x2de2ca160&gt;,\n",
       "                                 sublinear_tf=True,\n",
       "                                 tokenizer=&lt;function identity at 0x2de2ca160&gt;)),\n",
       "                (&#x27;truncatedsvd&#x27;, TruncatedSVD(n_components=500))])</pre></div></div></div><div class=\"sk-serial\"><div class=\"sk-item\"><div class=\"sk-estimator sk-toggleable\"><input class=\"sk-toggleable__control sk-hidden--visually\" id=\"sk-estimator-id-2\" type=\"checkbox\" ><label for=\"sk-estimator-id-2\" class=\"sk-toggleable__label sk-toggleable__label-arrow\">WordTokenizer</label><div class=\"sk-toggleable__content\"><pre>WordTokenizer()</pre></div></div></div><div class=\"sk-item\"><div class=\"sk-estimator sk-toggleable\"><input class=\"sk-toggleable__control sk-hidden--visually\" id=\"sk-estimator-id-3\" type=\"checkbox\" ><label for=\"sk-estimator-id-3\" class=\"sk-toggleable__label sk-toggleable__label-arrow\">WordsFilter</label><div class=\"sk-toggleable__content\"><pre>WordsFilter(drop_digits=True,\n",
       "            whitelist={&#x27;!&#x27;, &#x27;&quot;&#x27;, &#x27;#&#x27;, &#x27;$&#x27;, &#x27;%&#x27;, &#x27;&amp;&#x27;, &quot;&#x27;&quot;, &#x27;(&#x27;, &#x27;)&#x27;, &#x27;*&#x27;, &#x27;+&#x27;,\n",
       "                       &#x27;,&#x27;, &#x27;-&#x27;, &#x27;.&#x27;, &#x27;/&#x27;, &#x27;:&#x27;, &#x27;;&#x27;, &#x27;&lt;&#x27;, &#x27;=&#x27;, &#x27;&gt;&#x27;, &#x27;?&#x27;, &#x27;@&#x27;,\n",
       "                       &#x27;[&#x27;, &#x27;\\\\&#x27;, &#x27;]&#x27;, &#x27;^&#x27;, &#x27;`&#x27;, &#x27;a&#x27;, &#x27;a0&#x27;, &#x27;a02&#x27;, ...})</pre></div></div></div><div class=\"sk-item\"><div class=\"sk-estimator sk-toggleable\"><input class=\"sk-toggleable__control sk-hidden--visually\" id=\"sk-estimator-id-4\" type=\"checkbox\" ><label for=\"sk-estimator-id-4\" class=\"sk-toggleable__label sk-toggleable__label-arrow\">TfidfVectorizer</label><div class=\"sk-toggleable__content\"><pre>TfidfVectorizer(max_features=1000000, ngram_range=(1, 3),\n",
       "                preprocessor=&lt;function identity at 0x2de2ca160&gt;,\n",
       "                sublinear_tf=True,\n",
       "                tokenizer=&lt;function identity at 0x2de2ca160&gt;)</pre></div></div></div><div class=\"sk-item\"><div class=\"sk-estimator sk-toggleable\"><input class=\"sk-toggleable__control sk-hidden--visually\" id=\"sk-estimator-id-5\" type=\"checkbox\" ><label for=\"sk-estimator-id-5\" class=\"sk-toggleable__label sk-toggleable__label-arrow\">TruncatedSVD</label><div class=\"sk-toggleable__content\"><pre>TruncatedSVD(n_components=500)</pre></div></div></div></div></div></div></div>"
      ],
      "text/plain": [
       "Pipeline(steps=[('wordtokenizer', WordTokenizer()),\n",
       "                ('wordsfilter',\n",
       "                 WordsFilter(drop_digits=True,\n",
       "                             whitelist={'!', '\"', '#', '$', '%', '&', \"'\", '(',\n",
       "                                        ')', '*', '+', ',', '-', '.', '/', ':',\n",
       "                                        ';', '<', '=', '>', '?', '@', '[', '\\\\',\n",
       "                                        ']', '^', '`', 'a', 'a0', 'a02', ...})),\n",
       "                ('tfidfvectorizer',\n",
       "                 TfidfVectorizer(max_features=1000000, ngram_range=(1, 3),\n",
       "                                 preprocessor=<function identity at 0x2de2ca160>,\n",
       "                                 sublinear_tf=True,\n",
       "                                 tokenizer=<function identity at 0x2de2ca160>)),\n",
       "                ('truncatedsvd', TruncatedSVD(n_components=500))])"
      ]
     },
     "execution_count": 21,
     "metadata": {},
     "output_type": "execute_result"
    }
   ],
   "source": [
    "%%time\n",
    "words_pipeline.fit(corpus, labels)"
   ]
  },
  {
   "cell_type": "markdown",
   "id": "b97adddc",
   "metadata": {},
   "source": [
    "Transform training data and store it"
   ]
  },
  {
   "cell_type": "code",
   "execution_count": 23,
   "id": "cbb94459",
   "metadata": {},
   "outputs": [],
   "source": [
    "real_embed = words_pipeline.transform(df_real[\"text\"].to_list())\n",
    "fake_embed = words_pipeline.transform(df_fake[\"text\"].to_list())"
   ]
  },
  {
   "cell_type": "code",
   "execution_count": 24,
   "id": "3cadda4f",
   "metadata": {},
   "outputs": [],
   "source": [
    "import pickle\n",
    "\n",
    "embed_path = \"./output/train/embed\"\n",
    "\n",
    "with open(os.path.join(\n",
    "    embed_path, f\"{real_data_file.replace('.jsonl.clean100k.csv','')}.human_embed.pickle\"), \"wb\") as f:\n",
    "    pickle.dump(real_embed, f)\n",
    "with open(os.path.join(\n",
    "    embed_path, f\"{fake_data_file.replace('.jsonl.clean100k.csv','')}.machine_embed.pickle\"), \"wb\") as f:\n",
    "    pickle.dump(fake_embed, f)"
   ]
  },
  {
   "cell_type": "markdown",
   "id": "67a6f536",
   "metadata": {},
   "source": [
    "## Embed test datasets"
   ]
  },
  {
   "cell_type": "code",
   "execution_count": 27,
   "id": "5095bf90",
   "metadata": {},
   "outputs": [],
   "source": [
    "test_path = \"./data/test\"\n",
    "test_dataset_files = sorted([f for f in os.listdir(test_path) if os.path.isfile(os.path.join(test_path, f)) and f[0]!=\".\"])"
   ]
  },
  {
   "cell_type": "code",
   "execution_count": 29,
   "id": "634bad3b",
   "metadata": {},
   "outputs": [],
   "source": [
    "embed_path = \"./output/test/embed\"\n",
    "\n",
    "for test in test_dataset_files:\n",
    "    with open(os.path.join(test_path, test), \"rb\") as f:\n",
    "        X = pickle.load(f)\n",
    "    X_embed = words_pipeline.transform(X)\n",
    "    with open(os.path.join(embed_path,f\"{os.path.splitext(test)[0]}_embed.pickle\"), \"wb\") as f:\n",
    "        pickle.dump(X_embed, f)"
   ]
  },
  {
   "cell_type": "markdown",
   "id": "7c8646a5",
   "metadata": {},
   "source": [
    "# TAG-embedding"
   ]
  },
  {
   "cell_type": "code",
   "execution_count": 30,
   "id": "baa8255d",
   "metadata": {},
   "outputs": [],
   "source": [
    "data_path = \"./data/tag\"\n",
    "embed_path = \"./data/tag/embed\""
   ]
  },
  {
   "cell_type": "markdown",
   "id": "83162236",
   "metadata": {},
   "source": [
    "## Load training datasets"
   ]
  },
  {
   "cell_type": "code",
   "execution_count": 31,
   "id": "946a490b",
   "metadata": {},
   "outputs": [],
   "source": [
    "real_data_file = 'webtext.train.jsonl.clean100k.csv.tag.pickle'\n",
    "fake_data_file = 'xl-1542M.train.jsonl.clean100k.csv.tag.pickle'"
   ]
  },
  {
   "cell_type": "code",
   "execution_count": 32,
   "id": "285182ba",
   "metadata": {},
   "outputs": [],
   "source": [
    "ds_real = load_dataset(real_data_file, data_path)\n",
    "ds_fake = load_dataset(fake_data_file, data_path)"
   ]
  },
  {
   "cell_type": "code",
   "execution_count": 34,
   "id": "de314187",
   "metadata": {},
   "outputs": [],
   "source": [
    "corpus = ds_real + ds_fake\n",
    "labels = [0 for _ in range(len(ds_real))] + [1 for _ in range(len(ds_fake))]"
   ]
  },
  {
   "cell_type": "markdown",
   "id": "f6f2ffd9",
   "metadata": {},
   "source": [
    "## Compute TF-IDF embedding"
   ]
  },
  {
   "cell_type": "code",
   "execution_count": 35,
   "id": "f9efdef4",
   "metadata": {},
   "outputs": [],
   "source": [
    "from sklearn.feature_extraction.text import TfidfVectorizer\n",
    "from sklearn.decomposition import TruncatedSVD\n",
    "from sklearn.pipeline import make_pipeline"
   ]
  },
  {
   "cell_type": "code",
   "execution_count": 36,
   "id": "4df25b20",
   "metadata": {},
   "outputs": [],
   "source": [
    "def identity(x):\n",
    "    return x"
   ]
  },
  {
   "cell_type": "code",
   "execution_count": 37,
   "id": "aa8b7475",
   "metadata": {},
   "outputs": [],
   "source": [
    "tags_pipeline = make_pipeline(\n",
    "    TfidfVectorizer(\n",
    "        ngram_range=(3,5), \n",
    "        max_features=1000000, \n",
    "        sublinear_tf=True, \n",
    "        tokenizer=identity, \n",
    "        preprocessor=identity),\n",
    "    TruncatedSVD(n_components=300)\n",
    ")"
   ]
  },
  {
   "cell_type": "code",
   "execution_count": 38,
   "id": "dcd2bff0",
   "metadata": {
    "scrolled": false
   },
   "outputs": [
    {
     "name": "stdout",
     "output_type": "stream",
     "text": [
      "CPU times: user 26min 42s, sys: 2min 19s, total: 29min 1s\n",
      "Wall time: 21min 9s\n"
     ]
    },
    {
     "data": {
      "text/html": [
       "<style>#sk-container-id-2 {color: black;background-color: white;}#sk-container-id-2 pre{padding: 0;}#sk-container-id-2 div.sk-toggleable {background-color: white;}#sk-container-id-2 label.sk-toggleable__label {cursor: pointer;display: block;width: 100%;margin-bottom: 0;padding: 0.3em;box-sizing: border-box;text-align: center;}#sk-container-id-2 label.sk-toggleable__label-arrow:before {content: \"▸\";float: left;margin-right: 0.25em;color: #696969;}#sk-container-id-2 label.sk-toggleable__label-arrow:hover:before {color: black;}#sk-container-id-2 div.sk-estimator:hover label.sk-toggleable__label-arrow:before {color: black;}#sk-container-id-2 div.sk-toggleable__content {max-height: 0;max-width: 0;overflow: hidden;text-align: left;background-color: #f0f8ff;}#sk-container-id-2 div.sk-toggleable__content pre {margin: 0.2em;color: black;border-radius: 0.25em;background-color: #f0f8ff;}#sk-container-id-2 input.sk-toggleable__control:checked~div.sk-toggleable__content {max-height: 200px;max-width: 100%;overflow: auto;}#sk-container-id-2 input.sk-toggleable__control:checked~label.sk-toggleable__label-arrow:before {content: \"▾\";}#sk-container-id-2 div.sk-estimator input.sk-toggleable__control:checked~label.sk-toggleable__label {background-color: #d4ebff;}#sk-container-id-2 div.sk-label input.sk-toggleable__control:checked~label.sk-toggleable__label {background-color: #d4ebff;}#sk-container-id-2 input.sk-hidden--visually {border: 0;clip: rect(1px 1px 1px 1px);clip: rect(1px, 1px, 1px, 1px);height: 1px;margin: -1px;overflow: hidden;padding: 0;position: absolute;width: 1px;}#sk-container-id-2 div.sk-estimator {font-family: monospace;background-color: #f0f8ff;border: 1px dotted black;border-radius: 0.25em;box-sizing: border-box;margin-bottom: 0.5em;}#sk-container-id-2 div.sk-estimator:hover {background-color: #d4ebff;}#sk-container-id-2 div.sk-parallel-item::after {content: \"\";width: 100%;border-bottom: 1px solid gray;flex-grow: 1;}#sk-container-id-2 div.sk-label:hover label.sk-toggleable__label {background-color: #d4ebff;}#sk-container-id-2 div.sk-serial::before {content: \"\";position: absolute;border-left: 1px solid gray;box-sizing: border-box;top: 0;bottom: 0;left: 50%;z-index: 0;}#sk-container-id-2 div.sk-serial {display: flex;flex-direction: column;align-items: center;background-color: white;padding-right: 0.2em;padding-left: 0.2em;position: relative;}#sk-container-id-2 div.sk-item {position: relative;z-index: 1;}#sk-container-id-2 div.sk-parallel {display: flex;align-items: stretch;justify-content: center;background-color: white;position: relative;}#sk-container-id-2 div.sk-item::before, #sk-container-id-2 div.sk-parallel-item::before {content: \"\";position: absolute;border-left: 1px solid gray;box-sizing: border-box;top: 0;bottom: 0;left: 50%;z-index: -1;}#sk-container-id-2 div.sk-parallel-item {display: flex;flex-direction: column;z-index: 1;position: relative;background-color: white;}#sk-container-id-2 div.sk-parallel-item:first-child::after {align-self: flex-end;width: 50%;}#sk-container-id-2 div.sk-parallel-item:last-child::after {align-self: flex-start;width: 50%;}#sk-container-id-2 div.sk-parallel-item:only-child::after {width: 0;}#sk-container-id-2 div.sk-dashed-wrapped {border: 1px dashed gray;margin: 0 0.4em 0.5em 0.4em;box-sizing: border-box;padding-bottom: 0.4em;background-color: white;}#sk-container-id-2 div.sk-label label {font-family: monospace;font-weight: bold;display: inline-block;line-height: 1.2em;}#sk-container-id-2 div.sk-label-container {text-align: center;}#sk-container-id-2 div.sk-container {/* jupyter's `normalize.less` sets `[hidden] { display: none; }` but bootstrap.min.css set `[hidden] { display: none !important; }` so we also need the `!important` here to be able to override the default hidden behavior on the sphinx rendered scikit-learn.org. See: https://github.com/scikit-learn/scikit-learn/issues/21755 */display: inline-block !important;position: relative;}#sk-container-id-2 div.sk-text-repr-fallback {display: none;}</style><div id=\"sk-container-id-2\" class=\"sk-top-container\"><div class=\"sk-text-repr-fallback\"><pre>Pipeline(steps=[(&#x27;tfidfvectorizer&#x27;,\n",
       "                 TfidfVectorizer(max_features=1000000, ngram_range=(3, 5),\n",
       "                                 preprocessor=&lt;function identity at 0x5388f8160&gt;,\n",
       "                                 sublinear_tf=True,\n",
       "                                 tokenizer=&lt;function identity at 0x5388f8160&gt;)),\n",
       "                (&#x27;truncatedsvd&#x27;, TruncatedSVD(n_components=300))])</pre><b>In a Jupyter environment, please rerun this cell to show the HTML representation or trust the notebook. <br />On GitHub, the HTML representation is unable to render, please try loading this page with nbviewer.org.</b></div><div class=\"sk-container\" hidden><div class=\"sk-item sk-dashed-wrapped\"><div class=\"sk-label-container\"><div class=\"sk-label sk-toggleable\"><input class=\"sk-toggleable__control sk-hidden--visually\" id=\"sk-estimator-id-6\" type=\"checkbox\" ><label for=\"sk-estimator-id-6\" class=\"sk-toggleable__label sk-toggleable__label-arrow\">Pipeline</label><div class=\"sk-toggleable__content\"><pre>Pipeline(steps=[(&#x27;tfidfvectorizer&#x27;,\n",
       "                 TfidfVectorizer(max_features=1000000, ngram_range=(3, 5),\n",
       "                                 preprocessor=&lt;function identity at 0x5388f8160&gt;,\n",
       "                                 sublinear_tf=True,\n",
       "                                 tokenizer=&lt;function identity at 0x5388f8160&gt;)),\n",
       "                (&#x27;truncatedsvd&#x27;, TruncatedSVD(n_components=300))])</pre></div></div></div><div class=\"sk-serial\"><div class=\"sk-item\"><div class=\"sk-estimator sk-toggleable\"><input class=\"sk-toggleable__control sk-hidden--visually\" id=\"sk-estimator-id-7\" type=\"checkbox\" ><label for=\"sk-estimator-id-7\" class=\"sk-toggleable__label sk-toggleable__label-arrow\">TfidfVectorizer</label><div class=\"sk-toggleable__content\"><pre>TfidfVectorizer(max_features=1000000, ngram_range=(3, 5),\n",
       "                preprocessor=&lt;function identity at 0x5388f8160&gt;,\n",
       "                sublinear_tf=True,\n",
       "                tokenizer=&lt;function identity at 0x5388f8160&gt;)</pre></div></div></div><div class=\"sk-item\"><div class=\"sk-estimator sk-toggleable\"><input class=\"sk-toggleable__control sk-hidden--visually\" id=\"sk-estimator-id-8\" type=\"checkbox\" ><label for=\"sk-estimator-id-8\" class=\"sk-toggleable__label sk-toggleable__label-arrow\">TruncatedSVD</label><div class=\"sk-toggleable__content\"><pre>TruncatedSVD(n_components=300)</pre></div></div></div></div></div></div></div>"
      ],
      "text/plain": [
       "Pipeline(steps=[('tfidfvectorizer',\n",
       "                 TfidfVectorizer(max_features=1000000, ngram_range=(3, 5),\n",
       "                                 preprocessor=<function identity at 0x5388f8160>,\n",
       "                                 sublinear_tf=True,\n",
       "                                 tokenizer=<function identity at 0x5388f8160>)),\n",
       "                ('truncatedsvd', TruncatedSVD(n_components=300))])"
      ]
     },
     "execution_count": 38,
     "metadata": {},
     "output_type": "execute_result"
    }
   ],
   "source": [
    "%%time\n",
    "tags_pipeline.fit(corpus, labels)"
   ]
  },
  {
   "cell_type": "markdown",
   "id": "8dd0b3b5",
   "metadata": {},
   "source": [
    "Transform training data and store it"
   ]
  },
  {
   "cell_type": "code",
   "execution_count": 40,
   "id": "7a3c0cc9",
   "metadata": {},
   "outputs": [],
   "source": [
    "real_embed = tags_pipeline.transform(ds_real)\n",
    "fake_embed = tags_pipeline.transform(ds_fake)"
   ]
  },
  {
   "cell_type": "code",
   "execution_count": 41,
   "id": "3787db9b",
   "metadata": {},
   "outputs": [],
   "source": [
    "import pickle\n",
    "\n",
    "embed_path = \"./output/train/embed\"\n",
    "\n",
    "with open(os.path.join(\n",
    "    embed_path, f\"{real_data_file.replace('.jsonl.clean100k.csv','').replace('.pickle','')}.human_embed.pickle\"), \"wb\") as f:\n",
    "    pickle.dump(real_embed, f)\n",
    "with open(os.path.join(\n",
    "    embed_path, f\"{fake_data_file.replace('.jsonl.clean100k.csv','').replace('.pickle','')}.machine_embed.pickle\"), \"wb\") as f:\n",
    "    pickle.dump(fake_embed, f)"
   ]
  },
  {
   "cell_type": "markdown",
   "id": "68c22e3e",
   "metadata": {},
   "source": [
    "## Embed test datasets"
   ]
  },
  {
   "cell_type": "code",
   "execution_count": 42,
   "id": "213caf37",
   "metadata": {},
   "outputs": [],
   "source": [
    "test_path = \"./data/tag/test\"\n",
    "embed_path = \"./output/test/embed\"\n",
    "test_dataset_files = sorted([f for f in os.listdir(test_path) if os.path.isfile(os.path.join(test_path, f)) and f[0]!=\".\" and \"tag\" in f])"
   ]
  },
  {
   "cell_type": "code",
   "execution_count": 43,
   "id": "640332b4",
   "metadata": {},
   "outputs": [],
   "source": [
    "for test in test_dataset_files:\n",
    "    with open(os.path.join(test_path, test), \"rb\") as f:\n",
    "        data = pickle.load(f)\n",
    "    X_embed = tags_pipeline.transform(data)\n",
    "    with open(os.path.join(embed_path, test.replace('.pickle','_embed.pickle')), \"wb\") as f:\n",
    "        pickle.dump(X_embed, f)"
   ]
  },
  {
   "cell_type": "markdown",
   "id": "283dd4ae",
   "metadata": {},
   "source": [
    "# Classification"
   ]
  },
  {
   "cell_type": "markdown",
   "id": "32d05027",
   "metadata": {},
   "source": [
    "## Load training data"
   ]
  },
  {
   "cell_type": "code",
   "execution_count": 49,
   "id": "2e4941ad",
   "metadata": {},
   "outputs": [],
   "source": [
    "from sklearn.model_selection import GridSearchCV\n",
    "from sklearn.metrics import classification_report\n",
    "import xgboost as xgb\n",
    "import multiprocessing\n",
    "import numpy as np"
   ]
  },
  {
   "cell_type": "code",
   "execution_count": 50,
   "id": "0aa5a9c8",
   "metadata": {},
   "outputs": [],
   "source": [
    "tfidf_real_path = \"./output/train/embed/webtext.train.human_embed.pickle\"\n",
    "tfidf_fake_path = \"./output/train/embed/xl-1542M.train.machine_embed.pickle\"\n",
    "tag_real_path = \"./output/train/embed/webtext.train.tag.human_embed.pickle\"\n",
    "tag_fake_path = \"./output/train/embed/xl-1542M.train.tag.machine_embed.pickle\""
   ]
  },
  {
   "cell_type": "code",
   "execution_count": 51,
   "id": "4359ad6b",
   "metadata": {},
   "outputs": [],
   "source": [
    "with open(tfidf_real_path, \"rb\") as f:\n",
    "    X_tfidf_real = pickle.load(f)\n",
    "with open(tfidf_fake_path, \"rb\") as f:\n",
    "    X_tfidf_fake = pickle.load(f)\n",
    "X_tfidf = np.concatenate([X_tfidf_real, X_tfidf_fake])\n",
    "y_train = [0 for _ in range(len(X_tfidf_real))] + [1 for _ in range(len(X_tfidf_fake))]\n",
    "\n",
    "with open(tag_real_path, \"rb\") as f:\n",
    "    X_tag_real = pickle.load(f)\n",
    "with open(tag_fake_path, \"rb\") as f:\n",
    "    X_tag_fake = pickle.load(f)\n",
    "    \n",
    "X_tag = np.concatenate([X_tag_real, X_tag_fake])\n",
    "    \n",
    "X_tfidf_tag = np.concatenate([X_tfidf, X_tag], axis=1)"
   ]
  },
  {
   "cell_type": "markdown",
   "id": "79a7db20",
   "metadata": {},
   "source": [
    "## Train models"
   ]
  },
  {
   "cell_type": "code",
   "execution_count": 57,
   "id": "a381a35b",
   "metadata": {},
   "outputs": [],
   "source": [
    "clf_tfidf = GridSearchCV(\n",
    "        xgb.XGBClassifier(n_jobs=multiprocessing.cpu_count() // 2, tree_method=\"hist\"),\n",
    "        {\"max_depth\": [3, 4, 5], \"n_estimators\": [500, 1000, 1500]},\n",
    "        verbose=1,\n",
    "        n_jobs=2,\n",
    "    )\n",
    "\n",
    "clf_tag = GridSearchCV(\n",
    "        xgb.XGBClassifier(n_jobs=multiprocessing.cpu_count() // 2, tree_method=\"hist\"),\n",
    "        {\"max_depth\": [3, 4, 5], \"n_estimators\": [500, 1000, 1500]},\n",
    "        verbose=1,\n",
    "        n_jobs=2,\n",
    "    )\n",
    "\n",
    "clf_tfidf_tag = GridSearchCV(\n",
    "        xgb.XGBClassifier(n_jobs=multiprocessing.cpu_count() // 2, tree_method=\"hist\"),\n",
    "        {\"max_depth\": [3, 4, 5], \"n_estimators\": [500, 1000, 1500]},\n",
    "        verbose=1,\n",
    "        n_jobs=2,\n",
    "    )"
   ]
  },
  {
   "cell_type": "code",
   "execution_count": null,
   "id": "d20f4c1f",
   "metadata": {},
   "outputs": [],
   "source": [
    "%%time\n",
    "clf_tfidf.fit(X_tfidf, y_train)"
   ]
  },
  {
   "cell_type": "code",
   "execution_count": null,
   "id": "0da4557d",
   "metadata": {},
   "outputs": [],
   "source": [
    "pd.DataFrame(clf_tfidf.cv_results_)"
   ]
  },
  {
   "cell_type": "code",
   "execution_count": null,
   "id": "3e898305",
   "metadata": {},
   "outputs": [],
   "source": [
    "%%time\n",
    "clf_tag.fit(X_tag, y_train)"
   ]
  },
  {
   "cell_type": "code",
   "execution_count": null,
   "id": "4af3cb7e",
   "metadata": {},
   "outputs": [],
   "source": [
    "pd.DataFrame(clf_tag.cv_results_)"
   ]
  },
  {
   "cell_type": "code",
   "execution_count": null,
   "id": "e6195b51",
   "metadata": {},
   "outputs": [],
   "source": [
    "%%time\n",
    "clf_tfidf_tag.fit(X_tfidf_tag, y_train)"
   ]
  },
  {
   "cell_type": "code",
   "execution_count": null,
   "id": "310fd171",
   "metadata": {},
   "outputs": [],
   "source": [
    "pd.DataFrame(clf_tfidf_tag.cv_results_)"
   ]
  },
  {
   "cell_type": "markdown",
   "id": "23672800",
   "metadata": {},
   "source": [
    "## Test models"
   ]
  },
  {
   "cell_type": "code",
   "execution_count": null,
   "id": "fe8917e1",
   "metadata": {},
   "outputs": [],
   "source": [
    "from sklearn.metrics import accuracy_score"
   ]
  },
  {
   "cell_type": "code",
   "execution_count": null,
   "id": "64781c35",
   "metadata": {},
   "outputs": [],
   "source": [
    "embed_path = \"./output/test/embed\"\n",
    "test_dataset_tag_files = sorted([f for f in os.listdir(embed_path) if os.path.isfile(os.path.join(embed_path, f)) and f[0]!=\".\" and \"tag\" in f])"
   ]
  },
  {
   "cell_type": "code",
   "execution_count": null,
   "id": "41c991b1",
   "metadata": {},
   "outputs": [],
   "source": [
    "test_dataset_files = [x.replace(\".tag\",\"\") for x in test_dataset_tag_files]"
   ]
  },
  {
   "cell_type": "code",
   "execution_count": null,
   "id": "8c9a8c35",
   "metadata": {},
   "outputs": [],
   "source": [
    "for test_dataset_tag_file in test_dataset_tag_files:\n",
    "    test_dataset_file = test_dataset_tag_file.replace(\".tag\",\"\")\n",
    "    with open(os.path.join(embed_path, test_dataset_file)) as f:\n",
    "        X_test_tfidf = pickle.load(f)\n",
    "        label = int(\"machine\" in test_dataset_file)\n",
    "        y_test = [label for _ in range(len(X_test_tfidf))]\n",
    "    with open(os.path.join(embed_path, test_dataset_tag_file)) as f:\n",
    "        X_test_tag = pickle.load(f)\n",
    "    X_test_tfidf_tag = np.concatenate([X_test_tfidf, X_test_tag], axis=1)\n",
    "    y_pred = [round(yy) for yy in clf_tfidf.best_estimator_.predict(X_test_tfidf)]\n",
    "    print(f'******\\nTest dataset: {test_dataset_file.replace(\"_embed.pickle\",\"\")}')\n",
    "    print('TF-IDF words:')\n",
    "    print(accuracy_score(y_test, y_pred))\n",
    "    print('TF-IDF tags:')\n",
    "    y_pred = [round(yy) for yy in clf_tag.best_estimator_.predict(X_test_tag)]\n",
    "    print(accuracy_score(y_test, y_pred))\n",
    "    print('TF-IDF words+tags:')\n",
    "    y_pred = [round(yy) for yy in clf_tfidf_tag.best_estimator_.predict(X_test_tfidf_tag)]\n",
    "    print(accuracy_score(y_test, y_pred))"
   ]
  }
 ],
 "metadata": {
  "kernelspec": {
   "display_name": "ml-env",
   "language": "python",
   "name": "ml-env"
  },
  "language_info": {
   "codemirror_mode": {
    "name": "ipython",
    "version": 3
   },
   "file_extension": ".py",
   "mimetype": "text/x-python",
   "name": "python",
   "nbconvert_exporter": "python",
   "pygments_lexer": "ipython3",
   "version": "3.9.16"
  }
 },
 "nbformat": 4,
 "nbformat_minor": 5
}
