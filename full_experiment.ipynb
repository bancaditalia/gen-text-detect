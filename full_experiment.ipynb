{
 "cells": [
  {
   "cell_type": "code",
   "execution_count": 18,
   "id": "9f963291",
   "metadata": {},
   "outputs": [],
   "source": [
    "import json\n",
    "import pandas as pd\n",
    "import os"
   ]
  },
  {
   "cell_type": "code",
   "execution_count": 19,
   "id": "021f41dc",
   "metadata": {},
   "outputs": [],
   "source": [
    "data_path = \"./\"\n",
    "embed_path = \"./output/train/embed\""
   ]
  },
  {
   "cell_type": "code",
   "execution_count": 20,
   "id": "85ce9092",
   "metadata": {},
   "outputs": [],
   "source": [
    "import pickle\n",
    "\n",
    "def load_dataset(file_path, prefix_path=data_path):\n",
    "    ds = None\n",
    "    full_path = os.path.join(prefix_path, file_path)\n",
    "    if os.path.splitext(file_path)[-1] == \".csv\":\n",
    "        ds = pd.read_csv(full_path)\n",
    "    elif os.path.splitext(file_path)[-1] == \".jsonl\":\n",
    "        ds = pd.read_json(full_path, lines=True)\n",
    "    elif os.path.splitext(file_path)[-1] == \".pickle\":\n",
    "        with open(full_path, \"rb\") as f:\n",
    "            ds = pickle.load(f)\n",
    "    return ds"
   ]
  },
  {
   "cell_type": "markdown",
   "id": "b61e28e1",
   "metadata": {},
   "source": [
    "# Words-embedding"
   ]
  },
  {
   "cell_type": "markdown",
   "id": "26b42680",
   "metadata": {},
   "source": [
    "## Load training datasets"
   ]
  },
  {
   "cell_type": "code",
   "execution_count": 21,
   "id": "a7e0c459",
   "metadata": {},
   "outputs": [],
   "source": [
    "real_data_file = 'webtext.train.jsonl.clean100k.csv'\n",
    "fake_data_file = 'xl-1542M.train.jsonl.clean100k.csv'"
   ]
  },
  {
   "cell_type": "code",
   "execution_count": 22,
   "id": "6eb296e5",
   "metadata": {},
   "outputs": [],
   "source": [
    "df_real = load_dataset(real_data_file)\n",
    "df_fake = load_dataset(fake_data_file)\n",
    "\n",
    "corpus = df_real[\"text\"].to_list() + df_fake[\"text\"].to_list()\n",
    "labels = [0 for _ in range(len(df_real))] + [1 for _ in range(len(df_fake))]"
   ]
  },
  {
   "cell_type": "markdown",
   "id": "01d885f3",
   "metadata": {},
   "source": [
    "## Build vocabulary"
   ]
  },
  {
   "cell_type": "code",
   "execution_count": 23,
   "id": "af737da1",
   "metadata": {},
   "outputs": [],
   "source": [
    "from nlp_engine.preprocessing import transformers as tfs\n",
    "from sklearn.pipeline import make_pipeline"
   ]
  },
  {
   "cell_type": "code",
   "execution_count": 36,
   "id": "501239e3",
   "metadata": {},
   "outputs": [],
   "source": [
    "tokenizer = make_pipeline(\n",
    "    tfs.WordTokenizer(), \n",
    "    tfs.WordsFilter(drop_symbols=False, drop_digits=True)\n",
    ")"
   ]
  },
  {
   "cell_type": "code",
   "execution_count": 26,
   "id": "4423dbec",
   "metadata": {},
   "outputs": [],
   "source": [
    "tokenized_corpus = tokenizer.transform(corpus)"
   ]
  },
  {
   "cell_type": "code",
   "execution_count": 27,
   "id": "7cfa4c74",
   "metadata": {},
   "outputs": [],
   "source": [
    "from nlp_engine.analysis import vocabulary"
   ]
  },
  {
   "cell_type": "code",
   "execution_count": 28,
   "id": "4e963532",
   "metadata": {},
   "outputs": [],
   "source": [
    "vocab_real = vocabulary.get_vocabulary(tokenized_corpus[:len(df_real)])\n",
    "vocab_fake = vocabulary.get_vocabulary(tokenized_corpus[len(df_real):])"
   ]
  },
  {
   "cell_type": "code",
   "execution_count": 29,
   "id": "8f00b9e3",
   "metadata": {},
   "outputs": [],
   "source": [
    "vocab_shared = vocab_real.intersection(vocab_fake)"
   ]
  },
  {
   "cell_type": "code",
   "execution_count": 30,
   "id": "2269fdb0",
   "metadata": {},
   "outputs": [
    {
     "name": "stdout",
     "output_type": "stream",
     "text": [
      "Size of \"real\" vocabulary: 290187\n",
      "Size of \"fake\" vocabulary: 511432\n",
      "Size of intersection: 160741\n"
     ]
    }
   ],
   "source": [
    "print(f'Size of \"real\" vocabulary: {len(vocab_real)}\\nSize of \"fake\" vocabulary: {len(vocab_fake)}\\nSize of intersection: {len(vocab_shared)}')"
   ]
  },
  {
   "cell_type": "markdown",
   "id": "ffa4433f",
   "metadata": {},
   "source": [
    "## Compute TF-IDF embedding"
   ]
  },
  {
   "cell_type": "code",
   "execution_count": 31,
   "id": "512ffb57",
   "metadata": {},
   "outputs": [],
   "source": [
    "from sklearn.feature_extraction.text import TfidfVectorizer\n",
    "from sklearn.decomposition import TruncatedSVD"
   ]
  },
  {
   "cell_type": "code",
   "execution_count": 32,
   "id": "a1e8e962",
   "metadata": {},
   "outputs": [],
   "source": [
    "def identity(x):\n",
    "    return x"
   ]
  },
  {
   "cell_type": "code",
   "execution_count": 33,
   "id": "302242ba",
   "metadata": {},
   "outputs": [],
   "source": [
    "preprocessing_pipeline = make_pipeline(\n",
    "    tfs.WordTokenizer(),\n",
    "    tfs.WordsFilter(\n",
    "        drop_symbols=False, \n",
    "        drop_digits=True, \n",
    "        whitelist=vocab_shared)\n",
    ")"
   ]
  },
  {
   "cell_type": "code",
   "execution_count": null,
   "id": "0a9172c8",
   "metadata": {},
   "outputs": [],
   "source": [
    "%%time\n",
    "corpus_tokenized = preprocessing_pipeline.transform(corpus)"
   ]
  },
  {
   "cell_type": "code",
   "execution_count": 20,
   "id": "0301fced",
   "metadata": {},
   "outputs": [],
   "source": [
    "words_pipeline = make_pipeline(\n",
    "    TfidfVectorizer(\n",
    "        ngram_range=(1,3), \n",
    "        max_features=1000000, \n",
    "        sublinear_tf=True, \n",
    "        tokenizer=identity, \n",
    "        preprocessor=identity),\n",
    "    TruncatedSVD(n_components=500)\n",
    ")"
   ]
  },
  {
   "cell_type": "code",
   "execution_count": 21,
   "id": "6af4c3a8",
   "metadata": {
    "scrolled": false
   },
   "outputs": [
    {
     "name": "stderr",
     "output_type": "stream",
     "text": [
      "/Users/alessandro/Documents/dev/ml-env/lib/python3.9/site-packages/sklearn/feature_extraction/text.py:528: UserWarning: The parameter 'token_pattern' will not be used since 'tokenizer' is not None'\n",
      "  warnings.warn(\n"
     ]
    },
    {
     "name": "stdout",
     "output_type": "stream",
     "text": [
      "CPU times: user 34min 47s, sys: 21min 20s, total: 56min 8s\n",
      "Wall time: 47min 46s\n"
     ]
    },
    {
     "data": {
      "text/html": [
       "<style>#sk-container-id-1 {color: black;background-color: white;}#sk-container-id-1 pre{padding: 0;}#sk-container-id-1 div.sk-toggleable {background-color: white;}#sk-container-id-1 label.sk-toggleable__label {cursor: pointer;display: block;width: 100%;margin-bottom: 0;padding: 0.3em;box-sizing: border-box;text-align: center;}#sk-container-id-1 label.sk-toggleable__label-arrow:before {content: \"▸\";float: left;margin-right: 0.25em;color: #696969;}#sk-container-id-1 label.sk-toggleable__label-arrow:hover:before {color: black;}#sk-container-id-1 div.sk-estimator:hover label.sk-toggleable__label-arrow:before {color: black;}#sk-container-id-1 div.sk-toggleable__content {max-height: 0;max-width: 0;overflow: hidden;text-align: left;background-color: #f0f8ff;}#sk-container-id-1 div.sk-toggleable__content pre {margin: 0.2em;color: black;border-radius: 0.25em;background-color: #f0f8ff;}#sk-container-id-1 input.sk-toggleable__control:checked~div.sk-toggleable__content {max-height: 200px;max-width: 100%;overflow: auto;}#sk-container-id-1 input.sk-toggleable__control:checked~label.sk-toggleable__label-arrow:before {content: \"▾\";}#sk-container-id-1 div.sk-estimator input.sk-toggleable__control:checked~label.sk-toggleable__label {background-color: #d4ebff;}#sk-container-id-1 div.sk-label input.sk-toggleable__control:checked~label.sk-toggleable__label {background-color: #d4ebff;}#sk-container-id-1 input.sk-hidden--visually {border: 0;clip: rect(1px 1px 1px 1px);clip: rect(1px, 1px, 1px, 1px);height: 1px;margin: -1px;overflow: hidden;padding: 0;position: absolute;width: 1px;}#sk-container-id-1 div.sk-estimator {font-family: monospace;background-color: #f0f8ff;border: 1px dotted black;border-radius: 0.25em;box-sizing: border-box;margin-bottom: 0.5em;}#sk-container-id-1 div.sk-estimator:hover {background-color: #d4ebff;}#sk-container-id-1 div.sk-parallel-item::after {content: \"\";width: 100%;border-bottom: 1px solid gray;flex-grow: 1;}#sk-container-id-1 div.sk-label:hover label.sk-toggleable__label {background-color: #d4ebff;}#sk-container-id-1 div.sk-serial::before {content: \"\";position: absolute;border-left: 1px solid gray;box-sizing: border-box;top: 0;bottom: 0;left: 50%;z-index: 0;}#sk-container-id-1 div.sk-serial {display: flex;flex-direction: column;align-items: center;background-color: white;padding-right: 0.2em;padding-left: 0.2em;position: relative;}#sk-container-id-1 div.sk-item {position: relative;z-index: 1;}#sk-container-id-1 div.sk-parallel {display: flex;align-items: stretch;justify-content: center;background-color: white;position: relative;}#sk-container-id-1 div.sk-item::before, #sk-container-id-1 div.sk-parallel-item::before {content: \"\";position: absolute;border-left: 1px solid gray;box-sizing: border-box;top: 0;bottom: 0;left: 50%;z-index: -1;}#sk-container-id-1 div.sk-parallel-item {display: flex;flex-direction: column;z-index: 1;position: relative;background-color: white;}#sk-container-id-1 div.sk-parallel-item:first-child::after {align-self: flex-end;width: 50%;}#sk-container-id-1 div.sk-parallel-item:last-child::after {align-self: flex-start;width: 50%;}#sk-container-id-1 div.sk-parallel-item:only-child::after {width: 0;}#sk-container-id-1 div.sk-dashed-wrapped {border: 1px dashed gray;margin: 0 0.4em 0.5em 0.4em;box-sizing: border-box;padding-bottom: 0.4em;background-color: white;}#sk-container-id-1 div.sk-label label {font-family: monospace;font-weight: bold;display: inline-block;line-height: 1.2em;}#sk-container-id-1 div.sk-label-container {text-align: center;}#sk-container-id-1 div.sk-container {/* jupyter's `normalize.less` sets `[hidden] { display: none; }` but bootstrap.min.css set `[hidden] { display: none !important; }` so we also need the `!important` here to be able to override the default hidden behavior on the sphinx rendered scikit-learn.org. See: https://github.com/scikit-learn/scikit-learn/issues/21755 */display: inline-block !important;position: relative;}#sk-container-id-1 div.sk-text-repr-fallback {display: none;}</style><div id=\"sk-container-id-1\" class=\"sk-top-container\"><div class=\"sk-text-repr-fallback\"><pre>Pipeline(steps=[(&#x27;wordtokenizer&#x27;, WordTokenizer()),\n",
       "                (&#x27;wordsfilter&#x27;,\n",
       "                 WordsFilter(drop_digits=True,\n",
       "                             whitelist={&#x27;!&#x27;, &#x27;&quot;&#x27;, &#x27;#&#x27;, &#x27;$&#x27;, &#x27;%&#x27;, &#x27;&amp;&#x27;, &quot;&#x27;&quot;, &#x27;(&#x27;,\n",
       "                                        &#x27;)&#x27;, &#x27;*&#x27;, &#x27;+&#x27;, &#x27;,&#x27;, &#x27;-&#x27;, &#x27;.&#x27;, &#x27;/&#x27;, &#x27;:&#x27;,\n",
       "                                        &#x27;;&#x27;, &#x27;&lt;&#x27;, &#x27;=&#x27;, &#x27;&gt;&#x27;, &#x27;?&#x27;, &#x27;@&#x27;, &#x27;[&#x27;, &#x27;\\\\&#x27;,\n",
       "                                        &#x27;]&#x27;, &#x27;^&#x27;, &#x27;`&#x27;, &#x27;a&#x27;, &#x27;a0&#x27;, &#x27;a02&#x27;, ...})),\n",
       "                (&#x27;tfidfvectorizer&#x27;,\n",
       "                 TfidfVectorizer(max_features=1000000, ngram_range=(1, 3),\n",
       "                                 preprocessor=&lt;function identity at 0x2de2ca160&gt;,\n",
       "                                 sublinear_tf=True,\n",
       "                                 tokenizer=&lt;function identity at 0x2de2ca160&gt;)),\n",
       "                (&#x27;truncatedsvd&#x27;, TruncatedSVD(n_components=500))])</pre><b>In a Jupyter environment, please rerun this cell to show the HTML representation or trust the notebook. <br />On GitHub, the HTML representation is unable to render, please try loading this page with nbviewer.org.</b></div><div class=\"sk-container\" hidden><div class=\"sk-item sk-dashed-wrapped\"><div class=\"sk-label-container\"><div class=\"sk-label sk-toggleable\"><input class=\"sk-toggleable__control sk-hidden--visually\" id=\"sk-estimator-id-1\" type=\"checkbox\" ><label for=\"sk-estimator-id-1\" class=\"sk-toggleable__label sk-toggleable__label-arrow\">Pipeline</label><div class=\"sk-toggleable__content\"><pre>Pipeline(steps=[(&#x27;wordtokenizer&#x27;, WordTokenizer()),\n",
       "                (&#x27;wordsfilter&#x27;,\n",
       "                 WordsFilter(drop_digits=True,\n",
       "                             whitelist={&#x27;!&#x27;, &#x27;&quot;&#x27;, &#x27;#&#x27;, &#x27;$&#x27;, &#x27;%&#x27;, &#x27;&amp;&#x27;, &quot;&#x27;&quot;, &#x27;(&#x27;,\n",
       "                                        &#x27;)&#x27;, &#x27;*&#x27;, &#x27;+&#x27;, &#x27;,&#x27;, &#x27;-&#x27;, &#x27;.&#x27;, &#x27;/&#x27;, &#x27;:&#x27;,\n",
       "                                        &#x27;;&#x27;, &#x27;&lt;&#x27;, &#x27;=&#x27;, &#x27;&gt;&#x27;, &#x27;?&#x27;, &#x27;@&#x27;, &#x27;[&#x27;, &#x27;\\\\&#x27;,\n",
       "                                        &#x27;]&#x27;, &#x27;^&#x27;, &#x27;`&#x27;, &#x27;a&#x27;, &#x27;a0&#x27;, &#x27;a02&#x27;, ...})),\n",
       "                (&#x27;tfidfvectorizer&#x27;,\n",
       "                 TfidfVectorizer(max_features=1000000, ngram_range=(1, 3),\n",
       "                                 preprocessor=&lt;function identity at 0x2de2ca160&gt;,\n",
       "                                 sublinear_tf=True,\n",
       "                                 tokenizer=&lt;function identity at 0x2de2ca160&gt;)),\n",
       "                (&#x27;truncatedsvd&#x27;, TruncatedSVD(n_components=500))])</pre></div></div></div><div class=\"sk-serial\"><div class=\"sk-item\"><div class=\"sk-estimator sk-toggleable\"><input class=\"sk-toggleable__control sk-hidden--visually\" id=\"sk-estimator-id-2\" type=\"checkbox\" ><label for=\"sk-estimator-id-2\" class=\"sk-toggleable__label sk-toggleable__label-arrow\">WordTokenizer</label><div class=\"sk-toggleable__content\"><pre>WordTokenizer()</pre></div></div></div><div class=\"sk-item\"><div class=\"sk-estimator sk-toggleable\"><input class=\"sk-toggleable__control sk-hidden--visually\" id=\"sk-estimator-id-3\" type=\"checkbox\" ><label for=\"sk-estimator-id-3\" class=\"sk-toggleable__label sk-toggleable__label-arrow\">WordsFilter</label><div class=\"sk-toggleable__content\"><pre>WordsFilter(drop_digits=True,\n",
       "            whitelist={&#x27;!&#x27;, &#x27;&quot;&#x27;, &#x27;#&#x27;, &#x27;$&#x27;, &#x27;%&#x27;, &#x27;&amp;&#x27;, &quot;&#x27;&quot;, &#x27;(&#x27;, &#x27;)&#x27;, &#x27;*&#x27;, &#x27;+&#x27;,\n",
       "                       &#x27;,&#x27;, &#x27;-&#x27;, &#x27;.&#x27;, &#x27;/&#x27;, &#x27;:&#x27;, &#x27;;&#x27;, &#x27;&lt;&#x27;, &#x27;=&#x27;, &#x27;&gt;&#x27;, &#x27;?&#x27;, &#x27;@&#x27;,\n",
       "                       &#x27;[&#x27;, &#x27;\\\\&#x27;, &#x27;]&#x27;, &#x27;^&#x27;, &#x27;`&#x27;, &#x27;a&#x27;, &#x27;a0&#x27;, &#x27;a02&#x27;, ...})</pre></div></div></div><div class=\"sk-item\"><div class=\"sk-estimator sk-toggleable\"><input class=\"sk-toggleable__control sk-hidden--visually\" id=\"sk-estimator-id-4\" type=\"checkbox\" ><label for=\"sk-estimator-id-4\" class=\"sk-toggleable__label sk-toggleable__label-arrow\">TfidfVectorizer</label><div class=\"sk-toggleable__content\"><pre>TfidfVectorizer(max_features=1000000, ngram_range=(1, 3),\n",
       "                preprocessor=&lt;function identity at 0x2de2ca160&gt;,\n",
       "                sublinear_tf=True,\n",
       "                tokenizer=&lt;function identity at 0x2de2ca160&gt;)</pre></div></div></div><div class=\"sk-item\"><div class=\"sk-estimator sk-toggleable\"><input class=\"sk-toggleable__control sk-hidden--visually\" id=\"sk-estimator-id-5\" type=\"checkbox\" ><label for=\"sk-estimator-id-5\" class=\"sk-toggleable__label sk-toggleable__label-arrow\">TruncatedSVD</label><div class=\"sk-toggleable__content\"><pre>TruncatedSVD(n_components=500)</pre></div></div></div></div></div></div></div>"
      ],
      "text/plain": [
       "Pipeline(steps=[('wordtokenizer', WordTokenizer()),\n",
       "                ('wordsfilter',\n",
       "                 WordsFilter(drop_digits=True,\n",
       "                             whitelist={'!', '\"', '#', '$', '%', '&', \"'\", '(',\n",
       "                                        ')', '*', '+', ',', '-', '.', '/', ':',\n",
       "                                        ';', '<', '=', '>', '?', '@', '[', '\\\\',\n",
       "                                        ']', '^', '`', 'a', 'a0', 'a02', ...})),\n",
       "                ('tfidfvectorizer',\n",
       "                 TfidfVectorizer(max_features=1000000, ngram_range=(1, 3),\n",
       "                                 preprocessor=<function identity at 0x2de2ca160>,\n",
       "                                 sublinear_tf=True,\n",
       "                                 tokenizer=<function identity at 0x2de2ca160>)),\n",
       "                ('truncatedsvd', TruncatedSVD(n_components=500))])"
      ]
     },
     "execution_count": 21,
     "metadata": {},
     "output_type": "execute_result"
    }
   ],
   "source": [
    "%%time\n",
    "words_pipeline.fit(corpus_tokenized, labels)"
   ]
  },
  {
   "cell_type": "markdown",
   "id": "b97adddc",
   "metadata": {},
   "source": [
    "Transform training data and store it"
   ]
  },
  {
   "cell_type": "code",
   "execution_count": 23,
   "id": "c5ee639c",
   "metadata": {},
   "outputs": [],
   "source": [
    "real_embed = words_pipeline.transform(corpus_tokenized[:len(df_real[\"text\"].to_list())])\n",
    "fake_embed = words_pipeline.transform(corpus_tokenized[-len(df_fake[\"text\"].to_list()):])"
   ]
  },
  {
   "cell_type": "code",
   "execution_count": 24,
   "id": "3cadda4f",
   "metadata": {},
   "outputs": [],
   "source": [
    "import pickle\n",
    "\n",
    "embed_path = \"./output/train/embed\"\n",
    "\n",
    "with open(os.path.join(\n",
    "    embed_path, f\"{real_data_file.replace('.jsonl.clean100k.csv','')}.human_embed.pickle\"), \"wb\") as f:\n",
    "    pickle.dump(real_embed, f)\n",
    "with open(os.path.join(\n",
    "    embed_path, f\"{fake_data_file.replace('.jsonl.clean100k.csv','')}.machine_embed.pickle\"), \"wb\") as f:\n",
    "    pickle.dump(fake_embed, f)"
   ]
  },
  {
   "cell_type": "markdown",
   "id": "67a6f536",
   "metadata": {},
   "source": [
    "## Embed test datasets"
   ]
  },
  {
   "cell_type": "code",
   "execution_count": 37,
   "id": "5095bf90",
   "metadata": {},
   "outputs": [],
   "source": [
    "test_path = \"./data/test\"\n",
    "test_dataset_files = sorted([f for f in os.listdir(test_path) if os.path.isfile(os.path.join(test_path, f)) and f[0]!=\".\"])"
   ]
  },
  {
   "cell_type": "markdown",
   "id": "a9b4e843",
   "metadata": {},
   "source": [
    "Store text stats"
   ]
  },
  {
   "cell_type": "code",
   "execution_count": 47,
   "id": "bf74b73e",
   "metadata": {},
   "outputs": [],
   "source": [
    "stats_path = \"./output/test/stats\"\n",
    "\n",
    "for test in test_dataset_files:\n",
    "    with open(os.path.join(test_path, test), \"rb\") as f:\n",
    "        X = pickle.load(f)\n",
    "    X_tokens_raw = tokenizer.transform(X)\n",
    "    X_tokens = preprocessing_pipeline.transform(X)\n",
    "    stats = []\n",
    "    for (tokens_raw, tokens) in zip(X_tokens_raw, X_tokens):\n",
    "        raw_text_length = len(\"\".join(tokens_raw))\n",
    "        raw_text_tokens = len(tokens_raw)\n",
    "        text_length = len(\"\".join(tokens))\n",
    "        text_tokens = len(tokens)\n",
    "        if raw_text_tokens > 0:\n",
    "            ratio = text_tokens/raw_text_tokens\n",
    "        else:\n",
    "            ratio = 0\n",
    "        stats.append([raw_text_length, raw_text_tokens, text_length, text_tokens, ratio])\n",
    "    df = pd.DataFrame(stats, columns=[\"raw_chars\", \"raw_tokens\", \"chars\", \"tokens\", \"ratio\"])\n",
    "    df.to_csv(os.path.join(stats_path,f\"{os.path.splitext(test)[0]}_stats.csv\"))"
   ]
  },
  {
   "cell_type": "code",
   "execution_count": 29,
   "id": "634bad3b",
   "metadata": {},
   "outputs": [],
   "source": [
    "embed_path = \"./output/test/embed\"\n",
    "\n",
    "for test in test_dataset_files:\n",
    "    with open(os.path.join(test_path, test), \"rb\") as f:\n",
    "        X = pickle.load(f)\n",
    "    X_embed = words_pipeline.transform(preprocessing_pipeline.transform((X))\n",
    "    with open(os.path.join(embed_path,f\"{os.path.splitext(test)[0]}_embed.pickle\"), \"wb\") as f:\n",
    "        pickle.dump(X_embed, f)"
   ]
  },
  {
   "cell_type": "markdown",
   "id": "7c8646a5",
   "metadata": {},
   "source": [
    "# TAG-embedding"
   ]
  },
  {
   "cell_type": "code",
   "execution_count": 30,
   "id": "baa8255d",
   "metadata": {},
   "outputs": [],
   "source": [
    "data_path = \"./data/tag\"\n",
    "embed_path = \"./data/tag/embed\""
   ]
  },
  {
   "cell_type": "markdown",
   "id": "83162236",
   "metadata": {},
   "source": [
    "## Load training datasets"
   ]
  },
  {
   "cell_type": "code",
   "execution_count": 31,
   "id": "946a490b",
   "metadata": {},
   "outputs": [],
   "source": [
    "real_data_file = 'webtext.train.jsonl.clean100k.csv.tag.pickle'\n",
    "fake_data_file = 'xl-1542M.train.jsonl.clean100k.csv.tag.pickle'"
   ]
  },
  {
   "cell_type": "code",
   "execution_count": 32,
   "id": "285182ba",
   "metadata": {},
   "outputs": [],
   "source": [
    "ds_real = load_dataset(real_data_file, data_path)\n",
    "ds_fake = load_dataset(fake_data_file, data_path)"
   ]
  },
  {
   "cell_type": "code",
   "execution_count": 34,
   "id": "de314187",
   "metadata": {},
   "outputs": [],
   "source": [
    "corpus = ds_real + ds_fake\n",
    "labels = [0 for _ in range(len(ds_real))] + [1 for _ in range(len(ds_fake))]"
   ]
  },
  {
   "cell_type": "markdown",
   "id": "f6f2ffd9",
   "metadata": {},
   "source": [
    "## Compute TF-IDF embedding"
   ]
  },
  {
   "cell_type": "code",
   "execution_count": 35,
   "id": "f9efdef4",
   "metadata": {},
   "outputs": [],
   "source": [
    "from sklearn.feature_extraction.text import TfidfVectorizer\n",
    "from sklearn.decomposition import TruncatedSVD\n",
    "from sklearn.pipeline import make_pipeline"
   ]
  },
  {
   "cell_type": "code",
   "execution_count": 36,
   "id": "4df25b20",
   "metadata": {},
   "outputs": [],
   "source": [
    "def identity(x):\n",
    "    return x"
   ]
  },
  {
   "cell_type": "code",
   "execution_count": 37,
   "id": "aa8b7475",
   "metadata": {},
   "outputs": [],
   "source": [
    "tags_pipeline = make_pipeline(\n",
    "    TfidfVectorizer(\n",
    "        ngram_range=(3,5), \n",
    "        max_features=1000000, \n",
    "        sublinear_tf=True, \n",
    "        tokenizer=identity, \n",
    "        preprocessor=identity),\n",
    "    TruncatedSVD(n_components=300)\n",
    ")"
   ]
  },
  {
   "cell_type": "code",
   "execution_count": 38,
   "id": "dcd2bff0",
   "metadata": {
    "scrolled": false
   },
   "outputs": [
    {
     "name": "stdout",
     "output_type": "stream",
     "text": [
      "CPU times: user 26min 42s, sys: 2min 19s, total: 29min 1s\n",
      "Wall time: 21min 9s\n"
     ]
    },
    {
     "data": {
      "text/html": [
       "<style>#sk-container-id-2 {color: black;background-color: white;}#sk-container-id-2 pre{padding: 0;}#sk-container-id-2 div.sk-toggleable {background-color: white;}#sk-container-id-2 label.sk-toggleable__label {cursor: pointer;display: block;width: 100%;margin-bottom: 0;padding: 0.3em;box-sizing: border-box;text-align: center;}#sk-container-id-2 label.sk-toggleable__label-arrow:before {content: \"▸\";float: left;margin-right: 0.25em;color: #696969;}#sk-container-id-2 label.sk-toggleable__label-arrow:hover:before {color: black;}#sk-container-id-2 div.sk-estimator:hover label.sk-toggleable__label-arrow:before {color: black;}#sk-container-id-2 div.sk-toggleable__content {max-height: 0;max-width: 0;overflow: hidden;text-align: left;background-color: #f0f8ff;}#sk-container-id-2 div.sk-toggleable__content pre {margin: 0.2em;color: black;border-radius: 0.25em;background-color: #f0f8ff;}#sk-container-id-2 input.sk-toggleable__control:checked~div.sk-toggleable__content {max-height: 200px;max-width: 100%;overflow: auto;}#sk-container-id-2 input.sk-toggleable__control:checked~label.sk-toggleable__label-arrow:before {content: \"▾\";}#sk-container-id-2 div.sk-estimator input.sk-toggleable__control:checked~label.sk-toggleable__label {background-color: #d4ebff;}#sk-container-id-2 div.sk-label input.sk-toggleable__control:checked~label.sk-toggleable__label {background-color: #d4ebff;}#sk-container-id-2 input.sk-hidden--visually {border: 0;clip: rect(1px 1px 1px 1px);clip: rect(1px, 1px, 1px, 1px);height: 1px;margin: -1px;overflow: hidden;padding: 0;position: absolute;width: 1px;}#sk-container-id-2 div.sk-estimator {font-family: monospace;background-color: #f0f8ff;border: 1px dotted black;border-radius: 0.25em;box-sizing: border-box;margin-bottom: 0.5em;}#sk-container-id-2 div.sk-estimator:hover {background-color: #d4ebff;}#sk-container-id-2 div.sk-parallel-item::after {content: \"\";width: 100%;border-bottom: 1px solid gray;flex-grow: 1;}#sk-container-id-2 div.sk-label:hover label.sk-toggleable__label {background-color: #d4ebff;}#sk-container-id-2 div.sk-serial::before {content: \"\";position: absolute;border-left: 1px solid gray;box-sizing: border-box;top: 0;bottom: 0;left: 50%;z-index: 0;}#sk-container-id-2 div.sk-serial {display: flex;flex-direction: column;align-items: center;background-color: white;padding-right: 0.2em;padding-left: 0.2em;position: relative;}#sk-container-id-2 div.sk-item {position: relative;z-index: 1;}#sk-container-id-2 div.sk-parallel {display: flex;align-items: stretch;justify-content: center;background-color: white;position: relative;}#sk-container-id-2 div.sk-item::before, #sk-container-id-2 div.sk-parallel-item::before {content: \"\";position: absolute;border-left: 1px solid gray;box-sizing: border-box;top: 0;bottom: 0;left: 50%;z-index: -1;}#sk-container-id-2 div.sk-parallel-item {display: flex;flex-direction: column;z-index: 1;position: relative;background-color: white;}#sk-container-id-2 div.sk-parallel-item:first-child::after {align-self: flex-end;width: 50%;}#sk-container-id-2 div.sk-parallel-item:last-child::after {align-self: flex-start;width: 50%;}#sk-container-id-2 div.sk-parallel-item:only-child::after {width: 0;}#sk-container-id-2 div.sk-dashed-wrapped {border: 1px dashed gray;margin: 0 0.4em 0.5em 0.4em;box-sizing: border-box;padding-bottom: 0.4em;background-color: white;}#sk-container-id-2 div.sk-label label {font-family: monospace;font-weight: bold;display: inline-block;line-height: 1.2em;}#sk-container-id-2 div.sk-label-container {text-align: center;}#sk-container-id-2 div.sk-container {/* jupyter's `normalize.less` sets `[hidden] { display: none; }` but bootstrap.min.css set `[hidden] { display: none !important; }` so we also need the `!important` here to be able to override the default hidden behavior on the sphinx rendered scikit-learn.org. See: https://github.com/scikit-learn/scikit-learn/issues/21755 */display: inline-block !important;position: relative;}#sk-container-id-2 div.sk-text-repr-fallback {display: none;}</style><div id=\"sk-container-id-2\" class=\"sk-top-container\"><div class=\"sk-text-repr-fallback\"><pre>Pipeline(steps=[(&#x27;tfidfvectorizer&#x27;,\n",
       "                 TfidfVectorizer(max_features=1000000, ngram_range=(3, 5),\n",
       "                                 preprocessor=&lt;function identity at 0x5388f8160&gt;,\n",
       "                                 sublinear_tf=True,\n",
       "                                 tokenizer=&lt;function identity at 0x5388f8160&gt;)),\n",
       "                (&#x27;truncatedsvd&#x27;, TruncatedSVD(n_components=300))])</pre><b>In a Jupyter environment, please rerun this cell to show the HTML representation or trust the notebook. <br />On GitHub, the HTML representation is unable to render, please try loading this page with nbviewer.org.</b></div><div class=\"sk-container\" hidden><div class=\"sk-item sk-dashed-wrapped\"><div class=\"sk-label-container\"><div class=\"sk-label sk-toggleable\"><input class=\"sk-toggleable__control sk-hidden--visually\" id=\"sk-estimator-id-6\" type=\"checkbox\" ><label for=\"sk-estimator-id-6\" class=\"sk-toggleable__label sk-toggleable__label-arrow\">Pipeline</label><div class=\"sk-toggleable__content\"><pre>Pipeline(steps=[(&#x27;tfidfvectorizer&#x27;,\n",
       "                 TfidfVectorizer(max_features=1000000, ngram_range=(3, 5),\n",
       "                                 preprocessor=&lt;function identity at 0x5388f8160&gt;,\n",
       "                                 sublinear_tf=True,\n",
       "                                 tokenizer=&lt;function identity at 0x5388f8160&gt;)),\n",
       "                (&#x27;truncatedsvd&#x27;, TruncatedSVD(n_components=300))])</pre></div></div></div><div class=\"sk-serial\"><div class=\"sk-item\"><div class=\"sk-estimator sk-toggleable\"><input class=\"sk-toggleable__control sk-hidden--visually\" id=\"sk-estimator-id-7\" type=\"checkbox\" ><label for=\"sk-estimator-id-7\" class=\"sk-toggleable__label sk-toggleable__label-arrow\">TfidfVectorizer</label><div class=\"sk-toggleable__content\"><pre>TfidfVectorizer(max_features=1000000, ngram_range=(3, 5),\n",
       "                preprocessor=&lt;function identity at 0x5388f8160&gt;,\n",
       "                sublinear_tf=True,\n",
       "                tokenizer=&lt;function identity at 0x5388f8160&gt;)</pre></div></div></div><div class=\"sk-item\"><div class=\"sk-estimator sk-toggleable\"><input class=\"sk-toggleable__control sk-hidden--visually\" id=\"sk-estimator-id-8\" type=\"checkbox\" ><label for=\"sk-estimator-id-8\" class=\"sk-toggleable__label sk-toggleable__label-arrow\">TruncatedSVD</label><div class=\"sk-toggleable__content\"><pre>TruncatedSVD(n_components=300)</pre></div></div></div></div></div></div></div>"
      ],
      "text/plain": [
       "Pipeline(steps=[('tfidfvectorizer',\n",
       "                 TfidfVectorizer(max_features=1000000, ngram_range=(3, 5),\n",
       "                                 preprocessor=<function identity at 0x5388f8160>,\n",
       "                                 sublinear_tf=True,\n",
       "                                 tokenizer=<function identity at 0x5388f8160>)),\n",
       "                ('truncatedsvd', TruncatedSVD(n_components=300))])"
      ]
     },
     "execution_count": 38,
     "metadata": {},
     "output_type": "execute_result"
    }
   ],
   "source": [
    "%%time\n",
    "tags_pipeline.fit(corpus, labels)"
   ]
  },
  {
   "cell_type": "markdown",
   "id": "8dd0b3b5",
   "metadata": {},
   "source": [
    "Transform training data and store it"
   ]
  },
  {
   "cell_type": "code",
   "execution_count": 40,
   "id": "7a3c0cc9",
   "metadata": {},
   "outputs": [],
   "source": [
    "real_embed = tags_pipeline.transform(ds_real)\n",
    "fake_embed = tags_pipeline.transform(ds_fake)"
   ]
  },
  {
   "cell_type": "code",
   "execution_count": 41,
   "id": "3787db9b",
   "metadata": {},
   "outputs": [],
   "source": [
    "import pickle\n",
    "\n",
    "embed_path = \"./output/train/embed\"\n",
    "\n",
    "with open(os.path.join(\n",
    "    embed_path, f\"{real_data_file.replace('.jsonl.clean100k.csv','').replace('.pickle','')}.human_embed.pickle\"), \"wb\") as f:\n",
    "    pickle.dump(real_embed, f)\n",
    "with open(os.path.join(\n",
    "    embed_path, f\"{fake_data_file.replace('.jsonl.clean100k.csv','').replace('.pickle','')}.machine_embed.pickle\"), \"wb\") as f:\n",
    "    pickle.dump(fake_embed, f)"
   ]
  },
  {
   "cell_type": "markdown",
   "id": "68c22e3e",
   "metadata": {},
   "source": [
    "## Embed test datasets"
   ]
  },
  {
   "cell_type": "code",
   "execution_count": 42,
   "id": "213caf37",
   "metadata": {},
   "outputs": [],
   "source": [
    "test_path = \"./data/tag/test\"\n",
    "embed_path = \"./output/test/embed\"\n",
    "test_dataset_files = sorted([f for f in os.listdir(test_path) if os.path.isfile(os.path.join(test_path, f)) and f[0]!=\".\" and \"tag\" in f])"
   ]
  },
  {
   "cell_type": "code",
   "execution_count": 43,
   "id": "640332b4",
   "metadata": {},
   "outputs": [],
   "source": [
    "for test in test_dataset_files:\n",
    "    with open(os.path.join(test_path, test), \"rb\") as f:\n",
    "        data = pickle.load(f)\n",
    "    X_embed = tags_pipeline.transform(data)\n",
    "    with open(os.path.join(embed_path, test.replace('.pickle','_embed.pickle')), \"wb\") as f:\n",
    "        pickle.dump(X_embed, f)"
   ]
  },
  {
   "cell_type": "markdown",
   "id": "e146f6d6",
   "metadata": {},
   "source": [
    "# Classification"
   ]
  },
  {
   "cell_type": "markdown",
   "id": "a1173973",
   "metadata": {},
   "source": [
    "## Load training data"
   ]
  },
  {
   "cell_type": "code",
   "execution_count": 48,
   "id": "85ec75c5",
   "metadata": {},
   "outputs": [],
   "source": [
    "from sklearn.model_selection import GridSearchCV\n",
    "from sklearn.metrics import classification_report\n",
    "import xgboost as xgb\n",
    "import multiprocessing\n",
    "import pickle\n",
    "import numpy as np\n",
    "import pandas as pd"
   ]
  },
  {
   "cell_type": "code",
   "execution_count": 49,
   "id": "9c77ada0",
   "metadata": {},
   "outputs": [],
   "source": [
    "tfidf_real_path = \"./output/train/embed/webtext.train.human_embed.pickle\"\n",
    "tfidf_fake_path = \"./output/train/embed/xl-1542M.train.machine_embed.pickle\"\n",
    "tag_real_path = \"./output/train/embed/webtext.train.tag.human_embed.pickle\"\n",
    "tag_fake_path = \"./output/train/embed/xl-1542M.train.tag.machine_embed.pickle\""
   ]
  },
  {
   "cell_type": "code",
   "execution_count": 50,
   "id": "1ae27885",
   "metadata": {},
   "outputs": [],
   "source": [
    "with open(tfidf_real_path, \"rb\") as f:\n",
    "    X_tfidf_real = pickle.load(f)\n",
    "with open(tfidf_fake_path, \"rb\") as f:\n",
    "    X_tfidf_fake = pickle.load(f)\n",
    "X_tfidf = np.concatenate([X_tfidf_real, X_tfidf_fake])\n",
    "y_train = [0 for _ in range(len(X_tfidf_real))] + [1 for _ in range(len(X_tfidf_fake))]\n",
    "\n",
    "with open(tag_real_path, \"rb\") as f:\n",
    "    X_tag_real = pickle.load(f)\n",
    "with open(tag_fake_path, \"rb\") as f:\n",
    "    X_tag_fake = pickle.load(f)\n",
    "    \n",
    "X_tag = np.concatenate([X_tag_real, X_tag_fake])\n",
    "    \n",
    "X_tfidf_tag = np.concatenate([X_tfidf, X_tag], axis=1)"
   ]
  },
  {
   "cell_type": "markdown",
   "id": "7993e9f2",
   "metadata": {},
   "source": [
    "## Train models"
   ]
  },
  {
   "cell_type": "code",
   "execution_count": 51,
   "id": "d0a79f22",
   "metadata": {},
   "outputs": [],
   "source": [
    "clf_tfidf = GridSearchCV(\n",
    "        xgb.XGBClassifier(n_jobs=multiprocessing.cpu_count() // 2, tree_method=\"hist\"),\n",
    "        #{\"max_depth\": [3, 4, 5], \"n_estimators\": [500, 1000, 1500]},\n",
    "        {\"max_depth\": [3], \"n_estimators\": [1500]},\n",
    "        verbose=1,\n",
    "        n_jobs=2,\n",
    "    )\n",
    "\n",
    "clf_tag = GridSearchCV(\n",
    "        xgb.XGBClassifier(n_jobs=multiprocessing.cpu_count() // 2, tree_method=\"hist\"),\n",
    "        #{\"max_depth\": [3, 4, 5], \"n_estimators\": [500, 1000, 1500]},\n",
    "        {\"max_depth\": [3], \"n_estimators\": [500]},\n",
    "        verbose=1,\n",
    "        n_jobs=2,\n",
    "    )\n",
    "\n",
    "clf_tfidf_tag = GridSearchCV(\n",
    "        xgb.XGBClassifier(n_jobs=multiprocessing.cpu_count() // 2, tree_method=\"hist\"),\n",
    "        #{\"max_depth\": [3, 4, 5], \"n_estimators\": [500, 1000, 1500]},\n",
    "        {\"max_depth\": [3], \"n_estimators\": [1500]},\n",
    "        verbose=1,\n",
    "        n_jobs=2,\n",
    "    )"
   ]
  },
  {
   "cell_type": "code",
   "execution_count": 52,
   "id": "bd2f3e29",
   "metadata": {},
   "outputs": [
    {
     "name": "stdout",
     "output_type": "stream",
     "text": [
      "Fitting 5 folds for each of 1 candidates, totalling 5 fits\n",
      "CPU times: user 3min 47s, sys: 5.35 s, total: 3min 52s\n",
      "Wall time: 3min 27s\n"
     ]
    },
    {
     "data": {
      "text/html": [
       "<style>#sk-container-id-4 {color: black;background-color: white;}#sk-container-id-4 pre{padding: 0;}#sk-container-id-4 div.sk-toggleable {background-color: white;}#sk-container-id-4 label.sk-toggleable__label {cursor: pointer;display: block;width: 100%;margin-bottom: 0;padding: 0.3em;box-sizing: border-box;text-align: center;}#sk-container-id-4 label.sk-toggleable__label-arrow:before {content: \"▸\";float: left;margin-right: 0.25em;color: #696969;}#sk-container-id-4 label.sk-toggleable__label-arrow:hover:before {color: black;}#sk-container-id-4 div.sk-estimator:hover label.sk-toggleable__label-arrow:before {color: black;}#sk-container-id-4 div.sk-toggleable__content {max-height: 0;max-width: 0;overflow: hidden;text-align: left;background-color: #f0f8ff;}#sk-container-id-4 div.sk-toggleable__content pre {margin: 0.2em;color: black;border-radius: 0.25em;background-color: #f0f8ff;}#sk-container-id-4 input.sk-toggleable__control:checked~div.sk-toggleable__content {max-height: 200px;max-width: 100%;overflow: auto;}#sk-container-id-4 input.sk-toggleable__control:checked~label.sk-toggleable__label-arrow:before {content: \"▾\";}#sk-container-id-4 div.sk-estimator input.sk-toggleable__control:checked~label.sk-toggleable__label {background-color: #d4ebff;}#sk-container-id-4 div.sk-label input.sk-toggleable__control:checked~label.sk-toggleable__label {background-color: #d4ebff;}#sk-container-id-4 input.sk-hidden--visually {border: 0;clip: rect(1px 1px 1px 1px);clip: rect(1px, 1px, 1px, 1px);height: 1px;margin: -1px;overflow: hidden;padding: 0;position: absolute;width: 1px;}#sk-container-id-4 div.sk-estimator {font-family: monospace;background-color: #f0f8ff;border: 1px dotted black;border-radius: 0.25em;box-sizing: border-box;margin-bottom: 0.5em;}#sk-container-id-4 div.sk-estimator:hover {background-color: #d4ebff;}#sk-container-id-4 div.sk-parallel-item::after {content: \"\";width: 100%;border-bottom: 1px solid gray;flex-grow: 1;}#sk-container-id-4 div.sk-label:hover label.sk-toggleable__label {background-color: #d4ebff;}#sk-container-id-4 div.sk-serial::before {content: \"\";position: absolute;border-left: 1px solid gray;box-sizing: border-box;top: 0;bottom: 0;left: 50%;z-index: 0;}#sk-container-id-4 div.sk-serial {display: flex;flex-direction: column;align-items: center;background-color: white;padding-right: 0.2em;padding-left: 0.2em;position: relative;}#sk-container-id-4 div.sk-item {position: relative;z-index: 1;}#sk-container-id-4 div.sk-parallel {display: flex;align-items: stretch;justify-content: center;background-color: white;position: relative;}#sk-container-id-4 div.sk-item::before, #sk-container-id-4 div.sk-parallel-item::before {content: \"\";position: absolute;border-left: 1px solid gray;box-sizing: border-box;top: 0;bottom: 0;left: 50%;z-index: -1;}#sk-container-id-4 div.sk-parallel-item {display: flex;flex-direction: column;z-index: 1;position: relative;background-color: white;}#sk-container-id-4 div.sk-parallel-item:first-child::after {align-self: flex-end;width: 50%;}#sk-container-id-4 div.sk-parallel-item:last-child::after {align-self: flex-start;width: 50%;}#sk-container-id-4 div.sk-parallel-item:only-child::after {width: 0;}#sk-container-id-4 div.sk-dashed-wrapped {border: 1px dashed gray;margin: 0 0.4em 0.5em 0.4em;box-sizing: border-box;padding-bottom: 0.4em;background-color: white;}#sk-container-id-4 div.sk-label label {font-family: monospace;font-weight: bold;display: inline-block;line-height: 1.2em;}#sk-container-id-4 div.sk-label-container {text-align: center;}#sk-container-id-4 div.sk-container {/* jupyter's `normalize.less` sets `[hidden] { display: none; }` but bootstrap.min.css set `[hidden] { display: none !important; }` so we also need the `!important` here to be able to override the default hidden behavior on the sphinx rendered scikit-learn.org. See: https://github.com/scikit-learn/scikit-learn/issues/21755 */display: inline-block !important;position: relative;}#sk-container-id-4 div.sk-text-repr-fallback {display: none;}</style><div id=\"sk-container-id-4\" class=\"sk-top-container\"><div class=\"sk-text-repr-fallback\"><pre>GridSearchCV(estimator=XGBClassifier(base_score=None, booster=None,\n",
       "                                     callbacks=None, colsample_bylevel=None,\n",
       "                                     colsample_bynode=None,\n",
       "                                     colsample_bytree=None,\n",
       "                                     early_stopping_rounds=None,\n",
       "                                     enable_categorical=False, eval_metric=None,\n",
       "                                     feature_types=None, gamma=None,\n",
       "                                     gpu_id=None, grow_policy=None,\n",
       "                                     importance_type=None,\n",
       "                                     interaction_constraints=None,\n",
       "                                     learning_rate=None, max_bin=None,\n",
       "                                     max_cat_threshold=None,\n",
       "                                     max_cat_to_onehot=None,\n",
       "                                     max_delta_step=None, max_depth=None,\n",
       "                                     max_leaves=None, min_child_weight=None,\n",
       "                                     missing=nan, monotone_constraints=None,\n",
       "                                     n_estimators=100, n_jobs=5,\n",
       "                                     num_parallel_tree=None, predictor=None,\n",
       "                                     random_state=None, ...),\n",
       "             n_jobs=2, param_grid={&#x27;max_depth&#x27;: [3], &#x27;n_estimators&#x27;: [1500]},\n",
       "             verbose=1)</pre><b>In a Jupyter environment, please rerun this cell to show the HTML representation or trust the notebook. <br />On GitHub, the HTML representation is unable to render, please try loading this page with nbviewer.org.</b></div><div class=\"sk-container\" hidden><div class=\"sk-item sk-dashed-wrapped\"><div class=\"sk-label-container\"><div class=\"sk-label sk-toggleable\"><input class=\"sk-toggleable__control sk-hidden--visually\" id=\"sk-estimator-id-10\" type=\"checkbox\" ><label for=\"sk-estimator-id-10\" class=\"sk-toggleable__label sk-toggleable__label-arrow\">GridSearchCV</label><div class=\"sk-toggleable__content\"><pre>GridSearchCV(estimator=XGBClassifier(base_score=None, booster=None,\n",
       "                                     callbacks=None, colsample_bylevel=None,\n",
       "                                     colsample_bynode=None,\n",
       "                                     colsample_bytree=None,\n",
       "                                     early_stopping_rounds=None,\n",
       "                                     enable_categorical=False, eval_metric=None,\n",
       "                                     feature_types=None, gamma=None,\n",
       "                                     gpu_id=None, grow_policy=None,\n",
       "                                     importance_type=None,\n",
       "                                     interaction_constraints=None,\n",
       "                                     learning_rate=None, max_bin=None,\n",
       "                                     max_cat_threshold=None,\n",
       "                                     max_cat_to_onehot=None,\n",
       "                                     max_delta_step=None, max_depth=None,\n",
       "                                     max_leaves=None, min_child_weight=None,\n",
       "                                     missing=nan, monotone_constraints=None,\n",
       "                                     n_estimators=100, n_jobs=5,\n",
       "                                     num_parallel_tree=None, predictor=None,\n",
       "                                     random_state=None, ...),\n",
       "             n_jobs=2, param_grid={&#x27;max_depth&#x27;: [3], &#x27;n_estimators&#x27;: [1500]},\n",
       "             verbose=1)</pre></div></div></div><div class=\"sk-parallel\"><div class=\"sk-parallel-item\"><div class=\"sk-item\"><div class=\"sk-label-container\"><div class=\"sk-label sk-toggleable\"><input class=\"sk-toggleable__control sk-hidden--visually\" id=\"sk-estimator-id-11\" type=\"checkbox\" ><label for=\"sk-estimator-id-11\" class=\"sk-toggleable__label sk-toggleable__label-arrow\">estimator: XGBClassifier</label><div class=\"sk-toggleable__content\"><pre>XGBClassifier(base_score=None, booster=None, callbacks=None,\n",
       "              colsample_bylevel=None, colsample_bynode=None,\n",
       "              colsample_bytree=None, early_stopping_rounds=None,\n",
       "              enable_categorical=False, eval_metric=None, feature_types=None,\n",
       "              gamma=None, gpu_id=None, grow_policy=None, importance_type=None,\n",
       "              interaction_constraints=None, learning_rate=None, max_bin=None,\n",
       "              max_cat_threshold=None, max_cat_to_onehot=None,\n",
       "              max_delta_step=None, max_depth=None, max_leaves=None,\n",
       "              min_child_weight=None, missing=nan, monotone_constraints=None,\n",
       "              n_estimators=100, n_jobs=5, num_parallel_tree=None,\n",
       "              predictor=None, random_state=None, ...)</pre></div></div></div><div class=\"sk-serial\"><div class=\"sk-item\"><div class=\"sk-estimator sk-toggleable\"><input class=\"sk-toggleable__control sk-hidden--visually\" id=\"sk-estimator-id-12\" type=\"checkbox\" ><label for=\"sk-estimator-id-12\" class=\"sk-toggleable__label sk-toggleable__label-arrow\">XGBClassifier</label><div class=\"sk-toggleable__content\"><pre>XGBClassifier(base_score=None, booster=None, callbacks=None,\n",
       "              colsample_bylevel=None, colsample_bynode=None,\n",
       "              colsample_bytree=None, early_stopping_rounds=None,\n",
       "              enable_categorical=False, eval_metric=None, feature_types=None,\n",
       "              gamma=None, gpu_id=None, grow_policy=None, importance_type=None,\n",
       "              interaction_constraints=None, learning_rate=None, max_bin=None,\n",
       "              max_cat_threshold=None, max_cat_to_onehot=None,\n",
       "              max_delta_step=None, max_depth=None, max_leaves=None,\n",
       "              min_child_weight=None, missing=nan, monotone_constraints=None,\n",
       "              n_estimators=100, n_jobs=5, num_parallel_tree=None,\n",
       "              predictor=None, random_state=None, ...)</pre></div></div></div></div></div></div></div></div></div></div>"
      ],
      "text/plain": [
       "GridSearchCV(estimator=XGBClassifier(base_score=None, booster=None,\n",
       "                                     callbacks=None, colsample_bylevel=None,\n",
       "                                     colsample_bynode=None,\n",
       "                                     colsample_bytree=None,\n",
       "                                     early_stopping_rounds=None,\n",
       "                                     enable_categorical=False, eval_metric=None,\n",
       "                                     feature_types=None, gamma=None,\n",
       "                                     gpu_id=None, grow_policy=None,\n",
       "                                     importance_type=None,\n",
       "                                     interaction_constraints=None,\n",
       "                                     learning_rate=None, max_bin=None,\n",
       "                                     max_cat_threshold=None,\n",
       "                                     max_cat_to_onehot=None,\n",
       "                                     max_delta_step=None, max_depth=None,\n",
       "                                     max_leaves=None, min_child_weight=None,\n",
       "                                     missing=nan, monotone_constraints=None,\n",
       "                                     n_estimators=100, n_jobs=5,\n",
       "                                     num_parallel_tree=None, predictor=None,\n",
       "                                     random_state=None, ...),\n",
       "             n_jobs=2, param_grid={'max_depth': [3], 'n_estimators': [1500]},\n",
       "             verbose=1)"
      ]
     },
     "execution_count": 52,
     "metadata": {},
     "output_type": "execute_result"
    }
   ],
   "source": [
    "%%time\n",
    "clf_tfidf.fit(X_tfidf, y_train)"
   ]
  },
  {
   "cell_type": "code",
   "execution_count": 53,
   "id": "95a506dc",
   "metadata": {},
   "outputs": [
    {
     "data": {
      "text/html": [
       "<div>\n",
       "<style scoped>\n",
       "    .dataframe tbody tr th:only-of-type {\n",
       "        vertical-align: middle;\n",
       "    }\n",
       "\n",
       "    .dataframe tbody tr th {\n",
       "        vertical-align: top;\n",
       "    }\n",
       "\n",
       "    .dataframe thead th {\n",
       "        text-align: right;\n",
       "    }\n",
       "</style>\n",
       "<table border=\"1\" class=\"dataframe\">\n",
       "  <thead>\n",
       "    <tr style=\"text-align: right;\">\n",
       "      <th></th>\n",
       "      <th>mean_fit_time</th>\n",
       "      <th>std_fit_time</th>\n",
       "      <th>mean_score_time</th>\n",
       "      <th>std_score_time</th>\n",
       "      <th>param_max_depth</th>\n",
       "      <th>param_n_estimators</th>\n",
       "      <th>params</th>\n",
       "      <th>split0_test_score</th>\n",
       "      <th>split1_test_score</th>\n",
       "      <th>split2_test_score</th>\n",
       "      <th>split3_test_score</th>\n",
       "      <th>split4_test_score</th>\n",
       "      <th>mean_test_score</th>\n",
       "      <th>std_test_score</th>\n",
       "      <th>rank_test_score</th>\n",
       "    </tr>\n",
       "  </thead>\n",
       "  <tbody>\n",
       "    <tr>\n",
       "      <th>0</th>\n",
       "      <td>55.747911</td>\n",
       "      <td>6.012172</td>\n",
       "      <td>0.096856</td>\n",
       "      <td>0.005631</td>\n",
       "      <td>3</td>\n",
       "      <td>1500</td>\n",
       "      <td>{'max_depth': 3, 'n_estimators': 1500}</td>\n",
       "      <td>0.716675</td>\n",
       "      <td>0.719025</td>\n",
       "      <td>0.71525</td>\n",
       "      <td>0.716375</td>\n",
       "      <td>0.7159</td>\n",
       "      <td>0.716645</td>\n",
       "      <td>0.001284</td>\n",
       "      <td>1</td>\n",
       "    </tr>\n",
       "  </tbody>\n",
       "</table>\n",
       "</div>"
      ],
      "text/plain": [
       "   mean_fit_time  std_fit_time  mean_score_time  std_score_time  \\\n",
       "0      55.747911      6.012172         0.096856        0.005631   \n",
       "\n",
       "  param_max_depth param_n_estimators                                  params  \\\n",
       "0               3               1500  {'max_depth': 3, 'n_estimators': 1500}   \n",
       "\n",
       "   split0_test_score  split1_test_score  split2_test_score  split3_test_score  \\\n",
       "0           0.716675           0.719025            0.71525           0.716375   \n",
       "\n",
       "   split4_test_score  mean_test_score  std_test_score  rank_test_score  \n",
       "0             0.7159         0.716645        0.001284                1  "
      ]
     },
     "execution_count": 53,
     "metadata": {},
     "output_type": "execute_result"
    }
   ],
   "source": [
    "pd.DataFrame(clf_tfidf.cv_results_)"
   ]
  },
  {
   "cell_type": "code",
   "execution_count": 54,
   "id": "2a397663",
   "metadata": {},
   "outputs": [
    {
     "name": "stdout",
     "output_type": "stream",
     "text": [
      "Fitting 5 folds for each of 1 candidates, totalling 5 fits\n"
     ]
    },
    {
     "name": "stderr",
     "output_type": "stream",
     "text": [
      "/Users/alessandro/Documents/dev/ml-env/lib/python3.9/site-packages/joblib/externals/loky/process_executor.py:700: UserWarning: A worker stopped while some jobs were given to the executor. This can be caused by a too short worker timeout or by a memory leak.\n",
      "  warnings.warn(\n"
     ]
    },
    {
     "name": "stdout",
     "output_type": "stream",
     "text": [
      "CPU times: user 1min 3s, sys: 4.89 s, total: 1min 8s\n",
      "Wall time: 53.1 s\n"
     ]
    },
    {
     "data": {
      "text/html": [
       "<style>#sk-container-id-5 {color: black;background-color: white;}#sk-container-id-5 pre{padding: 0;}#sk-container-id-5 div.sk-toggleable {background-color: white;}#sk-container-id-5 label.sk-toggleable__label {cursor: pointer;display: block;width: 100%;margin-bottom: 0;padding: 0.3em;box-sizing: border-box;text-align: center;}#sk-container-id-5 label.sk-toggleable__label-arrow:before {content: \"▸\";float: left;margin-right: 0.25em;color: #696969;}#sk-container-id-5 label.sk-toggleable__label-arrow:hover:before {color: black;}#sk-container-id-5 div.sk-estimator:hover label.sk-toggleable__label-arrow:before {color: black;}#sk-container-id-5 div.sk-toggleable__content {max-height: 0;max-width: 0;overflow: hidden;text-align: left;background-color: #f0f8ff;}#sk-container-id-5 div.sk-toggleable__content pre {margin: 0.2em;color: black;border-radius: 0.25em;background-color: #f0f8ff;}#sk-container-id-5 input.sk-toggleable__control:checked~div.sk-toggleable__content {max-height: 200px;max-width: 100%;overflow: auto;}#sk-container-id-5 input.sk-toggleable__control:checked~label.sk-toggleable__label-arrow:before {content: \"▾\";}#sk-container-id-5 div.sk-estimator input.sk-toggleable__control:checked~label.sk-toggleable__label {background-color: #d4ebff;}#sk-container-id-5 div.sk-label input.sk-toggleable__control:checked~label.sk-toggleable__label {background-color: #d4ebff;}#sk-container-id-5 input.sk-hidden--visually {border: 0;clip: rect(1px 1px 1px 1px);clip: rect(1px, 1px, 1px, 1px);height: 1px;margin: -1px;overflow: hidden;padding: 0;position: absolute;width: 1px;}#sk-container-id-5 div.sk-estimator {font-family: monospace;background-color: #f0f8ff;border: 1px dotted black;border-radius: 0.25em;box-sizing: border-box;margin-bottom: 0.5em;}#sk-container-id-5 div.sk-estimator:hover {background-color: #d4ebff;}#sk-container-id-5 div.sk-parallel-item::after {content: \"\";width: 100%;border-bottom: 1px solid gray;flex-grow: 1;}#sk-container-id-5 div.sk-label:hover label.sk-toggleable__label {background-color: #d4ebff;}#sk-container-id-5 div.sk-serial::before {content: \"\";position: absolute;border-left: 1px solid gray;box-sizing: border-box;top: 0;bottom: 0;left: 50%;z-index: 0;}#sk-container-id-5 div.sk-serial {display: flex;flex-direction: column;align-items: center;background-color: white;padding-right: 0.2em;padding-left: 0.2em;position: relative;}#sk-container-id-5 div.sk-item {position: relative;z-index: 1;}#sk-container-id-5 div.sk-parallel {display: flex;align-items: stretch;justify-content: center;background-color: white;position: relative;}#sk-container-id-5 div.sk-item::before, #sk-container-id-5 div.sk-parallel-item::before {content: \"\";position: absolute;border-left: 1px solid gray;box-sizing: border-box;top: 0;bottom: 0;left: 50%;z-index: -1;}#sk-container-id-5 div.sk-parallel-item {display: flex;flex-direction: column;z-index: 1;position: relative;background-color: white;}#sk-container-id-5 div.sk-parallel-item:first-child::after {align-self: flex-end;width: 50%;}#sk-container-id-5 div.sk-parallel-item:last-child::after {align-self: flex-start;width: 50%;}#sk-container-id-5 div.sk-parallel-item:only-child::after {width: 0;}#sk-container-id-5 div.sk-dashed-wrapped {border: 1px dashed gray;margin: 0 0.4em 0.5em 0.4em;box-sizing: border-box;padding-bottom: 0.4em;background-color: white;}#sk-container-id-5 div.sk-label label {font-family: monospace;font-weight: bold;display: inline-block;line-height: 1.2em;}#sk-container-id-5 div.sk-label-container {text-align: center;}#sk-container-id-5 div.sk-container {/* jupyter's `normalize.less` sets `[hidden] { display: none; }` but bootstrap.min.css set `[hidden] { display: none !important; }` so we also need the `!important` here to be able to override the default hidden behavior on the sphinx rendered scikit-learn.org. See: https://github.com/scikit-learn/scikit-learn/issues/21755 */display: inline-block !important;position: relative;}#sk-container-id-5 div.sk-text-repr-fallback {display: none;}</style><div id=\"sk-container-id-5\" class=\"sk-top-container\"><div class=\"sk-text-repr-fallback\"><pre>GridSearchCV(estimator=XGBClassifier(base_score=None, booster=None,\n",
       "                                     callbacks=None, colsample_bylevel=None,\n",
       "                                     colsample_bynode=None,\n",
       "                                     colsample_bytree=None,\n",
       "                                     early_stopping_rounds=None,\n",
       "                                     enable_categorical=False, eval_metric=None,\n",
       "                                     feature_types=None, gamma=None,\n",
       "                                     gpu_id=None, grow_policy=None,\n",
       "                                     importance_type=None,\n",
       "                                     interaction_constraints=None,\n",
       "                                     learning_rate=None, max_bin=None,\n",
       "                                     max_cat_threshold=None,\n",
       "                                     max_cat_to_onehot=None,\n",
       "                                     max_delta_step=None, max_depth=None,\n",
       "                                     max_leaves=None, min_child_weight=None,\n",
       "                                     missing=nan, monotone_constraints=None,\n",
       "                                     n_estimators=100, n_jobs=5,\n",
       "                                     num_parallel_tree=None, predictor=None,\n",
       "                                     random_state=None, ...),\n",
       "             n_jobs=2, param_grid={&#x27;max_depth&#x27;: [3], &#x27;n_estimators&#x27;: [500]},\n",
       "             verbose=1)</pre><b>In a Jupyter environment, please rerun this cell to show the HTML representation or trust the notebook. <br />On GitHub, the HTML representation is unable to render, please try loading this page with nbviewer.org.</b></div><div class=\"sk-container\" hidden><div class=\"sk-item sk-dashed-wrapped\"><div class=\"sk-label-container\"><div class=\"sk-label sk-toggleable\"><input class=\"sk-toggleable__control sk-hidden--visually\" id=\"sk-estimator-id-13\" type=\"checkbox\" ><label for=\"sk-estimator-id-13\" class=\"sk-toggleable__label sk-toggleable__label-arrow\">GridSearchCV</label><div class=\"sk-toggleable__content\"><pre>GridSearchCV(estimator=XGBClassifier(base_score=None, booster=None,\n",
       "                                     callbacks=None, colsample_bylevel=None,\n",
       "                                     colsample_bynode=None,\n",
       "                                     colsample_bytree=None,\n",
       "                                     early_stopping_rounds=None,\n",
       "                                     enable_categorical=False, eval_metric=None,\n",
       "                                     feature_types=None, gamma=None,\n",
       "                                     gpu_id=None, grow_policy=None,\n",
       "                                     importance_type=None,\n",
       "                                     interaction_constraints=None,\n",
       "                                     learning_rate=None, max_bin=None,\n",
       "                                     max_cat_threshold=None,\n",
       "                                     max_cat_to_onehot=None,\n",
       "                                     max_delta_step=None, max_depth=None,\n",
       "                                     max_leaves=None, min_child_weight=None,\n",
       "                                     missing=nan, monotone_constraints=None,\n",
       "                                     n_estimators=100, n_jobs=5,\n",
       "                                     num_parallel_tree=None, predictor=None,\n",
       "                                     random_state=None, ...),\n",
       "             n_jobs=2, param_grid={&#x27;max_depth&#x27;: [3], &#x27;n_estimators&#x27;: [500]},\n",
       "             verbose=1)</pre></div></div></div><div class=\"sk-parallel\"><div class=\"sk-parallel-item\"><div class=\"sk-item\"><div class=\"sk-label-container\"><div class=\"sk-label sk-toggleable\"><input class=\"sk-toggleable__control sk-hidden--visually\" id=\"sk-estimator-id-14\" type=\"checkbox\" ><label for=\"sk-estimator-id-14\" class=\"sk-toggleable__label sk-toggleable__label-arrow\">estimator: XGBClassifier</label><div class=\"sk-toggleable__content\"><pre>XGBClassifier(base_score=None, booster=None, callbacks=None,\n",
       "              colsample_bylevel=None, colsample_bynode=None,\n",
       "              colsample_bytree=None, early_stopping_rounds=None,\n",
       "              enable_categorical=False, eval_metric=None, feature_types=None,\n",
       "              gamma=None, gpu_id=None, grow_policy=None, importance_type=None,\n",
       "              interaction_constraints=None, learning_rate=None, max_bin=None,\n",
       "              max_cat_threshold=None, max_cat_to_onehot=None,\n",
       "              max_delta_step=None, max_depth=None, max_leaves=None,\n",
       "              min_child_weight=None, missing=nan, monotone_constraints=None,\n",
       "              n_estimators=100, n_jobs=5, num_parallel_tree=None,\n",
       "              predictor=None, random_state=None, ...)</pre></div></div></div><div class=\"sk-serial\"><div class=\"sk-item\"><div class=\"sk-estimator sk-toggleable\"><input class=\"sk-toggleable__control sk-hidden--visually\" id=\"sk-estimator-id-15\" type=\"checkbox\" ><label for=\"sk-estimator-id-15\" class=\"sk-toggleable__label sk-toggleable__label-arrow\">XGBClassifier</label><div class=\"sk-toggleable__content\"><pre>XGBClassifier(base_score=None, booster=None, callbacks=None,\n",
       "              colsample_bylevel=None, colsample_bynode=None,\n",
       "              colsample_bytree=None, early_stopping_rounds=None,\n",
       "              enable_categorical=False, eval_metric=None, feature_types=None,\n",
       "              gamma=None, gpu_id=None, grow_policy=None, importance_type=None,\n",
       "              interaction_constraints=None, learning_rate=None, max_bin=None,\n",
       "              max_cat_threshold=None, max_cat_to_onehot=None,\n",
       "              max_delta_step=None, max_depth=None, max_leaves=None,\n",
       "              min_child_weight=None, missing=nan, monotone_constraints=None,\n",
       "              n_estimators=100, n_jobs=5, num_parallel_tree=None,\n",
       "              predictor=None, random_state=None, ...)</pre></div></div></div></div></div></div></div></div></div></div>"
      ],
      "text/plain": [
       "GridSearchCV(estimator=XGBClassifier(base_score=None, booster=None,\n",
       "                                     callbacks=None, colsample_bylevel=None,\n",
       "                                     colsample_bynode=None,\n",
       "                                     colsample_bytree=None,\n",
       "                                     early_stopping_rounds=None,\n",
       "                                     enable_categorical=False, eval_metric=None,\n",
       "                                     feature_types=None, gamma=None,\n",
       "                                     gpu_id=None, grow_policy=None,\n",
       "                                     importance_type=None,\n",
       "                                     interaction_constraints=None,\n",
       "                                     learning_rate=None, max_bin=None,\n",
       "                                     max_cat_threshold=None,\n",
       "                                     max_cat_to_onehot=None,\n",
       "                                     max_delta_step=None, max_depth=None,\n",
       "                                     max_leaves=None, min_child_weight=None,\n",
       "                                     missing=nan, monotone_constraints=None,\n",
       "                                     n_estimators=100, n_jobs=5,\n",
       "                                     num_parallel_tree=None, predictor=None,\n",
       "                                     random_state=None, ...),\n",
       "             n_jobs=2, param_grid={'max_depth': [3], 'n_estimators': [500]},\n",
       "             verbose=1)"
      ]
     },
     "execution_count": 54,
     "metadata": {},
     "output_type": "execute_result"
    }
   ],
   "source": [
    "%%time\n",
    "clf_tag.fit(X_tag, y_train)"
   ]
  },
  {
   "cell_type": "code",
   "execution_count": 55,
   "id": "95b13ca1",
   "metadata": {},
   "outputs": [
    {
     "data": {
      "text/html": [
       "<div>\n",
       "<style scoped>\n",
       "    .dataframe tbody tr th:only-of-type {\n",
       "        vertical-align: middle;\n",
       "    }\n",
       "\n",
       "    .dataframe tbody tr th {\n",
       "        vertical-align: top;\n",
       "    }\n",
       "\n",
       "    .dataframe thead th {\n",
       "        text-align: right;\n",
       "    }\n",
       "</style>\n",
       "<table border=\"1\" class=\"dataframe\">\n",
       "  <thead>\n",
       "    <tr style=\"text-align: right;\">\n",
       "      <th></th>\n",
       "      <th>mean_fit_time</th>\n",
       "      <th>std_fit_time</th>\n",
       "      <th>mean_score_time</th>\n",
       "      <th>std_score_time</th>\n",
       "      <th>param_max_depth</th>\n",
       "      <th>param_n_estimators</th>\n",
       "      <th>params</th>\n",
       "      <th>split0_test_score</th>\n",
       "      <th>split1_test_score</th>\n",
       "      <th>split2_test_score</th>\n",
       "      <th>split3_test_score</th>\n",
       "      <th>split4_test_score</th>\n",
       "      <th>mean_test_score</th>\n",
       "      <th>std_test_score</th>\n",
       "      <th>rank_test_score</th>\n",
       "    </tr>\n",
       "  </thead>\n",
       "  <tbody>\n",
       "    <tr>\n",
       "      <th>0</th>\n",
       "      <td>13.52491</td>\n",
       "      <td>1.538569</td>\n",
       "      <td>0.048421</td>\n",
       "      <td>0.010208</td>\n",
       "      <td>3</td>\n",
       "      <td>500</td>\n",
       "      <td>{'max_depth': 3, 'n_estimators': 500}</td>\n",
       "      <td>0.68415</td>\n",
       "      <td>0.682025</td>\n",
       "      <td>0.6844</td>\n",
       "      <td>0.687175</td>\n",
       "      <td>0.68535</td>\n",
       "      <td>0.68462</td>\n",
       "      <td>0.001677</td>\n",
       "      <td>1</td>\n",
       "    </tr>\n",
       "  </tbody>\n",
       "</table>\n",
       "</div>"
      ],
      "text/plain": [
       "   mean_fit_time  std_fit_time  mean_score_time  std_score_time  \\\n",
       "0       13.52491      1.538569         0.048421        0.010208   \n",
       "\n",
       "  param_max_depth param_n_estimators                                 params  \\\n",
       "0               3                500  {'max_depth': 3, 'n_estimators': 500}   \n",
       "\n",
       "   split0_test_score  split1_test_score  split2_test_score  split3_test_score  \\\n",
       "0            0.68415           0.682025             0.6844           0.687175   \n",
       "\n",
       "   split4_test_score  mean_test_score  std_test_score  rank_test_score  \n",
       "0            0.68535          0.68462        0.001677                1  "
      ]
     },
     "execution_count": 55,
     "metadata": {},
     "output_type": "execute_result"
    }
   ],
   "source": [
    "pd.DataFrame(clf_tag.cv_results_)"
   ]
  },
  {
   "cell_type": "code",
   "execution_count": 56,
   "id": "49cc738e",
   "metadata": {},
   "outputs": [
    {
     "name": "stdout",
     "output_type": "stream",
     "text": [
      "Fitting 5 folds for each of 1 candidates, totalling 5 fits\n"
     ]
    },
    {
     "name": "stderr",
     "output_type": "stream",
     "text": [
      "/Users/alessandro/Documents/dev/ml-env/lib/python3.9/site-packages/joblib/externals/loky/process_executor.py:700: UserWarning: A worker stopped while some jobs were given to the executor. This can be caused by a too short worker timeout or by a memory leak.\n",
      "  warnings.warn(\n"
     ]
    },
    {
     "name": "stdout",
     "output_type": "stream",
     "text": [
      "CPU times: user 6min 18s, sys: 8.4 s, total: 6min 26s\n",
      "Wall time: 5min 41s\n"
     ]
    },
    {
     "data": {
      "text/html": [
       "<style>#sk-container-id-6 {color: black;background-color: white;}#sk-container-id-6 pre{padding: 0;}#sk-container-id-6 div.sk-toggleable {background-color: white;}#sk-container-id-6 label.sk-toggleable__label {cursor: pointer;display: block;width: 100%;margin-bottom: 0;padding: 0.3em;box-sizing: border-box;text-align: center;}#sk-container-id-6 label.sk-toggleable__label-arrow:before {content: \"▸\";float: left;margin-right: 0.25em;color: #696969;}#sk-container-id-6 label.sk-toggleable__label-arrow:hover:before {color: black;}#sk-container-id-6 div.sk-estimator:hover label.sk-toggleable__label-arrow:before {color: black;}#sk-container-id-6 div.sk-toggleable__content {max-height: 0;max-width: 0;overflow: hidden;text-align: left;background-color: #f0f8ff;}#sk-container-id-6 div.sk-toggleable__content pre {margin: 0.2em;color: black;border-radius: 0.25em;background-color: #f0f8ff;}#sk-container-id-6 input.sk-toggleable__control:checked~div.sk-toggleable__content {max-height: 200px;max-width: 100%;overflow: auto;}#sk-container-id-6 input.sk-toggleable__control:checked~label.sk-toggleable__label-arrow:before {content: \"▾\";}#sk-container-id-6 div.sk-estimator input.sk-toggleable__control:checked~label.sk-toggleable__label {background-color: #d4ebff;}#sk-container-id-6 div.sk-label input.sk-toggleable__control:checked~label.sk-toggleable__label {background-color: #d4ebff;}#sk-container-id-6 input.sk-hidden--visually {border: 0;clip: rect(1px 1px 1px 1px);clip: rect(1px, 1px, 1px, 1px);height: 1px;margin: -1px;overflow: hidden;padding: 0;position: absolute;width: 1px;}#sk-container-id-6 div.sk-estimator {font-family: monospace;background-color: #f0f8ff;border: 1px dotted black;border-radius: 0.25em;box-sizing: border-box;margin-bottom: 0.5em;}#sk-container-id-6 div.sk-estimator:hover {background-color: #d4ebff;}#sk-container-id-6 div.sk-parallel-item::after {content: \"\";width: 100%;border-bottom: 1px solid gray;flex-grow: 1;}#sk-container-id-6 div.sk-label:hover label.sk-toggleable__label {background-color: #d4ebff;}#sk-container-id-6 div.sk-serial::before {content: \"\";position: absolute;border-left: 1px solid gray;box-sizing: border-box;top: 0;bottom: 0;left: 50%;z-index: 0;}#sk-container-id-6 div.sk-serial {display: flex;flex-direction: column;align-items: center;background-color: white;padding-right: 0.2em;padding-left: 0.2em;position: relative;}#sk-container-id-6 div.sk-item {position: relative;z-index: 1;}#sk-container-id-6 div.sk-parallel {display: flex;align-items: stretch;justify-content: center;background-color: white;position: relative;}#sk-container-id-6 div.sk-item::before, #sk-container-id-6 div.sk-parallel-item::before {content: \"\";position: absolute;border-left: 1px solid gray;box-sizing: border-box;top: 0;bottom: 0;left: 50%;z-index: -1;}#sk-container-id-6 div.sk-parallel-item {display: flex;flex-direction: column;z-index: 1;position: relative;background-color: white;}#sk-container-id-6 div.sk-parallel-item:first-child::after {align-self: flex-end;width: 50%;}#sk-container-id-6 div.sk-parallel-item:last-child::after {align-self: flex-start;width: 50%;}#sk-container-id-6 div.sk-parallel-item:only-child::after {width: 0;}#sk-container-id-6 div.sk-dashed-wrapped {border: 1px dashed gray;margin: 0 0.4em 0.5em 0.4em;box-sizing: border-box;padding-bottom: 0.4em;background-color: white;}#sk-container-id-6 div.sk-label label {font-family: monospace;font-weight: bold;display: inline-block;line-height: 1.2em;}#sk-container-id-6 div.sk-label-container {text-align: center;}#sk-container-id-6 div.sk-container {/* jupyter's `normalize.less` sets `[hidden] { display: none; }` but bootstrap.min.css set `[hidden] { display: none !important; }` so we also need the `!important` here to be able to override the default hidden behavior on the sphinx rendered scikit-learn.org. See: https://github.com/scikit-learn/scikit-learn/issues/21755 */display: inline-block !important;position: relative;}#sk-container-id-6 div.sk-text-repr-fallback {display: none;}</style><div id=\"sk-container-id-6\" class=\"sk-top-container\"><div class=\"sk-text-repr-fallback\"><pre>GridSearchCV(estimator=XGBClassifier(base_score=None, booster=None,\n",
       "                                     callbacks=None, colsample_bylevel=None,\n",
       "                                     colsample_bynode=None,\n",
       "                                     colsample_bytree=None,\n",
       "                                     early_stopping_rounds=None,\n",
       "                                     enable_categorical=False, eval_metric=None,\n",
       "                                     feature_types=None, gamma=None,\n",
       "                                     gpu_id=None, grow_policy=None,\n",
       "                                     importance_type=None,\n",
       "                                     interaction_constraints=None,\n",
       "                                     learning_rate=None, max_bin=None,\n",
       "                                     max_cat_threshold=None,\n",
       "                                     max_cat_to_onehot=None,\n",
       "                                     max_delta_step=None, max_depth=None,\n",
       "                                     max_leaves=None, min_child_weight=None,\n",
       "                                     missing=nan, monotone_constraints=None,\n",
       "                                     n_estimators=100, n_jobs=5,\n",
       "                                     num_parallel_tree=None, predictor=None,\n",
       "                                     random_state=None, ...),\n",
       "             n_jobs=2, param_grid={&#x27;max_depth&#x27;: [3], &#x27;n_estimators&#x27;: [1500]},\n",
       "             verbose=1)</pre><b>In a Jupyter environment, please rerun this cell to show the HTML representation or trust the notebook. <br />On GitHub, the HTML representation is unable to render, please try loading this page with nbviewer.org.</b></div><div class=\"sk-container\" hidden><div class=\"sk-item sk-dashed-wrapped\"><div class=\"sk-label-container\"><div class=\"sk-label sk-toggleable\"><input class=\"sk-toggleable__control sk-hidden--visually\" id=\"sk-estimator-id-16\" type=\"checkbox\" ><label for=\"sk-estimator-id-16\" class=\"sk-toggleable__label sk-toggleable__label-arrow\">GridSearchCV</label><div class=\"sk-toggleable__content\"><pre>GridSearchCV(estimator=XGBClassifier(base_score=None, booster=None,\n",
       "                                     callbacks=None, colsample_bylevel=None,\n",
       "                                     colsample_bynode=None,\n",
       "                                     colsample_bytree=None,\n",
       "                                     early_stopping_rounds=None,\n",
       "                                     enable_categorical=False, eval_metric=None,\n",
       "                                     feature_types=None, gamma=None,\n",
       "                                     gpu_id=None, grow_policy=None,\n",
       "                                     importance_type=None,\n",
       "                                     interaction_constraints=None,\n",
       "                                     learning_rate=None, max_bin=None,\n",
       "                                     max_cat_threshold=None,\n",
       "                                     max_cat_to_onehot=None,\n",
       "                                     max_delta_step=None, max_depth=None,\n",
       "                                     max_leaves=None, min_child_weight=None,\n",
       "                                     missing=nan, monotone_constraints=None,\n",
       "                                     n_estimators=100, n_jobs=5,\n",
       "                                     num_parallel_tree=None, predictor=None,\n",
       "                                     random_state=None, ...),\n",
       "             n_jobs=2, param_grid={&#x27;max_depth&#x27;: [3], &#x27;n_estimators&#x27;: [1500]},\n",
       "             verbose=1)</pre></div></div></div><div class=\"sk-parallel\"><div class=\"sk-parallel-item\"><div class=\"sk-item\"><div class=\"sk-label-container\"><div class=\"sk-label sk-toggleable\"><input class=\"sk-toggleable__control sk-hidden--visually\" id=\"sk-estimator-id-17\" type=\"checkbox\" ><label for=\"sk-estimator-id-17\" class=\"sk-toggleable__label sk-toggleable__label-arrow\">estimator: XGBClassifier</label><div class=\"sk-toggleable__content\"><pre>XGBClassifier(base_score=None, booster=None, callbacks=None,\n",
       "              colsample_bylevel=None, colsample_bynode=None,\n",
       "              colsample_bytree=None, early_stopping_rounds=None,\n",
       "              enable_categorical=False, eval_metric=None, feature_types=None,\n",
       "              gamma=None, gpu_id=None, grow_policy=None, importance_type=None,\n",
       "              interaction_constraints=None, learning_rate=None, max_bin=None,\n",
       "              max_cat_threshold=None, max_cat_to_onehot=None,\n",
       "              max_delta_step=None, max_depth=None, max_leaves=None,\n",
       "              min_child_weight=None, missing=nan, monotone_constraints=None,\n",
       "              n_estimators=100, n_jobs=5, num_parallel_tree=None,\n",
       "              predictor=None, random_state=None, ...)</pre></div></div></div><div class=\"sk-serial\"><div class=\"sk-item\"><div class=\"sk-estimator sk-toggleable\"><input class=\"sk-toggleable__control sk-hidden--visually\" id=\"sk-estimator-id-18\" type=\"checkbox\" ><label for=\"sk-estimator-id-18\" class=\"sk-toggleable__label sk-toggleable__label-arrow\">XGBClassifier</label><div class=\"sk-toggleable__content\"><pre>XGBClassifier(base_score=None, booster=None, callbacks=None,\n",
       "              colsample_bylevel=None, colsample_bynode=None,\n",
       "              colsample_bytree=None, early_stopping_rounds=None,\n",
       "              enable_categorical=False, eval_metric=None, feature_types=None,\n",
       "              gamma=None, gpu_id=None, grow_policy=None, importance_type=None,\n",
       "              interaction_constraints=None, learning_rate=None, max_bin=None,\n",
       "              max_cat_threshold=None, max_cat_to_onehot=None,\n",
       "              max_delta_step=None, max_depth=None, max_leaves=None,\n",
       "              min_child_weight=None, missing=nan, monotone_constraints=None,\n",
       "              n_estimators=100, n_jobs=5, num_parallel_tree=None,\n",
       "              predictor=None, random_state=None, ...)</pre></div></div></div></div></div></div></div></div></div></div>"
      ],
      "text/plain": [
       "GridSearchCV(estimator=XGBClassifier(base_score=None, booster=None,\n",
       "                                     callbacks=None, colsample_bylevel=None,\n",
       "                                     colsample_bynode=None,\n",
       "                                     colsample_bytree=None,\n",
       "                                     early_stopping_rounds=None,\n",
       "                                     enable_categorical=False, eval_metric=None,\n",
       "                                     feature_types=None, gamma=None,\n",
       "                                     gpu_id=None, grow_policy=None,\n",
       "                                     importance_type=None,\n",
       "                                     interaction_constraints=None,\n",
       "                                     learning_rate=None, max_bin=None,\n",
       "                                     max_cat_threshold=None,\n",
       "                                     max_cat_to_onehot=None,\n",
       "                                     max_delta_step=None, max_depth=None,\n",
       "                                     max_leaves=None, min_child_weight=None,\n",
       "                                     missing=nan, monotone_constraints=None,\n",
       "                                     n_estimators=100, n_jobs=5,\n",
       "                                     num_parallel_tree=None, predictor=None,\n",
       "                                     random_state=None, ...),\n",
       "             n_jobs=2, param_grid={'max_depth': [3], 'n_estimators': [1500]},\n",
       "             verbose=1)"
      ]
     },
     "execution_count": 56,
     "metadata": {},
     "output_type": "execute_result"
    }
   ],
   "source": [
    "%%time\n",
    "clf_tfidf_tag.fit(X_tfidf_tag, y_train)"
   ]
  },
  {
   "cell_type": "code",
   "execution_count": 57,
   "id": "785e1c0b",
   "metadata": {},
   "outputs": [
    {
     "data": {
      "text/html": [
       "<div>\n",
       "<style scoped>\n",
       "    .dataframe tbody tr th:only-of-type {\n",
       "        vertical-align: middle;\n",
       "    }\n",
       "\n",
       "    .dataframe tbody tr th {\n",
       "        vertical-align: top;\n",
       "    }\n",
       "\n",
       "    .dataframe thead th {\n",
       "        text-align: right;\n",
       "    }\n",
       "</style>\n",
       "<table border=\"1\" class=\"dataframe\">\n",
       "  <thead>\n",
       "    <tr style=\"text-align: right;\">\n",
       "      <th></th>\n",
       "      <th>mean_fit_time</th>\n",
       "      <th>std_fit_time</th>\n",
       "      <th>mean_score_time</th>\n",
       "      <th>std_score_time</th>\n",
       "      <th>param_max_depth</th>\n",
       "      <th>param_n_estimators</th>\n",
       "      <th>params</th>\n",
       "      <th>split0_test_score</th>\n",
       "      <th>split1_test_score</th>\n",
       "      <th>split2_test_score</th>\n",
       "      <th>split3_test_score</th>\n",
       "      <th>split4_test_score</th>\n",
       "      <th>mean_test_score</th>\n",
       "      <th>std_test_score</th>\n",
       "      <th>rank_test_score</th>\n",
       "    </tr>\n",
       "  </thead>\n",
       "  <tbody>\n",
       "    <tr>\n",
       "      <th>0</th>\n",
       "      <td>92.510934</td>\n",
       "      <td>13.71437</td>\n",
       "      <td>0.12882</td>\n",
       "      <td>0.018558</td>\n",
       "      <td>3</td>\n",
       "      <td>1500</td>\n",
       "      <td>{'max_depth': 3, 'n_estimators': 1500}</td>\n",
       "      <td>0.736575</td>\n",
       "      <td>0.736175</td>\n",
       "      <td>0.7371</td>\n",
       "      <td>0.736225</td>\n",
       "      <td>0.738625</td>\n",
       "      <td>0.73694</td>\n",
       "      <td>0.000905</td>\n",
       "      <td>1</td>\n",
       "    </tr>\n",
       "  </tbody>\n",
       "</table>\n",
       "</div>"
      ],
      "text/plain": [
       "   mean_fit_time  std_fit_time  mean_score_time  std_score_time  \\\n",
       "0      92.510934      13.71437          0.12882        0.018558   \n",
       "\n",
       "  param_max_depth param_n_estimators                                  params  \\\n",
       "0               3               1500  {'max_depth': 3, 'n_estimators': 1500}   \n",
       "\n",
       "   split0_test_score  split1_test_score  split2_test_score  split3_test_score  \\\n",
       "0           0.736575           0.736175             0.7371           0.736225   \n",
       "\n",
       "   split4_test_score  mean_test_score  std_test_score  rank_test_score  \n",
       "0           0.738625          0.73694        0.000905                1  "
      ]
     },
     "execution_count": 57,
     "metadata": {},
     "output_type": "execute_result"
    }
   ],
   "source": [
    "pd.DataFrame(clf_tfidf_tag.cv_results_)"
   ]
  },
  {
   "cell_type": "markdown",
   "id": "8e76649d",
   "metadata": {},
   "source": [
    "## Test models"
   ]
  },
  {
   "cell_type": "code",
   "execution_count": 58,
   "id": "9a202ab2",
   "metadata": {},
   "outputs": [],
   "source": [
    "from sklearn.metrics import accuracy_score"
   ]
  },
  {
   "cell_type": "code",
   "execution_count": 59,
   "id": "5f3ed28c",
   "metadata": {},
   "outputs": [],
   "source": [
    "embed_path = \"./output/test/embed\"\n",
    "test_dataset_tag_files = sorted([f for f in os.listdir(embed_path) if os.path.isfile(os.path.join(embed_path, f)) and f[0]!=\".\" and \"tag\" in f])"
   ]
  },
  {
   "cell_type": "code",
   "execution_count": 60,
   "id": "11d8c3f5",
   "metadata": {},
   "outputs": [],
   "source": [
    "test_dataset_files = [x.replace(\".tag\",\"\") for x in test_dataset_tag_files]"
   ]
  },
  {
   "cell_type": "code",
   "execution_count": 61,
   "id": "b3c6432f",
   "metadata": {
    "scrolled": true
   },
   "outputs": [
    {
     "name": "stdout",
     "output_type": "stream",
     "text": [
      "******\n",
      "Test dataset: gpt2.large-762M-k40.test.machine\n",
      "TF-IDF words:\n",
      "0.0852\n",
      "TF-IDF tags:\n",
      "0.1004\n",
      "TF-IDF words+tags:\n",
      "0.0888\n",
      "******\n",
      "Test dataset: gpt2.large-762M.test.machine\n",
      "TF-IDF words:\n",
      "0.7784\n",
      "TF-IDF tags:\n",
      "0.7262\n",
      "TF-IDF words+tags:\n",
      "0.7956\n",
      "******\n",
      "Test dataset: gpt2.medium-345M-k40.test.machine\n",
      "TF-IDF words:\n",
      "0.1238\n",
      "TF-IDF tags:\n",
      "0.1426\n",
      "TF-IDF words+tags:\n",
      "0.137\n",
      "******\n",
      "Test dataset: gpt2.medium-345M.test.machine\n",
      "TF-IDF words:\n",
      "0.8806\n",
      "TF-IDF tags:\n",
      "0.8836\n",
      "TF-IDF words+tags:\n",
      "0.9008\n",
      "******\n",
      "Test dataset: gpt2.small-117M-k40.test.machine\n",
      "TF-IDF words:\n",
      "0.12\n",
      "TF-IDF tags:\n",
      "0.114\n",
      "TF-IDF words+tags:\n",
      "0.1274\n",
      "******\n",
      "Test dataset: gpt2.small-117M.test.machine\n",
      "TF-IDF words:\n",
      "0.8724\n",
      "TF-IDF tags:\n",
      "0.8308\n",
      "TF-IDF words+tags:\n",
      "0.8854\n",
      "******\n",
      "Test dataset: gpt2.xl-1542M-k40.test.machine\n",
      "TF-IDF words:\n",
      "0.096\n",
      "TF-IDF tags:\n",
      "0.1158\n",
      "TF-IDF words+tags:\n",
      "0.1002\n",
      "******\n",
      "Test dataset: gpt2.xl-1542M.test.machine\n",
      "TF-IDF words:\n",
      "0.7578\n",
      "TF-IDF tags:\n",
      "0.7062\n",
      "TF-IDF words+tags:\n",
      "0.7668\n",
      "******\n",
      "Test dataset: gpt3.175b_samples.machine\n",
      "TF-IDF words:\n",
      "0.354639175257732\n",
      "TF-IDF tags:\n",
      "0.16494845360824742\n",
      "TF-IDF words+tags:\n",
      "0.21649484536082475\n",
      "******\n",
      "Test dataset: grover-base-p0.94.human\n",
      "TF-IDF words:\n",
      "0.6791333333333334\n",
      "TF-IDF tags:\n",
      "0.6890666666666667\n",
      "TF-IDF words+tags:\n",
      "0.7514666666666666\n",
      "******\n",
      "Test dataset: grover-base-p0.94.machine\n",
      "TF-IDF words:\n",
      "0.2419\n",
      "TF-IDF tags:\n",
      "0.2361\n",
      "TF-IDF words+tags:\n",
      "0.1939\n",
      "******\n",
      "Test dataset: grover-medium-p0.94.human\n",
      "TF-IDF words:\n",
      "0.6791333333333334\n",
      "TF-IDF tags:\n",
      "0.6890666666666667\n",
      "TF-IDF words+tags:\n",
      "0.7514666666666666\n",
      "******\n",
      "Test dataset: grover-medium-p0.94.machine\n",
      "TF-IDF words:\n",
      "0.2141\n",
      "TF-IDF tags:\n",
      "0.2167\n",
      "TF-IDF words+tags:\n",
      "0.1697\n",
      "******\n",
      "Test dataset: grover-mega-p0.94.human\n",
      "TF-IDF words:\n",
      "0.6791333333333334\n",
      "TF-IDF tags:\n",
      "0.6890666666666667\n",
      "TF-IDF words+tags:\n",
      "0.7514666666666666\n",
      "******\n",
      "Test dataset: grover-mega-p0.94.machine\n",
      "TF-IDF words:\n",
      "0.2023\n",
      "TF-IDF tags:\n",
      "0.2178\n",
      "TF-IDF words+tags:\n",
      "0.1602\n",
      "******\n",
      "Test dataset: webtext.test.human\n",
      "TF-IDF words:\n",
      "0.655\n",
      "TF-IDF tags:\n",
      "0.6502\n",
      "TF-IDF words+tags:\n",
      "0.6912\n"
     ]
    }
   ],
   "source": [
    "for test_dataset_tag_file in test_dataset_tag_files:\n",
    "    test_dataset_file = test_dataset_tag_file.replace(\".tag\",\"\")\n",
    "    with open(os.path.join(embed_path, test_dataset_file), \"rb\") as f:\n",
    "        X_test_tfidf = pickle.load(f)\n",
    "        label = int(\"machine\" in test_dataset_file)\n",
    "        y_test = [label for _ in range(len(X_test_tfidf))]\n",
    "    with open(os.path.join(embed_path, test_dataset_tag_file), \"rb\") as f:\n",
    "        X_test_tag = pickle.load(f)\n",
    "    X_test_tfidf_tag = np.concatenate([X_test_tfidf, X_test_tag], axis=1)\n",
    "    y_pred = [round(yy) for yy in clf_tfidf.best_estimator_.predict(X_test_tfidf)]\n",
    "    print(f'******\\nTest dataset: {test_dataset_file.replace(\"_embed.pickle\",\"\")}')\n",
    "    print('TF-IDF words:')\n",
    "    print(accuracy_score(y_test, y_pred))\n",
    "    print('TF-IDF tags:')\n",
    "    y_pred = [round(yy) for yy in clf_tag.best_estimator_.predict(X_test_tag)]\n",
    "    print(accuracy_score(y_test, y_pred))\n",
    "    print('TF-IDF words+tags:')\n",
    "    y_pred = [round(yy) for yy in clf_tfidf_tag.best_estimator_.predict(X_test_tfidf_tag)]\n",
    "    print(accuracy_score(y_test, y_pred))"
   ]
  },
  {
   "cell_type": "markdown",
   "id": "70a2be82",
   "metadata": {},
   "source": [
    "Analyze performance vs document stats"
   ]
  },
  {
   "cell_type": "code",
   "execution_count": 88,
   "id": "98326939",
   "metadata": {},
   "outputs": [],
   "source": [
    "from sklearn.metrics import precision_recall_fscore_support"
   ]
  },
  {
   "cell_type": "code",
   "execution_count": 70,
   "id": "09a9439b",
   "metadata": {},
   "outputs": [],
   "source": [
    "embed_path = \"./output/test/embed\"\n",
    "stats_path = \"./output/test/stats\"\n",
    "test_datasets = [\"webtext.test.human\", \"gpt2.xl-1542M.test.machine\"]"
   ]
  },
  {
   "cell_type": "code",
   "execution_count": 77,
   "id": "1b030e3d",
   "metadata": {},
   "outputs": [],
   "source": [
    "X_test_tfidf = None\n",
    "X_test_tag = None\n",
    "y_test = []\n",
    "df_stats = None\n",
    "for test_ds in test_datasets:\n",
    "    with open(os.path.join(embed_path, f\"{test_ds}_embed.pickle\"), \"rb\") as f:\n",
    "        ds_embed = pickle.load(f)\n",
    "        label = int(\"machine\" in test_ds)\n",
    "        if X_test_tfidf is None:\n",
    "            X_test_tfidf = ds_embed\n",
    "        else:\n",
    "            X_test_tfidf = np.concatenate([X_test_tfidf, ds_embed])\n",
    "        y_test += [label for _ in range(len(ds_embed))]\n",
    "    with open(os.path.join(embed_path, f\"{test_ds}.tag_embed.pickle\"), \"rb\") as f:\n",
    "        ds_embed = pickle.load(f)\n",
    "        if X_test_tag is None:\n",
    "            X_test_tag = ds_embed\n",
    "        else:\n",
    "            X_test_tag = np.concatenate([X_test_tag, ds_embed])\n",
    "    df = pd.read_csv(os.path.join(stats_path, f\"{test_ds}_stats.csv\"), index_col=0)\n",
    "    if df_stats is None:\n",
    "        df_stats = df\n",
    "    else:\n",
    "        df_stats = pd.concat([df_stats, df])\n",
    "X_test_tfidf_tag = np.concatenate([X_test_tfidf, X_test_tag], axis=1)"
   ]
  },
  {
   "cell_type": "code",
   "execution_count": 79,
   "id": "b72e7eea",
   "metadata": {},
   "outputs": [],
   "source": [
    "y_pred_tfidf = [round(yy) for yy in clf_tfidf.best_estimator_.predict(X_test_tfidf)]\n",
    "y_pred_tag = [round(yy) for yy in clf_tag.best_estimator_.predict(X_test_tag)]\n",
    "y_pred_tfidf_tag = [round(yy) for yy in clf_tfidf_tag.best_estimator_.predict(X_test_tfidf_tag)]"
   ]
  },
  {
   "cell_type": "code",
   "execution_count": 80,
   "id": "2361c385",
   "metadata": {},
   "outputs": [],
   "source": [
    "df_stats[\"label\"] = y_test\n",
    "df_stats[\"label_tfidf\"] = y_pred_tfidf\n",
    "df_stats[\"label_tag\"] = y_pred_tag\n",
    "df_stats[\"label_tfidf_tag\"] = y_pred_tfidf_tag"
   ]
  },
  {
   "cell_type": "code",
   "execution_count": 114,
   "id": "19d4eeac",
   "metadata": {},
   "outputs": [],
   "source": [
    "class_stats = dict(tfidf=[], tag=[], tfidf_tag=[])\n",
    "for i in sorted(set(df_stats.tokens.to_list())):\n",
    "    df = df_stats[df_stats.tokens >= i]\n",
    "    # stop if sample size below 50 elements\n",
    "    if len(df) < 50:\n",
    "        break\n",
    "    for method in class_stats.keys():\n",
    "        y_true = df.label.to_list()\n",
    "        y_pred = df[f\"label_{method}\"].to_list()\n",
    "        prec, rec, fsc, _ = precision_recall_fscore_support(y_true, y_pred, average='weighted')\n",
    "        st = [i, prec, rec, fsc] + [item for sublist in precision_recall_fscore_support(y_true, y_pred, average=None) for item in list(sublist)]\n",
    "        class_stats[method].append(st)"
   ]
  },
  {
   "cell_type": "code",
   "execution_count": 116,
   "id": "4d1f70be",
   "metadata": {},
   "outputs": [],
   "source": [
    "for method in class_stats:\n",
    "    pd.DataFrame(\n",
    "        class_stats[method], \n",
    "        columns=[\"min_tokens\",\"precision_m\", \"recall_m\", \"f1_m\", \"precision_human\", \"precision_machine\", \"recall_human\", \"recall_machine\", \"f1_human\", \"f1_machine\", \"support_human\", \"support_machine\"]\n",
    "    ).to_csv(f\"{method}_stats.csv\")"
   ]
  }
 ],
 "metadata": {
  "kernelspec": {
   "display_name": "ml-env",
   "language": "python",
   "name": "ml-env"
  },
  "language_info": {
   "codemirror_mode": {
    "name": "ipython",
    "version": 3
   },
   "file_extension": ".py",
   "mimetype": "text/x-python",
   "name": "python",
   "nbconvert_exporter": "python",
   "pygments_lexer": "ipython3",
   "version": "3.9.16"
  }
 },
 "nbformat": 4,
 "nbformat_minor": 5
}
