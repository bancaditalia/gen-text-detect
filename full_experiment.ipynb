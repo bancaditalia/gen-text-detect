{
 "cells": [
  {
   "cell_type": "code",
   "execution_count": 1,
   "id": "9f963291",
   "metadata": {},
   "outputs": [],
   "source": [
    "import json\n",
    "import pandas as pd\n",
    "import os"
   ]
  },
  {
   "cell_type": "code",
   "execution_count": 2,
   "id": "021f41dc",
   "metadata": {},
   "outputs": [],
   "source": [
    "data_path = \"./\"\n",
    "embed_path = \"./output/train/embed\""
   ]
  },
  {
   "cell_type": "code",
   "execution_count": 3,
   "id": "85ce9092",
   "metadata": {},
   "outputs": [],
   "source": [
    "import pickle\n",
    "\n",
    "def load_dataset(file_path, prefix_path=data_path):\n",
    "    ds = None\n",
    "    full_path = os.path.join(prefix_path, file_path)\n",
    "    if os.path.splitext(file_path)[-1] == \".csv\":\n",
    "        ds = pd.read_csv(full_path)\n",
    "    elif os.path.splitext(file_path)[-1] == \".jsonl\":\n",
    "        ds = pd.read_json(full_path, lines=True)\n",
    "    elif os.path.splitext(file_path)[-1] == \".pickle\":\n",
    "        with open(full_path, \"rb\") as f:\n",
    "            ds = pickle.load(f)\n",
    "    return ds"
   ]
  },
  {
   "cell_type": "markdown",
   "id": "b61e28e1",
   "metadata": {},
   "source": [
    "# Words-embedding"
   ]
  },
  {
   "cell_type": "markdown",
   "id": "26b42680",
   "metadata": {},
   "source": [
    "## Load training datasets"
   ]
  },
  {
   "cell_type": "code",
   "execution_count": 21,
   "id": "a7e0c459",
   "metadata": {},
   "outputs": [],
   "source": [
    "real_data_file = 'webtext.train.jsonl.clean100k.csv'\n",
    "fake_data_file = 'xl-1542M.train.jsonl.clean100k.csv'"
   ]
  },
  {
   "cell_type": "code",
   "execution_count": 151,
   "id": "80ee2ac4",
   "metadata": {},
   "outputs": [],
   "source": [
    "real_data_file = 'webtext.train.jsonl.clean100k.csv'\n",
    "fake_data_file = 'xl-1542M-k40.train.jsonl.clean100k.csv'"
   ]
  },
  {
   "cell_type": "code",
   "execution_count": 152,
   "id": "6eb296e5",
   "metadata": {},
   "outputs": [],
   "source": [
    "df_real = load_dataset(real_data_file)\n",
    "df_fake = load_dataset(fake_data_file)\n",
    "\n",
    "corpus = df_real[\"text\"].to_list() + df_fake[\"text\"].to_list()\n",
    "labels = [0 for _ in range(len(df_real))] + [1 for _ in range(len(df_fake))]"
   ]
  },
  {
   "cell_type": "code",
   "execution_count": 4,
   "id": "de878978",
   "metadata": {},
   "outputs": [],
   "source": [
    "real_data_file = 'webtext.train.jsonl.clean200k.csv'\n",
    "fake_data_file_1 = 'xl-1542M-k40.train.jsonl.clean100k.csv'\n",
    "fake_data_file_2 = 'xl-1542M.train.jsonl.clean100k.csv'"
   ]
  },
  {
   "cell_type": "code",
   "execution_count": 5,
   "id": "83659ebc",
   "metadata": {},
   "outputs": [],
   "source": [
    "df_real = load_dataset(real_data_file)\n",
    "df_fake = pd.concat([load_dataset(fake_data_file_1), load_dataset(fake_data_file_2)])\n",
    "\n",
    "corpus = df_real[\"text\"].to_list() + df_fake[\"text\"].to_list()\n",
    "labels = [0 for _ in range(len(df_real))] + [1 for _ in range(len(df_fake))]"
   ]
  },
  {
   "cell_type": "markdown",
   "id": "01d885f3",
   "metadata": {},
   "source": [
    "## Build vocabulary"
   ]
  },
  {
   "cell_type": "code",
   "execution_count": 6,
   "id": "af737da1",
   "metadata": {},
   "outputs": [],
   "source": [
    "from nlp_engine.preprocessing import transformers as tfs\n",
    "from sklearn.pipeline import make_pipeline"
   ]
  },
  {
   "cell_type": "code",
   "execution_count": 7,
   "id": "bbeb43c6",
   "metadata": {},
   "outputs": [],
   "source": [
    "tokenizer = make_pipeline(\n",
    "    tfs.WordTokenizer(), \n",
    "    tfs.WordsFilter(drop_symbols=False, drop_digits=True)\n",
    ")"
   ]
  },
  {
   "cell_type": "code",
   "execution_count": 9,
   "id": "4423dbec",
   "metadata": {},
   "outputs": [],
   "source": [
    "tokenized_corpus = tokenizer.transform(corpus)"
   ]
  },
  {
   "cell_type": "code",
   "execution_count": 10,
   "id": "7cfa4c74",
   "metadata": {},
   "outputs": [],
   "source": [
    "from nlp_engine.analysis import vocabulary"
   ]
  },
  {
   "cell_type": "code",
   "execution_count": 11,
   "id": "4e963532",
   "metadata": {},
   "outputs": [],
   "source": [
    "vocab_real = vocabulary.get_vocabulary(tokenized_corpus[:len(df_real)])\n",
    "vocab_fake = vocabulary.get_vocabulary(tokenized_corpus[len(df_real):])"
   ]
  },
  {
   "cell_type": "code",
   "execution_count": 12,
   "id": "8f00b9e3",
   "metadata": {},
   "outputs": [],
   "source": [
    "vocab_shared = vocab_real.intersection(vocab_fake)"
   ]
  },
  {
   "cell_type": "code",
   "execution_count": 13,
   "id": "2269fdb0",
   "metadata": {},
   "outputs": [
    {
     "name": "stdout",
     "output_type": "stream",
     "text": [
      "Size of \"real\" vocabulary: 500067\n",
      "Size of \"fake\" vocabulary: 552962\n",
      "Size of intersection: 211014\n"
     ]
    }
   ],
   "source": [
    "print(f'Size of \"real\" vocabulary: {len(vocab_real)}\\nSize of \"fake\" vocabulary: {len(vocab_fake)}\\nSize of intersection: {len(vocab_shared)}')"
   ]
  },
  {
   "cell_type": "markdown",
   "id": "ffa4433f",
   "metadata": {},
   "source": [
    "## Compute TF-IDF embedding"
   ]
  },
  {
   "cell_type": "code",
   "execution_count": 14,
   "id": "512ffb57",
   "metadata": {},
   "outputs": [],
   "source": [
    "from sklearn.feature_extraction.text import TfidfVectorizer\n",
    "from sklearn.decomposition import TruncatedSVD"
   ]
  },
  {
   "cell_type": "code",
   "execution_count": 15,
   "id": "a1e8e962",
   "metadata": {},
   "outputs": [],
   "source": [
    "def identity(x):\n",
    "    return x"
   ]
  },
  {
   "cell_type": "code",
   "execution_count": 16,
   "id": "3bd6eaf5",
   "metadata": {},
   "outputs": [],
   "source": [
    "preprocessing_pipeline = make_pipeline(\n",
    "    tfs.WordTokenizer(),\n",
    "    tfs.WordsFilter(\n",
    "        drop_symbols=False, \n",
    "        drop_digits=True, \n",
    "        whitelist=vocab_shared)\n",
    ")"
   ]
  },
  {
   "cell_type": "code",
   "execution_count": 17,
   "id": "6f31ceac",
   "metadata": {},
   "outputs": [
    {
     "name": "stdout",
     "output_type": "stream",
     "text": [
      "CPU times: user 3min 11s, sys: 2min 18s, total: 5min 30s\n",
      "Wall time: 6min 44s\n"
     ]
    }
   ],
   "source": [
    "%%time\n",
    "corpus_tokenized = preprocessing_pipeline.transform(corpus)"
   ]
  },
  {
   "cell_type": "code",
   "execution_count": 18,
   "id": "0301fced",
   "metadata": {},
   "outputs": [],
   "source": [
    "words_pipeline = make_pipeline(\n",
    "    TfidfVectorizer(\n",
    "        ngram_range=(1,3), \n",
    "        max_features=1000000, \n",
    "        sublinear_tf=True,\n",
    "        min_df=3,\n",
    "        tokenizer=identity, \n",
    "        preprocessor=identity),\n",
    "    TruncatedSVD(n_components=500)\n",
    ")"
   ]
  },
  {
   "cell_type": "code",
   "execution_count": 19,
   "id": "6af4c3a8",
   "metadata": {
    "scrolled": false
   },
   "outputs": [
    {
     "name": "stderr",
     "output_type": "stream",
     "text": [
      "/Users/alessandro/Documents/dev/ml-env/lib/python3.9/site-packages/sklearn/feature_extraction/text.py:528: UserWarning: The parameter 'token_pattern' will not be used since 'tokenizer' is not None'\n",
      "  warnings.warn(\n"
     ]
    },
    {
     "name": "stdout",
     "output_type": "stream",
     "text": [
      "CPU times: user 55min 37s, sys: 59min 22s, total: 1h 55min\n",
      "Wall time: 1h 52min 29s\n"
     ]
    },
    {
     "data": {
      "text/html": [
       "<style>#sk-container-id-1 {color: black;background-color: white;}#sk-container-id-1 pre{padding: 0;}#sk-container-id-1 div.sk-toggleable {background-color: white;}#sk-container-id-1 label.sk-toggleable__label {cursor: pointer;display: block;width: 100%;margin-bottom: 0;padding: 0.3em;box-sizing: border-box;text-align: center;}#sk-container-id-1 label.sk-toggleable__label-arrow:before {content: \"▸\";float: left;margin-right: 0.25em;color: #696969;}#sk-container-id-1 label.sk-toggleable__label-arrow:hover:before {color: black;}#sk-container-id-1 div.sk-estimator:hover label.sk-toggleable__label-arrow:before {color: black;}#sk-container-id-1 div.sk-toggleable__content {max-height: 0;max-width: 0;overflow: hidden;text-align: left;background-color: #f0f8ff;}#sk-container-id-1 div.sk-toggleable__content pre {margin: 0.2em;color: black;border-radius: 0.25em;background-color: #f0f8ff;}#sk-container-id-1 input.sk-toggleable__control:checked~div.sk-toggleable__content {max-height: 200px;max-width: 100%;overflow: auto;}#sk-container-id-1 input.sk-toggleable__control:checked~label.sk-toggleable__label-arrow:before {content: \"▾\";}#sk-container-id-1 div.sk-estimator input.sk-toggleable__control:checked~label.sk-toggleable__label {background-color: #d4ebff;}#sk-container-id-1 div.sk-label input.sk-toggleable__control:checked~label.sk-toggleable__label {background-color: #d4ebff;}#sk-container-id-1 input.sk-hidden--visually {border: 0;clip: rect(1px 1px 1px 1px);clip: rect(1px, 1px, 1px, 1px);height: 1px;margin: -1px;overflow: hidden;padding: 0;position: absolute;width: 1px;}#sk-container-id-1 div.sk-estimator {font-family: monospace;background-color: #f0f8ff;border: 1px dotted black;border-radius: 0.25em;box-sizing: border-box;margin-bottom: 0.5em;}#sk-container-id-1 div.sk-estimator:hover {background-color: #d4ebff;}#sk-container-id-1 div.sk-parallel-item::after {content: \"\";width: 100%;border-bottom: 1px solid gray;flex-grow: 1;}#sk-container-id-1 div.sk-label:hover label.sk-toggleable__label {background-color: #d4ebff;}#sk-container-id-1 div.sk-serial::before {content: \"\";position: absolute;border-left: 1px solid gray;box-sizing: border-box;top: 0;bottom: 0;left: 50%;z-index: 0;}#sk-container-id-1 div.sk-serial {display: flex;flex-direction: column;align-items: center;background-color: white;padding-right: 0.2em;padding-left: 0.2em;position: relative;}#sk-container-id-1 div.sk-item {position: relative;z-index: 1;}#sk-container-id-1 div.sk-parallel {display: flex;align-items: stretch;justify-content: center;background-color: white;position: relative;}#sk-container-id-1 div.sk-item::before, #sk-container-id-1 div.sk-parallel-item::before {content: \"\";position: absolute;border-left: 1px solid gray;box-sizing: border-box;top: 0;bottom: 0;left: 50%;z-index: -1;}#sk-container-id-1 div.sk-parallel-item {display: flex;flex-direction: column;z-index: 1;position: relative;background-color: white;}#sk-container-id-1 div.sk-parallel-item:first-child::after {align-self: flex-end;width: 50%;}#sk-container-id-1 div.sk-parallel-item:last-child::after {align-self: flex-start;width: 50%;}#sk-container-id-1 div.sk-parallel-item:only-child::after {width: 0;}#sk-container-id-1 div.sk-dashed-wrapped {border: 1px dashed gray;margin: 0 0.4em 0.5em 0.4em;box-sizing: border-box;padding-bottom: 0.4em;background-color: white;}#sk-container-id-1 div.sk-label label {font-family: monospace;font-weight: bold;display: inline-block;line-height: 1.2em;}#sk-container-id-1 div.sk-label-container {text-align: center;}#sk-container-id-1 div.sk-container {/* jupyter's `normalize.less` sets `[hidden] { display: none; }` but bootstrap.min.css set `[hidden] { display: none !important; }` so we also need the `!important` here to be able to override the default hidden behavior on the sphinx rendered scikit-learn.org. See: https://github.com/scikit-learn/scikit-learn/issues/21755 */display: inline-block !important;position: relative;}#sk-container-id-1 div.sk-text-repr-fallback {display: none;}</style><div id=\"sk-container-id-1\" class=\"sk-top-container\"><div class=\"sk-text-repr-fallback\"><pre>Pipeline(steps=[(&#x27;tfidfvectorizer&#x27;,\n",
       "                 TfidfVectorizer(max_features=1000000, min_df=3,\n",
       "                                 ngram_range=(1, 3),\n",
       "                                 preprocessor=&lt;function identity at 0x68e976670&gt;,\n",
       "                                 sublinear_tf=True,\n",
       "                                 tokenizer=&lt;function identity at 0x68e976670&gt;)),\n",
       "                (&#x27;truncatedsvd&#x27;, TruncatedSVD(n_components=500))])</pre><b>In a Jupyter environment, please rerun this cell to show the HTML representation or trust the notebook. <br />On GitHub, the HTML representation is unable to render, please try loading this page with nbviewer.org.</b></div><div class=\"sk-container\" hidden><div class=\"sk-item sk-dashed-wrapped\"><div class=\"sk-label-container\"><div class=\"sk-label sk-toggleable\"><input class=\"sk-toggleable__control sk-hidden--visually\" id=\"sk-estimator-id-1\" type=\"checkbox\" ><label for=\"sk-estimator-id-1\" class=\"sk-toggleable__label sk-toggleable__label-arrow\">Pipeline</label><div class=\"sk-toggleable__content\"><pre>Pipeline(steps=[(&#x27;tfidfvectorizer&#x27;,\n",
       "                 TfidfVectorizer(max_features=1000000, min_df=3,\n",
       "                                 ngram_range=(1, 3),\n",
       "                                 preprocessor=&lt;function identity at 0x68e976670&gt;,\n",
       "                                 sublinear_tf=True,\n",
       "                                 tokenizer=&lt;function identity at 0x68e976670&gt;)),\n",
       "                (&#x27;truncatedsvd&#x27;, TruncatedSVD(n_components=500))])</pre></div></div></div><div class=\"sk-serial\"><div class=\"sk-item\"><div class=\"sk-estimator sk-toggleable\"><input class=\"sk-toggleable__control sk-hidden--visually\" id=\"sk-estimator-id-2\" type=\"checkbox\" ><label for=\"sk-estimator-id-2\" class=\"sk-toggleable__label sk-toggleable__label-arrow\">TfidfVectorizer</label><div class=\"sk-toggleable__content\"><pre>TfidfVectorizer(max_features=1000000, min_df=3, ngram_range=(1, 3),\n",
       "                preprocessor=&lt;function identity at 0x68e976670&gt;,\n",
       "                sublinear_tf=True,\n",
       "                tokenizer=&lt;function identity at 0x68e976670&gt;)</pre></div></div></div><div class=\"sk-item\"><div class=\"sk-estimator sk-toggleable\"><input class=\"sk-toggleable__control sk-hidden--visually\" id=\"sk-estimator-id-3\" type=\"checkbox\" ><label for=\"sk-estimator-id-3\" class=\"sk-toggleable__label sk-toggleable__label-arrow\">TruncatedSVD</label><div class=\"sk-toggleable__content\"><pre>TruncatedSVD(n_components=500)</pre></div></div></div></div></div></div></div>"
      ],
      "text/plain": [
       "Pipeline(steps=[('tfidfvectorizer',\n",
       "                 TfidfVectorizer(max_features=1000000, min_df=3,\n",
       "                                 ngram_range=(1, 3),\n",
       "                                 preprocessor=<function identity at 0x68e976670>,\n",
       "                                 sublinear_tf=True,\n",
       "                                 tokenizer=<function identity at 0x68e976670>)),\n",
       "                ('truncatedsvd', TruncatedSVD(n_components=500))])"
      ]
     },
     "execution_count": 19,
     "metadata": {},
     "output_type": "execute_result"
    }
   ],
   "source": [
    "%%time\n",
    "words_pipeline.fit(corpus_tokenized, labels)"
   ]
  },
  {
   "cell_type": "markdown",
   "id": "b97adddc",
   "metadata": {},
   "source": [
    "Transform training data and store it"
   ]
  },
  {
   "cell_type": "code",
   "execution_count": 20,
   "id": "c5ee639c",
   "metadata": {},
   "outputs": [],
   "source": [
    "real_embed = words_pipeline.transform(corpus_tokenized[:len(df_real[\"text\"].to_list())])\n",
    "fake_embed = words_pipeline.transform(corpus_tokenized[-len(df_fake[\"text\"].to_list()):])"
   ]
  },
  {
   "cell_type": "code",
   "execution_count": 22,
   "id": "3cadda4f",
   "metadata": {},
   "outputs": [],
   "source": [
    "import pickle\n",
    "\n",
    "embed_path = \"./output/train/embed\"\n",
    "\n",
    "with open(os.path.join(\n",
    "    embed_path, f\"{real_data_file.replace('.jsonl.clean200k.csv','')}.human_embed.pickle\"), \"wb\") as f:\n",
    "    pickle.dump(real_embed, f)\n",
    "with open(os.path.join(\n",
    "    embed_path, f\"{'xl-1542M+k40.train.jsonl.clean100k.csv'.replace('.jsonl.clean100k.csv','')}.machine_embed.pickle\"), \"wb\") as f:\n",
    "    pickle.dump(fake_embed, f)"
   ]
  },
  {
   "cell_type": "markdown",
   "id": "67a6f536",
   "metadata": {},
   "source": [
    "## Embed test datasets"
   ]
  },
  {
   "cell_type": "code",
   "execution_count": 23,
   "id": "5095bf90",
   "metadata": {},
   "outputs": [],
   "source": [
    "test_path = \"./data/test\"\n",
    "test_dataset_files = sorted([f for f in os.listdir(test_path) if os.path.isfile(os.path.join(test_path, f)) and f[0]!=\".\"])"
   ]
  },
  {
   "cell_type": "markdown",
   "id": "71db8aef",
   "metadata": {},
   "source": [
    "Store text stats"
   ]
  },
  {
   "cell_type": "code",
   "execution_count": 24,
   "id": "e92e82f1",
   "metadata": {},
   "outputs": [],
   "source": [
    "stats_path = \"./output/test/stats\"\n",
    "\n",
    "for test in test_dataset_files:\n",
    "    with open(os.path.join(test_path, test), \"rb\") as f:\n",
    "        X = pickle.load(f)\n",
    "    X_tokens_raw = tokenizer.transform(X)\n",
    "    X_tokens = preprocessing_pipeline.transform(X)\n",
    "    stats = []\n",
    "    for (tokens_raw, tokens) in zip(X_tokens_raw, X_tokens):\n",
    "        raw_text_length = len(\"\".join(tokens_raw))\n",
    "        raw_text_tokens = len(tokens_raw)\n",
    "        text_length = len(\"\".join(tokens))\n",
    "        text_tokens = len(tokens)\n",
    "        if raw_text_tokens > 0:\n",
    "            ratio = text_tokens/raw_text_tokens\n",
    "        else:\n",
    "            ratio = 0\n",
    "        stats.append([raw_text_length, raw_text_tokens, text_length, text_tokens, ratio])\n",
    "    df = pd.DataFrame(stats, columns=[\"raw_chars\", \"raw_tokens\", \"chars\", \"tokens\", \"ratio\"])\n",
    "    df.to_csv(os.path.join(stats_path,f\"{os.path.splitext(test)[0]}_stats.csv\"))"
   ]
  },
  {
   "cell_type": "code",
   "execution_count": 25,
   "id": "634bad3b",
   "metadata": {},
   "outputs": [],
   "source": [
    "embed_path = \"./output/test/embed\"\n",
    "\n",
    "for test in test_dataset_files:\n",
    "    with open(os.path.join(test_path, test), \"rb\") as f:\n",
    "        X = pickle.load(f)\n",
    "    X_embed = words_pipeline.transform(preprocessing_pipeline.transform(X))\n",
    "    with open(os.path.join(embed_path,f\"{os.path.splitext(test)[0]}_embed.pickle\"), \"wb\") as f:\n",
    "        pickle.dump(X_embed, f)"
   ]
  },
  {
   "cell_type": "markdown",
   "id": "7c8646a5",
   "metadata": {},
   "source": [
    "# TAG-embedding"
   ]
  },
  {
   "cell_type": "code",
   "execution_count": 4,
   "id": "baa8255d",
   "metadata": {},
   "outputs": [],
   "source": [
    "data_path = \"./data/tag\"\n",
    "embed_path = \"./data/tag/embed\""
   ]
  },
  {
   "cell_type": "code",
   "execution_count": 4,
   "id": "64c6d2d9",
   "metadata": {},
   "outputs": [],
   "source": [
    "data_path = \"./data/entities\"\n",
    "embed_path = \"./data/entities/embed\""
   ]
  },
  {
   "cell_type": "markdown",
   "id": "83162236",
   "metadata": {},
   "source": [
    "## Load training datasets"
   ]
  },
  {
   "cell_type": "code",
   "execution_count": 31,
   "id": "946a490b",
   "metadata": {},
   "outputs": [],
   "source": [
    "real_data_file = 'webtext.train.jsonl.clean100k.csv.tag.pickle'\n",
    "fake_data_file = 'xl-1542M.train.jsonl.clean100k.csv.tag.pickle'"
   ]
  },
  {
   "cell_type": "code",
   "execution_count": 173,
   "id": "ac3ebbb3",
   "metadata": {},
   "outputs": [],
   "source": [
    "real_data_file = 'webtext.train.jsonl.clean100k.csv.tag.pickle'\n",
    "fake_data_file = 'xl-1542M-k40.train.jsonl.clean100k.csv.tag.pickle'"
   ]
  },
  {
   "cell_type": "code",
   "execution_count": 174,
   "id": "285182ba",
   "metadata": {},
   "outputs": [],
   "source": [
    "ds_real = load_dataset(real_data_file, data_path)\n",
    "ds_fake = load_dataset(fake_data_file, data_path)"
   ]
  },
  {
   "cell_type": "code",
   "execution_count": 5,
   "id": "de6018ec",
   "metadata": {},
   "outputs": [],
   "source": [
    "real_data_file = 'webtext.train.jsonl.clean200k.csv.tag.pickle'\n",
    "fake_data_file_1 = 'xl-1542M-k40.train.jsonl.clean100k.csv.tag.pickle'\n",
    "fake_data_file_2 = 'xl-1542M.train.jsonl.clean100k.csv.tag.pickle'\n",
    "\n",
    "ds_real = load_dataset(real_data_file, data_path)\n",
    "ds_fake = load_dataset(fake_data_file_1, data_path) + load_dataset(fake_data_file_2, data_path)"
   ]
  },
  {
   "cell_type": "code",
   "execution_count": 5,
   "id": "6fa1e445",
   "metadata": {},
   "outputs": [],
   "source": [
    "real_data_file = 'webtext.train.jsonl.clean200k.csv.entities.pickle'\n",
    "fake_data_file_1 = 'xl-1542M-k40.train.jsonl.clean100k.csv.entities.pickle'\n",
    "fake_data_file_2 = 'xl-1542M.train.jsonl.clean100k.csv.entities.pickle'\n",
    "\n",
    "ds_real = load_dataset(real_data_file, data_path)\n",
    "ds_fake = load_dataset(fake_data_file_1, data_path) + load_dataset(fake_data_file_2, data_path)"
   ]
  },
  {
   "cell_type": "code",
   "execution_count": 6,
   "id": "de314187",
   "metadata": {},
   "outputs": [],
   "source": [
    "corpus = ds_real + ds_fake\n",
    "labels = [0 for _ in range(len(ds_real))] + [1 for _ in range(len(ds_fake))]"
   ]
  },
  {
   "cell_type": "markdown",
   "id": "f6f2ffd9",
   "metadata": {},
   "source": [
    "## Compute TF-IDF embedding"
   ]
  },
  {
   "cell_type": "code",
   "execution_count": 7,
   "id": "f9efdef4",
   "metadata": {},
   "outputs": [],
   "source": [
    "from sklearn.feature_extraction.text import TfidfVectorizer\n",
    "from sklearn.decomposition import TruncatedSVD\n",
    "from sklearn.pipeline import make_pipeline"
   ]
  },
  {
   "cell_type": "code",
   "execution_count": 8,
   "id": "4df25b20",
   "metadata": {},
   "outputs": [],
   "source": [
    "def identity(x):\n",
    "    return x"
   ]
  },
  {
   "cell_type": "code",
   "execution_count": 9,
   "id": "aa8b7475",
   "metadata": {},
   "outputs": [],
   "source": [
    "tags_pipeline = make_pipeline(\n",
    "    TfidfVectorizer(\n",
    "        ngram_range=(3,5), \n",
    "        max_features=1000000, \n",
    "        sublinear_tf=True, \n",
    "        tokenizer=identity, \n",
    "        preprocessor=identity),\n",
    "    TruncatedSVD(n_components=300)\n",
    ")"
   ]
  },
  {
   "cell_type": "code",
   "execution_count": 10,
   "id": "dcd2bff0",
   "metadata": {
    "scrolled": false
   },
   "outputs": [
    {
     "name": "stderr",
     "output_type": "stream",
     "text": [
      "/Users/alessandro/Documents/dev/ml-env/lib/python3.9/site-packages/sklearn/feature_extraction/text.py:528: UserWarning: The parameter 'token_pattern' will not be used since 'tokenizer' is not None'\n",
      "  warnings.warn(\n"
     ]
    },
    {
     "name": "stdout",
     "output_type": "stream",
     "text": [
      "CPU times: user 8min, sys: 1min 55s, total: 9min 55s\n",
      "Wall time: 3min 3s\n"
     ]
    },
    {
     "data": {
      "text/html": [
       "<style>#sk-container-id-1 {color: black;background-color: white;}#sk-container-id-1 pre{padding: 0;}#sk-container-id-1 div.sk-toggleable {background-color: white;}#sk-container-id-1 label.sk-toggleable__label {cursor: pointer;display: block;width: 100%;margin-bottom: 0;padding: 0.3em;box-sizing: border-box;text-align: center;}#sk-container-id-1 label.sk-toggleable__label-arrow:before {content: \"▸\";float: left;margin-right: 0.25em;color: #696969;}#sk-container-id-1 label.sk-toggleable__label-arrow:hover:before {color: black;}#sk-container-id-1 div.sk-estimator:hover label.sk-toggleable__label-arrow:before {color: black;}#sk-container-id-1 div.sk-toggleable__content {max-height: 0;max-width: 0;overflow: hidden;text-align: left;background-color: #f0f8ff;}#sk-container-id-1 div.sk-toggleable__content pre {margin: 0.2em;color: black;border-radius: 0.25em;background-color: #f0f8ff;}#sk-container-id-1 input.sk-toggleable__control:checked~div.sk-toggleable__content {max-height: 200px;max-width: 100%;overflow: auto;}#sk-container-id-1 input.sk-toggleable__control:checked~label.sk-toggleable__label-arrow:before {content: \"▾\";}#sk-container-id-1 div.sk-estimator input.sk-toggleable__control:checked~label.sk-toggleable__label {background-color: #d4ebff;}#sk-container-id-1 div.sk-label input.sk-toggleable__control:checked~label.sk-toggleable__label {background-color: #d4ebff;}#sk-container-id-1 input.sk-hidden--visually {border: 0;clip: rect(1px 1px 1px 1px);clip: rect(1px, 1px, 1px, 1px);height: 1px;margin: -1px;overflow: hidden;padding: 0;position: absolute;width: 1px;}#sk-container-id-1 div.sk-estimator {font-family: monospace;background-color: #f0f8ff;border: 1px dotted black;border-radius: 0.25em;box-sizing: border-box;margin-bottom: 0.5em;}#sk-container-id-1 div.sk-estimator:hover {background-color: #d4ebff;}#sk-container-id-1 div.sk-parallel-item::after {content: \"\";width: 100%;border-bottom: 1px solid gray;flex-grow: 1;}#sk-container-id-1 div.sk-label:hover label.sk-toggleable__label {background-color: #d4ebff;}#sk-container-id-1 div.sk-serial::before {content: \"\";position: absolute;border-left: 1px solid gray;box-sizing: border-box;top: 0;bottom: 0;left: 50%;z-index: 0;}#sk-container-id-1 div.sk-serial {display: flex;flex-direction: column;align-items: center;background-color: white;padding-right: 0.2em;padding-left: 0.2em;position: relative;}#sk-container-id-1 div.sk-item {position: relative;z-index: 1;}#sk-container-id-1 div.sk-parallel {display: flex;align-items: stretch;justify-content: center;background-color: white;position: relative;}#sk-container-id-1 div.sk-item::before, #sk-container-id-1 div.sk-parallel-item::before {content: \"\";position: absolute;border-left: 1px solid gray;box-sizing: border-box;top: 0;bottom: 0;left: 50%;z-index: -1;}#sk-container-id-1 div.sk-parallel-item {display: flex;flex-direction: column;z-index: 1;position: relative;background-color: white;}#sk-container-id-1 div.sk-parallel-item:first-child::after {align-self: flex-end;width: 50%;}#sk-container-id-1 div.sk-parallel-item:last-child::after {align-self: flex-start;width: 50%;}#sk-container-id-1 div.sk-parallel-item:only-child::after {width: 0;}#sk-container-id-1 div.sk-dashed-wrapped {border: 1px dashed gray;margin: 0 0.4em 0.5em 0.4em;box-sizing: border-box;padding-bottom: 0.4em;background-color: white;}#sk-container-id-1 div.sk-label label {font-family: monospace;font-weight: bold;display: inline-block;line-height: 1.2em;}#sk-container-id-1 div.sk-label-container {text-align: center;}#sk-container-id-1 div.sk-container {/* jupyter's `normalize.less` sets `[hidden] { display: none; }` but bootstrap.min.css set `[hidden] { display: none !important; }` so we also need the `!important` here to be able to override the default hidden behavior on the sphinx rendered scikit-learn.org. See: https://github.com/scikit-learn/scikit-learn/issues/21755 */display: inline-block !important;position: relative;}#sk-container-id-1 div.sk-text-repr-fallback {display: none;}</style><div id=\"sk-container-id-1\" class=\"sk-top-container\"><div class=\"sk-text-repr-fallback\"><pre>Pipeline(steps=[(&#x27;tfidfvectorizer&#x27;,\n",
       "                 TfidfVectorizer(max_features=1000000, ngram_range=(3, 5),\n",
       "                                 preprocessor=&lt;function identity at 0x17fc11430&gt;,\n",
       "                                 sublinear_tf=True,\n",
       "                                 tokenizer=&lt;function identity at 0x17fc11430&gt;)),\n",
       "                (&#x27;truncatedsvd&#x27;, TruncatedSVD(n_components=300))])</pre><b>In a Jupyter environment, please rerun this cell to show the HTML representation or trust the notebook. <br />On GitHub, the HTML representation is unable to render, please try loading this page with nbviewer.org.</b></div><div class=\"sk-container\" hidden><div class=\"sk-item sk-dashed-wrapped\"><div class=\"sk-label-container\"><div class=\"sk-label sk-toggleable\"><input class=\"sk-toggleable__control sk-hidden--visually\" id=\"sk-estimator-id-1\" type=\"checkbox\" ><label for=\"sk-estimator-id-1\" class=\"sk-toggleable__label sk-toggleable__label-arrow\">Pipeline</label><div class=\"sk-toggleable__content\"><pre>Pipeline(steps=[(&#x27;tfidfvectorizer&#x27;,\n",
       "                 TfidfVectorizer(max_features=1000000, ngram_range=(3, 5),\n",
       "                                 preprocessor=&lt;function identity at 0x17fc11430&gt;,\n",
       "                                 sublinear_tf=True,\n",
       "                                 tokenizer=&lt;function identity at 0x17fc11430&gt;)),\n",
       "                (&#x27;truncatedsvd&#x27;, TruncatedSVD(n_components=300))])</pre></div></div></div><div class=\"sk-serial\"><div class=\"sk-item\"><div class=\"sk-estimator sk-toggleable\"><input class=\"sk-toggleable__control sk-hidden--visually\" id=\"sk-estimator-id-2\" type=\"checkbox\" ><label for=\"sk-estimator-id-2\" class=\"sk-toggleable__label sk-toggleable__label-arrow\">TfidfVectorizer</label><div class=\"sk-toggleable__content\"><pre>TfidfVectorizer(max_features=1000000, ngram_range=(3, 5),\n",
       "                preprocessor=&lt;function identity at 0x17fc11430&gt;,\n",
       "                sublinear_tf=True,\n",
       "                tokenizer=&lt;function identity at 0x17fc11430&gt;)</pre></div></div></div><div class=\"sk-item\"><div class=\"sk-estimator sk-toggleable\"><input class=\"sk-toggleable__control sk-hidden--visually\" id=\"sk-estimator-id-3\" type=\"checkbox\" ><label for=\"sk-estimator-id-3\" class=\"sk-toggleable__label sk-toggleable__label-arrow\">TruncatedSVD</label><div class=\"sk-toggleable__content\"><pre>TruncatedSVD(n_components=300)</pre></div></div></div></div></div></div></div>"
      ],
      "text/plain": [
       "Pipeline(steps=[('tfidfvectorizer',\n",
       "                 TfidfVectorizer(max_features=1000000, ngram_range=(3, 5),\n",
       "                                 preprocessor=<function identity at 0x17fc11430>,\n",
       "                                 sublinear_tf=True,\n",
       "                                 tokenizer=<function identity at 0x17fc11430>)),\n",
       "                ('truncatedsvd', TruncatedSVD(n_components=300))])"
      ]
     },
     "execution_count": 10,
     "metadata": {},
     "output_type": "execute_result"
    }
   ],
   "source": [
    "%%time\n",
    "tags_pipeline.fit(corpus, labels)"
   ]
  },
  {
   "cell_type": "markdown",
   "id": "8dd0b3b5",
   "metadata": {},
   "source": [
    "Transform training data and store it"
   ]
  },
  {
   "cell_type": "code",
   "execution_count": 11,
   "id": "7a3c0cc9",
   "metadata": {},
   "outputs": [],
   "source": [
    "real_embed = tags_pipeline.transform(ds_real)\n",
    "fake_embed = tags_pipeline.transform(ds_fake)"
   ]
  },
  {
   "cell_type": "code",
   "execution_count": 12,
   "id": "3787db9b",
   "metadata": {},
   "outputs": [],
   "source": [
    "import pickle\n",
    "\n",
    "embed_path = \"./output/train/embed\"\n",
    "\n",
    "with open(os.path.join(\n",
    "    embed_path, f\"{real_data_file.replace('.jsonl.clean200k.csv','').replace('.pickle','')}.human_embed.pickle\"), \"wb\") as f:\n",
    "    pickle.dump(real_embed, f)\n",
    "with open(os.path.join(\n",
    "    embed_path, f\"{'xl-1542M+k40.train.jsonl.clean100k.csv.entities.pickle'.replace('.jsonl.clean100k.csv','').replace('.pickle','')}.machine_embed.pickle\"), \"wb\") as f:\n",
    "    pickle.dump(fake_embed, f)"
   ]
  },
  {
   "cell_type": "markdown",
   "id": "68c22e3e",
   "metadata": {},
   "source": [
    "## Embed test datasets"
   ]
  },
  {
   "cell_type": "code",
   "execution_count": 13,
   "id": "213caf37",
   "metadata": {},
   "outputs": [],
   "source": [
    "test_path = \"./data/tag/test\"\n",
    "embed_path = \"./output/test/embed\"\n",
    "test_dataset_files = sorted([f for f in os.listdir(test_path) if os.path.isfile(os.path.join(test_path, f)) and f[0]!=\".\" and \"tag\" in f])"
   ]
  },
  {
   "cell_type": "code",
   "execution_count": 16,
   "id": "04829e34",
   "metadata": {},
   "outputs": [],
   "source": [
    "test_path = \"./data/entities/test\"\n",
    "embed_path = \"./output/test/embed\"\n",
    "test_dataset_files = sorted([f for f in os.listdir(test_path) if os.path.isfile(os.path.join(test_path, f)) and f[0]!=\".\" and \"entities\" in f])"
   ]
  },
  {
   "cell_type": "code",
   "execution_count": 17,
   "id": "640332b4",
   "metadata": {},
   "outputs": [],
   "source": [
    "for test in test_dataset_files:\n",
    "    with open(os.path.join(test_path, test), \"rb\") as f:\n",
    "        data = pickle.load(f)\n",
    "    X_embed = tags_pipeline.transform(data)\n",
    "    with open(os.path.join(embed_path, test.replace('.pickle','_embed.pickle')), \"wb\") as f:\n",
    "        pickle.dump(X_embed, f)"
   ]
  },
  {
   "cell_type": "markdown",
   "id": "e146f6d6",
   "metadata": {},
   "source": [
    "# Classification"
   ]
  },
  {
   "cell_type": "markdown",
   "id": "a1173973",
   "metadata": {},
   "source": [
    "## Load training data"
   ]
  },
  {
   "cell_type": "code",
   "execution_count": 18,
   "id": "85ec75c5",
   "metadata": {},
   "outputs": [],
   "source": [
    "from sklearn.model_selection import GridSearchCV\n",
    "from sklearn.metrics import classification_report\n",
    "import xgboost as xgb\n",
    "import multiprocessing\n",
    "import pickle\n",
    "import numpy as np\n",
    "import pandas as pd"
   ]
  },
  {
   "cell_type": "code",
   "execution_count": 49,
   "id": "9c77ada0",
   "metadata": {},
   "outputs": [],
   "source": [
    "tfidf_real_path = \"./output/train/embed/webtext.train.human_embed.pickle\"\n",
    "tfidf_fake_path = \"./output/train/embed/xl-1542M.train.machine_embed.pickle\"\n",
    "tag_real_path = \"./output/train/embed/webtext.train.tag.human_embed.pickle\"\n",
    "tag_fake_path = \"./output/train/embed/xl-1542M.train.tag.machine_embed.pickle\""
   ]
  },
  {
   "cell_type": "code",
   "execution_count": 185,
   "id": "9f6fe4c4",
   "metadata": {},
   "outputs": [],
   "source": [
    "tfidf_real_path = \"./output/train/embed/webtext.train.human_embed.pickle\"\n",
    "tfidf_fake_path = \"./output/train/embed/xl-1542M-k40.train.machine_embed.pickle\"\n",
    "tag_real_path = \"./output/train/embed/webtext.train.tag.human_embed.pickle\"\n",
    "tag_fake_path = \"./output/train/embed/xl-1542M-k40.train.tag.machine_embed.pickle\""
   ]
  },
  {
   "cell_type": "code",
   "execution_count": 16,
   "id": "13c8243b",
   "metadata": {},
   "outputs": [],
   "source": [
    "tfidf_real_path = \"./output/train/embed/webtext.train.human_embed.pickle\"\n",
    "tfidf_fake_path = \"./output/train/embed/xl-1542M+k40.train.machine_embed.pickle\"\n",
    "tag_real_path = \"./output/train/embed/webtext.train.tag.human_embed.pickle\"\n",
    "tag_fake_path = \"./output/train/embed/xl-1542M+k40.train.tag.machine_embed.pickle\""
   ]
  },
  {
   "cell_type": "code",
   "execution_count": 19,
   "id": "333ab4c1",
   "metadata": {},
   "outputs": [],
   "source": [
    "tfidf_real_path = \"./output/train/embed/webtext.train.human_embed.pickle\"\n",
    "tfidf_fake_path = \"./output/train/embed/xl-1542M+k40.train.machine_embed.pickle\"\n",
    "tag_real_path = \"./output/train/embed/webtext.train.entities.human_embed.pickle\"\n",
    "tag_fake_path = \"./output/train/embed/xl-1542M+k40.train.entities.machine_embed.pickle\""
   ]
  },
  {
   "cell_type": "code",
   "execution_count": 20,
   "id": "1ae27885",
   "metadata": {},
   "outputs": [],
   "source": [
    "with open(tfidf_real_path, \"rb\") as f:\n",
    "    X_tfidf_real = pickle.load(f)\n",
    "with open(tfidf_fake_path, \"rb\") as f:\n",
    "    X_tfidf_fake = pickle.load(f)\n",
    "X_tfidf = np.concatenate([X_tfidf_real, X_tfidf_fake])\n",
    "y_train = [0 for _ in range(len(X_tfidf_real))] + [1 for _ in range(len(X_tfidf_fake))]\n",
    "\n",
    "with open(tag_real_path, \"rb\") as f:\n",
    "    X_tag_real = pickle.load(f)\n",
    "with open(tag_fake_path, \"rb\") as f:\n",
    "    X_tag_fake = pickle.load(f)\n",
    "    \n",
    "X_tag = np.concatenate([X_tag_real, X_tag_fake])\n",
    "    \n",
    "X_tfidf_tag = np.concatenate([X_tfidf, X_tag], axis=1)"
   ]
  },
  {
   "cell_type": "markdown",
   "id": "7993e9f2",
   "metadata": {},
   "source": [
    "## Train models"
   ]
  },
  {
   "cell_type": "code",
   "execution_count": 24,
   "id": "d0a79f22",
   "metadata": {},
   "outputs": [],
   "source": [
    "clf_tfidf = GridSearchCV(\n",
    "        xgb.XGBClassifier(n_jobs=multiprocessing.cpu_count() // 2, tree_method=\"hist\"),\n",
    "        #{\"max_depth\": [3, 4, 5], \"n_estimators\": [500, 1000, 1500]},\n",
    "        {\"max_depth\": [3], \"n_estimators\": [1500]},\n",
    "        verbose=1,\n",
    "        n_jobs=2,\n",
    "    )\n",
    "\n",
    "clf_tag = GridSearchCV(\n",
    "        xgb.XGBClassifier(n_jobs=multiprocessing.cpu_count() // 2, tree_method=\"hist\"),\n",
    "        {\"max_depth\": [3, 4, 5], \"n_estimators\": [500, 1000, 1500]},\n",
    "        #{\"max_depth\": [3], \"n_estimators\": [500]},\n",
    "        verbose=1,\n",
    "        n_jobs=2,\n",
    "    )\n",
    "\n",
    "clf_tfidf_tag = GridSearchCV(\n",
    "        xgb.XGBClassifier(n_jobs=multiprocessing.cpu_count() // 2, tree_method=\"hist\"),\n",
    "        #{\"max_depth\": [3, 4, 5], \"n_estimators\": [500, 1000, 1500]},\n",
    "        {\"max_depth\": [3], \"n_estimators\": [1500]},\n",
    "        verbose=1,\n",
    "        n_jobs=2,\n",
    "    )"
   ]
  },
  {
   "cell_type": "code",
   "execution_count": 21,
   "id": "bd2f3e29",
   "metadata": {},
   "outputs": [
    {
     "name": "stdout",
     "output_type": "stream",
     "text": [
      "Fitting 5 folds for each of 1 candidates, totalling 5 fits\n",
      "CPU times: user 7min 8s, sys: 12.3 s, total: 7min 20s\n",
      "Wall time: 5min 57s\n"
     ]
    },
    {
     "data": {
      "text/html": [
       "<style>#sk-container-id-2 {color: black;background-color: white;}#sk-container-id-2 pre{padding: 0;}#sk-container-id-2 div.sk-toggleable {background-color: white;}#sk-container-id-2 label.sk-toggleable__label {cursor: pointer;display: block;width: 100%;margin-bottom: 0;padding: 0.3em;box-sizing: border-box;text-align: center;}#sk-container-id-2 label.sk-toggleable__label-arrow:before {content: \"▸\";float: left;margin-right: 0.25em;color: #696969;}#sk-container-id-2 label.sk-toggleable__label-arrow:hover:before {color: black;}#sk-container-id-2 div.sk-estimator:hover label.sk-toggleable__label-arrow:before {color: black;}#sk-container-id-2 div.sk-toggleable__content {max-height: 0;max-width: 0;overflow: hidden;text-align: left;background-color: #f0f8ff;}#sk-container-id-2 div.sk-toggleable__content pre {margin: 0.2em;color: black;border-radius: 0.25em;background-color: #f0f8ff;}#sk-container-id-2 input.sk-toggleable__control:checked~div.sk-toggleable__content {max-height: 200px;max-width: 100%;overflow: auto;}#sk-container-id-2 input.sk-toggleable__control:checked~label.sk-toggleable__label-arrow:before {content: \"▾\";}#sk-container-id-2 div.sk-estimator input.sk-toggleable__control:checked~label.sk-toggleable__label {background-color: #d4ebff;}#sk-container-id-2 div.sk-label input.sk-toggleable__control:checked~label.sk-toggleable__label {background-color: #d4ebff;}#sk-container-id-2 input.sk-hidden--visually {border: 0;clip: rect(1px 1px 1px 1px);clip: rect(1px, 1px, 1px, 1px);height: 1px;margin: -1px;overflow: hidden;padding: 0;position: absolute;width: 1px;}#sk-container-id-2 div.sk-estimator {font-family: monospace;background-color: #f0f8ff;border: 1px dotted black;border-radius: 0.25em;box-sizing: border-box;margin-bottom: 0.5em;}#sk-container-id-2 div.sk-estimator:hover {background-color: #d4ebff;}#sk-container-id-2 div.sk-parallel-item::after {content: \"\";width: 100%;border-bottom: 1px solid gray;flex-grow: 1;}#sk-container-id-2 div.sk-label:hover label.sk-toggleable__label {background-color: #d4ebff;}#sk-container-id-2 div.sk-serial::before {content: \"\";position: absolute;border-left: 1px solid gray;box-sizing: border-box;top: 0;bottom: 0;left: 50%;z-index: 0;}#sk-container-id-2 div.sk-serial {display: flex;flex-direction: column;align-items: center;background-color: white;padding-right: 0.2em;padding-left: 0.2em;position: relative;}#sk-container-id-2 div.sk-item {position: relative;z-index: 1;}#sk-container-id-2 div.sk-parallel {display: flex;align-items: stretch;justify-content: center;background-color: white;position: relative;}#sk-container-id-2 div.sk-item::before, #sk-container-id-2 div.sk-parallel-item::before {content: \"\";position: absolute;border-left: 1px solid gray;box-sizing: border-box;top: 0;bottom: 0;left: 50%;z-index: -1;}#sk-container-id-2 div.sk-parallel-item {display: flex;flex-direction: column;z-index: 1;position: relative;background-color: white;}#sk-container-id-2 div.sk-parallel-item:first-child::after {align-self: flex-end;width: 50%;}#sk-container-id-2 div.sk-parallel-item:last-child::after {align-self: flex-start;width: 50%;}#sk-container-id-2 div.sk-parallel-item:only-child::after {width: 0;}#sk-container-id-2 div.sk-dashed-wrapped {border: 1px dashed gray;margin: 0 0.4em 0.5em 0.4em;box-sizing: border-box;padding-bottom: 0.4em;background-color: white;}#sk-container-id-2 div.sk-label label {font-family: monospace;font-weight: bold;display: inline-block;line-height: 1.2em;}#sk-container-id-2 div.sk-label-container {text-align: center;}#sk-container-id-2 div.sk-container {/* jupyter's `normalize.less` sets `[hidden] { display: none; }` but bootstrap.min.css set `[hidden] { display: none !important; }` so we also need the `!important` here to be able to override the default hidden behavior on the sphinx rendered scikit-learn.org. See: https://github.com/scikit-learn/scikit-learn/issues/21755 */display: inline-block !important;position: relative;}#sk-container-id-2 div.sk-text-repr-fallback {display: none;}</style><div id=\"sk-container-id-2\" class=\"sk-top-container\"><div class=\"sk-text-repr-fallback\"><pre>GridSearchCV(estimator=XGBClassifier(base_score=None, booster=None,\n",
       "                                     callbacks=None, colsample_bylevel=None,\n",
       "                                     colsample_bynode=None,\n",
       "                                     colsample_bytree=None,\n",
       "                                     early_stopping_rounds=None,\n",
       "                                     enable_categorical=False, eval_metric=None,\n",
       "                                     feature_types=None, gamma=None,\n",
       "                                     gpu_id=None, grow_policy=None,\n",
       "                                     importance_type=None,\n",
       "                                     interaction_constraints=None,\n",
       "                                     learning_rate=None, max_bin=None,\n",
       "                                     max_cat_threshold=None,\n",
       "                                     max_cat_to_onehot=None,\n",
       "                                     max_delta_step=None, max_depth=None,\n",
       "                                     max_leaves=None, min_child_weight=None,\n",
       "                                     missing=nan, monotone_constraints=None,\n",
       "                                     n_estimators=100, n_jobs=5,\n",
       "                                     num_parallel_tree=None, predictor=None,\n",
       "                                     random_state=None, ...),\n",
       "             n_jobs=2, param_grid={&#x27;max_depth&#x27;: [3], &#x27;n_estimators&#x27;: [1500]},\n",
       "             verbose=1)</pre><b>In a Jupyter environment, please rerun this cell to show the HTML representation or trust the notebook. <br />On GitHub, the HTML representation is unable to render, please try loading this page with nbviewer.org.</b></div><div class=\"sk-container\" hidden><div class=\"sk-item sk-dashed-wrapped\"><div class=\"sk-label-container\"><div class=\"sk-label sk-toggleable\"><input class=\"sk-toggleable__control sk-hidden--visually\" id=\"sk-estimator-id-4\" type=\"checkbox\" ><label for=\"sk-estimator-id-4\" class=\"sk-toggleable__label sk-toggleable__label-arrow\">GridSearchCV</label><div class=\"sk-toggleable__content\"><pre>GridSearchCV(estimator=XGBClassifier(base_score=None, booster=None,\n",
       "                                     callbacks=None, colsample_bylevel=None,\n",
       "                                     colsample_bynode=None,\n",
       "                                     colsample_bytree=None,\n",
       "                                     early_stopping_rounds=None,\n",
       "                                     enable_categorical=False, eval_metric=None,\n",
       "                                     feature_types=None, gamma=None,\n",
       "                                     gpu_id=None, grow_policy=None,\n",
       "                                     importance_type=None,\n",
       "                                     interaction_constraints=None,\n",
       "                                     learning_rate=None, max_bin=None,\n",
       "                                     max_cat_threshold=None,\n",
       "                                     max_cat_to_onehot=None,\n",
       "                                     max_delta_step=None, max_depth=None,\n",
       "                                     max_leaves=None, min_child_weight=None,\n",
       "                                     missing=nan, monotone_constraints=None,\n",
       "                                     n_estimators=100, n_jobs=5,\n",
       "                                     num_parallel_tree=None, predictor=None,\n",
       "                                     random_state=None, ...),\n",
       "             n_jobs=2, param_grid={&#x27;max_depth&#x27;: [3], &#x27;n_estimators&#x27;: [1500]},\n",
       "             verbose=1)</pre></div></div></div><div class=\"sk-parallel\"><div class=\"sk-parallel-item\"><div class=\"sk-item\"><div class=\"sk-label-container\"><div class=\"sk-label sk-toggleable\"><input class=\"sk-toggleable__control sk-hidden--visually\" id=\"sk-estimator-id-5\" type=\"checkbox\" ><label for=\"sk-estimator-id-5\" class=\"sk-toggleable__label sk-toggleable__label-arrow\">estimator: XGBClassifier</label><div class=\"sk-toggleable__content\"><pre>XGBClassifier(base_score=None, booster=None, callbacks=None,\n",
       "              colsample_bylevel=None, colsample_bynode=None,\n",
       "              colsample_bytree=None, early_stopping_rounds=None,\n",
       "              enable_categorical=False, eval_metric=None, feature_types=None,\n",
       "              gamma=None, gpu_id=None, grow_policy=None, importance_type=None,\n",
       "              interaction_constraints=None, learning_rate=None, max_bin=None,\n",
       "              max_cat_threshold=None, max_cat_to_onehot=None,\n",
       "              max_delta_step=None, max_depth=None, max_leaves=None,\n",
       "              min_child_weight=None, missing=nan, monotone_constraints=None,\n",
       "              n_estimators=100, n_jobs=5, num_parallel_tree=None,\n",
       "              predictor=None, random_state=None, ...)</pre></div></div></div><div class=\"sk-serial\"><div class=\"sk-item\"><div class=\"sk-estimator sk-toggleable\"><input class=\"sk-toggleable__control sk-hidden--visually\" id=\"sk-estimator-id-6\" type=\"checkbox\" ><label for=\"sk-estimator-id-6\" class=\"sk-toggleable__label sk-toggleable__label-arrow\">XGBClassifier</label><div class=\"sk-toggleable__content\"><pre>XGBClassifier(base_score=None, booster=None, callbacks=None,\n",
       "              colsample_bylevel=None, colsample_bynode=None,\n",
       "              colsample_bytree=None, early_stopping_rounds=None,\n",
       "              enable_categorical=False, eval_metric=None, feature_types=None,\n",
       "              gamma=None, gpu_id=None, grow_policy=None, importance_type=None,\n",
       "              interaction_constraints=None, learning_rate=None, max_bin=None,\n",
       "              max_cat_threshold=None, max_cat_to_onehot=None,\n",
       "              max_delta_step=None, max_depth=None, max_leaves=None,\n",
       "              min_child_weight=None, missing=nan, monotone_constraints=None,\n",
       "              n_estimators=100, n_jobs=5, num_parallel_tree=None,\n",
       "              predictor=None, random_state=None, ...)</pre></div></div></div></div></div></div></div></div></div></div>"
      ],
      "text/plain": [
       "GridSearchCV(estimator=XGBClassifier(base_score=None, booster=None,\n",
       "                                     callbacks=None, colsample_bylevel=None,\n",
       "                                     colsample_bynode=None,\n",
       "                                     colsample_bytree=None,\n",
       "                                     early_stopping_rounds=None,\n",
       "                                     enable_categorical=False, eval_metric=None,\n",
       "                                     feature_types=None, gamma=None,\n",
       "                                     gpu_id=None, grow_policy=None,\n",
       "                                     importance_type=None,\n",
       "                                     interaction_constraints=None,\n",
       "                                     learning_rate=None, max_bin=None,\n",
       "                                     max_cat_threshold=None,\n",
       "                                     max_cat_to_onehot=None,\n",
       "                                     max_delta_step=None, max_depth=None,\n",
       "                                     max_leaves=None, min_child_weight=None,\n",
       "                                     missing=nan, monotone_constraints=None,\n",
       "                                     n_estimators=100, n_jobs=5,\n",
       "                                     num_parallel_tree=None, predictor=None,\n",
       "                                     random_state=None, ...),\n",
       "             n_jobs=2, param_grid={'max_depth': [3], 'n_estimators': [1500]},\n",
       "             verbose=1)"
      ]
     },
     "execution_count": 21,
     "metadata": {},
     "output_type": "execute_result"
    }
   ],
   "source": [
    "%%time\n",
    "clf_tfidf.fit(X_tfidf, y_train)"
   ]
  },
  {
   "cell_type": "code",
   "execution_count": 53,
   "id": "95a506dc",
   "metadata": {},
   "outputs": [
    {
     "data": {
      "text/html": [
       "<div>\n",
       "<style scoped>\n",
       "    .dataframe tbody tr th:only-of-type {\n",
       "        vertical-align: middle;\n",
       "    }\n",
       "\n",
       "    .dataframe tbody tr th {\n",
       "        vertical-align: top;\n",
       "    }\n",
       "\n",
       "    .dataframe thead th {\n",
       "        text-align: right;\n",
       "    }\n",
       "</style>\n",
       "<table border=\"1\" class=\"dataframe\">\n",
       "  <thead>\n",
       "    <tr style=\"text-align: right;\">\n",
       "      <th></th>\n",
       "      <th>mean_fit_time</th>\n",
       "      <th>std_fit_time</th>\n",
       "      <th>mean_score_time</th>\n",
       "      <th>std_score_time</th>\n",
       "      <th>param_max_depth</th>\n",
       "      <th>param_n_estimators</th>\n",
       "      <th>params</th>\n",
       "      <th>split0_test_score</th>\n",
       "      <th>split1_test_score</th>\n",
       "      <th>split2_test_score</th>\n",
       "      <th>split3_test_score</th>\n",
       "      <th>split4_test_score</th>\n",
       "      <th>mean_test_score</th>\n",
       "      <th>std_test_score</th>\n",
       "      <th>rank_test_score</th>\n",
       "    </tr>\n",
       "  </thead>\n",
       "  <tbody>\n",
       "    <tr>\n",
       "      <th>0</th>\n",
       "      <td>55.747911</td>\n",
       "      <td>6.012172</td>\n",
       "      <td>0.096856</td>\n",
       "      <td>0.005631</td>\n",
       "      <td>3</td>\n",
       "      <td>1500</td>\n",
       "      <td>{'max_depth': 3, 'n_estimators': 1500}</td>\n",
       "      <td>0.716675</td>\n",
       "      <td>0.719025</td>\n",
       "      <td>0.71525</td>\n",
       "      <td>0.716375</td>\n",
       "      <td>0.7159</td>\n",
       "      <td>0.716645</td>\n",
       "      <td>0.001284</td>\n",
       "      <td>1</td>\n",
       "    </tr>\n",
       "  </tbody>\n",
       "</table>\n",
       "</div>"
      ],
      "text/plain": [
       "   mean_fit_time  std_fit_time  mean_score_time  std_score_time  \\\n",
       "0      55.747911      6.012172         0.096856        0.005631   \n",
       "\n",
       "  param_max_depth param_n_estimators                                  params  \\\n",
       "0               3               1500  {'max_depth': 3, 'n_estimators': 1500}   \n",
       "\n",
       "   split0_test_score  split1_test_score  split2_test_score  split3_test_score  \\\n",
       "0           0.716675           0.719025            0.71525           0.716375   \n",
       "\n",
       "   split4_test_score  mean_test_score  std_test_score  rank_test_score  \n",
       "0             0.7159         0.716645        0.001284                1  "
      ]
     },
     "execution_count": 53,
     "metadata": {},
     "output_type": "execute_result"
    }
   ],
   "source": [
    "pd.DataFrame(clf_tfidf.cv_results_)"
   ]
  },
  {
   "cell_type": "code",
   "execution_count": 25,
   "id": "2a397663",
   "metadata": {},
   "outputs": [
    {
     "name": "stdout",
     "output_type": "stream",
     "text": [
      "Fitting 5 folds for each of 9 candidates, totalling 45 fits\n"
     ]
    },
    {
     "name": "stderr",
     "output_type": "stream",
     "text": [
      "/Users/alessandro/Documents/dev/ml-env/lib/python3.9/site-packages/joblib/externals/loky/process_executor.py:700: UserWarning: A worker stopped while some jobs were given to the executor. This can be caused by a too short worker timeout or by a memory leak.\n",
      "  warnings.warn(\n"
     ]
    },
    {
     "name": "stdout",
     "output_type": "stream",
     "text": [
      "CPU times: user 1min 48s, sys: 4.59 s, total: 1min 52s\n",
      "Wall time: 21min 28s\n"
     ]
    },
    {
     "data": {
      "text/html": [
       "<style>#sk-container-id-2 {color: black;background-color: white;}#sk-container-id-2 pre{padding: 0;}#sk-container-id-2 div.sk-toggleable {background-color: white;}#sk-container-id-2 label.sk-toggleable__label {cursor: pointer;display: block;width: 100%;margin-bottom: 0;padding: 0.3em;box-sizing: border-box;text-align: center;}#sk-container-id-2 label.sk-toggleable__label-arrow:before {content: \"▸\";float: left;margin-right: 0.25em;color: #696969;}#sk-container-id-2 label.sk-toggleable__label-arrow:hover:before {color: black;}#sk-container-id-2 div.sk-estimator:hover label.sk-toggleable__label-arrow:before {color: black;}#sk-container-id-2 div.sk-toggleable__content {max-height: 0;max-width: 0;overflow: hidden;text-align: left;background-color: #f0f8ff;}#sk-container-id-2 div.sk-toggleable__content pre {margin: 0.2em;color: black;border-radius: 0.25em;background-color: #f0f8ff;}#sk-container-id-2 input.sk-toggleable__control:checked~div.sk-toggleable__content {max-height: 200px;max-width: 100%;overflow: auto;}#sk-container-id-2 input.sk-toggleable__control:checked~label.sk-toggleable__label-arrow:before {content: \"▾\";}#sk-container-id-2 div.sk-estimator input.sk-toggleable__control:checked~label.sk-toggleable__label {background-color: #d4ebff;}#sk-container-id-2 div.sk-label input.sk-toggleable__control:checked~label.sk-toggleable__label {background-color: #d4ebff;}#sk-container-id-2 input.sk-hidden--visually {border: 0;clip: rect(1px 1px 1px 1px);clip: rect(1px, 1px, 1px, 1px);height: 1px;margin: -1px;overflow: hidden;padding: 0;position: absolute;width: 1px;}#sk-container-id-2 div.sk-estimator {font-family: monospace;background-color: #f0f8ff;border: 1px dotted black;border-radius: 0.25em;box-sizing: border-box;margin-bottom: 0.5em;}#sk-container-id-2 div.sk-estimator:hover {background-color: #d4ebff;}#sk-container-id-2 div.sk-parallel-item::after {content: \"\";width: 100%;border-bottom: 1px solid gray;flex-grow: 1;}#sk-container-id-2 div.sk-label:hover label.sk-toggleable__label {background-color: #d4ebff;}#sk-container-id-2 div.sk-serial::before {content: \"\";position: absolute;border-left: 1px solid gray;box-sizing: border-box;top: 0;bottom: 0;left: 50%;z-index: 0;}#sk-container-id-2 div.sk-serial {display: flex;flex-direction: column;align-items: center;background-color: white;padding-right: 0.2em;padding-left: 0.2em;position: relative;}#sk-container-id-2 div.sk-item {position: relative;z-index: 1;}#sk-container-id-2 div.sk-parallel {display: flex;align-items: stretch;justify-content: center;background-color: white;position: relative;}#sk-container-id-2 div.sk-item::before, #sk-container-id-2 div.sk-parallel-item::before {content: \"\";position: absolute;border-left: 1px solid gray;box-sizing: border-box;top: 0;bottom: 0;left: 50%;z-index: -1;}#sk-container-id-2 div.sk-parallel-item {display: flex;flex-direction: column;z-index: 1;position: relative;background-color: white;}#sk-container-id-2 div.sk-parallel-item:first-child::after {align-self: flex-end;width: 50%;}#sk-container-id-2 div.sk-parallel-item:last-child::after {align-self: flex-start;width: 50%;}#sk-container-id-2 div.sk-parallel-item:only-child::after {width: 0;}#sk-container-id-2 div.sk-dashed-wrapped {border: 1px dashed gray;margin: 0 0.4em 0.5em 0.4em;box-sizing: border-box;padding-bottom: 0.4em;background-color: white;}#sk-container-id-2 div.sk-label label {font-family: monospace;font-weight: bold;display: inline-block;line-height: 1.2em;}#sk-container-id-2 div.sk-label-container {text-align: center;}#sk-container-id-2 div.sk-container {/* jupyter's `normalize.less` sets `[hidden] { display: none; }` but bootstrap.min.css set `[hidden] { display: none !important; }` so we also need the `!important` here to be able to override the default hidden behavior on the sphinx rendered scikit-learn.org. See: https://github.com/scikit-learn/scikit-learn/issues/21755 */display: inline-block !important;position: relative;}#sk-container-id-2 div.sk-text-repr-fallback {display: none;}</style><div id=\"sk-container-id-2\" class=\"sk-top-container\"><div class=\"sk-text-repr-fallback\"><pre>GridSearchCV(estimator=XGBClassifier(base_score=None, booster=None,\n",
       "                                     callbacks=None, colsample_bylevel=None,\n",
       "                                     colsample_bynode=None,\n",
       "                                     colsample_bytree=None,\n",
       "                                     early_stopping_rounds=None,\n",
       "                                     enable_categorical=False, eval_metric=None,\n",
       "                                     feature_types=None, gamma=None,\n",
       "                                     gpu_id=None, grow_policy=None,\n",
       "                                     importance_type=None,\n",
       "                                     interaction_constraints=None,\n",
       "                                     learning_rate=None, max_bin=None,\n",
       "                                     max_cat_threshold=None,\n",
       "                                     max_cat_to_onehot=None,\n",
       "                                     max_delta_step=None, max_depth=None,\n",
       "                                     max_leaves=None, min_child_weight=None,\n",
       "                                     missing=nan, monotone_constraints=None,\n",
       "                                     n_estimators=100, n_jobs=5,\n",
       "                                     num_parallel_tree=None, predictor=None,\n",
       "                                     random_state=None, ...),\n",
       "             n_jobs=2,\n",
       "             param_grid={&#x27;max_depth&#x27;: [3, 4, 5],\n",
       "                         &#x27;n_estimators&#x27;: [500, 1000, 1500]},\n",
       "             verbose=1)</pre><b>In a Jupyter environment, please rerun this cell to show the HTML representation or trust the notebook. <br />On GitHub, the HTML representation is unable to render, please try loading this page with nbviewer.org.</b></div><div class=\"sk-container\" hidden><div class=\"sk-item sk-dashed-wrapped\"><div class=\"sk-label-container\"><div class=\"sk-label sk-toggleable\"><input class=\"sk-toggleable__control sk-hidden--visually\" id=\"sk-estimator-id-4\" type=\"checkbox\" ><label for=\"sk-estimator-id-4\" class=\"sk-toggleable__label sk-toggleable__label-arrow\">GridSearchCV</label><div class=\"sk-toggleable__content\"><pre>GridSearchCV(estimator=XGBClassifier(base_score=None, booster=None,\n",
       "                                     callbacks=None, colsample_bylevel=None,\n",
       "                                     colsample_bynode=None,\n",
       "                                     colsample_bytree=None,\n",
       "                                     early_stopping_rounds=None,\n",
       "                                     enable_categorical=False, eval_metric=None,\n",
       "                                     feature_types=None, gamma=None,\n",
       "                                     gpu_id=None, grow_policy=None,\n",
       "                                     importance_type=None,\n",
       "                                     interaction_constraints=None,\n",
       "                                     learning_rate=None, max_bin=None,\n",
       "                                     max_cat_threshold=None,\n",
       "                                     max_cat_to_onehot=None,\n",
       "                                     max_delta_step=None, max_depth=None,\n",
       "                                     max_leaves=None, min_child_weight=None,\n",
       "                                     missing=nan, monotone_constraints=None,\n",
       "                                     n_estimators=100, n_jobs=5,\n",
       "                                     num_parallel_tree=None, predictor=None,\n",
       "                                     random_state=None, ...),\n",
       "             n_jobs=2,\n",
       "             param_grid={&#x27;max_depth&#x27;: [3, 4, 5],\n",
       "                         &#x27;n_estimators&#x27;: [500, 1000, 1500]},\n",
       "             verbose=1)</pre></div></div></div><div class=\"sk-parallel\"><div class=\"sk-parallel-item\"><div class=\"sk-item\"><div class=\"sk-label-container\"><div class=\"sk-label sk-toggleable\"><input class=\"sk-toggleable__control sk-hidden--visually\" id=\"sk-estimator-id-5\" type=\"checkbox\" ><label for=\"sk-estimator-id-5\" class=\"sk-toggleable__label sk-toggleable__label-arrow\">estimator: XGBClassifier</label><div class=\"sk-toggleable__content\"><pre>XGBClassifier(base_score=None, booster=None, callbacks=None,\n",
       "              colsample_bylevel=None, colsample_bynode=None,\n",
       "              colsample_bytree=None, early_stopping_rounds=None,\n",
       "              enable_categorical=False, eval_metric=None, feature_types=None,\n",
       "              gamma=None, gpu_id=None, grow_policy=None, importance_type=None,\n",
       "              interaction_constraints=None, learning_rate=None, max_bin=None,\n",
       "              max_cat_threshold=None, max_cat_to_onehot=None,\n",
       "              max_delta_step=None, max_depth=None, max_leaves=None,\n",
       "              min_child_weight=None, missing=nan, monotone_constraints=None,\n",
       "              n_estimators=100, n_jobs=5, num_parallel_tree=None,\n",
       "              predictor=None, random_state=None, ...)</pre></div></div></div><div class=\"sk-serial\"><div class=\"sk-item\"><div class=\"sk-estimator sk-toggleable\"><input class=\"sk-toggleable__control sk-hidden--visually\" id=\"sk-estimator-id-6\" type=\"checkbox\" ><label for=\"sk-estimator-id-6\" class=\"sk-toggleable__label sk-toggleable__label-arrow\">XGBClassifier</label><div class=\"sk-toggleable__content\"><pre>XGBClassifier(base_score=None, booster=None, callbacks=None,\n",
       "              colsample_bylevel=None, colsample_bynode=None,\n",
       "              colsample_bytree=None, early_stopping_rounds=None,\n",
       "              enable_categorical=False, eval_metric=None, feature_types=None,\n",
       "              gamma=None, gpu_id=None, grow_policy=None, importance_type=None,\n",
       "              interaction_constraints=None, learning_rate=None, max_bin=None,\n",
       "              max_cat_threshold=None, max_cat_to_onehot=None,\n",
       "              max_delta_step=None, max_depth=None, max_leaves=None,\n",
       "              min_child_weight=None, missing=nan, monotone_constraints=None,\n",
       "              n_estimators=100, n_jobs=5, num_parallel_tree=None,\n",
       "              predictor=None, random_state=None, ...)</pre></div></div></div></div></div></div></div></div></div></div>"
      ],
      "text/plain": [
       "GridSearchCV(estimator=XGBClassifier(base_score=None, booster=None,\n",
       "                                     callbacks=None, colsample_bylevel=None,\n",
       "                                     colsample_bynode=None,\n",
       "                                     colsample_bytree=None,\n",
       "                                     early_stopping_rounds=None,\n",
       "                                     enable_categorical=False, eval_metric=None,\n",
       "                                     feature_types=None, gamma=None,\n",
       "                                     gpu_id=None, grow_policy=None,\n",
       "                                     importance_type=None,\n",
       "                                     interaction_constraints=None,\n",
       "                                     learning_rate=None, max_bin=None,\n",
       "                                     max_cat_threshold=None,\n",
       "                                     max_cat_to_onehot=None,\n",
       "                                     max_delta_step=None, max_depth=None,\n",
       "                                     max_leaves=None, min_child_weight=None,\n",
       "                                     missing=nan, monotone_constraints=None,\n",
       "                                     n_estimators=100, n_jobs=5,\n",
       "                                     num_parallel_tree=None, predictor=None,\n",
       "                                     random_state=None, ...),\n",
       "             n_jobs=2,\n",
       "             param_grid={'max_depth': [3, 4, 5],\n",
       "                         'n_estimators': [500, 1000, 1500]},\n",
       "             verbose=1)"
      ]
     },
     "execution_count": 25,
     "metadata": {},
     "output_type": "execute_result"
    }
   ],
   "source": [
    "%%time\n",
    "clf_tag.fit(X_tag, y_train)"
   ]
  },
  {
   "cell_type": "code",
   "execution_count": 26,
   "id": "95b13ca1",
   "metadata": {},
   "outputs": [
    {
     "data": {
      "text/html": [
       "<div>\n",
       "<style scoped>\n",
       "    .dataframe tbody tr th:only-of-type {\n",
       "        vertical-align: middle;\n",
       "    }\n",
       "\n",
       "    .dataframe tbody tr th {\n",
       "        vertical-align: top;\n",
       "    }\n",
       "\n",
       "    .dataframe thead th {\n",
       "        text-align: right;\n",
       "    }\n",
       "</style>\n",
       "<table border=\"1\" class=\"dataframe\">\n",
       "  <thead>\n",
       "    <tr style=\"text-align: right;\">\n",
       "      <th></th>\n",
       "      <th>mean_fit_time</th>\n",
       "      <th>std_fit_time</th>\n",
       "      <th>mean_score_time</th>\n",
       "      <th>std_score_time</th>\n",
       "      <th>param_max_depth</th>\n",
       "      <th>param_n_estimators</th>\n",
       "      <th>params</th>\n",
       "      <th>split0_test_score</th>\n",
       "      <th>split1_test_score</th>\n",
       "      <th>split2_test_score</th>\n",
       "      <th>split3_test_score</th>\n",
       "      <th>split4_test_score</th>\n",
       "      <th>mean_test_score</th>\n",
       "      <th>std_test_score</th>\n",
       "      <th>rank_test_score</th>\n",
       "    </tr>\n",
       "  </thead>\n",
       "  <tbody>\n",
       "    <tr>\n",
       "      <th>0</th>\n",
       "      <td>25.875197</td>\n",
       "      <td>1.244393</td>\n",
       "      <td>0.089483</td>\n",
       "      <td>0.008272</td>\n",
       "      <td>3</td>\n",
       "      <td>500</td>\n",
       "      <td>{'max_depth': 3, 'n_estimators': 500}</td>\n",
       "      <td>0.553525</td>\n",
       "      <td>0.553388</td>\n",
       "      <td>0.547825</td>\n",
       "      <td>0.507838</td>\n",
       "      <td>0.504450</td>\n",
       "      <td>0.533405</td>\n",
       "      <td>0.022379</td>\n",
       "      <td>1</td>\n",
       "    </tr>\n",
       "    <tr>\n",
       "      <th>1</th>\n",
       "      <td>46.970080</td>\n",
       "      <td>0.365412</td>\n",
       "      <td>0.122043</td>\n",
       "      <td>0.003603</td>\n",
       "      <td>3</td>\n",
       "      <td>1000</td>\n",
       "      <td>{'max_depth': 3, 'n_estimators': 1000}</td>\n",
       "      <td>0.551737</td>\n",
       "      <td>0.547312</td>\n",
       "      <td>0.546087</td>\n",
       "      <td>0.508175</td>\n",
       "      <td>0.504575</td>\n",
       "      <td>0.531578</td>\n",
       "      <td>0.020695</td>\n",
       "      <td>2</td>\n",
       "    </tr>\n",
       "    <tr>\n",
       "      <th>2</th>\n",
       "      <td>67.959380</td>\n",
       "      <td>1.257973</td>\n",
       "      <td>0.162379</td>\n",
       "      <td>0.009714</td>\n",
       "      <td>3</td>\n",
       "      <td>1500</td>\n",
       "      <td>{'max_depth': 3, 'n_estimators': 1500}</td>\n",
       "      <td>0.549950</td>\n",
       "      <td>0.545300</td>\n",
       "      <td>0.544462</td>\n",
       "      <td>0.510437</td>\n",
       "      <td>0.505112</td>\n",
       "      <td>0.531053</td>\n",
       "      <td>0.019172</td>\n",
       "      <td>3</td>\n",
       "    </tr>\n",
       "    <tr>\n",
       "      <th>3</th>\n",
       "      <td>27.848402</td>\n",
       "      <td>0.364825</td>\n",
       "      <td>0.107259</td>\n",
       "      <td>0.003427</td>\n",
       "      <td>4</td>\n",
       "      <td>500</td>\n",
       "      <td>{'max_depth': 4, 'n_estimators': 500}</td>\n",
       "      <td>0.545850</td>\n",
       "      <td>0.548550</td>\n",
       "      <td>0.544500</td>\n",
       "      <td>0.511550</td>\n",
       "      <td>0.503450</td>\n",
       "      <td>0.530780</td>\n",
       "      <td>0.019224</td>\n",
       "      <td>4</td>\n",
       "    </tr>\n",
       "    <tr>\n",
       "      <th>4</th>\n",
       "      <td>54.660727</td>\n",
       "      <td>2.154009</td>\n",
       "      <td>0.169057</td>\n",
       "      <td>0.009970</td>\n",
       "      <td>4</td>\n",
       "      <td>1000</td>\n",
       "      <td>{'max_depth': 4, 'n_estimators': 1000}</td>\n",
       "      <td>0.543362</td>\n",
       "      <td>0.542525</td>\n",
       "      <td>0.541025</td>\n",
       "      <td>0.511075</td>\n",
       "      <td>0.505075</td>\n",
       "      <td>0.528613</td>\n",
       "      <td>0.016892</td>\n",
       "      <td>5</td>\n",
       "    </tr>\n",
       "    <tr>\n",
       "      <th>5</th>\n",
       "      <td>79.395381</td>\n",
       "      <td>0.960192</td>\n",
       "      <td>0.213818</td>\n",
       "      <td>0.004227</td>\n",
       "      <td>4</td>\n",
       "      <td>1500</td>\n",
       "      <td>{'max_depth': 4, 'n_estimators': 1500}</td>\n",
       "      <td>0.542813</td>\n",
       "      <td>0.540200</td>\n",
       "      <td>0.539587</td>\n",
       "      <td>0.510425</td>\n",
       "      <td>0.505500</td>\n",
       "      <td>0.527705</td>\n",
       "      <td>0.016231</td>\n",
       "      <td>7</td>\n",
       "    </tr>\n",
       "    <tr>\n",
       "      <th>6</th>\n",
       "      <td>33.041631</td>\n",
       "      <td>0.336686</td>\n",
       "      <td>0.127507</td>\n",
       "      <td>0.003447</td>\n",
       "      <td>5</td>\n",
       "      <td>500</td>\n",
       "      <td>{'max_depth': 5, 'n_estimators': 500}</td>\n",
       "      <td>0.544100</td>\n",
       "      <td>0.542987</td>\n",
       "      <td>0.540562</td>\n",
       "      <td>0.507387</td>\n",
       "      <td>0.507012</td>\n",
       "      <td>0.528410</td>\n",
       "      <td>0.017356</td>\n",
       "      <td>6</td>\n",
       "    </tr>\n",
       "    <tr>\n",
       "      <th>7</th>\n",
       "      <td>66.473216</td>\n",
       "      <td>2.049366</td>\n",
       "      <td>0.206104</td>\n",
       "      <td>0.008456</td>\n",
       "      <td>5</td>\n",
       "      <td>1000</td>\n",
       "      <td>{'max_depth': 5, 'n_estimators': 1000}</td>\n",
       "      <td>0.540200</td>\n",
       "      <td>0.540325</td>\n",
       "      <td>0.539312</td>\n",
       "      <td>0.507650</td>\n",
       "      <td>0.508150</td>\n",
       "      <td>0.527127</td>\n",
       "      <td>0.015704</td>\n",
       "      <td>8</td>\n",
       "    </tr>\n",
       "    <tr>\n",
       "      <th>8</th>\n",
       "      <td>94.692232</td>\n",
       "      <td>4.145628</td>\n",
       "      <td>0.289195</td>\n",
       "      <td>0.031678</td>\n",
       "      <td>5</td>\n",
       "      <td>1500</td>\n",
       "      <td>{'max_depth': 5, 'n_estimators': 1500}</td>\n",
       "      <td>0.537450</td>\n",
       "      <td>0.537112</td>\n",
       "      <td>0.536475</td>\n",
       "      <td>0.507475</td>\n",
       "      <td>0.508413</td>\n",
       "      <td>0.525385</td>\n",
       "      <td>0.014247</td>\n",
       "      <td>9</td>\n",
       "    </tr>\n",
       "  </tbody>\n",
       "</table>\n",
       "</div>"
      ],
      "text/plain": [
       "   mean_fit_time  std_fit_time  mean_score_time  std_score_time  \\\n",
       "0      25.875197      1.244393         0.089483        0.008272   \n",
       "1      46.970080      0.365412         0.122043        0.003603   \n",
       "2      67.959380      1.257973         0.162379        0.009714   \n",
       "3      27.848402      0.364825         0.107259        0.003427   \n",
       "4      54.660727      2.154009         0.169057        0.009970   \n",
       "5      79.395381      0.960192         0.213818        0.004227   \n",
       "6      33.041631      0.336686         0.127507        0.003447   \n",
       "7      66.473216      2.049366         0.206104        0.008456   \n",
       "8      94.692232      4.145628         0.289195        0.031678   \n",
       "\n",
       "  param_max_depth param_n_estimators                                  params  \\\n",
       "0               3                500   {'max_depth': 3, 'n_estimators': 500}   \n",
       "1               3               1000  {'max_depth': 3, 'n_estimators': 1000}   \n",
       "2               3               1500  {'max_depth': 3, 'n_estimators': 1500}   \n",
       "3               4                500   {'max_depth': 4, 'n_estimators': 500}   \n",
       "4               4               1000  {'max_depth': 4, 'n_estimators': 1000}   \n",
       "5               4               1500  {'max_depth': 4, 'n_estimators': 1500}   \n",
       "6               5                500   {'max_depth': 5, 'n_estimators': 500}   \n",
       "7               5               1000  {'max_depth': 5, 'n_estimators': 1000}   \n",
       "8               5               1500  {'max_depth': 5, 'n_estimators': 1500}   \n",
       "\n",
       "   split0_test_score  split1_test_score  split2_test_score  split3_test_score  \\\n",
       "0           0.553525           0.553388           0.547825           0.507838   \n",
       "1           0.551737           0.547312           0.546087           0.508175   \n",
       "2           0.549950           0.545300           0.544462           0.510437   \n",
       "3           0.545850           0.548550           0.544500           0.511550   \n",
       "4           0.543362           0.542525           0.541025           0.511075   \n",
       "5           0.542813           0.540200           0.539587           0.510425   \n",
       "6           0.544100           0.542987           0.540562           0.507387   \n",
       "7           0.540200           0.540325           0.539312           0.507650   \n",
       "8           0.537450           0.537112           0.536475           0.507475   \n",
       "\n",
       "   split4_test_score  mean_test_score  std_test_score  rank_test_score  \n",
       "0           0.504450         0.533405        0.022379                1  \n",
       "1           0.504575         0.531578        0.020695                2  \n",
       "2           0.505112         0.531053        0.019172                3  \n",
       "3           0.503450         0.530780        0.019224                4  \n",
       "4           0.505075         0.528613        0.016892                5  \n",
       "5           0.505500         0.527705        0.016231                7  \n",
       "6           0.507012         0.528410        0.017356                6  \n",
       "7           0.508150         0.527127        0.015704                8  \n",
       "8           0.508413         0.525385        0.014247                9  "
      ]
     },
     "execution_count": 26,
     "metadata": {},
     "output_type": "execute_result"
    }
   ],
   "source": [
    "pd.DataFrame(clf_tag.cv_results_)"
   ]
  },
  {
   "cell_type": "code",
   "execution_count": 23,
   "id": "49cc738e",
   "metadata": {},
   "outputs": [
    {
     "name": "stdout",
     "output_type": "stream",
     "text": [
      "Fitting 5 folds for each of 1 candidates, totalling 5 fits\n",
      "CPU times: user 12min 5s, sys: 16.7 s, total: 12min 21s\n",
      "Wall time: 10min 44s\n"
     ]
    },
    {
     "data": {
      "text/html": [
       "<style>#sk-container-id-4 {color: black;background-color: white;}#sk-container-id-4 pre{padding: 0;}#sk-container-id-4 div.sk-toggleable {background-color: white;}#sk-container-id-4 label.sk-toggleable__label {cursor: pointer;display: block;width: 100%;margin-bottom: 0;padding: 0.3em;box-sizing: border-box;text-align: center;}#sk-container-id-4 label.sk-toggleable__label-arrow:before {content: \"▸\";float: left;margin-right: 0.25em;color: #696969;}#sk-container-id-4 label.sk-toggleable__label-arrow:hover:before {color: black;}#sk-container-id-4 div.sk-estimator:hover label.sk-toggleable__label-arrow:before {color: black;}#sk-container-id-4 div.sk-toggleable__content {max-height: 0;max-width: 0;overflow: hidden;text-align: left;background-color: #f0f8ff;}#sk-container-id-4 div.sk-toggleable__content pre {margin: 0.2em;color: black;border-radius: 0.25em;background-color: #f0f8ff;}#sk-container-id-4 input.sk-toggleable__control:checked~div.sk-toggleable__content {max-height: 200px;max-width: 100%;overflow: auto;}#sk-container-id-4 input.sk-toggleable__control:checked~label.sk-toggleable__label-arrow:before {content: \"▾\";}#sk-container-id-4 div.sk-estimator input.sk-toggleable__control:checked~label.sk-toggleable__label {background-color: #d4ebff;}#sk-container-id-4 div.sk-label input.sk-toggleable__control:checked~label.sk-toggleable__label {background-color: #d4ebff;}#sk-container-id-4 input.sk-hidden--visually {border: 0;clip: rect(1px 1px 1px 1px);clip: rect(1px, 1px, 1px, 1px);height: 1px;margin: -1px;overflow: hidden;padding: 0;position: absolute;width: 1px;}#sk-container-id-4 div.sk-estimator {font-family: monospace;background-color: #f0f8ff;border: 1px dotted black;border-radius: 0.25em;box-sizing: border-box;margin-bottom: 0.5em;}#sk-container-id-4 div.sk-estimator:hover {background-color: #d4ebff;}#sk-container-id-4 div.sk-parallel-item::after {content: \"\";width: 100%;border-bottom: 1px solid gray;flex-grow: 1;}#sk-container-id-4 div.sk-label:hover label.sk-toggleable__label {background-color: #d4ebff;}#sk-container-id-4 div.sk-serial::before {content: \"\";position: absolute;border-left: 1px solid gray;box-sizing: border-box;top: 0;bottom: 0;left: 50%;z-index: 0;}#sk-container-id-4 div.sk-serial {display: flex;flex-direction: column;align-items: center;background-color: white;padding-right: 0.2em;padding-left: 0.2em;position: relative;}#sk-container-id-4 div.sk-item {position: relative;z-index: 1;}#sk-container-id-4 div.sk-parallel {display: flex;align-items: stretch;justify-content: center;background-color: white;position: relative;}#sk-container-id-4 div.sk-item::before, #sk-container-id-4 div.sk-parallel-item::before {content: \"\";position: absolute;border-left: 1px solid gray;box-sizing: border-box;top: 0;bottom: 0;left: 50%;z-index: -1;}#sk-container-id-4 div.sk-parallel-item {display: flex;flex-direction: column;z-index: 1;position: relative;background-color: white;}#sk-container-id-4 div.sk-parallel-item:first-child::after {align-self: flex-end;width: 50%;}#sk-container-id-4 div.sk-parallel-item:last-child::after {align-self: flex-start;width: 50%;}#sk-container-id-4 div.sk-parallel-item:only-child::after {width: 0;}#sk-container-id-4 div.sk-dashed-wrapped {border: 1px dashed gray;margin: 0 0.4em 0.5em 0.4em;box-sizing: border-box;padding-bottom: 0.4em;background-color: white;}#sk-container-id-4 div.sk-label label {font-family: monospace;font-weight: bold;display: inline-block;line-height: 1.2em;}#sk-container-id-4 div.sk-label-container {text-align: center;}#sk-container-id-4 div.sk-container {/* jupyter's `normalize.less` sets `[hidden] { display: none; }` but bootstrap.min.css set `[hidden] { display: none !important; }` so we also need the `!important` here to be able to override the default hidden behavior on the sphinx rendered scikit-learn.org. See: https://github.com/scikit-learn/scikit-learn/issues/21755 */display: inline-block !important;position: relative;}#sk-container-id-4 div.sk-text-repr-fallback {display: none;}</style><div id=\"sk-container-id-4\" class=\"sk-top-container\"><div class=\"sk-text-repr-fallback\"><pre>GridSearchCV(estimator=XGBClassifier(base_score=None, booster=None,\n",
       "                                     callbacks=None, colsample_bylevel=None,\n",
       "                                     colsample_bynode=None,\n",
       "                                     colsample_bytree=None,\n",
       "                                     early_stopping_rounds=None,\n",
       "                                     enable_categorical=False, eval_metric=None,\n",
       "                                     feature_types=None, gamma=None,\n",
       "                                     gpu_id=None, grow_policy=None,\n",
       "                                     importance_type=None,\n",
       "                                     interaction_constraints=None,\n",
       "                                     learning_rate=None, max_bin=None,\n",
       "                                     max_cat_threshold=None,\n",
       "                                     max_cat_to_onehot=None,\n",
       "                                     max_delta_step=None, max_depth=None,\n",
       "                                     max_leaves=None, min_child_weight=None,\n",
       "                                     missing=nan, monotone_constraints=None,\n",
       "                                     n_estimators=100, n_jobs=5,\n",
       "                                     num_parallel_tree=None, predictor=None,\n",
       "                                     random_state=None, ...),\n",
       "             n_jobs=2, param_grid={&#x27;max_depth&#x27;: [3], &#x27;n_estimators&#x27;: [1500]},\n",
       "             verbose=1)</pre><b>In a Jupyter environment, please rerun this cell to show the HTML representation or trust the notebook. <br />On GitHub, the HTML representation is unable to render, please try loading this page with nbviewer.org.</b></div><div class=\"sk-container\" hidden><div class=\"sk-item sk-dashed-wrapped\"><div class=\"sk-label-container\"><div class=\"sk-label sk-toggleable\"><input class=\"sk-toggleable__control sk-hidden--visually\" id=\"sk-estimator-id-10\" type=\"checkbox\" ><label for=\"sk-estimator-id-10\" class=\"sk-toggleable__label sk-toggleable__label-arrow\">GridSearchCV</label><div class=\"sk-toggleable__content\"><pre>GridSearchCV(estimator=XGBClassifier(base_score=None, booster=None,\n",
       "                                     callbacks=None, colsample_bylevel=None,\n",
       "                                     colsample_bynode=None,\n",
       "                                     colsample_bytree=None,\n",
       "                                     early_stopping_rounds=None,\n",
       "                                     enable_categorical=False, eval_metric=None,\n",
       "                                     feature_types=None, gamma=None,\n",
       "                                     gpu_id=None, grow_policy=None,\n",
       "                                     importance_type=None,\n",
       "                                     interaction_constraints=None,\n",
       "                                     learning_rate=None, max_bin=None,\n",
       "                                     max_cat_threshold=None,\n",
       "                                     max_cat_to_onehot=None,\n",
       "                                     max_delta_step=None, max_depth=None,\n",
       "                                     max_leaves=None, min_child_weight=None,\n",
       "                                     missing=nan, monotone_constraints=None,\n",
       "                                     n_estimators=100, n_jobs=5,\n",
       "                                     num_parallel_tree=None, predictor=None,\n",
       "                                     random_state=None, ...),\n",
       "             n_jobs=2, param_grid={&#x27;max_depth&#x27;: [3], &#x27;n_estimators&#x27;: [1500]},\n",
       "             verbose=1)</pre></div></div></div><div class=\"sk-parallel\"><div class=\"sk-parallel-item\"><div class=\"sk-item\"><div class=\"sk-label-container\"><div class=\"sk-label sk-toggleable\"><input class=\"sk-toggleable__control sk-hidden--visually\" id=\"sk-estimator-id-11\" type=\"checkbox\" ><label for=\"sk-estimator-id-11\" class=\"sk-toggleable__label sk-toggleable__label-arrow\">estimator: XGBClassifier</label><div class=\"sk-toggleable__content\"><pre>XGBClassifier(base_score=None, booster=None, callbacks=None,\n",
       "              colsample_bylevel=None, colsample_bynode=None,\n",
       "              colsample_bytree=None, early_stopping_rounds=None,\n",
       "              enable_categorical=False, eval_metric=None, feature_types=None,\n",
       "              gamma=None, gpu_id=None, grow_policy=None, importance_type=None,\n",
       "              interaction_constraints=None, learning_rate=None, max_bin=None,\n",
       "              max_cat_threshold=None, max_cat_to_onehot=None,\n",
       "              max_delta_step=None, max_depth=None, max_leaves=None,\n",
       "              min_child_weight=None, missing=nan, monotone_constraints=None,\n",
       "              n_estimators=100, n_jobs=5, num_parallel_tree=None,\n",
       "              predictor=None, random_state=None, ...)</pre></div></div></div><div class=\"sk-serial\"><div class=\"sk-item\"><div class=\"sk-estimator sk-toggleable\"><input class=\"sk-toggleable__control sk-hidden--visually\" id=\"sk-estimator-id-12\" type=\"checkbox\" ><label for=\"sk-estimator-id-12\" class=\"sk-toggleable__label sk-toggleable__label-arrow\">XGBClassifier</label><div class=\"sk-toggleable__content\"><pre>XGBClassifier(base_score=None, booster=None, callbacks=None,\n",
       "              colsample_bylevel=None, colsample_bynode=None,\n",
       "              colsample_bytree=None, early_stopping_rounds=None,\n",
       "              enable_categorical=False, eval_metric=None, feature_types=None,\n",
       "              gamma=None, gpu_id=None, grow_policy=None, importance_type=None,\n",
       "              interaction_constraints=None, learning_rate=None, max_bin=None,\n",
       "              max_cat_threshold=None, max_cat_to_onehot=None,\n",
       "              max_delta_step=None, max_depth=None, max_leaves=None,\n",
       "              min_child_weight=None, missing=nan, monotone_constraints=None,\n",
       "              n_estimators=100, n_jobs=5, num_parallel_tree=None,\n",
       "              predictor=None, random_state=None, ...)</pre></div></div></div></div></div></div></div></div></div></div>"
      ],
      "text/plain": [
       "GridSearchCV(estimator=XGBClassifier(base_score=None, booster=None,\n",
       "                                     callbacks=None, colsample_bylevel=None,\n",
       "                                     colsample_bynode=None,\n",
       "                                     colsample_bytree=None,\n",
       "                                     early_stopping_rounds=None,\n",
       "                                     enable_categorical=False, eval_metric=None,\n",
       "                                     feature_types=None, gamma=None,\n",
       "                                     gpu_id=None, grow_policy=None,\n",
       "                                     importance_type=None,\n",
       "                                     interaction_constraints=None,\n",
       "                                     learning_rate=None, max_bin=None,\n",
       "                                     max_cat_threshold=None,\n",
       "                                     max_cat_to_onehot=None,\n",
       "                                     max_delta_step=None, max_depth=None,\n",
       "                                     max_leaves=None, min_child_weight=None,\n",
       "                                     missing=nan, monotone_constraints=None,\n",
       "                                     n_estimators=100, n_jobs=5,\n",
       "                                     num_parallel_tree=None, predictor=None,\n",
       "                                     random_state=None, ...),\n",
       "             n_jobs=2, param_grid={'max_depth': [3], 'n_estimators': [1500]},\n",
       "             verbose=1)"
      ]
     },
     "execution_count": 23,
     "metadata": {},
     "output_type": "execute_result"
    }
   ],
   "source": [
    "%%time\n",
    "clf_tfidf_tag.fit(X_tfidf_tag, y_train)"
   ]
  },
  {
   "cell_type": "code",
   "execution_count": 57,
   "id": "785e1c0b",
   "metadata": {},
   "outputs": [
    {
     "data": {
      "text/html": [
       "<div>\n",
       "<style scoped>\n",
       "    .dataframe tbody tr th:only-of-type {\n",
       "        vertical-align: middle;\n",
       "    }\n",
       "\n",
       "    .dataframe tbody tr th {\n",
       "        vertical-align: top;\n",
       "    }\n",
       "\n",
       "    .dataframe thead th {\n",
       "        text-align: right;\n",
       "    }\n",
       "</style>\n",
       "<table border=\"1\" class=\"dataframe\">\n",
       "  <thead>\n",
       "    <tr style=\"text-align: right;\">\n",
       "      <th></th>\n",
       "      <th>mean_fit_time</th>\n",
       "      <th>std_fit_time</th>\n",
       "      <th>mean_score_time</th>\n",
       "      <th>std_score_time</th>\n",
       "      <th>param_max_depth</th>\n",
       "      <th>param_n_estimators</th>\n",
       "      <th>params</th>\n",
       "      <th>split0_test_score</th>\n",
       "      <th>split1_test_score</th>\n",
       "      <th>split2_test_score</th>\n",
       "      <th>split3_test_score</th>\n",
       "      <th>split4_test_score</th>\n",
       "      <th>mean_test_score</th>\n",
       "      <th>std_test_score</th>\n",
       "      <th>rank_test_score</th>\n",
       "    </tr>\n",
       "  </thead>\n",
       "  <tbody>\n",
       "    <tr>\n",
       "      <th>0</th>\n",
       "      <td>92.510934</td>\n",
       "      <td>13.71437</td>\n",
       "      <td>0.12882</td>\n",
       "      <td>0.018558</td>\n",
       "      <td>3</td>\n",
       "      <td>1500</td>\n",
       "      <td>{'max_depth': 3, 'n_estimators': 1500}</td>\n",
       "      <td>0.736575</td>\n",
       "      <td>0.736175</td>\n",
       "      <td>0.7371</td>\n",
       "      <td>0.736225</td>\n",
       "      <td>0.738625</td>\n",
       "      <td>0.73694</td>\n",
       "      <td>0.000905</td>\n",
       "      <td>1</td>\n",
       "    </tr>\n",
       "  </tbody>\n",
       "</table>\n",
       "</div>"
      ],
      "text/plain": [
       "   mean_fit_time  std_fit_time  mean_score_time  std_score_time  \\\n",
       "0      92.510934      13.71437          0.12882        0.018558   \n",
       "\n",
       "  param_max_depth param_n_estimators                                  params  \\\n",
       "0               3               1500  {'max_depth': 3, 'n_estimators': 1500}   \n",
       "\n",
       "   split0_test_score  split1_test_score  split2_test_score  split3_test_score  \\\n",
       "0           0.736575           0.736175             0.7371           0.736225   \n",
       "\n",
       "   split4_test_score  mean_test_score  std_test_score  rank_test_score  \n",
       "0           0.738625          0.73694        0.000905                1  "
      ]
     },
     "execution_count": 57,
     "metadata": {},
     "output_type": "execute_result"
    }
   ],
   "source": [
    "pd.DataFrame(clf_tfidf_tag.cv_results_)"
   ]
  },
  {
   "cell_type": "markdown",
   "id": "8e76649d",
   "metadata": {},
   "source": [
    "## Test models"
   ]
  },
  {
   "cell_type": "code",
   "execution_count": 24,
   "id": "9a202ab2",
   "metadata": {},
   "outputs": [],
   "source": [
    "from sklearn.metrics import accuracy_score"
   ]
  },
  {
   "cell_type": "code",
   "execution_count": 25,
   "id": "5f3ed28c",
   "metadata": {},
   "outputs": [],
   "source": [
    "embed_path = \"./output/test/embed\"\n",
    "test_dataset_tag_files = sorted([f for f in os.listdir(embed_path) if os.path.isfile(os.path.join(embed_path, f)) and f[0]!=\".\" and \"tag\" in f])"
   ]
  },
  {
   "cell_type": "code",
   "execution_count": 26,
   "id": "11d8c3f5",
   "metadata": {},
   "outputs": [],
   "source": [
    "test_dataset_files = [x.replace(\".tag\",\"\") for x in test_dataset_tag_files]"
   ]
  },
  {
   "cell_type": "code",
   "execution_count": 135,
   "id": "c2563a91",
   "metadata": {},
   "outputs": [
    {
     "data": {
      "text/plain": [
       "['gpt2.large-762M-k40.test.machine_embed.pickle',\n",
       " 'gpt2.large-762M.test.machine_embed.pickle',\n",
       " 'gpt2.medium-345M-k40.test.machine_embed.pickle',\n",
       " 'gpt2.medium-345M.test.machine_embed.pickle',\n",
       " 'gpt2.small-117M-k40.test.machine_embed.pickle',\n",
       " 'gpt2.small-117M.test.machine_embed.pickle',\n",
       " 'gpt2.xl-1542M-k40.test.machine_embed.pickle',\n",
       " 'gpt2.xl-1542M.test.machine_embed.pickle',\n",
       " 'gpt3.175b_samples.machine_embed.pickle',\n",
       " 'grover-base-p0.94.machine_embed.pickle',\n",
       " 'grover-medium-p0.94.machine_embed.pickle',\n",
       " 'grover-mega-p0.94.machine_embed.pickle',\n",
       " 'grover.human_embed.pickle',\n",
       " 'webtext.test.human_embed.pickle']"
      ]
     },
     "execution_count": 135,
     "metadata": {},
     "output_type": "execute_result"
    }
   ],
   "source": [
    "test_dataset_files"
   ]
  },
  {
   "cell_type": "code",
   "execution_count": 27,
   "id": "b3c6432f",
   "metadata": {
    "scrolled": true
   },
   "outputs": [],
   "source": [
    "results = []\n",
    "for test_dataset_tag_file in test_dataset_tag_files:\n",
    "    test_dataset_file = test_dataset_tag_file.replace(\".tag\",\"\")\n",
    "    results_line = [\".\".join(test_dataset_file.split(\".\")[:-2])]\n",
    "    if \"machine\" in test_dataset_file:\n",
    "        results_line.append(\"machine\")\n",
    "    else:\n",
    "        results_line.append(\"human\")\n",
    "    with open(os.path.join(embed_path, test_dataset_file), \"rb\") as f:\n",
    "        X_test_tfidf = pickle.load(f)\n",
    "        label = int(\"machine\" in test_dataset_file)\n",
    "        y_test = [label for _ in range(len(X_test_tfidf))]\n",
    "    with open(os.path.join(embed_path, test_dataset_tag_file), \"rb\") as f:\n",
    "        X_test_tag = pickle.load(f)\n",
    "    X_test_tfidf_tag = np.concatenate([X_test_tfidf, X_test_tag], axis=1)\n",
    "    results_line.append(len(y_test))\n",
    "    y_pred = [round(yy) for yy in clf_tfidf.best_estimator_.predict(X_test_tfidf)]\n",
    "    #print(f'******\\nTest dataset: {test_dataset_file.replace(\"_embed.pickle\",\"\")}')\n",
    "    #print('TF-IDF words:')\n",
    "    #print(accuracy_score(y_test, y_pred))\n",
    "    results_line.append(accuracy_score(y_test, y_pred))\n",
    "    #print('TF-IDF tags:')\n",
    "    y_pred = [round(yy) for yy in clf_tag.best_estimator_.predict(X_test_tag)]\n",
    "    #print(accuracy_score(y_test, y_pred))\n",
    "    results_line.append(accuracy_score(y_test, y_pred))\n",
    "    #print('TF-IDF words+tags:')\n",
    "    y_pred = [round(yy) for yy in clf_tfidf_tag.best_estimator_.predict(X_test_tfidf_tag)]\n",
    "    #print(accuracy_score(y_test, y_pred))\n",
    "    results_line.append(accuracy_score(y_test, y_pred))\n",
    "    results.append(results_line)"
   ]
  },
  {
   "cell_type": "code",
   "execution_count": 29,
   "id": "301e6ae7",
   "metadata": {},
   "outputs": [],
   "source": [
    "pd.DataFrame(results, columns=[\"dataset\", \"source\", \"size\", \"tfidf\", \"tag\", \"tfidf_tag\"]).to_csv(\"combined_test_accuracy.csv\")"
   ]
  },
  {
   "cell_type": "code",
   "execution_count": 28,
   "id": "4425548c",
   "metadata": {},
   "outputs": [
    {
     "data": {
      "text/html": [
       "<div>\n",
       "<style scoped>\n",
       "    .dataframe tbody tr th:only-of-type {\n",
       "        vertical-align: middle;\n",
       "    }\n",
       "\n",
       "    .dataframe tbody tr th {\n",
       "        vertical-align: top;\n",
       "    }\n",
       "\n",
       "    .dataframe thead th {\n",
       "        text-align: right;\n",
       "    }\n",
       "</style>\n",
       "<table border=\"1\" class=\"dataframe\">\n",
       "  <thead>\n",
       "    <tr style=\"text-align: right;\">\n",
       "      <th></th>\n",
       "      <th>dataset</th>\n",
       "      <th>source</th>\n",
       "      <th>size</th>\n",
       "      <th>tfidf</th>\n",
       "      <th>tag</th>\n",
       "      <th>tfidf_tag</th>\n",
       "    </tr>\n",
       "  </thead>\n",
       "  <tbody>\n",
       "    <tr>\n",
       "      <th>0</th>\n",
       "      <td>gpt2.large-762M-k40.test</td>\n",
       "      <td>machine</td>\n",
       "      <td>5000</td>\n",
       "      <td>0.804800</td>\n",
       "      <td>0.79800</td>\n",
       "      <td>0.839200</td>\n",
       "    </tr>\n",
       "    <tr>\n",
       "      <th>1</th>\n",
       "      <td>gpt2.large-762M.test</td>\n",
       "      <td>machine</td>\n",
       "      <td>5000</td>\n",
       "      <td>0.484000</td>\n",
       "      <td>0.42620</td>\n",
       "      <td>0.528000</td>\n",
       "    </tr>\n",
       "    <tr>\n",
       "      <th>2</th>\n",
       "      <td>gpt2.medium-345M-k40.test</td>\n",
       "      <td>machine</td>\n",
       "      <td>5000</td>\n",
       "      <td>0.774800</td>\n",
       "      <td>0.79660</td>\n",
       "      <td>0.827800</td>\n",
       "    </tr>\n",
       "    <tr>\n",
       "      <th>3</th>\n",
       "      <td>gpt2.medium-345M.test</td>\n",
       "      <td>machine</td>\n",
       "      <td>5000</td>\n",
       "      <td>0.509400</td>\n",
       "      <td>0.48920</td>\n",
       "      <td>0.606800</td>\n",
       "    </tr>\n",
       "    <tr>\n",
       "      <th>4</th>\n",
       "      <td>gpt2.small-117M-k40.test</td>\n",
       "      <td>machine</td>\n",
       "      <td>5000</td>\n",
       "      <td>0.832600</td>\n",
       "      <td>0.82920</td>\n",
       "      <td>0.868800</td>\n",
       "    </tr>\n",
       "    <tr>\n",
       "      <th>5</th>\n",
       "      <td>gpt2.small-117M.test</td>\n",
       "      <td>machine</td>\n",
       "      <td>5000</td>\n",
       "      <td>0.519200</td>\n",
       "      <td>0.43360</td>\n",
       "      <td>0.584800</td>\n",
       "    </tr>\n",
       "    <tr>\n",
       "      <th>6</th>\n",
       "      <td>gpt2.xl-1542M-k40.test</td>\n",
       "      <td>machine</td>\n",
       "      <td>5000</td>\n",
       "      <td>0.761600</td>\n",
       "      <td>0.76480</td>\n",
       "      <td>0.796200</td>\n",
       "    </tr>\n",
       "    <tr>\n",
       "      <th>7</th>\n",
       "      <td>gpt2.xl-1542M.test</td>\n",
       "      <td>machine</td>\n",
       "      <td>5000</td>\n",
       "      <td>0.449800</td>\n",
       "      <td>0.41260</td>\n",
       "      <td>0.484000</td>\n",
       "    </tr>\n",
       "    <tr>\n",
       "      <th>8</th>\n",
       "      <td>gpt3.175b_samples</td>\n",
       "      <td>machine</td>\n",
       "      <td>485</td>\n",
       "      <td>0.678351</td>\n",
       "      <td>0.68866</td>\n",
       "      <td>0.707216</td>\n",
       "    </tr>\n",
       "    <tr>\n",
       "      <th>9</th>\n",
       "      <td>grover-base-p0.94</td>\n",
       "      <td>human</td>\n",
       "      <td>15000</td>\n",
       "      <td>0.791067</td>\n",
       "      <td>0.71880</td>\n",
       "      <td>0.815133</td>\n",
       "    </tr>\n",
       "    <tr>\n",
       "      <th>10</th>\n",
       "      <td>grover-base-p0.94</td>\n",
       "      <td>machine</td>\n",
       "      <td>10000</td>\n",
       "      <td>0.368900</td>\n",
       "      <td>0.49830</td>\n",
       "      <td>0.407700</td>\n",
       "    </tr>\n",
       "    <tr>\n",
       "      <th>11</th>\n",
       "      <td>grover-medium-p0.94</td>\n",
       "      <td>human</td>\n",
       "      <td>15000</td>\n",
       "      <td>0.791067</td>\n",
       "      <td>0.71880</td>\n",
       "      <td>0.815133</td>\n",
       "    </tr>\n",
       "    <tr>\n",
       "      <th>12</th>\n",
       "      <td>grover-medium-p0.94</td>\n",
       "      <td>machine</td>\n",
       "      <td>10000</td>\n",
       "      <td>0.336600</td>\n",
       "      <td>0.48790</td>\n",
       "      <td>0.363100</td>\n",
       "    </tr>\n",
       "    <tr>\n",
       "      <th>13</th>\n",
       "      <td>grover-mega-p0.94</td>\n",
       "      <td>human</td>\n",
       "      <td>15000</td>\n",
       "      <td>0.791067</td>\n",
       "      <td>0.71880</td>\n",
       "      <td>0.815133</td>\n",
       "    </tr>\n",
       "    <tr>\n",
       "      <th>14</th>\n",
       "      <td>grover-mega-p0.94</td>\n",
       "      <td>machine</td>\n",
       "      <td>10000</td>\n",
       "      <td>0.312400</td>\n",
       "      <td>0.45590</td>\n",
       "      <td>0.333300</td>\n",
       "    </tr>\n",
       "    <tr>\n",
       "      <th>15</th>\n",
       "      <td>grover</td>\n",
       "      <td>human</td>\n",
       "      <td>15000</td>\n",
       "      <td>0.580333</td>\n",
       "      <td>0.60440</td>\n",
       "      <td>0.642933</td>\n",
       "    </tr>\n",
       "    <tr>\n",
       "      <th>16</th>\n",
       "      <td>webtext.test</td>\n",
       "      <td>human</td>\n",
       "      <td>5000</td>\n",
       "      <td>0.749800</td>\n",
       "      <td>0.73880</td>\n",
       "      <td>0.778400</td>\n",
       "    </tr>\n",
       "  </tbody>\n",
       "</table>\n",
       "</div>"
      ],
      "text/plain": [
       "                      dataset   source   size     tfidf      tag  tfidf_tag\n",
       "0    gpt2.large-762M-k40.test  machine   5000  0.804800  0.79800   0.839200\n",
       "1        gpt2.large-762M.test  machine   5000  0.484000  0.42620   0.528000\n",
       "2   gpt2.medium-345M-k40.test  machine   5000  0.774800  0.79660   0.827800\n",
       "3       gpt2.medium-345M.test  machine   5000  0.509400  0.48920   0.606800\n",
       "4    gpt2.small-117M-k40.test  machine   5000  0.832600  0.82920   0.868800\n",
       "5        gpt2.small-117M.test  machine   5000  0.519200  0.43360   0.584800\n",
       "6      gpt2.xl-1542M-k40.test  machine   5000  0.761600  0.76480   0.796200\n",
       "7          gpt2.xl-1542M.test  machine   5000  0.449800  0.41260   0.484000\n",
       "8           gpt3.175b_samples  machine    485  0.678351  0.68866   0.707216\n",
       "9           grover-base-p0.94    human  15000  0.791067  0.71880   0.815133\n",
       "10          grover-base-p0.94  machine  10000  0.368900  0.49830   0.407700\n",
       "11        grover-medium-p0.94    human  15000  0.791067  0.71880   0.815133\n",
       "12        grover-medium-p0.94  machine  10000  0.336600  0.48790   0.363100\n",
       "13          grover-mega-p0.94    human  15000  0.791067  0.71880   0.815133\n",
       "14          grover-mega-p0.94  machine  10000  0.312400  0.45590   0.333300\n",
       "15                     grover    human  15000  0.580333  0.60440   0.642933\n",
       "16               webtext.test    human   5000  0.749800  0.73880   0.778400"
      ]
     },
     "execution_count": 28,
     "metadata": {},
     "output_type": "execute_result"
    }
   ],
   "source": [
    "pd.DataFrame(results, columns=[\"dataset\", \"source\", \"size\", \"tfidf\", \"tag\", \"tfidf_tag\"])"
   ]
  },
  {
   "cell_type": "markdown",
   "id": "2fc7bedc",
   "metadata": {},
   "source": [
    "Analyze performance vs document stats"
   ]
  },
  {
   "cell_type": "code",
   "execution_count": 30,
   "id": "7af7b7d8",
   "metadata": {},
   "outputs": [],
   "source": [
    "from sklearn.metrics import precision_recall_fscore_support"
   ]
  },
  {
   "cell_type": "code",
   "execution_count": 37,
   "id": "90629e3a",
   "metadata": {},
   "outputs": [],
   "source": [
    "embed_path = \"./output/test/embed\"\n",
    "stats_path = \"./output/test/stats\"\n",
    "test_datasets = [\"webtext.test.human\", \"gpt2.xl-1542M.test.machine\"]"
   ]
  },
  {
   "cell_type": "code",
   "execution_count": 38,
   "id": "8f5ae75a",
   "metadata": {},
   "outputs": [],
   "source": [
    "X_test_tfidf = None\n",
    "X_test_tag = None\n",
    "y_test = []\n",
    "df_stats = None\n",
    "for test_ds in test_datasets:\n",
    "    with open(os.path.join(embed_path, f\"{test_ds}_embed.pickle\"), \"rb\") as f:\n",
    "        ds_embed = pickle.load(f)\n",
    "        label = int(\"machine\" in test_ds)\n",
    "        if X_test_tfidf is None:\n",
    "            X_test_tfidf = ds_embed\n",
    "        else:\n",
    "            X_test_tfidf = np.concatenate([X_test_tfidf, ds_embed])\n",
    "        y_test += [label for _ in range(len(ds_embed))]\n",
    "    with open(os.path.join(embed_path, f\"{test_ds}.tag_embed.pickle\"), \"rb\") as f:\n",
    "        ds_embed = pickle.load(f)\n",
    "        if X_test_tag is None:\n",
    "            X_test_tag = ds_embed\n",
    "        else:\n",
    "            X_test_tag = np.concatenate([X_test_tag, ds_embed])\n",
    "    df = pd.read_csv(os.path.join(stats_path, f\"{test_ds}_stats.csv\"), index_col=0)\n",
    "    if df_stats is None:\n",
    "        df_stats = df\n",
    "    else:\n",
    "        df_stats = pd.concat([df_stats, df])\n",
    "X_test_tfidf_tag = np.concatenate([X_test_tfidf, X_test_tag], axis=1)"
   ]
  },
  {
   "cell_type": "code",
   "execution_count": 39,
   "id": "85afacbc",
   "metadata": {},
   "outputs": [],
   "source": [
    "y_pred_tfidf = [round(yy) for yy in clf_tfidf.best_estimator_.predict(X_test_tfidf)]\n",
    "y_pred_tag = [round(yy) for yy in clf_tag.best_estimator_.predict(X_test_tag)]\n",
    "y_pred_tfidf_tag = [round(yy) for yy in clf_tfidf_tag.best_estimator_.predict(X_test_tfidf_tag)]"
   ]
  },
  {
   "cell_type": "code",
   "execution_count": 40,
   "id": "7aab6d10",
   "metadata": {},
   "outputs": [],
   "source": [
    "df_stats[\"label\"] = y_test\n",
    "df_stats[\"label_tfidf\"] = y_pred_tfidf\n",
    "df_stats[\"label_tag\"] = y_pred_tag\n",
    "df_stats[\"label_tfidf_tag\"] = y_pred_tfidf_tag"
   ]
  },
  {
   "cell_type": "code",
   "execution_count": 41,
   "id": "4adb8c0a",
   "metadata": {},
   "outputs": [],
   "source": [
    "class_stats = dict(tfidf=[], tag=[], tfidf_tag=[])\n",
    "for i in sorted(set(df_stats.tokens.to_list())):\n",
    "    df = df_stats[df_stats.tokens >= i]\n",
    "    # stop if sample size below 50 elements\n",
    "    if len(df) < 50:\n",
    "        break\n",
    "    for method in class_stats.keys():\n",
    "        y_true = df.label.to_list()\n",
    "        y_pred = df[f\"label_{method}\"].to_list()\n",
    "        acc = accuracy_score(y_true, y_pred)\n",
    "        prec, rec, fsc, _ = precision_recall_fscore_support(y_true, y_pred, average='weighted')\n",
    "        st = [i, acc, prec, rec, fsc] + [item for sublist in precision_recall_fscore_support(y_true, y_pred, average=None) for item in list(sublist)]\n",
    "        class_stats[method].append(st)"
   ]
  },
  {
   "cell_type": "code",
   "execution_count": 42,
   "id": "8eb26289",
   "metadata": {},
   "outputs": [],
   "source": [
    "for method in class_stats:\n",
    "    pd.DataFrame(\n",
    "        class_stats[method], \n",
    "        columns=[\"min_tokens\", \"accuracy\", \"precision_m\", \"recall_m\", \"f1_m\", \"precision_human\", \"precision_machine\", \"recall_human\", \"recall_machine\", \"f1_human\", \"f1_machine\", \"support_human\", \"support_machine\"]\n",
    "    ).to_csv(f\"{method}_stats.csv\")"
   ]
  },
  {
   "cell_type": "code",
   "execution_count": null,
   "id": "a483b385",
   "metadata": {},
   "outputs": [],
   "source": []
  }
 ],
 "metadata": {
  "kernelspec": {
   "display_name": "ml-env",
   "language": "python",
   "name": "ml-env"
  },
  "language_info": {
   "codemirror_mode": {
    "name": "ipython",
    "version": 3
   },
   "file_extension": ".py",
   "mimetype": "text/x-python",
   "name": "python",
   "nbconvert_exporter": "python",
   "pygments_lexer": "ipython3",
   "version": "3.9.16"
  }
 },
 "nbformat": 4,
 "nbformat_minor": 5
}
