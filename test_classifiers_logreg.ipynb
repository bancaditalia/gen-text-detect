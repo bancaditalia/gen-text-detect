{
 "cells": [
  {
   "cell_type": "code",
   "execution_count": 1,
   "metadata": {},
   "outputs": [],
   "source": [
    "import os\n",
    "import pickle\n",
    "import pandas as pd\n",
    "import numpy as np\n",
    "from sklearn.linear_model import LogisticRegression"
   ]
  },
  {
   "cell_type": "markdown",
   "metadata": {},
   "source": [
    "Save path for evaluation reports"
   ]
  },
  {
   "cell_type": "code",
   "execution_count": 2,
   "metadata": {},
   "outputs": [],
   "source": [
    "results_path = \"./results\""
   ]
  },
  {
   "cell_type": "markdown",
   "metadata": {},
   "source": [
    "# Load training data"
   ]
  },
  {
   "cell_type": "markdown",
   "metadata": {},
   "source": [
    "Load pickled embedded training data"
   ]
  },
  {
   "cell_type": "code",
   "execution_count": 44,
   "metadata": {},
   "outputs": [],
   "source": [
    "path_prefix = \"./../../get_text_detect_space/datasets/embed/\"\n",
    "dataset_path = \"webtext.train.jsonl.clean100k.csv+xl-1542M.train.jsonl.clean100k.csv_embed.pickle\""
   ]
  },
  {
   "cell_type": "code",
   "execution_count": 45,
   "metadata": {},
   "outputs": [],
   "source": [
    "with open(os.path.join(path_prefix, dataset_path), \"rb\") as f:\n",
    "    training_data = pickle.load(f)\n",
    "\n",
    "X = training_data[\"X\"]\n",
    "y = training_data[\"y\"]"
   ]
  },
  {
   "cell_type": "code",
   "execution_count": 46,
   "metadata": {},
   "outputs": [
    {
     "data": {
      "text/plain": [
       "array([[ 1.56034485e-01, -1.03202422e-03,  9.29313446e-02, ...,\n",
       "        -6.20653304e-03,  1.78792963e-02, -1.16704679e-02],\n",
       "       [ 1.19502099e-01,  1.64194560e-02, -1.96907246e-02, ...,\n",
       "        -1.13290602e-02,  5.91688235e-03,  1.52714059e-03],\n",
       "       [ 1.67067327e-01,  5.72166997e-02, -9.31411220e-03, ...,\n",
       "        -6.56531715e-03, -1.25897509e-02,  2.12441978e-03],\n",
       "       ...,\n",
       "       [ 1.45809149e-01, -3.29254096e-02, -2.40912571e-02, ...,\n",
       "         6.88818067e-03, -4.50552379e-03, -3.19229779e-03],\n",
       "       [ 1.07385538e-01, -5.34839545e-02,  2.93454104e-02, ...,\n",
       "        -1.70121954e-02, -6.23178832e-03,  8.76551081e-03],\n",
       "       [ 1.83371955e-01,  9.32380781e-02, -1.46499623e-03, ...,\n",
       "         1.69348226e-05, -6.23653770e-03,  8.20869394e-03]])"
      ]
     },
     "execution_count": 46,
     "metadata": {},
     "output_type": "execute_result"
    }
   ],
   "source": [
    "X"
   ]
  },
  {
   "cell_type": "code",
   "execution_count": 47,
   "metadata": {},
   "outputs": [],
   "source": [
    "base_prefix_path = \"./../../get_text_detect_space/datasets\"\n",
    "tfidf_path = f\"{base_prefix_path}/embed/webtext.train.jsonl.clean100k.csv+xl-1542M.train.jsonl.clean100k.csv_embed.pickle\"\n",
    "tag_path = f\"{base_prefix_path}/tag/embed/webtext_xl-1542M.tag_embed.pickle\"\n",
    "\n",
    "with open(tfidf_path, \"rb\") as f:\n",
    "    training_data = pickle.load(f)\n",
    "\n",
    "X = training_data[\"X\"]\n",
    "y = training_data[\"y\"]\n",
    "\n",
    "with open(tag_path, \"rb\") as f:\n",
    "    training_data = pickle.load(f)\n",
    "    \n",
    "X = np.concatenate([X, training_data[\"X\"]], axis=1)\n"
   ]
  },
  {
   "cell_type": "code",
   "execution_count": 48,
   "metadata": {},
   "outputs": [
    {
     "data": {
      "text/plain": [
       "(200000, 600)"
      ]
     },
     "execution_count": 48,
     "metadata": {},
     "output_type": "execute_result"
    }
   ],
   "source": [
    "X.shape"
   ]
  },
  {
   "cell_type": "markdown",
   "metadata": {},
   "source": [
    "# Load test data"
   ]
  },
  {
   "cell_type": "markdown",
   "metadata": {},
   "source": [
    "Load pickled embedded test data"
   ]
  },
  {
   "cell_type": "code",
   "execution_count": 49,
   "metadata": {},
   "outputs": [],
   "source": [
    "path_prefix = \"./../../get_text_detect_space/datasets/embed/\"\n",
    "dataset_names = [\"webtext.test.human_embed.pickle\", \"gpt2.xl-1542M.test.machine_embed.pickle\"]"
   ]
  },
  {
   "cell_type": "code",
   "execution_count": 50,
   "metadata": {},
   "outputs": [],
   "source": [
    "with open(os.path.join(path_prefix, dataset_names[0]), \"rb\") as f:\n",
    "    test_data = pickle.load(f)\n",
    "    X_test = test_data[\"X\"]\n",
    "    y_test = test_data[\"y\"]\n",
    "if len(dataset_names)>1:\n",
    "    for dataset_name in dataset_names[1:]:\n",
    "        with open(os.path.join(path_prefix, dataset_name), \"rb\") as f:\n",
    "            test_data = pickle.load(f)\n",
    "            X_test = np.concatenate((X_test, test_data[\"X\"]))\n",
    "            y_test += test_data[\"y\"]"
   ]
  },
  {
   "cell_type": "code",
   "execution_count": 51,
   "metadata": {},
   "outputs": [],
   "source": [
    "path_prefix = \"./../../get_text_detect_space/datasets/tag/embed/\"\n",
    "dataset_name = \"webtext.test_xl-1542M.test.tag_embed.pickle\"\n",
    "with open(os.path.join(path_prefix, dataset_name), \"rb\") as f:\n",
    "    test_data = pickle.load(f)\n",
    "    X_test = np.concatenate([X_test, test_data[\"X\"]], axis=1)"
   ]
  },
  {
   "cell_type": "code",
   "execution_count": 52,
   "metadata": {},
   "outputs": [
    {
     "data": {
      "text/plain": [
       "array([[ 0.036449  ,  0.01040318, -0.01484086, ..., -0.00727127,\n",
       "         0.00040762,  0.00319771],\n",
       "       [ 0.1697334 ,  0.00916163,  0.08250503, ..., -0.00558962,\n",
       "        -0.01145208,  0.00735047],\n",
       "       [ 0.08371905, -0.0375891 ,  0.01756523, ...,  0.00710054,\n",
       "        -0.01029539, -0.02777718],\n",
       "       ...,\n",
       "       [ 0.16086878, -0.10212953, -0.00653402, ..., -0.00563827,\n",
       "         0.01246122, -0.01094326],\n",
       "       [ 0.14679124, -0.05596965,  0.00043219, ...,  0.01002533,\n",
       "         0.01669157,  0.00908132],\n",
       "       [ 0.13941275, -0.04264188,  0.0272543 , ..., -0.02123425,\n",
       "         0.00149337, -0.01113054]])"
      ]
     },
     "execution_count": 52,
     "metadata": {},
     "output_type": "execute_result"
    }
   ],
   "source": [
    "X_test"
   ]
  },
  {
   "cell_type": "code",
   "execution_count": 53,
   "metadata": {},
   "outputs": [
    {
     "data": {
      "text/plain": [
       "(10000, 600)"
      ]
     },
     "execution_count": 53,
     "metadata": {},
     "output_type": "execute_result"
    }
   ],
   "source": [
    "X_test.shape"
   ]
  },
  {
   "cell_type": "markdown",
   "metadata": {},
   "source": [
    "# Train classifiers"
   ]
  },
  {
   "cell_type": "code",
   "execution_count": 54,
   "metadata": {},
   "outputs": [],
   "source": [
    "from sklearn.model_selection import GridSearchCV\n",
    "from sklearn.metrics import classification_report"
   ]
  },
  {
   "cell_type": "markdown",
   "metadata": {},
   "source": [
    "## Log Reg"
   ]
  },
  {
   "cell_type": "code",
   "execution_count": 55,
   "metadata": {},
   "outputs": [],
   "source": [
    "logreg = LogisticRegression(solver='liblinear')\n",
    "# parameters = {'C': [1/8, 1, 8]}\n",
    "# parameters = {'C': [1/64, 1/32, 1/16, 1/8, 1/4, 1/2, 1, 2, 4, 8, 16, 32, 64]}\n",
    "parameters = {'C': [1]}\n",
    "\n",
    "clf_logreg = GridSearchCV(logreg, parameters, n_jobs=-1)"
   ]
  },
  {
   "cell_type": "code",
   "execution_count": 56,
   "metadata": {},
   "outputs": [
    {
     "data": {
      "text/html": [
       "<style>#sk-container-id-4 {color: black;background-color: white;}#sk-container-id-4 pre{padding: 0;}#sk-container-id-4 div.sk-toggleable {background-color: white;}#sk-container-id-4 label.sk-toggleable__label {cursor: pointer;display: block;width: 100%;margin-bottom: 0;padding: 0.3em;box-sizing: border-box;text-align: center;}#sk-container-id-4 label.sk-toggleable__label-arrow:before {content: \"▸\";float: left;margin-right: 0.25em;color: #696969;}#sk-container-id-4 label.sk-toggleable__label-arrow:hover:before {color: black;}#sk-container-id-4 div.sk-estimator:hover label.sk-toggleable__label-arrow:before {color: black;}#sk-container-id-4 div.sk-toggleable__content {max-height: 0;max-width: 0;overflow: hidden;text-align: left;background-color: #f0f8ff;}#sk-container-id-4 div.sk-toggleable__content pre {margin: 0.2em;color: black;border-radius: 0.25em;background-color: #f0f8ff;}#sk-container-id-4 input.sk-toggleable__control:checked~div.sk-toggleable__content {max-height: 200px;max-width: 100%;overflow: auto;}#sk-container-id-4 input.sk-toggleable__control:checked~label.sk-toggleable__label-arrow:before {content: \"▾\";}#sk-container-id-4 div.sk-estimator input.sk-toggleable__control:checked~label.sk-toggleable__label {background-color: #d4ebff;}#sk-container-id-4 div.sk-label input.sk-toggleable__control:checked~label.sk-toggleable__label {background-color: #d4ebff;}#sk-container-id-4 input.sk-hidden--visually {border: 0;clip: rect(1px 1px 1px 1px);clip: rect(1px, 1px, 1px, 1px);height: 1px;margin: -1px;overflow: hidden;padding: 0;position: absolute;width: 1px;}#sk-container-id-4 div.sk-estimator {font-family: monospace;background-color: #f0f8ff;border: 1px dotted black;border-radius: 0.25em;box-sizing: border-box;margin-bottom: 0.5em;}#sk-container-id-4 div.sk-estimator:hover {background-color: #d4ebff;}#sk-container-id-4 div.sk-parallel-item::after {content: \"\";width: 100%;border-bottom: 1px solid gray;flex-grow: 1;}#sk-container-id-4 div.sk-label:hover label.sk-toggleable__label {background-color: #d4ebff;}#sk-container-id-4 div.sk-serial::before {content: \"\";position: absolute;border-left: 1px solid gray;box-sizing: border-box;top: 0;bottom: 0;left: 50%;z-index: 0;}#sk-container-id-4 div.sk-serial {display: flex;flex-direction: column;align-items: center;background-color: white;padding-right: 0.2em;padding-left: 0.2em;position: relative;}#sk-container-id-4 div.sk-item {position: relative;z-index: 1;}#sk-container-id-4 div.sk-parallel {display: flex;align-items: stretch;justify-content: center;background-color: white;position: relative;}#sk-container-id-4 div.sk-item::before, #sk-container-id-4 div.sk-parallel-item::before {content: \"\";position: absolute;border-left: 1px solid gray;box-sizing: border-box;top: 0;bottom: 0;left: 50%;z-index: -1;}#sk-container-id-4 div.sk-parallel-item {display: flex;flex-direction: column;z-index: 1;position: relative;background-color: white;}#sk-container-id-4 div.sk-parallel-item:first-child::after {align-self: flex-end;width: 50%;}#sk-container-id-4 div.sk-parallel-item:last-child::after {align-self: flex-start;width: 50%;}#sk-container-id-4 div.sk-parallel-item:only-child::after {width: 0;}#sk-container-id-4 div.sk-dashed-wrapped {border: 1px dashed gray;margin: 0 0.4em 0.5em 0.4em;box-sizing: border-box;padding-bottom: 0.4em;background-color: white;}#sk-container-id-4 div.sk-label label {font-family: monospace;font-weight: bold;display: inline-block;line-height: 1.2em;}#sk-container-id-4 div.sk-label-container {text-align: center;}#sk-container-id-4 div.sk-container {/* jupyter's `normalize.less` sets `[hidden] { display: none; }` but bootstrap.min.css set `[hidden] { display: none !important; }` so we also need the `!important` here to be able to override the default hidden behavior on the sphinx rendered scikit-learn.org. See: https://github.com/scikit-learn/scikit-learn/issues/21755 */display: inline-block !important;position: relative;}#sk-container-id-4 div.sk-text-repr-fallback {display: none;}</style><div id=\"sk-container-id-4\" class=\"sk-top-container\"><div class=\"sk-text-repr-fallback\"><pre>GridSearchCV(estimator=LogisticRegression(solver=&#x27;liblinear&#x27;), n_jobs=-1,\n",
       "             param_grid={&#x27;C&#x27;: [0.015625, 0.03125, 0.0625, 0.125, 0.25, 0.5, 1,\n",
       "                               2, 4, 8, 16, 32, 64]})</pre><b>In a Jupyter environment, please rerun this cell to show the HTML representation or trust the notebook. <br />On GitHub, the HTML representation is unable to render, please try loading this page with nbviewer.org.</b></div><div class=\"sk-container\" hidden><div class=\"sk-item sk-dashed-wrapped\"><div class=\"sk-label-container\"><div class=\"sk-label sk-toggleable\"><input class=\"sk-toggleable__control sk-hidden--visually\" id=\"sk-estimator-id-10\" type=\"checkbox\" ><label for=\"sk-estimator-id-10\" class=\"sk-toggleable__label sk-toggleable__label-arrow\">GridSearchCV</label><div class=\"sk-toggleable__content\"><pre>GridSearchCV(estimator=LogisticRegression(solver=&#x27;liblinear&#x27;), n_jobs=-1,\n",
       "             param_grid={&#x27;C&#x27;: [0.015625, 0.03125, 0.0625, 0.125, 0.25, 0.5, 1,\n",
       "                               2, 4, 8, 16, 32, 64]})</pre></div></div></div><div class=\"sk-parallel\"><div class=\"sk-parallel-item\"><div class=\"sk-item\"><div class=\"sk-label-container\"><div class=\"sk-label sk-toggleable\"><input class=\"sk-toggleable__control sk-hidden--visually\" id=\"sk-estimator-id-11\" type=\"checkbox\" ><label for=\"sk-estimator-id-11\" class=\"sk-toggleable__label sk-toggleable__label-arrow\">estimator: LogisticRegression</label><div class=\"sk-toggleable__content\"><pre>LogisticRegression(solver=&#x27;liblinear&#x27;)</pre></div></div></div><div class=\"sk-serial\"><div class=\"sk-item\"><div class=\"sk-estimator sk-toggleable\"><input class=\"sk-toggleable__control sk-hidden--visually\" id=\"sk-estimator-id-12\" type=\"checkbox\" ><label for=\"sk-estimator-id-12\" class=\"sk-toggleable__label sk-toggleable__label-arrow\">LogisticRegression</label><div class=\"sk-toggleable__content\"><pre>LogisticRegression(solver=&#x27;liblinear&#x27;)</pre></div></div></div></div></div></div></div></div></div></div>"
      ],
      "text/plain": [
       "GridSearchCV(estimator=LogisticRegression(solver='liblinear'), n_jobs=-1,\n",
       "             param_grid={'C': [0.015625, 0.03125, 0.0625, 0.125, 0.25, 0.5, 1,\n",
       "                               2, 4, 8, 16, 32, 64]})"
      ]
     },
     "execution_count": 56,
     "metadata": {},
     "output_type": "execute_result"
    }
   ],
   "source": [
    "clf_logreg.fit(X, y)"
   ]
  },
  {
   "cell_type": "markdown",
   "metadata": {},
   "source": [
    "Save cross-validation results"
   ]
  },
  {
   "cell_type": "code",
   "execution_count": 59,
   "metadata": {},
   "outputs": [
    {
     "data": {
      "text/html": [
       "<div>\n",
       "<style scoped>\n",
       "    .dataframe tbody tr th:only-of-type {\n",
       "        vertical-align: middle;\n",
       "    }\n",
       "\n",
       "    .dataframe tbody tr th {\n",
       "        vertical-align: top;\n",
       "    }\n",
       "\n",
       "    .dataframe thead th {\n",
       "        text-align: right;\n",
       "    }\n",
       "</style>\n",
       "<table border=\"1\" class=\"dataframe\">\n",
       "  <thead>\n",
       "    <tr style=\"text-align: right;\">\n",
       "      <th></th>\n",
       "      <th>mean_fit_time</th>\n",
       "      <th>std_fit_time</th>\n",
       "      <th>mean_score_time</th>\n",
       "      <th>std_score_time</th>\n",
       "      <th>param_C</th>\n",
       "      <th>params</th>\n",
       "      <th>split0_test_score</th>\n",
       "      <th>split1_test_score</th>\n",
       "      <th>split2_test_score</th>\n",
       "      <th>split3_test_score</th>\n",
       "      <th>split4_test_score</th>\n",
       "      <th>mean_test_score</th>\n",
       "      <th>std_test_score</th>\n",
       "      <th>rank_test_score</th>\n",
       "    </tr>\n",
       "  </thead>\n",
       "  <tbody>\n",
       "    <tr>\n",
       "      <th>0</th>\n",
       "      <td>31.566443</td>\n",
       "      <td>1.014928</td>\n",
       "      <td>0.180223</td>\n",
       "      <td>0.003066</td>\n",
       "      <td>0.015625</td>\n",
       "      <td>{'C': 0.015625}</td>\n",
       "      <td>0.679875</td>\n",
       "      <td>0.676700</td>\n",
       "      <td>0.674975</td>\n",
       "      <td>0.675800</td>\n",
       "      <td>0.677800</td>\n",
       "      <td>0.677030</td>\n",
       "      <td>0.001705</td>\n",
       "      <td>13</td>\n",
       "    </tr>\n",
       "    <tr>\n",
       "      <th>1</th>\n",
       "      <td>38.082305</td>\n",
       "      <td>0.976354</td>\n",
       "      <td>0.166000</td>\n",
       "      <td>0.013313</td>\n",
       "      <td>0.03125</td>\n",
       "      <td>{'C': 0.03125}</td>\n",
       "      <td>0.687075</td>\n",
       "      <td>0.685925</td>\n",
       "      <td>0.682450</td>\n",
       "      <td>0.684875</td>\n",
       "      <td>0.685850</td>\n",
       "      <td>0.685235</td>\n",
       "      <td>0.001557</td>\n",
       "      <td>12</td>\n",
       "    </tr>\n",
       "    <tr>\n",
       "      <th>2</th>\n",
       "      <td>42.168504</td>\n",
       "      <td>1.149418</td>\n",
       "      <td>0.154231</td>\n",
       "      <td>0.012126</td>\n",
       "      <td>0.0625</td>\n",
       "      <td>{'C': 0.0625}</td>\n",
       "      <td>0.693925</td>\n",
       "      <td>0.693825</td>\n",
       "      <td>0.691975</td>\n",
       "      <td>0.693650</td>\n",
       "      <td>0.694150</td>\n",
       "      <td>0.693505</td>\n",
       "      <td>0.000782</td>\n",
       "      <td>11</td>\n",
       "    </tr>\n",
       "    <tr>\n",
       "      <th>3</th>\n",
       "      <td>59.376529</td>\n",
       "      <td>2.619354</td>\n",
       "      <td>0.151162</td>\n",
       "      <td>0.002688</td>\n",
       "      <td>0.125</td>\n",
       "      <td>{'C': 0.125}</td>\n",
       "      <td>0.700925</td>\n",
       "      <td>0.702275</td>\n",
       "      <td>0.700875</td>\n",
       "      <td>0.702450</td>\n",
       "      <td>0.701400</td>\n",
       "      <td>0.701585</td>\n",
       "      <td>0.000663</td>\n",
       "      <td>10</td>\n",
       "    </tr>\n",
       "    <tr>\n",
       "      <th>4</th>\n",
       "      <td>67.468253</td>\n",
       "      <td>0.887103</td>\n",
       "      <td>0.147013</td>\n",
       "      <td>0.007192</td>\n",
       "      <td>0.25</td>\n",
       "      <td>{'C': 0.25}</td>\n",
       "      <td>0.708200</td>\n",
       "      <td>0.709775</td>\n",
       "      <td>0.708975</td>\n",
       "      <td>0.708825</td>\n",
       "      <td>0.708700</td>\n",
       "      <td>0.708895</td>\n",
       "      <td>0.000511</td>\n",
       "      <td>9</td>\n",
       "    </tr>\n",
       "    <tr>\n",
       "      <th>5</th>\n",
       "      <td>78.785817</td>\n",
       "      <td>1.959728</td>\n",
       "      <td>0.148136</td>\n",
       "      <td>0.004836</td>\n",
       "      <td>0.5</td>\n",
       "      <td>{'C': 0.5}</td>\n",
       "      <td>0.715125</td>\n",
       "      <td>0.716050</td>\n",
       "      <td>0.715375</td>\n",
       "      <td>0.715775</td>\n",
       "      <td>0.716350</td>\n",
       "      <td>0.715735</td>\n",
       "      <td>0.000443</td>\n",
       "      <td>8</td>\n",
       "    </tr>\n",
       "    <tr>\n",
       "      <th>6</th>\n",
       "      <td>85.458050</td>\n",
       "      <td>4.354527</td>\n",
       "      <td>0.147224</td>\n",
       "      <td>0.006981</td>\n",
       "      <td>1</td>\n",
       "      <td>{'C': 1}</td>\n",
       "      <td>0.720550</td>\n",
       "      <td>0.721800</td>\n",
       "      <td>0.720250</td>\n",
       "      <td>0.721650</td>\n",
       "      <td>0.720950</td>\n",
       "      <td>0.721040</td>\n",
       "      <td>0.000604</td>\n",
       "      <td>7</td>\n",
       "    </tr>\n",
       "    <tr>\n",
       "      <th>7</th>\n",
       "      <td>98.690702</td>\n",
       "      <td>8.611689</td>\n",
       "      <td>0.119810</td>\n",
       "      <td>0.027326</td>\n",
       "      <td>2</td>\n",
       "      <td>{'C': 2}</td>\n",
       "      <td>0.725575</td>\n",
       "      <td>0.725225</td>\n",
       "      <td>0.723675</td>\n",
       "      <td>0.726100</td>\n",
       "      <td>0.723775</td>\n",
       "      <td>0.724870</td>\n",
       "      <td>0.000976</td>\n",
       "      <td>6</td>\n",
       "    </tr>\n",
       "    <tr>\n",
       "      <th>8</th>\n",
       "      <td>110.466402</td>\n",
       "      <td>6.979461</td>\n",
       "      <td>0.096045</td>\n",
       "      <td>0.018917</td>\n",
       "      <td>4</td>\n",
       "      <td>{'C': 4}</td>\n",
       "      <td>0.728125</td>\n",
       "      <td>0.726900</td>\n",
       "      <td>0.724950</td>\n",
       "      <td>0.728900</td>\n",
       "      <td>0.726575</td>\n",
       "      <td>0.727090</td>\n",
       "      <td>0.001359</td>\n",
       "      <td>5</td>\n",
       "    </tr>\n",
       "    <tr>\n",
       "      <th>9</th>\n",
       "      <td>103.675841</td>\n",
       "      <td>3.815306</td>\n",
       "      <td>0.087199</td>\n",
       "      <td>0.025652</td>\n",
       "      <td>8</td>\n",
       "      <td>{'C': 8}</td>\n",
       "      <td>0.729775</td>\n",
       "      <td>0.728175</td>\n",
       "      <td>0.726150</td>\n",
       "      <td>0.729200</td>\n",
       "      <td>0.727075</td>\n",
       "      <td>0.728075</td>\n",
       "      <td>0.001332</td>\n",
       "      <td>4</td>\n",
       "    </tr>\n",
       "    <tr>\n",
       "      <th>10</th>\n",
       "      <td>98.406298</td>\n",
       "      <td>5.725615</td>\n",
       "      <td>0.058829</td>\n",
       "      <td>0.013961</td>\n",
       "      <td>16</td>\n",
       "      <td>{'C': 16}</td>\n",
       "      <td>0.730725</td>\n",
       "      <td>0.728100</td>\n",
       "      <td>0.726375</td>\n",
       "      <td>0.729625</td>\n",
       "      <td>0.728025</td>\n",
       "      <td>0.728570</td>\n",
       "      <td>0.001489</td>\n",
       "      <td>3</td>\n",
       "    </tr>\n",
       "    <tr>\n",
       "      <th>11</th>\n",
       "      <td>99.863743</td>\n",
       "      <td>3.147512</td>\n",
       "      <td>0.035317</td>\n",
       "      <td>0.009047</td>\n",
       "      <td>32</td>\n",
       "      <td>{'C': 32}</td>\n",
       "      <td>0.730950</td>\n",
       "      <td>0.728250</td>\n",
       "      <td>0.726800</td>\n",
       "      <td>0.729150</td>\n",
       "      <td>0.727950</td>\n",
       "      <td>0.728620</td>\n",
       "      <td>0.001386</td>\n",
       "      <td>2</td>\n",
       "    </tr>\n",
       "    <tr>\n",
       "      <th>12</th>\n",
       "      <td>86.231255</td>\n",
       "      <td>11.944561</td>\n",
       "      <td>0.028720</td>\n",
       "      <td>0.005655</td>\n",
       "      <td>64</td>\n",
       "      <td>{'C': 64}</td>\n",
       "      <td>0.731175</td>\n",
       "      <td>0.728125</td>\n",
       "      <td>0.726400</td>\n",
       "      <td>0.729200</td>\n",
       "      <td>0.728475</td>\n",
       "      <td>0.728675</td>\n",
       "      <td>0.001552</td>\n",
       "      <td>1</td>\n",
       "    </tr>\n",
       "  </tbody>\n",
       "</table>\n",
       "</div>"
      ],
      "text/plain": [
       "    mean_fit_time  std_fit_time  mean_score_time  std_score_time   param_C   \n",
       "0       31.566443      1.014928         0.180223        0.003066  0.015625  \\\n",
       "1       38.082305      0.976354         0.166000        0.013313   0.03125   \n",
       "2       42.168504      1.149418         0.154231        0.012126    0.0625   \n",
       "3       59.376529      2.619354         0.151162        0.002688     0.125   \n",
       "4       67.468253      0.887103         0.147013        0.007192      0.25   \n",
       "5       78.785817      1.959728         0.148136        0.004836       0.5   \n",
       "6       85.458050      4.354527         0.147224        0.006981         1   \n",
       "7       98.690702      8.611689         0.119810        0.027326         2   \n",
       "8      110.466402      6.979461         0.096045        0.018917         4   \n",
       "9      103.675841      3.815306         0.087199        0.025652         8   \n",
       "10      98.406298      5.725615         0.058829        0.013961        16   \n",
       "11      99.863743      3.147512         0.035317        0.009047        32   \n",
       "12      86.231255     11.944561         0.028720        0.005655        64   \n",
       "\n",
       "             params  split0_test_score  split1_test_score  split2_test_score   \n",
       "0   {'C': 0.015625}           0.679875           0.676700           0.674975  \\\n",
       "1    {'C': 0.03125}           0.687075           0.685925           0.682450   \n",
       "2     {'C': 0.0625}           0.693925           0.693825           0.691975   \n",
       "3      {'C': 0.125}           0.700925           0.702275           0.700875   \n",
       "4       {'C': 0.25}           0.708200           0.709775           0.708975   \n",
       "5        {'C': 0.5}           0.715125           0.716050           0.715375   \n",
       "6          {'C': 1}           0.720550           0.721800           0.720250   \n",
       "7          {'C': 2}           0.725575           0.725225           0.723675   \n",
       "8          {'C': 4}           0.728125           0.726900           0.724950   \n",
       "9          {'C': 8}           0.729775           0.728175           0.726150   \n",
       "10        {'C': 16}           0.730725           0.728100           0.726375   \n",
       "11        {'C': 32}           0.730950           0.728250           0.726800   \n",
       "12        {'C': 64}           0.731175           0.728125           0.726400   \n",
       "\n",
       "    split3_test_score  split4_test_score  mean_test_score  std_test_score   \n",
       "0            0.675800           0.677800         0.677030        0.001705  \\\n",
       "1            0.684875           0.685850         0.685235        0.001557   \n",
       "2            0.693650           0.694150         0.693505        0.000782   \n",
       "3            0.702450           0.701400         0.701585        0.000663   \n",
       "4            0.708825           0.708700         0.708895        0.000511   \n",
       "5            0.715775           0.716350         0.715735        0.000443   \n",
       "6            0.721650           0.720950         0.721040        0.000604   \n",
       "7            0.726100           0.723775         0.724870        0.000976   \n",
       "8            0.728900           0.726575         0.727090        0.001359   \n",
       "9            0.729200           0.727075         0.728075        0.001332   \n",
       "10           0.729625           0.728025         0.728570        0.001489   \n",
       "11           0.729150           0.727950         0.728620        0.001386   \n",
       "12           0.729200           0.728475         0.728675        0.001552   \n",
       "\n",
       "    rank_test_score  \n",
       "0                13  \n",
       "1                12  \n",
       "2                11  \n",
       "3                10  \n",
       "4                 9  \n",
       "5                 8  \n",
       "6                 7  \n",
       "7                 6  \n",
       "8                 5  \n",
       "9                 4  \n",
       "10                3  \n",
       "11                2  \n",
       "12                1  "
      ]
     },
     "execution_count": 59,
     "metadata": {},
     "output_type": "execute_result"
    }
   ],
   "source": [
    "df_clf_logreg = pd.DataFrame(clf_logreg.cv_results_)\n",
    "\n",
    "df_clf_logreg.to_csv(os.path.join(results_path,\"logreg_cv_tfidftag_results_extendedparamspace.csv\"))\n",
    "df_clf_logreg"
   ]
  },
  {
   "cell_type": "markdown",
   "metadata": {},
   "source": [
    "Evaluate best-classifier on test data"
   ]
  },
  {
   "cell_type": "code",
   "execution_count": 60,
   "metadata": {},
   "outputs": [
    {
     "data": {
      "text/html": [
       "<div>\n",
       "<style scoped>\n",
       "    .dataframe tbody tr th:only-of-type {\n",
       "        vertical-align: middle;\n",
       "    }\n",
       "\n",
       "    .dataframe tbody tr th {\n",
       "        vertical-align: top;\n",
       "    }\n",
       "\n",
       "    .dataframe thead th {\n",
       "        text-align: right;\n",
       "    }\n",
       "</style>\n",
       "<table border=\"1\" class=\"dataframe\">\n",
       "  <thead>\n",
       "    <tr style=\"text-align: right;\">\n",
       "      <th></th>\n",
       "      <th>0</th>\n",
       "      <th>1</th>\n",
       "      <th>accuracy</th>\n",
       "      <th>macro avg</th>\n",
       "      <th>weighted avg</th>\n",
       "    </tr>\n",
       "  </thead>\n",
       "  <tbody>\n",
       "    <tr>\n",
       "      <th>precision</th>\n",
       "      <td>0.724611</td>\n",
       "      <td>0.714425</td>\n",
       "      <td>0.7194</td>\n",
       "      <td>0.719518</td>\n",
       "      <td>0.719518</td>\n",
       "    </tr>\n",
       "    <tr>\n",
       "      <th>recall</th>\n",
       "      <td>0.707800</td>\n",
       "      <td>0.731000</td>\n",
       "      <td>0.7194</td>\n",
       "      <td>0.719400</td>\n",
       "      <td>0.719400</td>\n",
       "    </tr>\n",
       "    <tr>\n",
       "      <th>f1-score</th>\n",
       "      <td>0.716107</td>\n",
       "      <td>0.722618</td>\n",
       "      <td>0.7194</td>\n",
       "      <td>0.719362</td>\n",
       "      <td>0.719362</td>\n",
       "    </tr>\n",
       "    <tr>\n",
       "      <th>support</th>\n",
       "      <td>5000.000000</td>\n",
       "      <td>5000.000000</td>\n",
       "      <td>0.7194</td>\n",
       "      <td>10000.000000</td>\n",
       "      <td>10000.000000</td>\n",
       "    </tr>\n",
       "  </tbody>\n",
       "</table>\n",
       "</div>"
      ],
      "text/plain": [
       "                     0            1  accuracy     macro avg  weighted avg\n",
       "precision     0.724611     0.714425    0.7194      0.719518      0.719518\n",
       "recall        0.707800     0.731000    0.7194      0.719400      0.719400\n",
       "f1-score      0.716107     0.722618    0.7194      0.719362      0.719362\n",
       "support    5000.000000  5000.000000    0.7194  10000.000000  10000.000000"
      ]
     },
     "execution_count": 60,
     "metadata": {},
     "output_type": "execute_result"
    }
   ],
   "source": [
    "y_predict = clf_logreg.predict(X_test)\n",
    "df_cr = pd.DataFrame(classification_report(y_test, y_predict, output_dict=True))\n",
    "df_cr.to_csv(os.path.join(results_path,\"logreg_test_tfidftag_results_extendedparamspace.csv\"))\n",
    "df_cr"
   ]
  },
  {
   "cell_type": "markdown",
   "metadata": {},
   "source": [
    "## GradientBoosting"
   ]
  },
  {
   "cell_type": "code",
   "execution_count": 80,
   "metadata": {},
   "outputs": [],
   "source": [
    "from sklearn.ensemble import GradientBoostingClassifier"
   ]
  },
  {
   "cell_type": "code",
   "execution_count": 81,
   "metadata": {},
   "outputs": [],
   "source": [
    "gboost = GradientBoostingClassifier(random_state=42)\n",
    "parameters = {'n_estimators':[100, 200, 300], 'max_depth':[3, 4, 5]}\n",
    "# parameters = {'n_estimators':[100, 200, 300], 'max_depth':[3, 4, 5], 'learning_rate':[0.2, 0.5, 1.0]}\n",
    "\n",
    "clf_gboost = GridSearchCV(gboost, parameters, n_jobs=-1)"
   ]
  },
  {
   "cell_type": "code",
   "execution_count": null,
   "metadata": {},
   "outputs": [],
   "source": [
    "clf_gboost.fit(X, y)"
   ]
  },
  {
   "cell_type": "markdown",
   "metadata": {},
   "source": [
    "Save cross-validation results"
   ]
  },
  {
   "cell_type": "code",
   "execution_count": null,
   "metadata": {},
   "outputs": [],
   "source": [
    "df_clf_gboost = pd.DataFrame(clf_gboost.cv_results_)\n",
    "\n",
    "df_clf_gboost.to_csv(os.path.join(results_path,\"gboost_cv_tag_results.csv\"))\n",
    "df_clf_gboost"
   ]
  },
  {
   "cell_type": "markdown",
   "metadata": {},
   "source": [
    "Evaluate best-classifier on test data"
   ]
  },
  {
   "cell_type": "code",
   "execution_count": null,
   "metadata": {},
   "outputs": [],
   "source": [
    "y_predict = clf_gboost.predict(X_test)\n",
    "df_cr = pd.DataFrame(classification_report(y_test, y_predict, output_dict=True))\n",
    "df_cr.to_csv(os.path.join(results_path,\"gboost_test_tag_results.csv\"))\n",
    "df_cr"
   ]
  },
  {
   "cell_type": "markdown",
   "metadata": {},
   "source": [
    "## SVM"
   ]
  },
  {
   "cell_type": "code",
   "execution_count": 67,
   "metadata": {},
   "outputs": [],
   "source": [
    "from sklearn.svm import SVC"
   ]
  },
  {
   "cell_type": "code",
   "execution_count": 68,
   "metadata": {},
   "outputs": [],
   "source": [
    "svm = SVC(random_state=42)\n",
    "#parameters = {'C':[0.5, 1.0, 2.0, 3.0], 'kernel':['linear', 'poly', 'rbf', 'sigmoid'], 'degree':[1, 2, 3],\n",
    "#             'coef0':[0.0, 0.5, 1.0]}\n",
    "# parameters = {'C':[0.5, 1.0, 2.0, 3.0]}\n",
    "parameters = {'C':[1.0]}\n",
    "\n",
    "clf_svm = GridSearchCV(svm, parameters, n_jobs=-1)"
   ]
  },
  {
   "cell_type": "code",
   "execution_count": null,
   "metadata": {},
   "outputs": [],
   "source": [
    "clf_svm.fit(X, y)"
   ]
  },
  {
   "cell_type": "markdown",
   "metadata": {},
   "source": [
    "Save cross-validation results"
   ]
  },
  {
   "cell_type": "code",
   "execution_count": null,
   "metadata": {},
   "outputs": [],
   "source": [
    "df_clf_svm = pd.DataFrame(clf_svm.cv_results_)\n",
    "\n",
    "df_clf_svm.to_csv(os.path.join(results_path,\"svm_cv_results.csv\"))\n",
    "df_clf_svm"
   ]
  },
  {
   "cell_type": "markdown",
   "metadata": {},
   "source": [
    "Evaluate best-classifier on test data"
   ]
  },
  {
   "cell_type": "code",
   "execution_count": null,
   "metadata": {},
   "outputs": [],
   "source": [
    "y_predict = clf_svm.predict(X_test)\n",
    "df_cr = pd.DataFrame(classification_report(y_test, y_predict, output_dict=True))\n",
    "df_cr.to_csv(os.path.join(results_path,\"svm_test_results.csv\"))\n",
    "df_cr"
   ]
  },
  {
   "cell_type": "markdown",
   "metadata": {},
   "source": [
    "## Random forest"
   ]
  },
  {
   "cell_type": "code",
   "execution_count": 61,
   "metadata": {},
   "outputs": [],
   "source": [
    "from sklearn.ensemble import RandomForestClassifier"
   ]
  },
  {
   "cell_type": "code",
   "execution_count": 62,
   "metadata": {},
   "outputs": [],
   "source": [
    "rf = RandomForestClassifier(random_state=42, n_jobs=-1)\n",
    "# parameters = {'n_estimators':[100, 200, 300], 'criterion':['gini', 'entropy', 'log_loss']}\n",
    "parameters = {'n_estimators':[300], 'criterion':['gini']}\n",
    "\n",
    "clf_rf = GridSearchCV(rf, parameters, n_jobs=-1)"
   ]
  },
  {
   "cell_type": "code",
   "execution_count": 63,
   "metadata": {},
   "outputs": [
    {
     "data": {
      "text/html": [
       "<style>#sk-container-id-5 {color: black;background-color: white;}#sk-container-id-5 pre{padding: 0;}#sk-container-id-5 div.sk-toggleable {background-color: white;}#sk-container-id-5 label.sk-toggleable__label {cursor: pointer;display: block;width: 100%;margin-bottom: 0;padding: 0.3em;box-sizing: border-box;text-align: center;}#sk-container-id-5 label.sk-toggleable__label-arrow:before {content: \"▸\";float: left;margin-right: 0.25em;color: #696969;}#sk-container-id-5 label.sk-toggleable__label-arrow:hover:before {color: black;}#sk-container-id-5 div.sk-estimator:hover label.sk-toggleable__label-arrow:before {color: black;}#sk-container-id-5 div.sk-toggleable__content {max-height: 0;max-width: 0;overflow: hidden;text-align: left;background-color: #f0f8ff;}#sk-container-id-5 div.sk-toggleable__content pre {margin: 0.2em;color: black;border-radius: 0.25em;background-color: #f0f8ff;}#sk-container-id-5 input.sk-toggleable__control:checked~div.sk-toggleable__content {max-height: 200px;max-width: 100%;overflow: auto;}#sk-container-id-5 input.sk-toggleable__control:checked~label.sk-toggleable__label-arrow:before {content: \"▾\";}#sk-container-id-5 div.sk-estimator input.sk-toggleable__control:checked~label.sk-toggleable__label {background-color: #d4ebff;}#sk-container-id-5 div.sk-label input.sk-toggleable__control:checked~label.sk-toggleable__label {background-color: #d4ebff;}#sk-container-id-5 input.sk-hidden--visually {border: 0;clip: rect(1px 1px 1px 1px);clip: rect(1px, 1px, 1px, 1px);height: 1px;margin: -1px;overflow: hidden;padding: 0;position: absolute;width: 1px;}#sk-container-id-5 div.sk-estimator {font-family: monospace;background-color: #f0f8ff;border: 1px dotted black;border-radius: 0.25em;box-sizing: border-box;margin-bottom: 0.5em;}#sk-container-id-5 div.sk-estimator:hover {background-color: #d4ebff;}#sk-container-id-5 div.sk-parallel-item::after {content: \"\";width: 100%;border-bottom: 1px solid gray;flex-grow: 1;}#sk-container-id-5 div.sk-label:hover label.sk-toggleable__label {background-color: #d4ebff;}#sk-container-id-5 div.sk-serial::before {content: \"\";position: absolute;border-left: 1px solid gray;box-sizing: border-box;top: 0;bottom: 0;left: 50%;z-index: 0;}#sk-container-id-5 div.sk-serial {display: flex;flex-direction: column;align-items: center;background-color: white;padding-right: 0.2em;padding-left: 0.2em;position: relative;}#sk-container-id-5 div.sk-item {position: relative;z-index: 1;}#sk-container-id-5 div.sk-parallel {display: flex;align-items: stretch;justify-content: center;background-color: white;position: relative;}#sk-container-id-5 div.sk-item::before, #sk-container-id-5 div.sk-parallel-item::before {content: \"\";position: absolute;border-left: 1px solid gray;box-sizing: border-box;top: 0;bottom: 0;left: 50%;z-index: -1;}#sk-container-id-5 div.sk-parallel-item {display: flex;flex-direction: column;z-index: 1;position: relative;background-color: white;}#sk-container-id-5 div.sk-parallel-item:first-child::after {align-self: flex-end;width: 50%;}#sk-container-id-5 div.sk-parallel-item:last-child::after {align-self: flex-start;width: 50%;}#sk-container-id-5 div.sk-parallel-item:only-child::after {width: 0;}#sk-container-id-5 div.sk-dashed-wrapped {border: 1px dashed gray;margin: 0 0.4em 0.5em 0.4em;box-sizing: border-box;padding-bottom: 0.4em;background-color: white;}#sk-container-id-5 div.sk-label label {font-family: monospace;font-weight: bold;display: inline-block;line-height: 1.2em;}#sk-container-id-5 div.sk-label-container {text-align: center;}#sk-container-id-5 div.sk-container {/* jupyter's `normalize.less` sets `[hidden] { display: none; }` but bootstrap.min.css set `[hidden] { display: none !important; }` so we also need the `!important` here to be able to override the default hidden behavior on the sphinx rendered scikit-learn.org. See: https://github.com/scikit-learn/scikit-learn/issues/21755 */display: inline-block !important;position: relative;}#sk-container-id-5 div.sk-text-repr-fallback {display: none;}</style><div id=\"sk-container-id-5\" class=\"sk-top-container\"><div class=\"sk-text-repr-fallback\"><pre>GridSearchCV(estimator=RandomForestClassifier(n_jobs=-1, random_state=42),\n",
       "             n_jobs=-1,\n",
       "             param_grid={&#x27;criterion&#x27;: [&#x27;gini&#x27;], &#x27;n_estimators&#x27;: [300]})</pre><b>In a Jupyter environment, please rerun this cell to show the HTML representation or trust the notebook. <br />On GitHub, the HTML representation is unable to render, please try loading this page with nbviewer.org.</b></div><div class=\"sk-container\" hidden><div class=\"sk-item sk-dashed-wrapped\"><div class=\"sk-label-container\"><div class=\"sk-label sk-toggleable\"><input class=\"sk-toggleable__control sk-hidden--visually\" id=\"sk-estimator-id-13\" type=\"checkbox\" ><label for=\"sk-estimator-id-13\" class=\"sk-toggleable__label sk-toggleable__label-arrow\">GridSearchCV</label><div class=\"sk-toggleable__content\"><pre>GridSearchCV(estimator=RandomForestClassifier(n_jobs=-1, random_state=42),\n",
       "             n_jobs=-1,\n",
       "             param_grid={&#x27;criterion&#x27;: [&#x27;gini&#x27;], &#x27;n_estimators&#x27;: [300]})</pre></div></div></div><div class=\"sk-parallel\"><div class=\"sk-parallel-item\"><div class=\"sk-item\"><div class=\"sk-label-container\"><div class=\"sk-label sk-toggleable\"><input class=\"sk-toggleable__control sk-hidden--visually\" id=\"sk-estimator-id-14\" type=\"checkbox\" ><label for=\"sk-estimator-id-14\" class=\"sk-toggleable__label sk-toggleable__label-arrow\">estimator: RandomForestClassifier</label><div class=\"sk-toggleable__content\"><pre>RandomForestClassifier(n_jobs=-1, random_state=42)</pre></div></div></div><div class=\"sk-serial\"><div class=\"sk-item\"><div class=\"sk-estimator sk-toggleable\"><input class=\"sk-toggleable__control sk-hidden--visually\" id=\"sk-estimator-id-15\" type=\"checkbox\" ><label for=\"sk-estimator-id-15\" class=\"sk-toggleable__label sk-toggleable__label-arrow\">RandomForestClassifier</label><div class=\"sk-toggleable__content\"><pre>RandomForestClassifier(n_jobs=-1, random_state=42)</pre></div></div></div></div></div></div></div></div></div></div>"
      ],
      "text/plain": [
       "GridSearchCV(estimator=RandomForestClassifier(n_jobs=-1, random_state=42),\n",
       "             n_jobs=-1,\n",
       "             param_grid={'criterion': ['gini'], 'n_estimators': [300]})"
      ]
     },
     "execution_count": 63,
     "metadata": {},
     "output_type": "execute_result"
    }
   ],
   "source": [
    "clf_rf.fit(X, y)"
   ]
  },
  {
   "cell_type": "markdown",
   "metadata": {},
   "source": [
    "Save cross-validation results"
   ]
  },
  {
   "cell_type": "code",
   "execution_count": 64,
   "metadata": {},
   "outputs": [
    {
     "data": {
      "text/html": [
       "<div>\n",
       "<style scoped>\n",
       "    .dataframe tbody tr th:only-of-type {\n",
       "        vertical-align: middle;\n",
       "    }\n",
       "\n",
       "    .dataframe tbody tr th {\n",
       "        vertical-align: top;\n",
       "    }\n",
       "\n",
       "    .dataframe thead th {\n",
       "        text-align: right;\n",
       "    }\n",
       "</style>\n",
       "<table border=\"1\" class=\"dataframe\">\n",
       "  <thead>\n",
       "    <tr style=\"text-align: right;\">\n",
       "      <th></th>\n",
       "      <th>mean_fit_time</th>\n",
       "      <th>std_fit_time</th>\n",
       "      <th>mean_score_time</th>\n",
       "      <th>std_score_time</th>\n",
       "      <th>param_criterion</th>\n",
       "      <th>param_n_estimators</th>\n",
       "      <th>params</th>\n",
       "      <th>split0_test_score</th>\n",
       "      <th>split1_test_score</th>\n",
       "      <th>split2_test_score</th>\n",
       "      <th>split3_test_score</th>\n",
       "      <th>split4_test_score</th>\n",
       "      <th>mean_test_score</th>\n",
       "      <th>std_test_score</th>\n",
       "      <th>rank_test_score</th>\n",
       "    </tr>\n",
       "  </thead>\n",
       "  <tbody>\n",
       "    <tr>\n",
       "      <th>0</th>\n",
       "      <td>375.550868</td>\n",
       "      <td>1.511019</td>\n",
       "      <td>0.675215</td>\n",
       "      <td>0.149193</td>\n",
       "      <td>gini</td>\n",
       "      <td>300</td>\n",
       "      <td>{'criterion': 'gini', 'n_estimators': 300}</td>\n",
       "      <td>0.6791</td>\n",
       "      <td>0.676375</td>\n",
       "      <td>0.67695</td>\n",
       "      <td>0.6766</td>\n",
       "      <td>0.678175</td>\n",
       "      <td>0.67744</td>\n",
       "      <td>0.001037</td>\n",
       "      <td>1</td>\n",
       "    </tr>\n",
       "  </tbody>\n",
       "</table>\n",
       "</div>"
      ],
      "text/plain": [
       "   mean_fit_time  std_fit_time  mean_score_time  std_score_time   \n",
       "0     375.550868      1.511019         0.675215        0.149193  \\\n",
       "\n",
       "  param_criterion param_n_estimators   \n",
       "0            gini                300  \\\n",
       "\n",
       "                                       params  split0_test_score   \n",
       "0  {'criterion': 'gini', 'n_estimators': 300}             0.6791  \\\n",
       "\n",
       "   split1_test_score  split2_test_score  split3_test_score  split4_test_score   \n",
       "0           0.676375            0.67695             0.6766           0.678175  \\\n",
       "\n",
       "   mean_test_score  std_test_score  rank_test_score  \n",
       "0          0.67744        0.001037                1  "
      ]
     },
     "execution_count": 64,
     "metadata": {},
     "output_type": "execute_result"
    }
   ],
   "source": [
    "df_clf_rf = pd.DataFrame(clf_rf.cv_results_)\n",
    "\n",
    "df_clf_rf.to_csv(os.path.join(results_path,\"randomforest_cv_results.csv\"))\n",
    "df_clf_rf"
   ]
  },
  {
   "cell_type": "markdown",
   "metadata": {},
   "source": [
    "Evaluate best-classifier on test data"
   ]
  },
  {
   "cell_type": "code",
   "execution_count": 65,
   "metadata": {},
   "outputs": [
    {
     "data": {
      "text/html": [
       "<div>\n",
       "<style scoped>\n",
       "    .dataframe tbody tr th:only-of-type {\n",
       "        vertical-align: middle;\n",
       "    }\n",
       "\n",
       "    .dataframe tbody tr th {\n",
       "        vertical-align: top;\n",
       "    }\n",
       "\n",
       "    .dataframe thead th {\n",
       "        text-align: right;\n",
       "    }\n",
       "</style>\n",
       "<table border=\"1\" class=\"dataframe\">\n",
       "  <thead>\n",
       "    <tr style=\"text-align: right;\">\n",
       "      <th></th>\n",
       "      <th>0</th>\n",
       "      <th>1</th>\n",
       "      <th>accuracy</th>\n",
       "      <th>macro avg</th>\n",
       "      <th>weighted avg</th>\n",
       "    </tr>\n",
       "  </thead>\n",
       "  <tbody>\n",
       "    <tr>\n",
       "      <th>precision</th>\n",
       "      <td>0.665680</td>\n",
       "      <td>0.695122</td>\n",
       "      <td>0.6792</td>\n",
       "      <td>0.680401</td>\n",
       "      <td>0.680401</td>\n",
       "    </tr>\n",
       "    <tr>\n",
       "      <th>recall</th>\n",
       "      <td>0.720000</td>\n",
       "      <td>0.638400</td>\n",
       "      <td>0.6792</td>\n",
       "      <td>0.679200</td>\n",
       "      <td>0.679200</td>\n",
       "    </tr>\n",
       "    <tr>\n",
       "      <th>f1-score</th>\n",
       "      <td>0.691776</td>\n",
       "      <td>0.665555</td>\n",
       "      <td>0.6792</td>\n",
       "      <td>0.678665</td>\n",
       "      <td>0.678665</td>\n",
       "    </tr>\n",
       "    <tr>\n",
       "      <th>support</th>\n",
       "      <td>5000.000000</td>\n",
       "      <td>5000.000000</td>\n",
       "      <td>0.6792</td>\n",
       "      <td>10000.000000</td>\n",
       "      <td>10000.000000</td>\n",
       "    </tr>\n",
       "  </tbody>\n",
       "</table>\n",
       "</div>"
      ],
      "text/plain": [
       "                     0            1  accuracy     macro avg  weighted avg\n",
       "precision     0.665680     0.695122    0.6792      0.680401      0.680401\n",
       "recall        0.720000     0.638400    0.6792      0.679200      0.679200\n",
       "f1-score      0.691776     0.665555    0.6792      0.678665      0.678665\n",
       "support    5000.000000  5000.000000    0.6792  10000.000000  10000.000000"
      ]
     },
     "execution_count": 65,
     "metadata": {},
     "output_type": "execute_result"
    }
   ],
   "source": [
    "y_predict = clf_rf.predict(X_test)\n",
    "df_cr = pd.DataFrame(classification_report(y_test, y_predict, output_dict=True))\n",
    "df_cr.to_csv(os.path.join(results_path,\"randomforest_test_results.csv\"))\n",
    "df_cr"
   ]
  },
  {
   "cell_type": "code",
   "execution_count": null,
   "metadata": {},
   "outputs": [],
   "source": []
  }
 ],
 "metadata": {
  "kernelspec": {
   "display_name": "text-detector",
   "language": "python",
   "name": "text-detector"
  },
  "language_info": {
   "codemirror_mode": {
    "name": "ipython",
    "version": 3
   },
   "file_extension": ".py",
   "mimetype": "text/x-python",
   "name": "python",
   "nbconvert_exporter": "python",
   "pygments_lexer": "ipython3",
   "version": "3.10.9"
  }
 },
 "nbformat": 4,
 "nbformat_minor": 5
}
