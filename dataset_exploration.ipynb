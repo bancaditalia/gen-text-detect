{
 "cells": [
  {
   "cell_type": "code",
   "execution_count": 52,
   "id": "a47c9ac1",
   "metadata": {},
   "outputs": [],
   "source": [
    "import json\n",
    "import pandas as pd\n",
    "import os\n",
    "import ipywidgets as widgets"
   ]
  },
  {
   "cell_type": "code",
   "execution_count": 53,
   "id": "19d7246f",
   "metadata": {},
   "outputs": [],
   "source": [
    "data_path = \"./data\"\n",
    "datasets = sorted([f for f in os.listdir(data_path) if os.path.isfile(os.path.join(data_path, f))])"
   ]
  },
  {
   "cell_type": "markdown",
   "id": "e03de3d0",
   "metadata": {},
   "source": [
    "## Batch describe all datasets"
   ]
  },
  {
   "cell_type": "code",
   "execution_count": 7,
   "id": "afa30c6d",
   "metadata": {},
   "outputs": [],
   "source": [
    "def get_df_stats(df):\n",
    "    description = df.describe(include='all')\n",
    "    n_entries = description.loc['count']['text']\n",
    "    max_tokens = int(description.loc['max']['length'])\n",
    "    min_tokens = int(description.loc['min']['length'])\n",
    "    avg_tokens = description.loc['mean']['length']\n",
    "    return [n_entries, max_tokens, min_tokens, avg_tokens]"
   ]
  },
  {
   "cell_type": "code",
   "execution_count": 10,
   "id": "e3629099",
   "metadata": {},
   "outputs": [],
   "source": [
    "stats = {}\n",
    "for i, dataset in enumerate(datasets):\n",
    "    path = os.path.join(data_path, dataset)\n",
    "    if os.path.exists(path):\n",
    "        df = pd.read_json(path, lines = True)\n",
    "        stats[i] = dataset.split('.')[0:2] + get_df_stats(df)\n",
    "\n",
    "df_stats = pd.DataFrame.from_dict(stats, \n",
    "                                  orient='index', \n",
    "                                  columns=[\"source\", \"split\", \"n_entries\", \"max_tokens\", \"min_tokens\", \"avg_tokens\"])"
   ]
  },
  {
   "cell_type": "code",
   "execution_count": 11,
   "id": "dccd916b",
   "metadata": {},
   "outputs": [
    {
     "data": {
      "text/html": [
       "<div>\n",
       "<style scoped>\n",
       "    .dataframe tbody tr th:only-of-type {\n",
       "        vertical-align: middle;\n",
       "    }\n",
       "\n",
       "    .dataframe tbody tr th {\n",
       "        vertical-align: top;\n",
       "    }\n",
       "\n",
       "    .dataframe thead th {\n",
       "        text-align: right;\n",
       "    }\n",
       "</style>\n",
       "<table border=\"1\" class=\"dataframe\">\n",
       "  <thead>\n",
       "    <tr style=\"text-align: right;\">\n",
       "      <th></th>\n",
       "      <th>source</th>\n",
       "      <th>split</th>\n",
       "      <th>n_entries</th>\n",
       "      <th>max_tokens</th>\n",
       "      <th>min_tokens</th>\n",
       "      <th>avg_tokens</th>\n",
       "    </tr>\n",
       "  </thead>\n",
       "  <tbody>\n",
       "    <tr>\n",
       "      <th>0</th>\n",
       "      <td>large-762M-k40</td>\n",
       "      <td>test</td>\n",
       "      <td>5000</td>\n",
       "      <td>1024</td>\n",
       "      <td>4</td>\n",
       "      <td>638.419600</td>\n",
       "    </tr>\n",
       "    <tr>\n",
       "      <th>1</th>\n",
       "      <td>large-762M-k40</td>\n",
       "      <td>train</td>\n",
       "      <td>250000</td>\n",
       "      <td>1030</td>\n",
       "      <td>1</td>\n",
       "      <td>639.871452</td>\n",
       "    </tr>\n",
       "    <tr>\n",
       "      <th>2</th>\n",
       "      <td>large-762M-k40</td>\n",
       "      <td>valid</td>\n",
       "      <td>5000</td>\n",
       "      <td>1024</td>\n",
       "      <td>5</td>\n",
       "      <td>640.930400</td>\n",
       "    </tr>\n",
       "    <tr>\n",
       "      <th>3</th>\n",
       "      <td>large-762M</td>\n",
       "      <td>test</td>\n",
       "      <td>5000</td>\n",
       "      <td>1029</td>\n",
       "      <td>2</td>\n",
       "      <td>652.207400</td>\n",
       "    </tr>\n",
       "    <tr>\n",
       "      <th>4</th>\n",
       "      <td>large-762M</td>\n",
       "      <td>train</td>\n",
       "      <td>250000</td>\n",
       "      <td>1032</td>\n",
       "      <td>0</td>\n",
       "      <td>654.371136</td>\n",
       "    </tr>\n",
       "    <tr>\n",
       "      <th>5</th>\n",
       "      <td>large-762M</td>\n",
       "      <td>valid</td>\n",
       "      <td>5000</td>\n",
       "      <td>1024</td>\n",
       "      <td>0</td>\n",
       "      <td>647.239000</td>\n",
       "    </tr>\n",
       "    <tr>\n",
       "      <th>6</th>\n",
       "      <td>medium-345M-k40</td>\n",
       "      <td>test</td>\n",
       "      <td>5000</td>\n",
       "      <td>1024</td>\n",
       "      <td>5</td>\n",
       "      <td>656.393800</td>\n",
       "    </tr>\n",
       "    <tr>\n",
       "      <th>7</th>\n",
       "      <td>medium-345M-k40</td>\n",
       "      <td>train</td>\n",
       "      <td>250000</td>\n",
       "      <td>1036</td>\n",
       "      <td>1</td>\n",
       "      <td>658.713728</td>\n",
       "    </tr>\n",
       "    <tr>\n",
       "      <th>8</th>\n",
       "      <td>medium-345M-k40</td>\n",
       "      <td>valid</td>\n",
       "      <td>5000</td>\n",
       "      <td>1024</td>\n",
       "      <td>6</td>\n",
       "      <td>658.022800</td>\n",
       "    </tr>\n",
       "    <tr>\n",
       "      <th>9</th>\n",
       "      <td>medium-345M</td>\n",
       "      <td>test</td>\n",
       "      <td>5000</td>\n",
       "      <td>1032</td>\n",
       "      <td>1</td>\n",
       "      <td>670.952000</td>\n",
       "    </tr>\n",
       "    <tr>\n",
       "      <th>10</th>\n",
       "      <td>medium-345M</td>\n",
       "      <td>train</td>\n",
       "      <td>250000</td>\n",
       "      <td>1033</td>\n",
       "      <td>0</td>\n",
       "      <td>672.801952</td>\n",
       "    </tr>\n",
       "    <tr>\n",
       "      <th>11</th>\n",
       "      <td>medium-345M</td>\n",
       "      <td>valid</td>\n",
       "      <td>5000</td>\n",
       "      <td>1031</td>\n",
       "      <td>1</td>\n",
       "      <td>671.746800</td>\n",
       "    </tr>\n",
       "    <tr>\n",
       "      <th>12</th>\n",
       "      <td>small-117M-k40</td>\n",
       "      <td>test</td>\n",
       "      <td>5000</td>\n",
       "      <td>1025</td>\n",
       "      <td>1</td>\n",
       "      <td>625.448000</td>\n",
       "    </tr>\n",
       "    <tr>\n",
       "      <th>13</th>\n",
       "      <td>small-117M-k40</td>\n",
       "      <td>train</td>\n",
       "      <td>250000</td>\n",
       "      <td>1065</td>\n",
       "      <td>1</td>\n",
       "      <td>620.171432</td>\n",
       "    </tr>\n",
       "    <tr>\n",
       "      <th>14</th>\n",
       "      <td>small-117M-k40</td>\n",
       "      <td>valid</td>\n",
       "      <td>5000</td>\n",
       "      <td>1024</td>\n",
       "      <td>1</td>\n",
       "      <td>626.875200</td>\n",
       "    </tr>\n",
       "    <tr>\n",
       "      <th>15</th>\n",
       "      <td>small-117M</td>\n",
       "      <td>test</td>\n",
       "      <td>5000</td>\n",
       "      <td>1027</td>\n",
       "      <td>0</td>\n",
       "      <td>685.796600</td>\n",
       "    </tr>\n",
       "    <tr>\n",
       "      <th>16</th>\n",
       "      <td>small-117M</td>\n",
       "      <td>train</td>\n",
       "      <td>250000</td>\n",
       "      <td>1112</td>\n",
       "      <td>0</td>\n",
       "      <td>683.446612</td>\n",
       "    </tr>\n",
       "    <tr>\n",
       "      <th>17</th>\n",
       "      <td>small-117M</td>\n",
       "      <td>valid</td>\n",
       "      <td>5000</td>\n",
       "      <td>1028</td>\n",
       "      <td>0</td>\n",
       "      <td>679.569200</td>\n",
       "    </tr>\n",
       "    <tr>\n",
       "      <th>18</th>\n",
       "      <td>webtext</td>\n",
       "      <td>test</td>\n",
       "      <td>5000</td>\n",
       "      <td>1024</td>\n",
       "      <td>39</td>\n",
       "      <td>580.059600</td>\n",
       "    </tr>\n",
       "    <tr>\n",
       "      <th>19</th>\n",
       "      <td>webtext</td>\n",
       "      <td>train</td>\n",
       "      <td>250000</td>\n",
       "      <td>1024</td>\n",
       "      <td>32</td>\n",
       "      <td>585.305060</td>\n",
       "    </tr>\n",
       "    <tr>\n",
       "      <th>20</th>\n",
       "      <td>webtext</td>\n",
       "      <td>valid</td>\n",
       "      <td>5000</td>\n",
       "      <td>1024</td>\n",
       "      <td>38</td>\n",
       "      <td>586.578200</td>\n",
       "    </tr>\n",
       "    <tr>\n",
       "      <th>22</th>\n",
       "      <td>xl-1542M-k40</td>\n",
       "      <td>test</td>\n",
       "      <td>5000</td>\n",
       "      <td>1024</td>\n",
       "      <td>14</td>\n",
       "      <td>621.748600</td>\n",
       "    </tr>\n",
       "    <tr>\n",
       "      <th>23</th>\n",
       "      <td>xl-1542M-k40</td>\n",
       "      <td>train</td>\n",
       "      <td>250000</td>\n",
       "      <td>1032</td>\n",
       "      <td>3</td>\n",
       "      <td>636.978828</td>\n",
       "    </tr>\n",
       "    <tr>\n",
       "      <th>24</th>\n",
       "      <td>xl-1542M-k40</td>\n",
       "      <td>valid</td>\n",
       "      <td>5000</td>\n",
       "      <td>1024</td>\n",
       "      <td>2</td>\n",
       "      <td>636.153600</td>\n",
       "    </tr>\n",
       "    <tr>\n",
       "      <th>25</th>\n",
       "      <td>xl-1542M</td>\n",
       "      <td>test</td>\n",
       "      <td>5000</td>\n",
       "      <td>1024</td>\n",
       "      <td>5</td>\n",
       "      <td>629.564000</td>\n",
       "    </tr>\n",
       "    <tr>\n",
       "      <th>26</th>\n",
       "      <td>xl-1542M</td>\n",
       "      <td>train</td>\n",
       "      <td>250000</td>\n",
       "      <td>1033</td>\n",
       "      <td>0</td>\n",
       "      <td>625.238812</td>\n",
       "    </tr>\n",
       "    <tr>\n",
       "      <th>27</th>\n",
       "      <td>xl-1542M</td>\n",
       "      <td>valid</td>\n",
       "      <td>5000</td>\n",
       "      <td>1025</td>\n",
       "      <td>5</td>\n",
       "      <td>623.467400</td>\n",
       "    </tr>\n",
       "  </tbody>\n",
       "</table>\n",
       "</div>"
      ],
      "text/plain": [
       "             source  split  n_entries  max_tokens  min_tokens  avg_tokens\n",
       "0    large-762M-k40   test       5000        1024           4  638.419600\n",
       "1    large-762M-k40  train     250000        1030           1  639.871452\n",
       "2    large-762M-k40  valid       5000        1024           5  640.930400\n",
       "3        large-762M   test       5000        1029           2  652.207400\n",
       "4        large-762M  train     250000        1032           0  654.371136\n",
       "5        large-762M  valid       5000        1024           0  647.239000\n",
       "6   medium-345M-k40   test       5000        1024           5  656.393800\n",
       "7   medium-345M-k40  train     250000        1036           1  658.713728\n",
       "8   medium-345M-k40  valid       5000        1024           6  658.022800\n",
       "9       medium-345M   test       5000        1032           1  670.952000\n",
       "10      medium-345M  train     250000        1033           0  672.801952\n",
       "11      medium-345M  valid       5000        1031           1  671.746800\n",
       "12   small-117M-k40   test       5000        1025           1  625.448000\n",
       "13   small-117M-k40  train     250000        1065           1  620.171432\n",
       "14   small-117M-k40  valid       5000        1024           1  626.875200\n",
       "15       small-117M   test       5000        1027           0  685.796600\n",
       "16       small-117M  train     250000        1112           0  683.446612\n",
       "17       small-117M  valid       5000        1028           0  679.569200\n",
       "18          webtext   test       5000        1024          39  580.059600\n",
       "19          webtext  train     250000        1024          32  585.305060\n",
       "20          webtext  valid       5000        1024          38  586.578200\n",
       "22     xl-1542M-k40   test       5000        1024          14  621.748600\n",
       "23     xl-1542M-k40  train     250000        1032           3  636.978828\n",
       "24     xl-1542M-k40  valid       5000        1024           2  636.153600\n",
       "25         xl-1542M   test       5000        1024           5  629.564000\n",
       "26         xl-1542M  train     250000        1033           0  625.238812\n",
       "27         xl-1542M  valid       5000        1025           5  623.467400"
      ]
     },
     "execution_count": 11,
     "metadata": {},
     "output_type": "execute_result"
    }
   ],
   "source": [
    "df_stats"
   ]
  },
  {
   "cell_type": "code",
   "execution_count": null,
   "id": "635dc3db",
   "metadata": {
    "scrolled": false
   },
   "outputs": [],
   "source": [
    "import plotly.express as px\n",
    "\n",
    "for y in list(df_stats.columns)[-3:]:\n",
    "    fig = px.bar(df_stats, x='split', color='source', y=y, barmode='group', title=y)\n",
    "    fig.show()"
   ]
  },
  {
   "cell_type": "code",
   "execution_count": 55,
   "id": "63fc66cd",
   "metadata": {},
   "outputs": [],
   "source": [
    "from sklearn.feature_extraction.text import CountVectorizer"
   ]
  },
  {
   "cell_type": "code",
   "execution_count": 56,
   "id": "088e23ae",
   "metadata": {},
   "outputs": [],
   "source": [
    "from nlp_engine.preprocessing import transformers as tfs\n",
    "from sklearn.pipeline import make_pipeline\n",
    "\n",
    "def tokenize_corpus(corpus):\n",
    "    tokenized_corpus = make_pipeline(\n",
    "        tfs.WordTokenizer(), \n",
    "        tfs.WordsFilter(drop_symbols=True, drop_digits=True)\n",
    "    ).fit_transform(corpus)\n",
    "    return tokenized_corpus"
   ]
  },
  {
   "cell_type": "code",
   "execution_count": 57,
   "id": "edb4949c",
   "metadata": {},
   "outputs": [],
   "source": [
    "def get_features(corpus, min_df=1):\n",
    "    vectorizer = CountVectorizer(min_df=min_df)\n",
    "    X = vectorizer.fit_transform(corpus)\n",
    "    return set(vectorizer.get_feature_names_out())"
   ]
  },
  {
   "cell_type": "code",
   "execution_count": 9,
   "id": "0906e33d",
   "metadata": {},
   "outputs": [
    {
     "data": {
      "text/plain": [
       "['large-762M-k40.test.jsonl',\n",
       " 'large-762M-k40.train.jsonl',\n",
       " 'large-762M-k40.valid.jsonl',\n",
       " 'large-762M.test.jsonl',\n",
       " 'large-762M.train.jsonl',\n",
       " 'large-762M.valid.jsonl',\n",
       " 'medium-345M-k40.test.jsonl',\n",
       " 'medium-345M-k40.train.jsonl',\n",
       " 'medium-345M-k40.valid.jsonl',\n",
       " 'medium-345M.test.jsonl',\n",
       " 'medium-345M.train.jsonl',\n",
       " 'medium-345M.valid.jsonl',\n",
       " 'small-117M-k40.test.jsonl',\n",
       " 'small-117M-k40.train.jsonl',\n",
       " 'small-117M-k40.valid.jsonl',\n",
       " 'small-117M.test.jsonl',\n",
       " 'small-117M.train.jsonl',\n",
       " 'small-117M.valid.jsonl',\n",
       " 'webtext.test.jsonl',\n",
       " 'webtext.train.jsonl',\n",
       " 'webtext.valid.jsonl',\n",
       " 'xl-1542M-k40.test.jsonl',\n",
       " 'xl-1542M-k40.train.jsonl',\n",
       " 'xl-1542M-k40.valid.jsonl',\n",
       " 'xl-1542M.test.jsonl',\n",
       " 'xl-1542M.train.jsonl',\n",
       " 'xl-1542M.valid.jsonl']"
      ]
     },
     "execution_count": 9,
     "metadata": {},
     "output_type": "execute_result"
    }
   ],
   "source": [
    "datasets"
   ]
  },
  {
   "cell_type": "code",
   "execution_count": 15,
   "id": "daf8a75d",
   "metadata": {},
   "outputs": [],
   "source": [
    "selected_datasets = [x for x in datasets if \"train\" in x]"
   ]
  },
  {
   "cell_type": "code",
   "execution_count": 16,
   "id": "f03a27b8",
   "metadata": {},
   "outputs": [
    {
     "data": {
      "text/plain": [
       "['large-762M-k40.train.jsonl',\n",
       " 'large-762M.train.jsonl',\n",
       " 'medium-345M-k40.train.jsonl',\n",
       " 'medium-345M.train.jsonl',\n",
       " 'small-117M-k40.train.jsonl',\n",
       " 'small-117M.train.jsonl',\n",
       " 'webtext.train.jsonl',\n",
       " 'xl-1542M-k40.train.jsonl',\n",
       " 'xl-1542M.train.jsonl']"
      ]
     },
     "execution_count": 16,
     "metadata": {},
     "output_type": "execute_result"
    }
   ],
   "source": [
    "selected_datasets"
   ]
  },
  {
   "cell_type": "code",
   "execution_count": 73,
   "id": "62f22106",
   "metadata": {},
   "outputs": [],
   "source": [
    "selected_datasets = ['xl-1542M-k40.train.jsonl']"
   ]
  },
  {
   "cell_type": "code",
   "execution_count": 74,
   "id": "61bf4493",
   "metadata": {},
   "outputs": [],
   "source": [
    "tokens = {}\n",
    "for dataset in selected_datasets:\n",
    "    path = os.path.join(data_path, dataset)\n",
    "    if os.path.exists(path):\n",
    "        df = pd.read_json(path, lines = True)\n",
    "        tokens[dataset] = tokenize_corpus(df['text'].to_list())"
   ]
  },
  {
   "cell_type": "code",
   "execution_count": 7,
   "id": "c6583935",
   "metadata": {},
   "outputs": [],
   "source": [
    "import pickle\n",
    "\n",
    "with open(\"tokens.pl\", \"wb\") as file:\n",
    "    pickle.dump(tokens, file)"
   ]
  },
  {
   "cell_type": "code",
   "execution_count": 3,
   "id": "a54230cc",
   "metadata": {},
   "outputs": [],
   "source": [
    "import pickle\n",
    "\n",
    "with open(\"tokens.pl\", \"rb\") as file:\n",
    "    tokens = pickle.load(file)"
   ]
  },
  {
   "cell_type": "code",
   "execution_count": 19,
   "id": "abf4b422",
   "metadata": {},
   "outputs": [],
   "source": [
    "features = {}\n",
    "for dataset in datasets:\n",
    "    path = os.path.join(data_path, dataset)\n",
    "    if os.path.exists(path):\n",
    "        df = pd.read_json(path, lines = True)\n",
    "        features[dataset] = get_features(df['text'].to_list(), min_df=1)"
   ]
  },
  {
   "cell_type": "markdown",
   "id": "1f13974b",
   "metadata": {},
   "source": [
    "English vocabulary:\n",
    "\n",
    "https://github.com/dwyl/english-words"
   ]
  },
  {
   "cell_type": "code",
   "execution_count": 59,
   "id": "114085b9",
   "metadata": {},
   "outputs": [],
   "source": [
    "with open(\"words_dictionary.json\", \"r\") as vocab_file:\n",
    "    eng_vocab = set(json.loads(vocab_file.read()))"
   ]
  },
  {
   "cell_type": "code",
   "execution_count": 5,
   "id": "af5dacc4",
   "metadata": {},
   "outputs": [],
   "source": [
    "vocab_stats = {}\n",
    "for i, dataset in enumerate(tokens):\n",
    "    vocab = set([tk for tks in tokens[dataset] for tk in set(tks)])\n",
    "    eng_words = len(eng_vocab.intersection(vocab))\n",
    "    ratio = int(eng_words*100 / len(vocab))\n",
    "    vocab_stats[i] = dataset.split(\".\")[0:2] + [len(vocab), eng_words, ratio]\n",
    "\n",
    "df_features_stats = pd.DataFrame.from_dict(vocab_stats, \n",
    "                                           orient='index',\n",
    "                                           columns=[\"source\", \"split\", \"vocabulary size\", \"english words\", \"eng%\"])"
   ]
  },
  {
   "cell_type": "code",
   "execution_count": 30,
   "id": "9bea3d89",
   "metadata": {},
   "outputs": [],
   "source": [
    "features_stats = {}\n",
    "for i, dataset in enumerate(features):\n",
    "    vocab_size = len(features[dataset])\n",
    "    eng_words = len(eng_vocab.intersection(features[dataset]))\n",
    "    ratio = int(eng_words*100 / vocab_size)\n",
    "    features_stats[i] = dataset.split(\".\")[0:2] + [vocab_size, eng_words, ratio]\n",
    "\n",
    "df_features_stats = pd.DataFrame.from_dict(features_stats, \n",
    "                                           orient='index',\n",
    "                                           columns=[\"source\", \"split\", \"vocabulary size\", \"english words\", \"eng%\"])"
   ]
  },
  {
   "cell_type": "code",
   "execution_count": 6,
   "id": "80332b41",
   "metadata": {},
   "outputs": [
    {
     "data": {
      "text/html": [
       "<div>\n",
       "<style scoped>\n",
       "    .dataframe tbody tr th:only-of-type {\n",
       "        vertical-align: middle;\n",
       "    }\n",
       "\n",
       "    .dataframe tbody tr th {\n",
       "        vertical-align: top;\n",
       "    }\n",
       "\n",
       "    .dataframe thead th {\n",
       "        text-align: right;\n",
       "    }\n",
       "</style>\n",
       "<table border=\"1\" class=\"dataframe\">\n",
       "  <thead>\n",
       "    <tr style=\"text-align: right;\">\n",
       "      <th></th>\n",
       "      <th>source</th>\n",
       "      <th>split</th>\n",
       "      <th>vocabulary size</th>\n",
       "      <th>english words</th>\n",
       "      <th>eng%</th>\n",
       "    </tr>\n",
       "  </thead>\n",
       "  <tbody>\n",
       "    <tr>\n",
       "      <th>0</th>\n",
       "      <td>xl-1542M</td>\n",
       "      <td>train</td>\n",
       "      <td>1432488</td>\n",
       "      <td>133350</td>\n",
       "      <td>9</td>\n",
       "    </tr>\n",
       "    <tr>\n",
       "      <th>1</th>\n",
       "      <td>webtext</td>\n",
       "      <td>train</td>\n",
       "      <td>660492</td>\n",
       "      <td>115490</td>\n",
       "      <td>17</td>\n",
       "    </tr>\n",
       "  </tbody>\n",
       "</table>\n",
       "</div>"
      ],
      "text/plain": [
       "     source  split  vocabulary size  english words  eng%\n",
       "0  xl-1542M  train          1432488         133350     9\n",
       "1   webtext  train           660492         115490    17"
      ]
     },
     "execution_count": 6,
     "metadata": {},
     "output_type": "execute_result"
    }
   ],
   "source": [
    "df_features_stats#[df_features_stats[\"split\"]==\"train\"]"
   ]
  },
  {
   "cell_type": "code",
   "execution_count": 18,
   "id": "3b51999e",
   "metadata": {},
   "outputs": [],
   "source": [
    "features_stats = {}\n",
    "uncommon_tokens_gen = {}\n",
    "uncommon_tokens_real = {}\n",
    "i = 0\n",
    "for split in ['train']:#, 'test', 'valid']:\n",
    "    feats = features['.'.join(['webtext', split, 'jsonl'])]\n",
    "    for dataset in features:\n",
    "        if split in dataset:\n",
    "            features_stats[i] = dataset.split(\".\")[0:2] + [len(features[dataset])]\n",
    "            i += 1\n",
    "            if 'webtext' not in dataset:\n",
    "                uncommon_tokens_gen[dataset] = features[dataset] - feats\n",
    "                uncommon_tokens_real[dataset] = feats - features[dataset]\n",
    "                features_stats[i] = [dataset.split(\".\")[0] + \" ∩ WebText\", split, len(feats.intersection(features[dataset]))]\n",
    "                i += 1\n",
    "    \n",
    "df_features_stats = pd.DataFrame.from_dict(features_stats, \n",
    "                                           orient='index',\n",
    "                                           columns=[\"source\", \"split\", \"vocabulary size\"])"
   ]
  },
  {
   "cell_type": "code",
   "execution_count": 77,
   "id": "209bfa24",
   "metadata": {},
   "outputs": [],
   "source": [
    "features_stats = {\n",
    "    0 : ['WebText', \"min_df=2\", len(features['webtext.train.jsonl'])],\n",
    "    1 : ['GPT2-xl', \"min_df=2\", len(features['xl-1542M.train.jsonl'])],\n",
    "    2 : ['WebText ∩ GPT2-xl', \"min_df=2\", len(features['webtext.train.jsonl'].intersection(features['xl-1542M.train.jsonl']))]\n",
    "}\n",
    "df_features_stats = pd.DataFrame.from_dict(features_stats, \n",
    "                                           orient='index',\n",
    "                                           columns=[\"source\", \"minimum doc frequency\", \"vocabulary size\"])"
   ]
  },
  {
   "cell_type": "code",
   "execution_count": 78,
   "id": "3010af91",
   "metadata": {},
   "outputs": [],
   "source": [
    "df_features_stats_1[\"minimum doc frequency\"] = [\"min_df=1\", \"min_df=1\", \"min_df=1\"]"
   ]
  },
  {
   "cell_type": "code",
   "execution_count": 56,
   "id": "8e32b8c4",
   "metadata": {},
   "outputs": [
    {
     "data": {
      "text/html": [
       "<div>\n",
       "<style scoped>\n",
       "    .dataframe tbody tr th:only-of-type {\n",
       "        vertical-align: middle;\n",
       "    }\n",
       "\n",
       "    .dataframe tbody tr th {\n",
       "        vertical-align: top;\n",
       "    }\n",
       "\n",
       "    .dataframe thead th {\n",
       "        text-align: right;\n",
       "    }\n",
       "</style>\n",
       "<table border=\"1\" class=\"dataframe\">\n",
       "  <thead>\n",
       "    <tr style=\"text-align: right;\">\n",
       "      <th></th>\n",
       "      <th>source</th>\n",
       "      <th>vocabulary size</th>\n",
       "      <th>minimum doc frequency</th>\n",
       "    </tr>\n",
       "  </thead>\n",
       "  <tbody>\n",
       "    <tr>\n",
       "      <th>0</th>\n",
       "      <td>WebText</td>\n",
       "      <td>755966</td>\n",
       "      <td>df=1</td>\n",
       "    </tr>\n",
       "    <tr>\n",
       "      <th>1</th>\n",
       "      <td>GPT2-xl</td>\n",
       "      <td>1571962</td>\n",
       "      <td>df=1</td>\n",
       "    </tr>\n",
       "    <tr>\n",
       "      <th>2</th>\n",
       "      <td>WebText ∩ GPT2-xl</td>\n",
       "      <td>326689</td>\n",
       "      <td>df=1</td>\n",
       "    </tr>\n",
       "  </tbody>\n",
       "</table>\n",
       "</div>"
      ],
      "text/plain": [
       "              source  vocabulary size minimum doc frequency\n",
       "0            WebText           755966                  df=1\n",
       "1            GPT2-xl          1571962                  df=1\n",
       "2  WebText ∩ GPT2-xl           326689                  df=1"
      ]
     },
     "execution_count": 56,
     "metadata": {},
     "output_type": "execute_result"
    }
   ],
   "source": [
    "df_features_stats_1"
   ]
  },
  {
   "cell_type": "code",
   "execution_count": 57,
   "id": "1d63d0fd",
   "metadata": {},
   "outputs": [
    {
     "data": {
      "text/html": [
       "<div>\n",
       "<style scoped>\n",
       "    .dataframe tbody tr th:only-of-type {\n",
       "        vertical-align: middle;\n",
       "    }\n",
       "\n",
       "    .dataframe tbody tr th {\n",
       "        vertical-align: top;\n",
       "    }\n",
       "\n",
       "    .dataframe thead th {\n",
       "        text-align: right;\n",
       "    }\n",
       "</style>\n",
       "<table border=\"1\" class=\"dataframe\">\n",
       "  <thead>\n",
       "    <tr style=\"text-align: right;\">\n",
       "      <th></th>\n",
       "      <th>source</th>\n",
       "      <th>minimum doc frequency</th>\n",
       "      <th>vocabulary size</th>\n",
       "    </tr>\n",
       "  </thead>\n",
       "  <tbody>\n",
       "    <tr>\n",
       "      <th>0</th>\n",
       "      <td>WebText</td>\n",
       "      <td>df=2</td>\n",
       "      <td>265616</td>\n",
       "    </tr>\n",
       "    <tr>\n",
       "      <th>1</th>\n",
       "      <td>GPT2-xl</td>\n",
       "      <td>df=2</td>\n",
       "      <td>345980</td>\n",
       "    </tr>\n",
       "    <tr>\n",
       "      <th>2</th>\n",
       "      <td>WebText ∩ GPT2-xl</td>\n",
       "      <td>df=2</td>\n",
       "      <td>199511</td>\n",
       "    </tr>\n",
       "  </tbody>\n",
       "</table>\n",
       "</div>"
      ],
      "text/plain": [
       "              source minimum doc frequency  vocabulary size\n",
       "0            WebText                  df=2           265616\n",
       "1            GPT2-xl                  df=2           345980\n",
       "2  WebText ∩ GPT2-xl                  df=2           199511"
      ]
     },
     "execution_count": 57,
     "metadata": {},
     "output_type": "execute_result"
    }
   ],
   "source": [
    "df_features_stats"
   ]
  },
  {
   "cell_type": "code",
   "execution_count": 79,
   "id": "6c0bfc7c",
   "metadata": {},
   "outputs": [],
   "source": [
    "df_features_stats_2 = pd.concat([df_features_stats_1, df_features_stats])"
   ]
  },
  {
   "cell_type": "code",
   "execution_count": 61,
   "id": "74b521fb",
   "metadata": {},
   "outputs": [
    {
     "data": {
      "text/html": [
       "<div>\n",
       "<style scoped>\n",
       "    .dataframe tbody tr th:only-of-type {\n",
       "        vertical-align: middle;\n",
       "    }\n",
       "\n",
       "    .dataframe tbody tr th {\n",
       "        vertical-align: top;\n",
       "    }\n",
       "\n",
       "    .dataframe thead th {\n",
       "        text-align: right;\n",
       "    }\n",
       "</style>\n",
       "<table border=\"1\" class=\"dataframe\">\n",
       "  <thead>\n",
       "    <tr style=\"text-align: right;\">\n",
       "      <th></th>\n",
       "      <th>source</th>\n",
       "      <th>vocabulary size</th>\n",
       "      <th>minimum doc frequency</th>\n",
       "    </tr>\n",
       "  </thead>\n",
       "  <tbody>\n",
       "    <tr>\n",
       "      <th>0</th>\n",
       "      <td>WebText</td>\n",
       "      <td>755966</td>\n",
       "      <td>df=1</td>\n",
       "    </tr>\n",
       "    <tr>\n",
       "      <th>1</th>\n",
       "      <td>GPT2-xl</td>\n",
       "      <td>1571962</td>\n",
       "      <td>df=1</td>\n",
       "    </tr>\n",
       "    <tr>\n",
       "      <th>2</th>\n",
       "      <td>WebText ∩ GPT2-xl</td>\n",
       "      <td>326689</td>\n",
       "      <td>df=1</td>\n",
       "    </tr>\n",
       "    <tr>\n",
       "      <th>0</th>\n",
       "      <td>WebText</td>\n",
       "      <td>265616</td>\n",
       "      <td>df=2</td>\n",
       "    </tr>\n",
       "    <tr>\n",
       "      <th>1</th>\n",
       "      <td>GPT2-xl</td>\n",
       "      <td>345980</td>\n",
       "      <td>df=2</td>\n",
       "    </tr>\n",
       "    <tr>\n",
       "      <th>2</th>\n",
       "      <td>WebText ∩ GPT2-xl</td>\n",
       "      <td>199511</td>\n",
       "      <td>df=2</td>\n",
       "    </tr>\n",
       "  </tbody>\n",
       "</table>\n",
       "</div>"
      ],
      "text/plain": [
       "              source  vocabulary size minimum doc frequency\n",
       "0            WebText           755966                  df=1\n",
       "1            GPT2-xl          1571962                  df=1\n",
       "2  WebText ∩ GPT2-xl           326689                  df=1\n",
       "0            WebText           265616                  df=2\n",
       "1            GPT2-xl           345980                  df=2\n",
       "2  WebText ∩ GPT2-xl           199511                  df=2"
      ]
     },
     "execution_count": 61,
     "metadata": {},
     "output_type": "execute_result"
    }
   ],
   "source": [
    "df_features_stats_2"
   ]
  },
  {
   "cell_type": "code",
   "execution_count": 37,
   "id": "b86f2f04",
   "metadata": {},
   "outputs": [],
   "source": [
    "df_features_stats_1 = df_features_stats"
   ]
  },
  {
   "cell_type": "code",
   "execution_count": 80,
   "id": "e4ede515",
   "metadata": {},
   "outputs": [
    {
     "data": {
      "application/vnd.plotly.v1+json": {
       "config": {
        "plotlyServerURL": "https://plot.ly"
       },
       "data": [
        {
         "alignmentgroup": "True",
         "hovertemplate": "source=WebText<br>minimum doc frequency=%{x}<br>vocabulary size=%{y}<extra></extra>",
         "legendgroup": "WebText",
         "marker": {
          "color": "#1F77B4",
          "pattern": {
           "shape": ""
          }
         },
         "name": "WebText",
         "offsetgroup": "WebText",
         "orientation": "v",
         "showlegend": true,
         "textposition": "auto",
         "type": "bar",
         "x": [
          "min_df=1",
          "min_df=2"
         ],
         "xaxis": "x",
         "y": [
          755966,
          265616
         ],
         "yaxis": "y"
        },
        {
         "alignmentgroup": "True",
         "hovertemplate": "source=GPT2-xl<br>minimum doc frequency=%{x}<br>vocabulary size=%{y}<extra></extra>",
         "legendgroup": "GPT2-xl",
         "marker": {
          "color": "#FF7F0E",
          "pattern": {
           "shape": ""
          }
         },
         "name": "GPT2-xl",
         "offsetgroup": "GPT2-xl",
         "orientation": "v",
         "showlegend": true,
         "textposition": "auto",
         "type": "bar",
         "x": [
          "min_df=1",
          "min_df=2"
         ],
         "xaxis": "x",
         "y": [
          1571962,
          345980
         ],
         "yaxis": "y"
        },
        {
         "alignmentgroup": "True",
         "hovertemplate": "source=WebText ∩ GPT2-xl<br>minimum doc frequency=%{x}<br>vocabulary size=%{y}<extra></extra>",
         "legendgroup": "WebText ∩ GPT2-xl",
         "marker": {
          "color": "#2CA02C",
          "pattern": {
           "shape": ""
          }
         },
         "name": "WebText ∩ GPT2-xl",
         "offsetgroup": "WebText ∩ GPT2-xl",
         "orientation": "v",
         "showlegend": true,
         "textposition": "auto",
         "type": "bar",
         "x": [
          "min_df=1",
          "min_df=2"
         ],
         "xaxis": "x",
         "y": [
          326689,
          199511
         ],
         "yaxis": "y"
        }
       ],
       "layout": {
        "barmode": "group",
        "height": 450,
        "legend": {
         "title": {
          "text": "source"
         },
         "tracegroupgap": 0,
         "x": 0.99,
         "xanchor": "right",
         "y": 0.99,
         "yanchor": "top"
        },
        "margin": {
         "t": 60
        },
        "template": {
         "data": {
          "bar": [
           {
            "error_x": {
             "color": "rgb(36,36,36)"
            },
            "error_y": {
             "color": "rgb(36,36,36)"
            },
            "marker": {
             "line": {
              "color": "white",
              "width": 0.5
             },
             "pattern": {
              "fillmode": "overlay",
              "size": 10,
              "solidity": 0.2
             }
            },
            "type": "bar"
           }
          ],
          "barpolar": [
           {
            "marker": {
             "line": {
              "color": "white",
              "width": 0.5
             },
             "pattern": {
              "fillmode": "overlay",
              "size": 10,
              "solidity": 0.2
             }
            },
            "type": "barpolar"
           }
          ],
          "carpet": [
           {
            "aaxis": {
             "endlinecolor": "rgb(36,36,36)",
             "gridcolor": "white",
             "linecolor": "white",
             "minorgridcolor": "white",
             "startlinecolor": "rgb(36,36,36)"
            },
            "baxis": {
             "endlinecolor": "rgb(36,36,36)",
             "gridcolor": "white",
             "linecolor": "white",
             "minorgridcolor": "white",
             "startlinecolor": "rgb(36,36,36)"
            },
            "type": "carpet"
           }
          ],
          "choropleth": [
           {
            "colorbar": {
             "outlinewidth": 1,
             "tickcolor": "rgb(36,36,36)",
             "ticks": "outside"
            },
            "type": "choropleth"
           }
          ],
          "contour": [
           {
            "colorbar": {
             "outlinewidth": 1,
             "tickcolor": "rgb(36,36,36)",
             "ticks": "outside"
            },
            "colorscale": [
             [
              0,
              "#440154"
             ],
             [
              0.1111111111111111,
              "#482878"
             ],
             [
              0.2222222222222222,
              "#3e4989"
             ],
             [
              0.3333333333333333,
              "#31688e"
             ],
             [
              0.4444444444444444,
              "#26828e"
             ],
             [
              0.5555555555555556,
              "#1f9e89"
             ],
             [
              0.6666666666666666,
              "#35b779"
             ],
             [
              0.7777777777777778,
              "#6ece58"
             ],
             [
              0.8888888888888888,
              "#b5de2b"
             ],
             [
              1,
              "#fde725"
             ]
            ],
            "type": "contour"
           }
          ],
          "contourcarpet": [
           {
            "colorbar": {
             "outlinewidth": 1,
             "tickcolor": "rgb(36,36,36)",
             "ticks": "outside"
            },
            "type": "contourcarpet"
           }
          ],
          "heatmap": [
           {
            "colorbar": {
             "outlinewidth": 1,
             "tickcolor": "rgb(36,36,36)",
             "ticks": "outside"
            },
            "colorscale": [
             [
              0,
              "#440154"
             ],
             [
              0.1111111111111111,
              "#482878"
             ],
             [
              0.2222222222222222,
              "#3e4989"
             ],
             [
              0.3333333333333333,
              "#31688e"
             ],
             [
              0.4444444444444444,
              "#26828e"
             ],
             [
              0.5555555555555556,
              "#1f9e89"
             ],
             [
              0.6666666666666666,
              "#35b779"
             ],
             [
              0.7777777777777778,
              "#6ece58"
             ],
             [
              0.8888888888888888,
              "#b5de2b"
             ],
             [
              1,
              "#fde725"
             ]
            ],
            "type": "heatmap"
           }
          ],
          "heatmapgl": [
           {
            "colorbar": {
             "outlinewidth": 1,
             "tickcolor": "rgb(36,36,36)",
             "ticks": "outside"
            },
            "colorscale": [
             [
              0,
              "#440154"
             ],
             [
              0.1111111111111111,
              "#482878"
             ],
             [
              0.2222222222222222,
              "#3e4989"
             ],
             [
              0.3333333333333333,
              "#31688e"
             ],
             [
              0.4444444444444444,
              "#26828e"
             ],
             [
              0.5555555555555556,
              "#1f9e89"
             ],
             [
              0.6666666666666666,
              "#35b779"
             ],
             [
              0.7777777777777778,
              "#6ece58"
             ],
             [
              0.8888888888888888,
              "#b5de2b"
             ],
             [
              1,
              "#fde725"
             ]
            ],
            "type": "heatmapgl"
           }
          ],
          "histogram": [
           {
            "marker": {
             "line": {
              "color": "white",
              "width": 0.6
             }
            },
            "type": "histogram"
           }
          ],
          "histogram2d": [
           {
            "colorbar": {
             "outlinewidth": 1,
             "tickcolor": "rgb(36,36,36)",
             "ticks": "outside"
            },
            "colorscale": [
             [
              0,
              "#440154"
             ],
             [
              0.1111111111111111,
              "#482878"
             ],
             [
              0.2222222222222222,
              "#3e4989"
             ],
             [
              0.3333333333333333,
              "#31688e"
             ],
             [
              0.4444444444444444,
              "#26828e"
             ],
             [
              0.5555555555555556,
              "#1f9e89"
             ],
             [
              0.6666666666666666,
              "#35b779"
             ],
             [
              0.7777777777777778,
              "#6ece58"
             ],
             [
              0.8888888888888888,
              "#b5de2b"
             ],
             [
              1,
              "#fde725"
             ]
            ],
            "type": "histogram2d"
           }
          ],
          "histogram2dcontour": [
           {
            "colorbar": {
             "outlinewidth": 1,
             "tickcolor": "rgb(36,36,36)",
             "ticks": "outside"
            },
            "colorscale": [
             [
              0,
              "#440154"
             ],
             [
              0.1111111111111111,
              "#482878"
             ],
             [
              0.2222222222222222,
              "#3e4989"
             ],
             [
              0.3333333333333333,
              "#31688e"
             ],
             [
              0.4444444444444444,
              "#26828e"
             ],
             [
              0.5555555555555556,
              "#1f9e89"
             ],
             [
              0.6666666666666666,
              "#35b779"
             ],
             [
              0.7777777777777778,
              "#6ece58"
             ],
             [
              0.8888888888888888,
              "#b5de2b"
             ],
             [
              1,
              "#fde725"
             ]
            ],
            "type": "histogram2dcontour"
           }
          ],
          "mesh3d": [
           {
            "colorbar": {
             "outlinewidth": 1,
             "tickcolor": "rgb(36,36,36)",
             "ticks": "outside"
            },
            "type": "mesh3d"
           }
          ],
          "parcoords": [
           {
            "line": {
             "colorbar": {
              "outlinewidth": 1,
              "tickcolor": "rgb(36,36,36)",
              "ticks": "outside"
             }
            },
            "type": "parcoords"
           }
          ],
          "pie": [
           {
            "automargin": true,
            "type": "pie"
           }
          ],
          "scatter": [
           {
            "fillpattern": {
             "fillmode": "overlay",
             "size": 10,
             "solidity": 0.2
            },
            "type": "scatter"
           }
          ],
          "scatter3d": [
           {
            "line": {
             "colorbar": {
              "outlinewidth": 1,
              "tickcolor": "rgb(36,36,36)",
              "ticks": "outside"
             }
            },
            "marker": {
             "colorbar": {
              "outlinewidth": 1,
              "tickcolor": "rgb(36,36,36)",
              "ticks": "outside"
             }
            },
            "type": "scatter3d"
           }
          ],
          "scattercarpet": [
           {
            "marker": {
             "colorbar": {
              "outlinewidth": 1,
              "tickcolor": "rgb(36,36,36)",
              "ticks": "outside"
             }
            },
            "type": "scattercarpet"
           }
          ],
          "scattergeo": [
           {
            "marker": {
             "colorbar": {
              "outlinewidth": 1,
              "tickcolor": "rgb(36,36,36)",
              "ticks": "outside"
             }
            },
            "type": "scattergeo"
           }
          ],
          "scattergl": [
           {
            "marker": {
             "colorbar": {
              "outlinewidth": 1,
              "tickcolor": "rgb(36,36,36)",
              "ticks": "outside"
             }
            },
            "type": "scattergl"
           }
          ],
          "scattermapbox": [
           {
            "marker": {
             "colorbar": {
              "outlinewidth": 1,
              "tickcolor": "rgb(36,36,36)",
              "ticks": "outside"
             }
            },
            "type": "scattermapbox"
           }
          ],
          "scatterpolar": [
           {
            "marker": {
             "colorbar": {
              "outlinewidth": 1,
              "tickcolor": "rgb(36,36,36)",
              "ticks": "outside"
             }
            },
            "type": "scatterpolar"
           }
          ],
          "scatterpolargl": [
           {
            "marker": {
             "colorbar": {
              "outlinewidth": 1,
              "tickcolor": "rgb(36,36,36)",
              "ticks": "outside"
             }
            },
            "type": "scatterpolargl"
           }
          ],
          "scatterternary": [
           {
            "marker": {
             "colorbar": {
              "outlinewidth": 1,
              "tickcolor": "rgb(36,36,36)",
              "ticks": "outside"
             }
            },
            "type": "scatterternary"
           }
          ],
          "surface": [
           {
            "colorbar": {
             "outlinewidth": 1,
             "tickcolor": "rgb(36,36,36)",
             "ticks": "outside"
            },
            "colorscale": [
             [
              0,
              "#440154"
             ],
             [
              0.1111111111111111,
              "#482878"
             ],
             [
              0.2222222222222222,
              "#3e4989"
             ],
             [
              0.3333333333333333,
              "#31688e"
             ],
             [
              0.4444444444444444,
              "#26828e"
             ],
             [
              0.5555555555555556,
              "#1f9e89"
             ],
             [
              0.6666666666666666,
              "#35b779"
             ],
             [
              0.7777777777777778,
              "#6ece58"
             ],
             [
              0.8888888888888888,
              "#b5de2b"
             ],
             [
              1,
              "#fde725"
             ]
            ],
            "type": "surface"
           }
          ],
          "table": [
           {
            "cells": {
             "fill": {
              "color": "rgb(237,237,237)"
             },
             "line": {
              "color": "white"
             }
            },
            "header": {
             "fill": {
              "color": "rgb(217,217,217)"
             },
             "line": {
              "color": "white"
             }
            },
            "type": "table"
           }
          ]
         },
         "layout": {
          "annotationdefaults": {
           "arrowhead": 0,
           "arrowwidth": 1
          },
          "autotypenumbers": "strict",
          "coloraxis": {
           "colorbar": {
            "outlinewidth": 1,
            "tickcolor": "rgb(36,36,36)",
            "ticks": "outside"
           }
          },
          "colorscale": {
           "diverging": [
            [
             0,
             "rgb(103,0,31)"
            ],
            [
             0.1,
             "rgb(178,24,43)"
            ],
            [
             0.2,
             "rgb(214,96,77)"
            ],
            [
             0.3,
             "rgb(244,165,130)"
            ],
            [
             0.4,
             "rgb(253,219,199)"
            ],
            [
             0.5,
             "rgb(247,247,247)"
            ],
            [
             0.6,
             "rgb(209,229,240)"
            ],
            [
             0.7,
             "rgb(146,197,222)"
            ],
            [
             0.8,
             "rgb(67,147,195)"
            ],
            [
             0.9,
             "rgb(33,102,172)"
            ],
            [
             1,
             "rgb(5,48,97)"
            ]
           ],
           "sequential": [
            [
             0,
             "#440154"
            ],
            [
             0.1111111111111111,
             "#482878"
            ],
            [
             0.2222222222222222,
             "#3e4989"
            ],
            [
             0.3333333333333333,
             "#31688e"
            ],
            [
             0.4444444444444444,
             "#26828e"
            ],
            [
             0.5555555555555556,
             "#1f9e89"
            ],
            [
             0.6666666666666666,
             "#35b779"
            ],
            [
             0.7777777777777778,
             "#6ece58"
            ],
            [
             0.8888888888888888,
             "#b5de2b"
            ],
            [
             1,
             "#fde725"
            ]
           ],
           "sequentialminus": [
            [
             0,
             "#440154"
            ],
            [
             0.1111111111111111,
             "#482878"
            ],
            [
             0.2222222222222222,
             "#3e4989"
            ],
            [
             0.3333333333333333,
             "#31688e"
            ],
            [
             0.4444444444444444,
             "#26828e"
            ],
            [
             0.5555555555555556,
             "#1f9e89"
            ],
            [
             0.6666666666666666,
             "#35b779"
            ],
            [
             0.7777777777777778,
             "#6ece58"
            ],
            [
             0.8888888888888888,
             "#b5de2b"
            ],
            [
             1,
             "#fde725"
            ]
           ]
          },
          "colorway": [
           "#1F77B4",
           "#FF7F0E",
           "#2CA02C",
           "#D62728",
           "#9467BD",
           "#8C564B",
           "#E377C2",
           "#7F7F7F",
           "#BCBD22",
           "#17BECF"
          ],
          "font": {
           "color": "rgb(36,36,36)"
          },
          "geo": {
           "bgcolor": "white",
           "lakecolor": "white",
           "landcolor": "white",
           "showlakes": true,
           "showland": true,
           "subunitcolor": "white"
          },
          "hoverlabel": {
           "align": "left"
          },
          "hovermode": "closest",
          "mapbox": {
           "style": "light"
          },
          "paper_bgcolor": "white",
          "plot_bgcolor": "white",
          "polar": {
           "angularaxis": {
            "gridcolor": "rgb(232,232,232)",
            "linecolor": "rgb(36,36,36)",
            "showgrid": false,
            "showline": true,
            "ticks": "outside"
           },
           "bgcolor": "white",
           "radialaxis": {
            "gridcolor": "rgb(232,232,232)",
            "linecolor": "rgb(36,36,36)",
            "showgrid": false,
            "showline": true,
            "ticks": "outside"
           }
          },
          "scene": {
           "xaxis": {
            "backgroundcolor": "white",
            "gridcolor": "rgb(232,232,232)",
            "gridwidth": 2,
            "linecolor": "rgb(36,36,36)",
            "showbackground": true,
            "showgrid": false,
            "showline": true,
            "ticks": "outside",
            "zeroline": false,
            "zerolinecolor": "rgb(36,36,36)"
           },
           "yaxis": {
            "backgroundcolor": "white",
            "gridcolor": "rgb(232,232,232)",
            "gridwidth": 2,
            "linecolor": "rgb(36,36,36)",
            "showbackground": true,
            "showgrid": false,
            "showline": true,
            "ticks": "outside",
            "zeroline": false,
            "zerolinecolor": "rgb(36,36,36)"
           },
           "zaxis": {
            "backgroundcolor": "white",
            "gridcolor": "rgb(232,232,232)",
            "gridwidth": 2,
            "linecolor": "rgb(36,36,36)",
            "showbackground": true,
            "showgrid": false,
            "showline": true,
            "ticks": "outside",
            "zeroline": false,
            "zerolinecolor": "rgb(36,36,36)"
           }
          },
          "shapedefaults": {
           "fillcolor": "black",
           "line": {
            "width": 0
           },
           "opacity": 0.3
          },
          "ternary": {
           "aaxis": {
            "gridcolor": "rgb(232,232,232)",
            "linecolor": "rgb(36,36,36)",
            "showgrid": false,
            "showline": true,
            "ticks": "outside"
           },
           "baxis": {
            "gridcolor": "rgb(232,232,232)",
            "linecolor": "rgb(36,36,36)",
            "showgrid": false,
            "showline": true,
            "ticks": "outside"
           },
           "bgcolor": "white",
           "caxis": {
            "gridcolor": "rgb(232,232,232)",
            "linecolor": "rgb(36,36,36)",
            "showgrid": false,
            "showline": true,
            "ticks": "outside"
           }
          },
          "title": {
           "x": 0.05
          },
          "xaxis": {
           "automargin": true,
           "gridcolor": "rgb(232,232,232)",
           "linecolor": "rgb(36,36,36)",
           "showgrid": false,
           "showline": true,
           "ticks": "outside",
           "title": {
            "standoff": 15
           },
           "zeroline": false,
           "zerolinecolor": "rgb(36,36,36)"
          },
          "yaxis": {
           "automargin": true,
           "gridcolor": "rgb(232,232,232)",
           "linecolor": "rgb(36,36,36)",
           "showgrid": false,
           "showline": true,
           "ticks": "outside",
           "title": {
            "standoff": 15
           },
           "zeroline": false,
           "zerolinecolor": "rgb(36,36,36)"
          }
         }
        },
        "width": 550,
        "xaxis": {
         "anchor": "y",
         "domain": [
          0,
          1
         ],
         "title": {
          "text": "minimum doc frequency"
         }
        },
        "yaxis": {
         "anchor": "x",
         "domain": [
          0,
          1
         ],
         "title": {
          "text": "vocabulary size"
         }
        }
       }
      },
      "text/html": [
       "<div>                            <div id=\"6b79d065-6339-415b-bdf9-94acb2a811f0\" class=\"plotly-graph-div\" style=\"height:450px; width:550px;\"></div>            <script type=\"text/javascript\">                require([\"plotly\"], function(Plotly) {                    window.PLOTLYENV=window.PLOTLYENV || {};                                    if (document.getElementById(\"6b79d065-6339-415b-bdf9-94acb2a811f0\")) {                    Plotly.newPlot(                        \"6b79d065-6339-415b-bdf9-94acb2a811f0\",                        [{\"alignmentgroup\":\"True\",\"hovertemplate\":\"source=WebText<br>minimum doc frequency=%{x}<br>vocabulary size=%{y}<extra></extra>\",\"legendgroup\":\"WebText\",\"marker\":{\"color\":\"#1F77B4\",\"pattern\":{\"shape\":\"\"}},\"name\":\"WebText\",\"offsetgroup\":\"WebText\",\"orientation\":\"v\",\"showlegend\":true,\"textposition\":\"auto\",\"x\":[\"min_df=1\",\"min_df=2\"],\"xaxis\":\"x\",\"y\":[755966,265616],\"yaxis\":\"y\",\"type\":\"bar\"},{\"alignmentgroup\":\"True\",\"hovertemplate\":\"source=GPT2-xl<br>minimum doc frequency=%{x}<br>vocabulary size=%{y}<extra></extra>\",\"legendgroup\":\"GPT2-xl\",\"marker\":{\"color\":\"#FF7F0E\",\"pattern\":{\"shape\":\"\"}},\"name\":\"GPT2-xl\",\"offsetgroup\":\"GPT2-xl\",\"orientation\":\"v\",\"showlegend\":true,\"textposition\":\"auto\",\"x\":[\"min_df=1\",\"min_df=2\"],\"xaxis\":\"x\",\"y\":[1571962,345980],\"yaxis\":\"y\",\"type\":\"bar\"},{\"alignmentgroup\":\"True\",\"hovertemplate\":\"source=WebText \\u2229 GPT2-xl<br>minimum doc frequency=%{x}<br>vocabulary size=%{y}<extra></extra>\",\"legendgroup\":\"WebText \\u2229 GPT2-xl\",\"marker\":{\"color\":\"#2CA02C\",\"pattern\":{\"shape\":\"\"}},\"name\":\"WebText \\u2229 GPT2-xl\",\"offsetgroup\":\"WebText \\u2229 GPT2-xl\",\"orientation\":\"v\",\"showlegend\":true,\"textposition\":\"auto\",\"x\":[\"min_df=1\",\"min_df=2\"],\"xaxis\":\"x\",\"y\":[326689,199511],\"yaxis\":\"y\",\"type\":\"bar\"}],                        {\"template\":{\"data\":{\"barpolar\":[{\"marker\":{\"line\":{\"color\":\"white\",\"width\":0.5},\"pattern\":{\"fillmode\":\"overlay\",\"size\":10,\"solidity\":0.2}},\"type\":\"barpolar\"}],\"bar\":[{\"error_x\":{\"color\":\"rgb(36,36,36)\"},\"error_y\":{\"color\":\"rgb(36,36,36)\"},\"marker\":{\"line\":{\"color\":\"white\",\"width\":0.5},\"pattern\":{\"fillmode\":\"overlay\",\"size\":10,\"solidity\":0.2}},\"type\":\"bar\"}],\"carpet\":[{\"aaxis\":{\"endlinecolor\":\"rgb(36,36,36)\",\"gridcolor\":\"white\",\"linecolor\":\"white\",\"minorgridcolor\":\"white\",\"startlinecolor\":\"rgb(36,36,36)\"},\"baxis\":{\"endlinecolor\":\"rgb(36,36,36)\",\"gridcolor\":\"white\",\"linecolor\":\"white\",\"minorgridcolor\":\"white\",\"startlinecolor\":\"rgb(36,36,36)\"},\"type\":\"carpet\"}],\"choropleth\":[{\"colorbar\":{\"outlinewidth\":1,\"tickcolor\":\"rgb(36,36,36)\",\"ticks\":\"outside\"},\"type\":\"choropleth\"}],\"contourcarpet\":[{\"colorbar\":{\"outlinewidth\":1,\"tickcolor\":\"rgb(36,36,36)\",\"ticks\":\"outside\"},\"type\":\"contourcarpet\"}],\"contour\":[{\"colorbar\":{\"outlinewidth\":1,\"tickcolor\":\"rgb(36,36,36)\",\"ticks\":\"outside\"},\"colorscale\":[[0.0,\"#440154\"],[0.1111111111111111,\"#482878\"],[0.2222222222222222,\"#3e4989\"],[0.3333333333333333,\"#31688e\"],[0.4444444444444444,\"#26828e\"],[0.5555555555555556,\"#1f9e89\"],[0.6666666666666666,\"#35b779\"],[0.7777777777777778,\"#6ece58\"],[0.8888888888888888,\"#b5de2b\"],[1.0,\"#fde725\"]],\"type\":\"contour\"}],\"heatmapgl\":[{\"colorbar\":{\"outlinewidth\":1,\"tickcolor\":\"rgb(36,36,36)\",\"ticks\":\"outside\"},\"colorscale\":[[0.0,\"#440154\"],[0.1111111111111111,\"#482878\"],[0.2222222222222222,\"#3e4989\"],[0.3333333333333333,\"#31688e\"],[0.4444444444444444,\"#26828e\"],[0.5555555555555556,\"#1f9e89\"],[0.6666666666666666,\"#35b779\"],[0.7777777777777778,\"#6ece58\"],[0.8888888888888888,\"#b5de2b\"],[1.0,\"#fde725\"]],\"type\":\"heatmapgl\"}],\"heatmap\":[{\"colorbar\":{\"outlinewidth\":1,\"tickcolor\":\"rgb(36,36,36)\",\"ticks\":\"outside\"},\"colorscale\":[[0.0,\"#440154\"],[0.1111111111111111,\"#482878\"],[0.2222222222222222,\"#3e4989\"],[0.3333333333333333,\"#31688e\"],[0.4444444444444444,\"#26828e\"],[0.5555555555555556,\"#1f9e89\"],[0.6666666666666666,\"#35b779\"],[0.7777777777777778,\"#6ece58\"],[0.8888888888888888,\"#b5de2b\"],[1.0,\"#fde725\"]],\"type\":\"heatmap\"}],\"histogram2dcontour\":[{\"colorbar\":{\"outlinewidth\":1,\"tickcolor\":\"rgb(36,36,36)\",\"ticks\":\"outside\"},\"colorscale\":[[0.0,\"#440154\"],[0.1111111111111111,\"#482878\"],[0.2222222222222222,\"#3e4989\"],[0.3333333333333333,\"#31688e\"],[0.4444444444444444,\"#26828e\"],[0.5555555555555556,\"#1f9e89\"],[0.6666666666666666,\"#35b779\"],[0.7777777777777778,\"#6ece58\"],[0.8888888888888888,\"#b5de2b\"],[1.0,\"#fde725\"]],\"type\":\"histogram2dcontour\"}],\"histogram2d\":[{\"colorbar\":{\"outlinewidth\":1,\"tickcolor\":\"rgb(36,36,36)\",\"ticks\":\"outside\"},\"colorscale\":[[0.0,\"#440154\"],[0.1111111111111111,\"#482878\"],[0.2222222222222222,\"#3e4989\"],[0.3333333333333333,\"#31688e\"],[0.4444444444444444,\"#26828e\"],[0.5555555555555556,\"#1f9e89\"],[0.6666666666666666,\"#35b779\"],[0.7777777777777778,\"#6ece58\"],[0.8888888888888888,\"#b5de2b\"],[1.0,\"#fde725\"]],\"type\":\"histogram2d\"}],\"histogram\":[{\"marker\":{\"line\":{\"color\":\"white\",\"width\":0.6}},\"type\":\"histogram\"}],\"mesh3d\":[{\"colorbar\":{\"outlinewidth\":1,\"tickcolor\":\"rgb(36,36,36)\",\"ticks\":\"outside\"},\"type\":\"mesh3d\"}],\"parcoords\":[{\"line\":{\"colorbar\":{\"outlinewidth\":1,\"tickcolor\":\"rgb(36,36,36)\",\"ticks\":\"outside\"}},\"type\":\"parcoords\"}],\"pie\":[{\"automargin\":true,\"type\":\"pie\"}],\"scatter3d\":[{\"line\":{\"colorbar\":{\"outlinewidth\":1,\"tickcolor\":\"rgb(36,36,36)\",\"ticks\":\"outside\"}},\"marker\":{\"colorbar\":{\"outlinewidth\":1,\"tickcolor\":\"rgb(36,36,36)\",\"ticks\":\"outside\"}},\"type\":\"scatter3d\"}],\"scattercarpet\":[{\"marker\":{\"colorbar\":{\"outlinewidth\":1,\"tickcolor\":\"rgb(36,36,36)\",\"ticks\":\"outside\"}},\"type\":\"scattercarpet\"}],\"scattergeo\":[{\"marker\":{\"colorbar\":{\"outlinewidth\":1,\"tickcolor\":\"rgb(36,36,36)\",\"ticks\":\"outside\"}},\"type\":\"scattergeo\"}],\"scattergl\":[{\"marker\":{\"colorbar\":{\"outlinewidth\":1,\"tickcolor\":\"rgb(36,36,36)\",\"ticks\":\"outside\"}},\"type\":\"scattergl\"}],\"scattermapbox\":[{\"marker\":{\"colorbar\":{\"outlinewidth\":1,\"tickcolor\":\"rgb(36,36,36)\",\"ticks\":\"outside\"}},\"type\":\"scattermapbox\"}],\"scatterpolargl\":[{\"marker\":{\"colorbar\":{\"outlinewidth\":1,\"tickcolor\":\"rgb(36,36,36)\",\"ticks\":\"outside\"}},\"type\":\"scatterpolargl\"}],\"scatterpolar\":[{\"marker\":{\"colorbar\":{\"outlinewidth\":1,\"tickcolor\":\"rgb(36,36,36)\",\"ticks\":\"outside\"}},\"type\":\"scatterpolar\"}],\"scatter\":[{\"fillpattern\":{\"fillmode\":\"overlay\",\"size\":10,\"solidity\":0.2},\"type\":\"scatter\"}],\"scatterternary\":[{\"marker\":{\"colorbar\":{\"outlinewidth\":1,\"tickcolor\":\"rgb(36,36,36)\",\"ticks\":\"outside\"}},\"type\":\"scatterternary\"}],\"surface\":[{\"colorbar\":{\"outlinewidth\":1,\"tickcolor\":\"rgb(36,36,36)\",\"ticks\":\"outside\"},\"colorscale\":[[0.0,\"#440154\"],[0.1111111111111111,\"#482878\"],[0.2222222222222222,\"#3e4989\"],[0.3333333333333333,\"#31688e\"],[0.4444444444444444,\"#26828e\"],[0.5555555555555556,\"#1f9e89\"],[0.6666666666666666,\"#35b779\"],[0.7777777777777778,\"#6ece58\"],[0.8888888888888888,\"#b5de2b\"],[1.0,\"#fde725\"]],\"type\":\"surface\"}],\"table\":[{\"cells\":{\"fill\":{\"color\":\"rgb(237,237,237)\"},\"line\":{\"color\":\"white\"}},\"header\":{\"fill\":{\"color\":\"rgb(217,217,217)\"},\"line\":{\"color\":\"white\"}},\"type\":\"table\"}]},\"layout\":{\"annotationdefaults\":{\"arrowhead\":0,\"arrowwidth\":1},\"autotypenumbers\":\"strict\",\"coloraxis\":{\"colorbar\":{\"outlinewidth\":1,\"tickcolor\":\"rgb(36,36,36)\",\"ticks\":\"outside\"}},\"colorscale\":{\"diverging\":[[0.0,\"rgb(103,0,31)\"],[0.1,\"rgb(178,24,43)\"],[0.2,\"rgb(214,96,77)\"],[0.3,\"rgb(244,165,130)\"],[0.4,\"rgb(253,219,199)\"],[0.5,\"rgb(247,247,247)\"],[0.6,\"rgb(209,229,240)\"],[0.7,\"rgb(146,197,222)\"],[0.8,\"rgb(67,147,195)\"],[0.9,\"rgb(33,102,172)\"],[1.0,\"rgb(5,48,97)\"]],\"sequential\":[[0.0,\"#440154\"],[0.1111111111111111,\"#482878\"],[0.2222222222222222,\"#3e4989\"],[0.3333333333333333,\"#31688e\"],[0.4444444444444444,\"#26828e\"],[0.5555555555555556,\"#1f9e89\"],[0.6666666666666666,\"#35b779\"],[0.7777777777777778,\"#6ece58\"],[0.8888888888888888,\"#b5de2b\"],[1.0,\"#fde725\"]],\"sequentialminus\":[[0.0,\"#440154\"],[0.1111111111111111,\"#482878\"],[0.2222222222222222,\"#3e4989\"],[0.3333333333333333,\"#31688e\"],[0.4444444444444444,\"#26828e\"],[0.5555555555555556,\"#1f9e89\"],[0.6666666666666666,\"#35b779\"],[0.7777777777777778,\"#6ece58\"],[0.8888888888888888,\"#b5de2b\"],[1.0,\"#fde725\"]]},\"colorway\":[\"#1F77B4\",\"#FF7F0E\",\"#2CA02C\",\"#D62728\",\"#9467BD\",\"#8C564B\",\"#E377C2\",\"#7F7F7F\",\"#BCBD22\",\"#17BECF\"],\"font\":{\"color\":\"rgb(36,36,36)\"},\"geo\":{\"bgcolor\":\"white\",\"lakecolor\":\"white\",\"landcolor\":\"white\",\"showlakes\":true,\"showland\":true,\"subunitcolor\":\"white\"},\"hoverlabel\":{\"align\":\"left\"},\"hovermode\":\"closest\",\"mapbox\":{\"style\":\"light\"},\"paper_bgcolor\":\"white\",\"plot_bgcolor\":\"white\",\"polar\":{\"angularaxis\":{\"gridcolor\":\"rgb(232,232,232)\",\"linecolor\":\"rgb(36,36,36)\",\"showgrid\":false,\"showline\":true,\"ticks\":\"outside\"},\"bgcolor\":\"white\",\"radialaxis\":{\"gridcolor\":\"rgb(232,232,232)\",\"linecolor\":\"rgb(36,36,36)\",\"showgrid\":false,\"showline\":true,\"ticks\":\"outside\"}},\"scene\":{\"xaxis\":{\"backgroundcolor\":\"white\",\"gridcolor\":\"rgb(232,232,232)\",\"gridwidth\":2,\"linecolor\":\"rgb(36,36,36)\",\"showbackground\":true,\"showgrid\":false,\"showline\":true,\"ticks\":\"outside\",\"zeroline\":false,\"zerolinecolor\":\"rgb(36,36,36)\"},\"yaxis\":{\"backgroundcolor\":\"white\",\"gridcolor\":\"rgb(232,232,232)\",\"gridwidth\":2,\"linecolor\":\"rgb(36,36,36)\",\"showbackground\":true,\"showgrid\":false,\"showline\":true,\"ticks\":\"outside\",\"zeroline\":false,\"zerolinecolor\":\"rgb(36,36,36)\"},\"zaxis\":{\"backgroundcolor\":\"white\",\"gridcolor\":\"rgb(232,232,232)\",\"gridwidth\":2,\"linecolor\":\"rgb(36,36,36)\",\"showbackground\":true,\"showgrid\":false,\"showline\":true,\"ticks\":\"outside\",\"zeroline\":false,\"zerolinecolor\":\"rgb(36,36,36)\"}},\"shapedefaults\":{\"fillcolor\":\"black\",\"line\":{\"width\":0},\"opacity\":0.3},\"ternary\":{\"aaxis\":{\"gridcolor\":\"rgb(232,232,232)\",\"linecolor\":\"rgb(36,36,36)\",\"showgrid\":false,\"showline\":true,\"ticks\":\"outside\"},\"baxis\":{\"gridcolor\":\"rgb(232,232,232)\",\"linecolor\":\"rgb(36,36,36)\",\"showgrid\":false,\"showline\":true,\"ticks\":\"outside\"},\"bgcolor\":\"white\",\"caxis\":{\"gridcolor\":\"rgb(232,232,232)\",\"linecolor\":\"rgb(36,36,36)\",\"showgrid\":false,\"showline\":true,\"ticks\":\"outside\"}},\"title\":{\"x\":0.05},\"xaxis\":{\"automargin\":true,\"gridcolor\":\"rgb(232,232,232)\",\"linecolor\":\"rgb(36,36,36)\",\"showgrid\":false,\"showline\":true,\"ticks\":\"outside\",\"title\":{\"standoff\":15},\"zeroline\":false,\"zerolinecolor\":\"rgb(36,36,36)\"},\"yaxis\":{\"automargin\":true,\"gridcolor\":\"rgb(232,232,232)\",\"linecolor\":\"rgb(36,36,36)\",\"showgrid\":false,\"showline\":true,\"ticks\":\"outside\",\"title\":{\"standoff\":15},\"zeroline\":false,\"zerolinecolor\":\"rgb(36,36,36)\"}}},\"xaxis\":{\"anchor\":\"y\",\"domain\":[0.0,1.0],\"title\":{\"text\":\"minimum doc frequency\"}},\"yaxis\":{\"anchor\":\"x\",\"domain\":[0.0,1.0],\"title\":{\"text\":\"vocabulary size\"}},\"legend\":{\"title\":{\"text\":\"source\"},\"tracegroupgap\":0,\"yanchor\":\"top\",\"y\":0.99,\"xanchor\":\"right\",\"x\":0.99},\"margin\":{\"t\":60},\"barmode\":\"group\",\"height\":450,\"width\":550},                        {\"responsive\": true}                    ).then(function(){\n",
       "                            \n",
       "var gd = document.getElementById('6b79d065-6339-415b-bdf9-94acb2a811f0');\n",
       "var x = new MutationObserver(function (mutations, observer) {{\n",
       "        var display = window.getComputedStyle(gd).display;\n",
       "        if (!display || display === 'none') {{\n",
       "            console.log([gd, 'removed!']);\n",
       "            Plotly.purge(gd);\n",
       "            observer.disconnect();\n",
       "        }}\n",
       "}});\n",
       "\n",
       "// Listen for the removal of the full notebook cells\n",
       "var notebookContainer = gd.closest('#notebook-container');\n",
       "if (notebookContainer) {{\n",
       "    x.observe(notebookContainer, {childList: true});\n",
       "}}\n",
       "\n",
       "// Listen for the clearing of the current output cell\n",
       "var outputEl = gd.closest('.output');\n",
       "if (outputEl) {{\n",
       "    x.observe(outputEl, {childList: true});\n",
       "}}\n",
       "\n",
       "                        })                };                });            </script>        </div>"
      ]
     },
     "metadata": {},
     "output_type": "display_data"
    }
   ],
   "source": [
    "import plotly.express as px\n",
    "\n",
    "px.defaults.template = \"simple_white\"\n",
    "fig = px.bar(df_features_stats_2, x='minimum doc frequency', color='source', y='vocabulary size', barmode='group',\n",
    "            color_discrete_sequence=px.colors.qualitative.D3, width=550, height=450)\n",
    "fig.update_layout(legend=dict(\n",
    "    yanchor=\"top\",\n",
    "    y=0.99,\n",
    "    xanchor=\"right\",\n",
    "    x=0.99\n",
    "))\n",
    "fig.show()"
   ]
  },
  {
   "cell_type": "code",
   "execution_count": 47,
   "id": "388f0f10",
   "metadata": {},
   "outputs": [
    {
     "data": {
      "application/vnd.plotly.v1+json": {
       "config": {
        "plotlyServerURL": "https://plot.ly"
       },
       "data": [
        {
         "alignmentgroup": "True",
         "hovertemplate": "source=%{x}<br>vocabulary size=%{y}<extra></extra>",
         "legendgroup": "WebText",
         "marker": {
          "color": "#1F77B4",
          "pattern": {
           "shape": ""
          }
         },
         "name": "WebText",
         "offsetgroup": "WebText",
         "orientation": "v",
         "showlegend": true,
         "textposition": "auto",
         "type": "bar",
         "x": [
          "WebText"
         ],
         "xaxis": "x",
         "y": [
          265616
         ],
         "yaxis": "y"
        },
        {
         "alignmentgroup": "True",
         "hovertemplate": "source=%{x}<br>vocabulary size=%{y}<extra></extra>",
         "legendgroup": "GPT2-xl",
         "marker": {
          "color": "#FF7F0E",
          "pattern": {
           "shape": ""
          }
         },
         "name": "GPT2-xl",
         "offsetgroup": "GPT2-xl",
         "orientation": "v",
         "showlegend": true,
         "textposition": "auto",
         "type": "bar",
         "x": [
          "GPT2-xl"
         ],
         "xaxis": "x",
         "y": [
          345980
         ],
         "yaxis": "y"
        },
        {
         "alignmentgroup": "True",
         "hovertemplate": "source=%{x}<br>vocabulary size=%{y}<extra></extra>",
         "legendgroup": "WebText ∩ GPT2-xl",
         "marker": {
          "color": "#2CA02C",
          "pattern": {
           "shape": ""
          }
         },
         "name": "WebText ∩ GPT2-xl",
         "offsetgroup": "WebText ∩ GPT2-xl",
         "orientation": "v",
         "showlegend": true,
         "textposition": "auto",
         "type": "bar",
         "x": [
          "WebText ∩ GPT2-xl"
         ],
         "xaxis": "x",
         "y": [
          199511
         ],
         "yaxis": "y"
        }
       ],
       "layout": {
        "barmode": "relative",
        "height": 450,
        "legend": {
         "title": {
          "text": "source"
         },
         "tracegroupgap": 0
        },
        "margin": {
         "t": 60
        },
        "showlegend": false,
        "template": {
         "data": {
          "bar": [
           {
            "error_x": {
             "color": "#2a3f5f"
            },
            "error_y": {
             "color": "#2a3f5f"
            },
            "marker": {
             "line": {
              "color": "#E5ECF6",
              "width": 0.5
             },
             "pattern": {
              "fillmode": "overlay",
              "size": 10,
              "solidity": 0.2
             }
            },
            "type": "bar"
           }
          ],
          "barpolar": [
           {
            "marker": {
             "line": {
              "color": "#E5ECF6",
              "width": 0.5
             },
             "pattern": {
              "fillmode": "overlay",
              "size": 10,
              "solidity": 0.2
             }
            },
            "type": "barpolar"
           }
          ],
          "carpet": [
           {
            "aaxis": {
             "endlinecolor": "#2a3f5f",
             "gridcolor": "white",
             "linecolor": "white",
             "minorgridcolor": "white",
             "startlinecolor": "#2a3f5f"
            },
            "baxis": {
             "endlinecolor": "#2a3f5f",
             "gridcolor": "white",
             "linecolor": "white",
             "minorgridcolor": "white",
             "startlinecolor": "#2a3f5f"
            },
            "type": "carpet"
           }
          ],
          "choropleth": [
           {
            "colorbar": {
             "outlinewidth": 0,
             "ticks": ""
            },
            "type": "choropleth"
           }
          ],
          "contour": [
           {
            "colorbar": {
             "outlinewidth": 0,
             "ticks": ""
            },
            "colorscale": [
             [
              0,
              "#0d0887"
             ],
             [
              0.1111111111111111,
              "#46039f"
             ],
             [
              0.2222222222222222,
              "#7201a8"
             ],
             [
              0.3333333333333333,
              "#9c179e"
             ],
             [
              0.4444444444444444,
              "#bd3786"
             ],
             [
              0.5555555555555556,
              "#d8576b"
             ],
             [
              0.6666666666666666,
              "#ed7953"
             ],
             [
              0.7777777777777778,
              "#fb9f3a"
             ],
             [
              0.8888888888888888,
              "#fdca26"
             ],
             [
              1,
              "#f0f921"
             ]
            ],
            "type": "contour"
           }
          ],
          "contourcarpet": [
           {
            "colorbar": {
             "outlinewidth": 0,
             "ticks": ""
            },
            "type": "contourcarpet"
           }
          ],
          "heatmap": [
           {
            "colorbar": {
             "outlinewidth": 0,
             "ticks": ""
            },
            "colorscale": [
             [
              0,
              "#0d0887"
             ],
             [
              0.1111111111111111,
              "#46039f"
             ],
             [
              0.2222222222222222,
              "#7201a8"
             ],
             [
              0.3333333333333333,
              "#9c179e"
             ],
             [
              0.4444444444444444,
              "#bd3786"
             ],
             [
              0.5555555555555556,
              "#d8576b"
             ],
             [
              0.6666666666666666,
              "#ed7953"
             ],
             [
              0.7777777777777778,
              "#fb9f3a"
             ],
             [
              0.8888888888888888,
              "#fdca26"
             ],
             [
              1,
              "#f0f921"
             ]
            ],
            "type": "heatmap"
           }
          ],
          "heatmapgl": [
           {
            "colorbar": {
             "outlinewidth": 0,
             "ticks": ""
            },
            "colorscale": [
             [
              0,
              "#0d0887"
             ],
             [
              0.1111111111111111,
              "#46039f"
             ],
             [
              0.2222222222222222,
              "#7201a8"
             ],
             [
              0.3333333333333333,
              "#9c179e"
             ],
             [
              0.4444444444444444,
              "#bd3786"
             ],
             [
              0.5555555555555556,
              "#d8576b"
             ],
             [
              0.6666666666666666,
              "#ed7953"
             ],
             [
              0.7777777777777778,
              "#fb9f3a"
             ],
             [
              0.8888888888888888,
              "#fdca26"
             ],
             [
              1,
              "#f0f921"
             ]
            ],
            "type": "heatmapgl"
           }
          ],
          "histogram": [
           {
            "marker": {
             "pattern": {
              "fillmode": "overlay",
              "size": 10,
              "solidity": 0.2
             }
            },
            "type": "histogram"
           }
          ],
          "histogram2d": [
           {
            "colorbar": {
             "outlinewidth": 0,
             "ticks": ""
            },
            "colorscale": [
             [
              0,
              "#0d0887"
             ],
             [
              0.1111111111111111,
              "#46039f"
             ],
             [
              0.2222222222222222,
              "#7201a8"
             ],
             [
              0.3333333333333333,
              "#9c179e"
             ],
             [
              0.4444444444444444,
              "#bd3786"
             ],
             [
              0.5555555555555556,
              "#d8576b"
             ],
             [
              0.6666666666666666,
              "#ed7953"
             ],
             [
              0.7777777777777778,
              "#fb9f3a"
             ],
             [
              0.8888888888888888,
              "#fdca26"
             ],
             [
              1,
              "#f0f921"
             ]
            ],
            "type": "histogram2d"
           }
          ],
          "histogram2dcontour": [
           {
            "colorbar": {
             "outlinewidth": 0,
             "ticks": ""
            },
            "colorscale": [
             [
              0,
              "#0d0887"
             ],
             [
              0.1111111111111111,
              "#46039f"
             ],
             [
              0.2222222222222222,
              "#7201a8"
             ],
             [
              0.3333333333333333,
              "#9c179e"
             ],
             [
              0.4444444444444444,
              "#bd3786"
             ],
             [
              0.5555555555555556,
              "#d8576b"
             ],
             [
              0.6666666666666666,
              "#ed7953"
             ],
             [
              0.7777777777777778,
              "#fb9f3a"
             ],
             [
              0.8888888888888888,
              "#fdca26"
             ],
             [
              1,
              "#f0f921"
             ]
            ],
            "type": "histogram2dcontour"
           }
          ],
          "mesh3d": [
           {
            "colorbar": {
             "outlinewidth": 0,
             "ticks": ""
            },
            "type": "mesh3d"
           }
          ],
          "parcoords": [
           {
            "line": {
             "colorbar": {
              "outlinewidth": 0,
              "ticks": ""
             }
            },
            "type": "parcoords"
           }
          ],
          "pie": [
           {
            "automargin": true,
            "type": "pie"
           }
          ],
          "scatter": [
           {
            "fillpattern": {
             "fillmode": "overlay",
             "size": 10,
             "solidity": 0.2
            },
            "type": "scatter"
           }
          ],
          "scatter3d": [
           {
            "line": {
             "colorbar": {
              "outlinewidth": 0,
              "ticks": ""
             }
            },
            "marker": {
             "colorbar": {
              "outlinewidth": 0,
              "ticks": ""
             }
            },
            "type": "scatter3d"
           }
          ],
          "scattercarpet": [
           {
            "marker": {
             "colorbar": {
              "outlinewidth": 0,
              "ticks": ""
             }
            },
            "type": "scattercarpet"
           }
          ],
          "scattergeo": [
           {
            "marker": {
             "colorbar": {
              "outlinewidth": 0,
              "ticks": ""
             }
            },
            "type": "scattergeo"
           }
          ],
          "scattergl": [
           {
            "marker": {
             "colorbar": {
              "outlinewidth": 0,
              "ticks": ""
             }
            },
            "type": "scattergl"
           }
          ],
          "scattermapbox": [
           {
            "marker": {
             "colorbar": {
              "outlinewidth": 0,
              "ticks": ""
             }
            },
            "type": "scattermapbox"
           }
          ],
          "scatterpolar": [
           {
            "marker": {
             "colorbar": {
              "outlinewidth": 0,
              "ticks": ""
             }
            },
            "type": "scatterpolar"
           }
          ],
          "scatterpolargl": [
           {
            "marker": {
             "colorbar": {
              "outlinewidth": 0,
              "ticks": ""
             }
            },
            "type": "scatterpolargl"
           }
          ],
          "scatterternary": [
           {
            "marker": {
             "colorbar": {
              "outlinewidth": 0,
              "ticks": ""
             }
            },
            "type": "scatterternary"
           }
          ],
          "surface": [
           {
            "colorbar": {
             "outlinewidth": 0,
             "ticks": ""
            },
            "colorscale": [
             [
              0,
              "#0d0887"
             ],
             [
              0.1111111111111111,
              "#46039f"
             ],
             [
              0.2222222222222222,
              "#7201a8"
             ],
             [
              0.3333333333333333,
              "#9c179e"
             ],
             [
              0.4444444444444444,
              "#bd3786"
             ],
             [
              0.5555555555555556,
              "#d8576b"
             ],
             [
              0.6666666666666666,
              "#ed7953"
             ],
             [
              0.7777777777777778,
              "#fb9f3a"
             ],
             [
              0.8888888888888888,
              "#fdca26"
             ],
             [
              1,
              "#f0f921"
             ]
            ],
            "type": "surface"
           }
          ],
          "table": [
           {
            "cells": {
             "fill": {
              "color": "#EBF0F8"
             },
             "line": {
              "color": "white"
             }
            },
            "header": {
             "fill": {
              "color": "#C8D4E3"
             },
             "line": {
              "color": "white"
             }
            },
            "type": "table"
           }
          ]
         },
         "layout": {
          "annotationdefaults": {
           "arrowcolor": "#2a3f5f",
           "arrowhead": 0,
           "arrowwidth": 1
          },
          "autotypenumbers": "strict",
          "coloraxis": {
           "colorbar": {
            "outlinewidth": 0,
            "ticks": ""
           }
          },
          "colorscale": {
           "diverging": [
            [
             0,
             "#8e0152"
            ],
            [
             0.1,
             "#c51b7d"
            ],
            [
             0.2,
             "#de77ae"
            ],
            [
             0.3,
             "#f1b6da"
            ],
            [
             0.4,
             "#fde0ef"
            ],
            [
             0.5,
             "#f7f7f7"
            ],
            [
             0.6,
             "#e6f5d0"
            ],
            [
             0.7,
             "#b8e186"
            ],
            [
             0.8,
             "#7fbc41"
            ],
            [
             0.9,
             "#4d9221"
            ],
            [
             1,
             "#276419"
            ]
           ],
           "sequential": [
            [
             0,
             "#0d0887"
            ],
            [
             0.1111111111111111,
             "#46039f"
            ],
            [
             0.2222222222222222,
             "#7201a8"
            ],
            [
             0.3333333333333333,
             "#9c179e"
            ],
            [
             0.4444444444444444,
             "#bd3786"
            ],
            [
             0.5555555555555556,
             "#d8576b"
            ],
            [
             0.6666666666666666,
             "#ed7953"
            ],
            [
             0.7777777777777778,
             "#fb9f3a"
            ],
            [
             0.8888888888888888,
             "#fdca26"
            ],
            [
             1,
             "#f0f921"
            ]
           ],
           "sequentialminus": [
            [
             0,
             "#0d0887"
            ],
            [
             0.1111111111111111,
             "#46039f"
            ],
            [
             0.2222222222222222,
             "#7201a8"
            ],
            [
             0.3333333333333333,
             "#9c179e"
            ],
            [
             0.4444444444444444,
             "#bd3786"
            ],
            [
             0.5555555555555556,
             "#d8576b"
            ],
            [
             0.6666666666666666,
             "#ed7953"
            ],
            [
             0.7777777777777778,
             "#fb9f3a"
            ],
            [
             0.8888888888888888,
             "#fdca26"
            ],
            [
             1,
             "#f0f921"
            ]
           ]
          },
          "colorway": [
           "#636efa",
           "#EF553B",
           "#00cc96",
           "#ab63fa",
           "#FFA15A",
           "#19d3f3",
           "#FF6692",
           "#B6E880",
           "#FF97FF",
           "#FECB52"
          ],
          "font": {
           "color": "#2a3f5f"
          },
          "geo": {
           "bgcolor": "white",
           "lakecolor": "white",
           "landcolor": "#E5ECF6",
           "showlakes": true,
           "showland": true,
           "subunitcolor": "white"
          },
          "hoverlabel": {
           "align": "left"
          },
          "hovermode": "closest",
          "mapbox": {
           "style": "light"
          },
          "paper_bgcolor": "white",
          "plot_bgcolor": "#E5ECF6",
          "polar": {
           "angularaxis": {
            "gridcolor": "white",
            "linecolor": "white",
            "ticks": ""
           },
           "bgcolor": "#E5ECF6",
           "radialaxis": {
            "gridcolor": "white",
            "linecolor": "white",
            "ticks": ""
           }
          },
          "scene": {
           "xaxis": {
            "backgroundcolor": "#E5ECF6",
            "gridcolor": "white",
            "gridwidth": 2,
            "linecolor": "white",
            "showbackground": true,
            "ticks": "",
            "zerolinecolor": "white"
           },
           "yaxis": {
            "backgroundcolor": "#E5ECF6",
            "gridcolor": "white",
            "gridwidth": 2,
            "linecolor": "white",
            "showbackground": true,
            "ticks": "",
            "zerolinecolor": "white"
           },
           "zaxis": {
            "backgroundcolor": "#E5ECF6",
            "gridcolor": "white",
            "gridwidth": 2,
            "linecolor": "white",
            "showbackground": true,
            "ticks": "",
            "zerolinecolor": "white"
           }
          },
          "shapedefaults": {
           "line": {
            "color": "#2a3f5f"
           }
          },
          "ternary": {
           "aaxis": {
            "gridcolor": "white",
            "linecolor": "white",
            "ticks": ""
           },
           "baxis": {
            "gridcolor": "white",
            "linecolor": "white",
            "ticks": ""
           },
           "bgcolor": "#E5ECF6",
           "caxis": {
            "gridcolor": "white",
            "linecolor": "white",
            "ticks": ""
           }
          },
          "title": {
           "x": 0.05
          },
          "xaxis": {
           "automargin": true,
           "gridcolor": "white",
           "linecolor": "white",
           "ticks": "",
           "title": {
            "standoff": 15
           },
           "zerolinecolor": "white",
           "zerolinewidth": 2
          },
          "yaxis": {
           "automargin": true,
           "gridcolor": "white",
           "linecolor": "white",
           "ticks": "",
           "title": {
            "standoff": 15
           },
           "zerolinecolor": "white",
           "zerolinewidth": 2
          }
         }
        },
        "width": 550,
        "xaxis": {
         "anchor": "y",
         "categoryarray": [
          "WebText",
          "GPT2-xl",
          "WebText ∩ GPT2-xl"
         ],
         "categoryorder": "array",
         "domain": [
          0,
          1
         ],
         "title": {
          "text": "source"
         }
        },
        "yaxis": {
         "anchor": "x",
         "domain": [
          0,
          1
         ],
         "title": {
          "text": "vocabulary size"
         }
        }
       }
      },
      "text/html": [
       "<div>                            <div id=\"248be0e9-116b-4c5d-8538-cad9155ff004\" class=\"plotly-graph-div\" style=\"height:450px; width:550px;\"></div>            <script type=\"text/javascript\">                require([\"plotly\"], function(Plotly) {                    window.PLOTLYENV=window.PLOTLYENV || {};                                    if (document.getElementById(\"248be0e9-116b-4c5d-8538-cad9155ff004\")) {                    Plotly.newPlot(                        \"248be0e9-116b-4c5d-8538-cad9155ff004\",                        [{\"alignmentgroup\":\"True\",\"hovertemplate\":\"source=%{x}<br>vocabulary size=%{y}<extra></extra>\",\"legendgroup\":\"WebText\",\"marker\":{\"color\":\"#1F77B4\",\"pattern\":{\"shape\":\"\"}},\"name\":\"WebText\",\"offsetgroup\":\"WebText\",\"orientation\":\"v\",\"showlegend\":true,\"textposition\":\"auto\",\"x\":[\"WebText\"],\"xaxis\":\"x\",\"y\":[265616],\"yaxis\":\"y\",\"type\":\"bar\"},{\"alignmentgroup\":\"True\",\"hovertemplate\":\"source=%{x}<br>vocabulary size=%{y}<extra></extra>\",\"legendgroup\":\"GPT2-xl\",\"marker\":{\"color\":\"#FF7F0E\",\"pattern\":{\"shape\":\"\"}},\"name\":\"GPT2-xl\",\"offsetgroup\":\"GPT2-xl\",\"orientation\":\"v\",\"showlegend\":true,\"textposition\":\"auto\",\"x\":[\"GPT2-xl\"],\"xaxis\":\"x\",\"y\":[345980],\"yaxis\":\"y\",\"type\":\"bar\"},{\"alignmentgroup\":\"True\",\"hovertemplate\":\"source=%{x}<br>vocabulary size=%{y}<extra></extra>\",\"legendgroup\":\"WebText \\u2229 GPT2-xl\",\"marker\":{\"color\":\"#2CA02C\",\"pattern\":{\"shape\":\"\"}},\"name\":\"WebText \\u2229 GPT2-xl\",\"offsetgroup\":\"WebText \\u2229 GPT2-xl\",\"orientation\":\"v\",\"showlegend\":true,\"textposition\":\"auto\",\"x\":[\"WebText \\u2229 GPT2-xl\"],\"xaxis\":\"x\",\"y\":[199511],\"yaxis\":\"y\",\"type\":\"bar\"}],                        {\"template\":{\"data\":{\"histogram2dcontour\":[{\"type\":\"histogram2dcontour\",\"colorbar\":{\"outlinewidth\":0,\"ticks\":\"\"},\"colorscale\":[[0.0,\"#0d0887\"],[0.1111111111111111,\"#46039f\"],[0.2222222222222222,\"#7201a8\"],[0.3333333333333333,\"#9c179e\"],[0.4444444444444444,\"#bd3786\"],[0.5555555555555556,\"#d8576b\"],[0.6666666666666666,\"#ed7953\"],[0.7777777777777778,\"#fb9f3a\"],[0.8888888888888888,\"#fdca26\"],[1.0,\"#f0f921\"]]}],\"choropleth\":[{\"type\":\"choropleth\",\"colorbar\":{\"outlinewidth\":0,\"ticks\":\"\"}}],\"histogram2d\":[{\"type\":\"histogram2d\",\"colorbar\":{\"outlinewidth\":0,\"ticks\":\"\"},\"colorscale\":[[0.0,\"#0d0887\"],[0.1111111111111111,\"#46039f\"],[0.2222222222222222,\"#7201a8\"],[0.3333333333333333,\"#9c179e\"],[0.4444444444444444,\"#bd3786\"],[0.5555555555555556,\"#d8576b\"],[0.6666666666666666,\"#ed7953\"],[0.7777777777777778,\"#fb9f3a\"],[0.8888888888888888,\"#fdca26\"],[1.0,\"#f0f921\"]]}],\"heatmap\":[{\"type\":\"heatmap\",\"colorbar\":{\"outlinewidth\":0,\"ticks\":\"\"},\"colorscale\":[[0.0,\"#0d0887\"],[0.1111111111111111,\"#46039f\"],[0.2222222222222222,\"#7201a8\"],[0.3333333333333333,\"#9c179e\"],[0.4444444444444444,\"#bd3786\"],[0.5555555555555556,\"#d8576b\"],[0.6666666666666666,\"#ed7953\"],[0.7777777777777778,\"#fb9f3a\"],[0.8888888888888888,\"#fdca26\"],[1.0,\"#f0f921\"]]}],\"heatmapgl\":[{\"type\":\"heatmapgl\",\"colorbar\":{\"outlinewidth\":0,\"ticks\":\"\"},\"colorscale\":[[0.0,\"#0d0887\"],[0.1111111111111111,\"#46039f\"],[0.2222222222222222,\"#7201a8\"],[0.3333333333333333,\"#9c179e\"],[0.4444444444444444,\"#bd3786\"],[0.5555555555555556,\"#d8576b\"],[0.6666666666666666,\"#ed7953\"],[0.7777777777777778,\"#fb9f3a\"],[0.8888888888888888,\"#fdca26\"],[1.0,\"#f0f921\"]]}],\"contourcarpet\":[{\"type\":\"contourcarpet\",\"colorbar\":{\"outlinewidth\":0,\"ticks\":\"\"}}],\"contour\":[{\"type\":\"contour\",\"colorbar\":{\"outlinewidth\":0,\"ticks\":\"\"},\"colorscale\":[[0.0,\"#0d0887\"],[0.1111111111111111,\"#46039f\"],[0.2222222222222222,\"#7201a8\"],[0.3333333333333333,\"#9c179e\"],[0.4444444444444444,\"#bd3786\"],[0.5555555555555556,\"#d8576b\"],[0.6666666666666666,\"#ed7953\"],[0.7777777777777778,\"#fb9f3a\"],[0.8888888888888888,\"#fdca26\"],[1.0,\"#f0f921\"]]}],\"surface\":[{\"type\":\"surface\",\"colorbar\":{\"outlinewidth\":0,\"ticks\":\"\"},\"colorscale\":[[0.0,\"#0d0887\"],[0.1111111111111111,\"#46039f\"],[0.2222222222222222,\"#7201a8\"],[0.3333333333333333,\"#9c179e\"],[0.4444444444444444,\"#bd3786\"],[0.5555555555555556,\"#d8576b\"],[0.6666666666666666,\"#ed7953\"],[0.7777777777777778,\"#fb9f3a\"],[0.8888888888888888,\"#fdca26\"],[1.0,\"#f0f921\"]]}],\"mesh3d\":[{\"type\":\"mesh3d\",\"colorbar\":{\"outlinewidth\":0,\"ticks\":\"\"}}],\"scatter\":[{\"fillpattern\":{\"fillmode\":\"overlay\",\"size\":10,\"solidity\":0.2},\"type\":\"scatter\"}],\"parcoords\":[{\"type\":\"parcoords\",\"line\":{\"colorbar\":{\"outlinewidth\":0,\"ticks\":\"\"}}}],\"scatterpolargl\":[{\"type\":\"scatterpolargl\",\"marker\":{\"colorbar\":{\"outlinewidth\":0,\"ticks\":\"\"}}}],\"bar\":[{\"error_x\":{\"color\":\"#2a3f5f\"},\"error_y\":{\"color\":\"#2a3f5f\"},\"marker\":{\"line\":{\"color\":\"#E5ECF6\",\"width\":0.5},\"pattern\":{\"fillmode\":\"overlay\",\"size\":10,\"solidity\":0.2}},\"type\":\"bar\"}],\"scattergeo\":[{\"type\":\"scattergeo\",\"marker\":{\"colorbar\":{\"outlinewidth\":0,\"ticks\":\"\"}}}],\"scatterpolar\":[{\"type\":\"scatterpolar\",\"marker\":{\"colorbar\":{\"outlinewidth\":0,\"ticks\":\"\"}}}],\"histogram\":[{\"marker\":{\"pattern\":{\"fillmode\":\"overlay\",\"size\":10,\"solidity\":0.2}},\"type\":\"histogram\"}],\"scattergl\":[{\"type\":\"scattergl\",\"marker\":{\"colorbar\":{\"outlinewidth\":0,\"ticks\":\"\"}}}],\"scatter3d\":[{\"type\":\"scatter3d\",\"line\":{\"colorbar\":{\"outlinewidth\":0,\"ticks\":\"\"}},\"marker\":{\"colorbar\":{\"outlinewidth\":0,\"ticks\":\"\"}}}],\"scattermapbox\":[{\"type\":\"scattermapbox\",\"marker\":{\"colorbar\":{\"outlinewidth\":0,\"ticks\":\"\"}}}],\"scatterternary\":[{\"type\":\"scatterternary\",\"marker\":{\"colorbar\":{\"outlinewidth\":0,\"ticks\":\"\"}}}],\"scattercarpet\":[{\"type\":\"scattercarpet\",\"marker\":{\"colorbar\":{\"outlinewidth\":0,\"ticks\":\"\"}}}],\"carpet\":[{\"aaxis\":{\"endlinecolor\":\"#2a3f5f\",\"gridcolor\":\"white\",\"linecolor\":\"white\",\"minorgridcolor\":\"white\",\"startlinecolor\":\"#2a3f5f\"},\"baxis\":{\"endlinecolor\":\"#2a3f5f\",\"gridcolor\":\"white\",\"linecolor\":\"white\",\"minorgridcolor\":\"white\",\"startlinecolor\":\"#2a3f5f\"},\"type\":\"carpet\"}],\"table\":[{\"cells\":{\"fill\":{\"color\":\"#EBF0F8\"},\"line\":{\"color\":\"white\"}},\"header\":{\"fill\":{\"color\":\"#C8D4E3\"},\"line\":{\"color\":\"white\"}},\"type\":\"table\"}],\"barpolar\":[{\"marker\":{\"line\":{\"color\":\"#E5ECF6\",\"width\":0.5},\"pattern\":{\"fillmode\":\"overlay\",\"size\":10,\"solidity\":0.2}},\"type\":\"barpolar\"}],\"pie\":[{\"automargin\":true,\"type\":\"pie\"}]},\"layout\":{\"autotypenumbers\":\"strict\",\"colorway\":[\"#636efa\",\"#EF553B\",\"#00cc96\",\"#ab63fa\",\"#FFA15A\",\"#19d3f3\",\"#FF6692\",\"#B6E880\",\"#FF97FF\",\"#FECB52\"],\"font\":{\"color\":\"#2a3f5f\"},\"hovermode\":\"closest\",\"hoverlabel\":{\"align\":\"left\"},\"paper_bgcolor\":\"white\",\"plot_bgcolor\":\"#E5ECF6\",\"polar\":{\"bgcolor\":\"#E5ECF6\",\"angularaxis\":{\"gridcolor\":\"white\",\"linecolor\":\"white\",\"ticks\":\"\"},\"radialaxis\":{\"gridcolor\":\"white\",\"linecolor\":\"white\",\"ticks\":\"\"}},\"ternary\":{\"bgcolor\":\"#E5ECF6\",\"aaxis\":{\"gridcolor\":\"white\",\"linecolor\":\"white\",\"ticks\":\"\"},\"baxis\":{\"gridcolor\":\"white\",\"linecolor\":\"white\",\"ticks\":\"\"},\"caxis\":{\"gridcolor\":\"white\",\"linecolor\":\"white\",\"ticks\":\"\"}},\"coloraxis\":{\"colorbar\":{\"outlinewidth\":0,\"ticks\":\"\"}},\"colorscale\":{\"sequential\":[[0.0,\"#0d0887\"],[0.1111111111111111,\"#46039f\"],[0.2222222222222222,\"#7201a8\"],[0.3333333333333333,\"#9c179e\"],[0.4444444444444444,\"#bd3786\"],[0.5555555555555556,\"#d8576b\"],[0.6666666666666666,\"#ed7953\"],[0.7777777777777778,\"#fb9f3a\"],[0.8888888888888888,\"#fdca26\"],[1.0,\"#f0f921\"]],\"sequentialminus\":[[0.0,\"#0d0887\"],[0.1111111111111111,\"#46039f\"],[0.2222222222222222,\"#7201a8\"],[0.3333333333333333,\"#9c179e\"],[0.4444444444444444,\"#bd3786\"],[0.5555555555555556,\"#d8576b\"],[0.6666666666666666,\"#ed7953\"],[0.7777777777777778,\"#fb9f3a\"],[0.8888888888888888,\"#fdca26\"],[1.0,\"#f0f921\"]],\"diverging\":[[0,\"#8e0152\"],[0.1,\"#c51b7d\"],[0.2,\"#de77ae\"],[0.3,\"#f1b6da\"],[0.4,\"#fde0ef\"],[0.5,\"#f7f7f7\"],[0.6,\"#e6f5d0\"],[0.7,\"#b8e186\"],[0.8,\"#7fbc41\"],[0.9,\"#4d9221\"],[1,\"#276419\"]]},\"xaxis\":{\"gridcolor\":\"white\",\"linecolor\":\"white\",\"ticks\":\"\",\"title\":{\"standoff\":15},\"zerolinecolor\":\"white\",\"automargin\":true,\"zerolinewidth\":2},\"yaxis\":{\"gridcolor\":\"white\",\"linecolor\":\"white\",\"ticks\":\"\",\"title\":{\"standoff\":15},\"zerolinecolor\":\"white\",\"automargin\":true,\"zerolinewidth\":2},\"scene\":{\"xaxis\":{\"backgroundcolor\":\"#E5ECF6\",\"gridcolor\":\"white\",\"linecolor\":\"white\",\"showbackground\":true,\"ticks\":\"\",\"zerolinecolor\":\"white\",\"gridwidth\":2},\"yaxis\":{\"backgroundcolor\":\"#E5ECF6\",\"gridcolor\":\"white\",\"linecolor\":\"white\",\"showbackground\":true,\"ticks\":\"\",\"zerolinecolor\":\"white\",\"gridwidth\":2},\"zaxis\":{\"backgroundcolor\":\"#E5ECF6\",\"gridcolor\":\"white\",\"linecolor\":\"white\",\"showbackground\":true,\"ticks\":\"\",\"zerolinecolor\":\"white\",\"gridwidth\":2}},\"shapedefaults\":{\"line\":{\"color\":\"#2a3f5f\"}},\"annotationdefaults\":{\"arrowcolor\":\"#2a3f5f\",\"arrowhead\":0,\"arrowwidth\":1},\"geo\":{\"bgcolor\":\"white\",\"landcolor\":\"#E5ECF6\",\"subunitcolor\":\"white\",\"showland\":true,\"showlakes\":true,\"lakecolor\":\"white\"},\"title\":{\"x\":0.05},\"mapbox\":{\"style\":\"light\"}}},\"xaxis\":{\"anchor\":\"y\",\"domain\":[0.0,1.0],\"title\":{\"text\":\"source\"},\"categoryorder\":\"array\",\"categoryarray\":[\"WebText\",\"GPT2-xl\",\"WebText \\u2229 GPT2-xl\"]},\"yaxis\":{\"anchor\":\"x\",\"domain\":[0.0,1.0],\"title\":{\"text\":\"vocabulary size\"}},\"legend\":{\"title\":{\"text\":\"source\"},\"tracegroupgap\":0},\"margin\":{\"t\":60},\"barmode\":\"relative\",\"height\":450,\"width\":550,\"showlegend\":false},                        {\"responsive\": true}                    ).then(function(){\n",
       "                            \n",
       "var gd = document.getElementById('248be0e9-116b-4c5d-8538-cad9155ff004');\n",
       "var x = new MutationObserver(function (mutations, observer) {{\n",
       "        var display = window.getComputedStyle(gd).display;\n",
       "        if (!display || display === 'none') {{\n",
       "            console.log([gd, 'removed!']);\n",
       "            Plotly.purge(gd);\n",
       "            observer.disconnect();\n",
       "        }}\n",
       "}});\n",
       "\n",
       "// Listen for the removal of the full notebook cells\n",
       "var notebookContainer = gd.closest('#notebook-container');\n",
       "if (notebookContainer) {{\n",
       "    x.observe(notebookContainer, {childList: true});\n",
       "}}\n",
       "\n",
       "// Listen for the clearing of the current output cell\n",
       "var outputEl = gd.closest('.output');\n",
       "if (outputEl) {{\n",
       "    x.observe(outputEl, {childList: true});\n",
       "}}\n",
       "\n",
       "                        })                };                });            </script>        </div>"
      ]
     },
     "metadata": {},
     "output_type": "display_data"
    }
   ],
   "source": [
    "import plotly.express as px\n",
    "\n",
    "fig = px.bar(df_features_stats, x='source', color='source', y='vocabulary size',# title='Unique words in corpora',\n",
    "            color_discrete_sequence=px.colors.qualitative.D3, width=550, height=450)\n",
    "fig.update_layout(showlegend=False)\n",
    "fig.show()"
   ]
  },
  {
   "cell_type": "code",
   "execution_count": 57,
   "id": "14cb766d",
   "metadata": {},
   "outputs": [
    {
     "name": "stdout",
     "output_type": "stream",
     "text": [
      "dcplay\n",
      "nacaid\n",
      "hanlight\n",
      "whereisgodaddy181\n",
      "9n6hmm6jhua\n",
      "legerly\n",
      "acéloniques\n",
      "pgps74\n",
      "mechitarum\n",
      "ragettebitch\n",
      "izappel\n",
      "concromer\n",
      "izomin\n",
      "caios\n",
      "topontitelika\n",
      "mistracker\n",
      "neuralyzing\n",
      "hyperfactual\n",
      "gjorleifsson\n",
      "foreknowledgenew\n"
     ]
    },
    {
     "name": "stderr",
     "output_type": "stream",
     "text": [
      "/var/folders/ck/d26z0_k97m92rl87n8y0hpsm0000gn/T/ipykernel_11276/4160257534.py:3: DeprecationWarning:\n",
      "\n",
      "Sampling from a set deprecated\n",
      "since Python 3.9 and will be removed in a subsequent version.\n",
      "\n"
     ]
    }
   ],
   "source": [
    "import random\n",
    "\n",
    "print(\"\\n\".join(random.sample(uncommon_tokens_gen['large-762M.train.jsonl'], 20)))"
   ]
  },
  {
   "cell_type": "code",
   "execution_count": 54,
   "id": "2900bb99",
   "metadata": {},
   "outputs": [
    {
     "data": {
      "text/plain": [
       "1422459"
      ]
     },
     "execution_count": 54,
     "metadata": {},
     "output_type": "execute_result"
    }
   ],
   "source": [
    "len(uncommon_tokens_gen['large-762M.train.jsonl'])"
   ]
  },
  {
   "cell_type": "code",
   "execution_count": 55,
   "id": "a4883f29",
   "metadata": {
    "scrolled": true
   },
   "outputs": [
    {
     "data": {
      "text/plain": [
       "432587"
      ]
     },
     "execution_count": 55,
     "metadata": {},
     "output_type": "execute_result"
    }
   ],
   "source": [
    "len(uncommon_tokens_real['large-762M.train.jsonl'])"
   ]
  },
  {
   "cell_type": "code",
   "execution_count": 56,
   "id": "a6525a5d",
   "metadata": {},
   "outputs": [
    {
     "name": "stdout",
     "output_type": "stream",
     "text": [
      "tinwe\n",
      "colelction\n",
      "senkungu\n",
      "18740\n",
      "74d1\n",
      "opengrok\n",
      "see5g\n",
      "1331835584967\n",
      "sensorclass\n",
      "skypricker\n",
      "charitar\n",
      "hanci\n",
      "amicizia\n",
      "29449\n",
      "needed10\n",
      "shurlok\n",
      "leafcrown\n",
      "szblank\n",
      "purecomputed\n",
      "nannra\n"
     ]
    },
    {
     "name": "stderr",
     "output_type": "stream",
     "text": [
      "/var/folders/ck/d26z0_k97m92rl87n8y0hpsm0000gn/T/ipykernel_11276/2427140002.py:3: DeprecationWarning:\n",
      "\n",
      "Sampling from a set deprecated\n",
      "since Python 3.9 and will be removed in a subsequent version.\n",
      "\n"
     ]
    }
   ],
   "source": [
    "import random\n",
    "\n",
    "print(\"\\n\".join(random.sample(uncommon_tokens_real['large-762M.train.jsonl'], 20)))"
   ]
  },
  {
   "cell_type": "code",
   "execution_count": 90,
   "id": "e70f33d4",
   "metadata": {},
   "outputs": [
    {
     "name": "stdout",
     "output_type": "stream",
     "text": [
      "Found in 11 dataset over 27\n"
     ]
    }
   ],
   "source": [
    "found = 0\n",
    "for dataset in features:\n",
    "    if 'nardelli' in features[dataset]:\n",
    "        found += 1\n",
    "print(f\"Found in {found} dataset over {len(features)}\")"
   ]
  },
  {
   "cell_type": "markdown",
   "id": "4e76d901",
   "metadata": {},
   "source": [
    "## Selective dataset analysis"
   ]
  },
  {
   "cell_type": "code",
   "execution_count": 11,
   "id": "57c06fec",
   "metadata": {},
   "outputs": [
    {
     "data": {
      "application/vnd.jupyter.widget-view+json": {
       "model_id": "f6f1766b6c394299a563e4654e9b12c4",
       "version_major": 2,
       "version_minor": 0
      },
      "text/plain": [
       "VBox(children=(Label(value='Select dataset to load:'), HBox(children=(Dropdown(options=('large-762M-k40.test.j…"
      ]
     },
     "execution_count": 11,
     "metadata": {},
     "output_type": "execute_result"
    }
   ],
   "source": [
    "ds_select = widgets.Dropdown(\n",
    "    options = sorted([f for f in os.listdir(data_path) if os.path.isfile(os.path.join(data_path, f))]),\n",
    "    #description='dataset to load:',\n",
    "    disabled=False,\n",
    ")\n",
    "load_button = widgets.Button(\n",
    "    description='load',\n",
    "    disabled=False,\n",
    "    button_style='', # 'success', 'info', 'warning', 'danger' or ''\n",
    "    tooltip='Click to load dataset',\n",
    "    icon='download' # (FontAwesome names without the `fa-` prefix)\n",
    ")\n",
    "output = widgets.Output()\n",
    "\n",
    "def load_ds(b):\n",
    "    output.clear_output()\n",
    "    with output:\n",
    "        print(\"loading dataset...\")\n",
    "        path = os.path.join(data_path, ds_select.value)\n",
    "        if os.path.exists(path):\n",
    "            b.value = pd.read_json(path, lines = True)\n",
    "            print(f\"Dataset {ds_select.value} loaded\")\n",
    "        else:\n",
    "            print(f\"Path {path} for dataset {ds_select.value} does not exist!\")\n",
    "\n",
    "load_button.on_click(load_ds)\n",
    "\n",
    "\n",
    "widgets.VBox([widgets.Label(value=\"Select dataset to load:\"), widgets.HBox([ds_select, load_button]), output])"
   ]
  },
  {
   "cell_type": "code",
   "execution_count": 42,
   "id": "c41df388",
   "metadata": {},
   "outputs": [],
   "source": [
    "df_dataset = load_button.value"
   ]
  },
  {
   "cell_type": "code",
   "execution_count": 75,
   "id": "b26f498c",
   "metadata": {},
   "outputs": [],
   "source": [
    "dataset_name = \"xl-1542M-k40.train.jsonl\""
   ]
  },
  {
   "cell_type": "code",
   "execution_count": 60,
   "id": "ef06e050",
   "metadata": {},
   "outputs": [],
   "source": [
    "dataset_name = \"webtext.train.jsonl\""
   ]
  },
  {
   "cell_type": "code",
   "execution_count": 76,
   "id": "bf090c26",
   "metadata": {},
   "outputs": [],
   "source": [
    "df_dataset = pd.read_json(os.path.join(data_path, dataset_name), lines = True)"
   ]
  },
  {
   "cell_type": "code",
   "execution_count": 17,
   "id": "d861b489",
   "metadata": {},
   "outputs": [
    {
     "data": {
      "text/plain": [
       "dict_keys(['large-762M-k40.test.jsonl', 'large-762M-k40.train.jsonl', 'large-762M-k40.valid.jsonl', 'large-762M.test.jsonl', 'large-762M.train.jsonl', 'large-762M.valid.jsonl', 'medium-345M-k40.test.jsonl', 'medium-345M-k40.train.jsonl', 'medium-345M-k40.valid.jsonl', 'medium-345M.test.jsonl', 'medium-345M.train.jsonl', 'medium-345M.valid.jsonl', 'small-117M-k40.test.jsonl', 'small-117M-k40.train.jsonl', 'small-117M-k40.valid.jsonl', 'small-117M.test.jsonl', 'small-117M.train.jsonl', 'small-117M.valid.jsonl', 'webtext.test.jsonl', 'webtext.train.jsonl', 'webtext.valid.jsonl', 'xl-1542M-k40.test.jsonl', 'xl-1542M-k40.train.jsonl', 'xl-1542M-k40.valid.jsonl', 'xl-1542M.test.jsonl', 'xl-1542M.train.jsonl', 'xl-1542M.valid.jsonl'])"
      ]
     },
     "execution_count": 17,
     "metadata": {},
     "output_type": "execute_result"
    }
   ],
   "source": [
    "tokens.keys()"
   ]
  },
  {
   "cell_type": "code",
   "execution_count": 15,
   "id": "c9c21c01",
   "metadata": {},
   "outputs": [
    {
     "data": {
      "text/plain": [
       "'The European railway sector is receiving a pummelling as British government eurosceptics seize on a report showing that the EU-IMF bailout crisis has hardened the continent\\'s financial landscape. Because there is no EU budget obligation to fund train lines, EU funds have been diverted to other countries\\' rail networks.\\n\\nAnd because there is no EU binding requirement to share cost better with cleaners, cleaning staff can now be filmed as they are sacked.\\n\\nTalks between lenders and national profiteering agencies are taking place in volume hoping to pick up the shortfall. Angry operators will protest against the unfairness of years of state handouts to companies that have secured rail contracts, and unions – already in crisis, though subsidised by taxpayers – will warn that their influence is pressured by politicians on all sides. December\\'s European elections could change things.\\n\\nThe Olso Network in Finland – the nation\\'s fourth major identity-regulated railway – narrowly escaped international aid when a major operator, OOO, defaulted in October.\\n\\nBecause the Spanish state has so far refused the rescue loan from its EU partners, Alstom, Italy\\'s Trasportfrancisco or Spain\\'s Al&A – two major operators – have all pursued national governments for support as crucial routes like London\\'s Northern and Eurostar operated suspended in the first half of 2009.\\n\\nItalian interior minister Giulio Tremonti reckons that closing the railways right through the winter football tournament will help the country transfer €4bn (£2.4bn) for the next four years to regional administration, and it has 5,000 to 6,000 cleaners covering around 100,000 stations.\\n\\nTrains will run mostly, but in emergencies diversions will be made with one possibility the diversion via Oldham or Bristol instead of the up to £1bn forgone on a single train by DLR with the path of East and West England franchise – thanks to the architectural beauty of Scotland stopping trains in Denmark at Swinford centre instead of stops around Glasgow – on ice.\\n\\nIn December, Spain is hoping to shore up its double-A five-and-a-half year legacy scheme to bolster the daily venture of Califeque on hundreds of lines beyond Madrid.\\n\\nThis ragged push follows the usual route between Greece, Italy and Spain to control London British Rail\\'s routes. The government favours the Dutch opposite – of and for himself. Permanent solution might come no country shorter than from the Peanuts comic strip, in which \"Mr Squeezy\" loses his job as manager of a landscape gardening chain and wins jobs as a fisherman. Bob Anderson, proprietor of the M&M\\'s chain, has learned to blend thrive with loss that started with lack of investment shortly after his grandfather had died ten years earlier and wartime maintenance cut right to the bone. Anderson now pocket £55m, down from €300m, thanks to a batch of loans built up by his company during his postwar reconstruction.\\n\\nBritish ministers want to devote their last week in office to European Union problems, before the prospect of a returning Labour government opens up Europe to hornswoggling by politicians who might want to hold proposals up through running surpluses, and foreign wild beasts – not least German Chancellor Angela Merkel\\'s – to thrash. With two years left for the upcoming European elections, \"this reparatory session, getting rid of it as soon as possible, will make it very positive for the British way of negotiating, diplomatically\", says future business minister Tony Davies.\\n\\nAnticipating the level of opposition to further EU-backed conductors, Dominic Cummings, leader of the Liberal Democrats, is also hoping:\\n\\n\"The markets are being tackled by the question of the deleveraging of economies, which means if you are saying that you are unambiguously pro-European, you have to courteously and effectively convince [the public] that it is a pro-European government. I was in Poland and saw that the targets Elmar Brok, the Minister of Economy, had set out were the economic targets he\\'d set out. I would have spoken up if they would have said \\'in large part, Elmar set ourselves that today\\'.\"\\n\\nDeath and Destruction\\n\\nMortgage packs of prime-time TV bulletins round the world are highlighting the immediate blow with years in many cases in movie and a complicated road ahead, as investment in Thailand\\'s underwater motorway sector messes with the sterling and wages before giving way to gripes about inefficiently ruled countryside wage systems, and too time-averse firms swatting down risks with artificial unemployment.\\n\\nThe admittedly low-profile Chinese new year presence way beyond Beijing has Russian president Leonid Kuchma and his hardline Federal Development Cooperation Service not long ago approving another 2.5km stretch of the Don River corridor – complete with new myriad amputees in server of the canal\\'s project manufacturer. The decision outraged Feng Zhu, founder of Blind village, one of the groups that were ignored the first time'"
      ]
     },
     "execution_count": 15,
     "metadata": {},
     "output_type": "execute_result"
    }
   ],
   "source": [
    "df_dataset.iloc[5,1]"
   ]
  },
  {
   "cell_type": "code",
   "execution_count": null,
   "id": "026f840e",
   "metadata": {},
   "outputs": [],
   "source": [
    "df_dataset.head()"
   ]
  },
  {
   "cell_type": "code",
   "execution_count": 77,
   "id": "d907dae9",
   "metadata": {},
   "outputs": [],
   "source": [
    "eng_vocab_overlap = []\n",
    "eng_ratio = []\n",
    "non_eng_vocab_count = []\n",
    "for i, tks in enumerate(tokens[dataset_name]):\n",
    "    non_eng_vocabs = set()\n",
    "    count = 0\n",
    "    for tk in tks:\n",
    "        if tk in eng_vocab:\n",
    "            count += 1\n",
    "        else:\n",
    "            non_eng_vocabs.add(tk)\n",
    "    eng_vocab_overlap.append(count)\n",
    "    non_eng_vocab_count.append(len(non_eng_vocabs))\n",
    "    if len(tks) == 0:\n",
    "        eng_ratio.append(100)\n",
    "        #print(df_dataset.iloc[i,1])\n",
    "    else:\n",
    "        eng_ratio.append(int(count*100/len(tks)))\n",
    "\n",
    "#eng_vocab_overlap = [len(eng_vocab.intersection(set(word_tokenize(text)))) for text in texts]"
   ]
  },
  {
   "cell_type": "code",
   "execution_count": 35,
   "id": "1cea689e",
   "metadata": {},
   "outputs": [],
   "source": [
    "from nltk.tokenize import word_tokenize"
   ]
  },
  {
   "cell_type": "code",
   "execution_count": 43,
   "id": "e5007a18",
   "metadata": {},
   "outputs": [],
   "source": [
    "texts = df_dataset[\"text\"].to_list()"
   ]
  },
  {
   "cell_type": "code",
   "execution_count": 56,
   "id": "d163da45",
   "metadata": {},
   "outputs": [],
   "source": [
    "eng_vocab_overlap = []\n",
    "eng_ratio = []\n",
    "zero_length_texts = []\n",
    "for text in texts:\n",
    "    tokenized = word_tokenize(text.lower())\n",
    "    count = 0\n",
    "    for tk in tokenized:\n",
    "        if tk in eng_vocab:\n",
    "            count += 1\n",
    "    eng_vocab_overlap.append(count)\n",
    "    if len(tokenized) == 0:\n",
    "        eng_ratio.append(100)\n",
    "        zero_length_texts.append(text)\n",
    "    else:\n",
    "        eng_ratio.append(int(count*100/len(tokenized)))\n",
    "\n",
    "#eng_vocab_overlap = [len(eng_vocab.intersection(set(word_tokenize(text)))) for text in texts]"
   ]
  },
  {
   "cell_type": "code",
   "execution_count": 78,
   "id": "184b95c8",
   "metadata": {},
   "outputs": [],
   "source": [
    "df_dataset[\"english words\"] = eng_vocab_overlap\n",
    "df_dataset[\"english %\"] = eng_ratio\n",
    "df_dataset[\"non-eng vocabs\"] = non_eng_vocab_count #uniques"
   ]
  },
  {
   "cell_type": "code",
   "execution_count": 80,
   "id": "26280e19",
   "metadata": {},
   "outputs": [
    {
     "data": {
      "text/html": [
       "<div>\n",
       "<style scoped>\n",
       "    .dataframe tbody tr th:only-of-type {\n",
       "        vertical-align: middle;\n",
       "    }\n",
       "\n",
       "    .dataframe tbody tr th {\n",
       "        vertical-align: top;\n",
       "    }\n",
       "\n",
       "    .dataframe thead th {\n",
       "        text-align: right;\n",
       "    }\n",
       "</style>\n",
       "<table border=\"1\" class=\"dataframe\">\n",
       "  <thead>\n",
       "    <tr style=\"text-align: right;\">\n",
       "      <th></th>\n",
       "      <th>id</th>\n",
       "      <th>text</th>\n",
       "      <th>length</th>\n",
       "      <th>ended</th>\n",
       "      <th>english words</th>\n",
       "      <th>english %</th>\n",
       "      <th>non-eng vocabs</th>\n",
       "    </tr>\n",
       "  </thead>\n",
       "  <tbody>\n",
       "    <tr>\n",
       "      <th>0</th>\n",
       "      <td>1</td>\n",
       "      <td>Cops will have to take \"extreme care\" to avoid...</td>\n",
       "      <td>433</td>\n",
       "      <td>True</td>\n",
       "      <td>334</td>\n",
       "      <td>97</td>\n",
       "      <td>7</td>\n",
       "    </tr>\n",
       "    <tr>\n",
       "      <th>1</th>\n",
       "      <td>2</td>\n",
       "      <td>The latest edition of the German Football Hall...</td>\n",
       "      <td>715</td>\n",
       "      <td>True</td>\n",
       "      <td>534</td>\n",
       "      <td>96</td>\n",
       "      <td>12</td>\n",
       "    </tr>\n",
       "    <tr>\n",
       "      <th>2</th>\n",
       "      <td>3</td>\n",
       "      <td>Dangerous animals, especially snakes, in a car...</td>\n",
       "      <td>1024</td>\n",
       "      <td>False</td>\n",
       "      <td>852</td>\n",
       "      <td>99</td>\n",
       "      <td>1</td>\n",
       "    </tr>\n",
       "    <tr>\n",
       "      <th>3</th>\n",
       "      <td>4</td>\n",
       "      <td>I started my first MLP story way back in 2014 ...</td>\n",
       "      <td>1024</td>\n",
       "      <td>False</td>\n",
       "      <td>767</td>\n",
       "      <td>97</td>\n",
       "      <td>7</td>\n",
       "    </tr>\n",
       "    <tr>\n",
       "      <th>4</th>\n",
       "      <td>5</td>\n",
       "      <td>This article is a disambiguation page for The ...</td>\n",
       "      <td>84</td>\n",
       "      <td>True</td>\n",
       "      <td>69</td>\n",
       "      <td>100</td>\n",
       "      <td>0</td>\n",
       "    </tr>\n",
       "    <tr>\n",
       "      <th>...</th>\n",
       "      <td>...</td>\n",
       "      <td>...</td>\n",
       "      <td>...</td>\n",
       "      <td>...</td>\n",
       "      <td>...</td>\n",
       "      <td>...</td>\n",
       "      <td>...</td>\n",
       "    </tr>\n",
       "    <tr>\n",
       "      <th>249992</th>\n",
       "      <td>249993</td>\n",
       "      <td>A Texas woman is suing Apple, claiming to have...</td>\n",
       "      <td>1024</td>\n",
       "      <td>False</td>\n",
       "      <td>807</td>\n",
       "      <td>96</td>\n",
       "      <td>7</td>\n",
       "    </tr>\n",
       "    <tr>\n",
       "      <th>249993</th>\n",
       "      <td>249994</td>\n",
       "      <td>Rise: The Dawn of Justice: $3-4 per copy\\n\\nRi...</td>\n",
       "      <td>874</td>\n",
       "      <td>True</td>\n",
       "      <td>322</td>\n",
       "      <td>100</td>\n",
       "      <td>0</td>\n",
       "    </tr>\n",
       "    <tr>\n",
       "      <th>249994</th>\n",
       "      <td>249995</td>\n",
       "      <td>\"You are like a child and you do not know what...</td>\n",
       "      <td>38</td>\n",
       "      <td>True</td>\n",
       "      <td>33</td>\n",
       "      <td>100</td>\n",
       "      <td>0</td>\n",
       "    </tr>\n",
       "    <tr>\n",
       "      <th>249995</th>\n",
       "      <td>249996</td>\n",
       "      <td>There are a lot of things that I don't like ab...</td>\n",
       "      <td>806</td>\n",
       "      <td>True</td>\n",
       "      <td>688</td>\n",
       "      <td>98</td>\n",
       "      <td>2</td>\n",
       "    </tr>\n",
       "    <tr>\n",
       "      <th>249997</th>\n",
       "      <td>249998</td>\n",
       "      <td>Battles Between the English and the Scots\\n\\nT...</td>\n",
       "      <td>854</td>\n",
       "      <td>True</td>\n",
       "      <td>630</td>\n",
       "      <td>98</td>\n",
       "      <td>7</td>\n",
       "    </tr>\n",
       "  </tbody>\n",
       "</table>\n",
       "<p>196423 rows × 7 columns</p>\n",
       "</div>"
      ],
      "text/plain": [
       "            id                                               text  length  \\\n",
       "0            1  Cops will have to take \"extreme care\" to avoid...     433   \n",
       "1            2  The latest edition of the German Football Hall...     715   \n",
       "2            3  Dangerous animals, especially snakes, in a car...    1024   \n",
       "3            4  I started my first MLP story way back in 2014 ...    1024   \n",
       "4            5  This article is a disambiguation page for The ...      84   \n",
       "...        ...                                                ...     ...   \n",
       "249992  249993  A Texas woman is suing Apple, claiming to have...    1024   \n",
       "249993  249994  Rise: The Dawn of Justice: $3-4 per copy\\n\\nRi...     874   \n",
       "249994  249995  \"You are like a child and you do not know what...      38   \n",
       "249995  249996  There are a lot of things that I don't like ab...     806   \n",
       "249997  249998  Battles Between the English and the Scots\\n\\nT...     854   \n",
       "\n",
       "        ended  english words  english %  non-eng vocabs  \n",
       "0        True            334         97               7  \n",
       "1        True            534         96              12  \n",
       "2       False            852         99               1  \n",
       "3       False            767         97               7  \n",
       "4        True             69        100               0  \n",
       "...       ...            ...        ...             ...  \n",
       "249992  False            807         96               7  \n",
       "249993   True            322        100               0  \n",
       "249994   True             33        100               0  \n",
       "249995   True            688         98               2  \n",
       "249997   True            630         98               7  \n",
       "\n",
       "[196423 rows x 7 columns]"
      ]
     },
     "execution_count": 80,
     "metadata": {},
     "output_type": "execute_result"
    }
   ],
   "source": [
    "df_dataset[df_dataset[\"english %\"]>95]"
   ]
  },
  {
   "cell_type": "code",
   "execution_count": 19,
   "id": "29f79ba4",
   "metadata": {},
   "outputs": [],
   "source": [
    "df_dataset[df_dataset[\"english %\"]<10].to_csv(\"bad_samples.csv\")"
   ]
  },
  {
   "cell_type": "code",
   "execution_count": 38,
   "id": "9133033e",
   "metadata": {},
   "outputs": [],
   "source": [
    "df_dataset.sort_values(by=[\"non-eng vocabs\"], ascending=False)[:10000].to_csv(\"xl_vocabs_study.csv\")"
   ]
  },
  {
   "cell_type": "code",
   "execution_count": 81,
   "id": "c349efbf",
   "metadata": {},
   "outputs": [],
   "source": [
    "df_ge90eng = df_dataset[df_dataset[\"english %\"]>=95]"
   ]
  },
  {
   "cell_type": "code",
   "execution_count": 82,
   "id": "c6ae7213",
   "metadata": {},
   "outputs": [
    {
     "data": {
      "text/html": [
       "<div>\n",
       "<style scoped>\n",
       "    .dataframe tbody tr th:only-of-type {\n",
       "        vertical-align: middle;\n",
       "    }\n",
       "\n",
       "    .dataframe tbody tr th {\n",
       "        vertical-align: top;\n",
       "    }\n",
       "\n",
       "    .dataframe thead th {\n",
       "        text-align: right;\n",
       "    }\n",
       "</style>\n",
       "<table border=\"1\" class=\"dataframe\">\n",
       "  <thead>\n",
       "    <tr style=\"text-align: right;\">\n",
       "      <th></th>\n",
       "      <th>id</th>\n",
       "      <th>text</th>\n",
       "      <th>length</th>\n",
       "      <th>ended</th>\n",
       "      <th>english words</th>\n",
       "      <th>english %</th>\n",
       "      <th>non-eng vocabs</th>\n",
       "    </tr>\n",
       "  </thead>\n",
       "  <tbody>\n",
       "    <tr>\n",
       "      <th>0</th>\n",
       "      <td>1</td>\n",
       "      <td>Cops will have to take \"extreme care\" to avoid...</td>\n",
       "      <td>433</td>\n",
       "      <td>True</td>\n",
       "      <td>334</td>\n",
       "      <td>97</td>\n",
       "      <td>7</td>\n",
       "    </tr>\n",
       "    <tr>\n",
       "      <th>1</th>\n",
       "      <td>2</td>\n",
       "      <td>The latest edition of the German Football Hall...</td>\n",
       "      <td>715</td>\n",
       "      <td>True</td>\n",
       "      <td>534</td>\n",
       "      <td>96</td>\n",
       "      <td>12</td>\n",
       "    </tr>\n",
       "    <tr>\n",
       "      <th>2</th>\n",
       "      <td>3</td>\n",
       "      <td>Dangerous animals, especially snakes, in a car...</td>\n",
       "      <td>1024</td>\n",
       "      <td>False</td>\n",
       "      <td>852</td>\n",
       "      <td>99</td>\n",
       "      <td>1</td>\n",
       "    </tr>\n",
       "    <tr>\n",
       "      <th>3</th>\n",
       "      <td>4</td>\n",
       "      <td>I started my first MLP story way back in 2014 ...</td>\n",
       "      <td>1024</td>\n",
       "      <td>False</td>\n",
       "      <td>767</td>\n",
       "      <td>97</td>\n",
       "      <td>7</td>\n",
       "    </tr>\n",
       "    <tr>\n",
       "      <th>4</th>\n",
       "      <td>5</td>\n",
       "      <td>This article is a disambiguation page for The ...</td>\n",
       "      <td>84</td>\n",
       "      <td>True</td>\n",
       "      <td>69</td>\n",
       "      <td>100</td>\n",
       "      <td>0</td>\n",
       "    </tr>\n",
       "    <tr>\n",
       "      <th>...</th>\n",
       "      <td>...</td>\n",
       "      <td>...</td>\n",
       "      <td>...</td>\n",
       "      <td>...</td>\n",
       "      <td>...</td>\n",
       "      <td>...</td>\n",
       "      <td>...</td>\n",
       "    </tr>\n",
       "    <tr>\n",
       "      <th>249993</th>\n",
       "      <td>249994</td>\n",
       "      <td>Rise: The Dawn of Justice: $3-4 per copy\\n\\nRi...</td>\n",
       "      <td>874</td>\n",
       "      <td>True</td>\n",
       "      <td>322</td>\n",
       "      <td>100</td>\n",
       "      <td>0</td>\n",
       "    </tr>\n",
       "    <tr>\n",
       "      <th>249994</th>\n",
       "      <td>249995</td>\n",
       "      <td>\"You are like a child and you do not know what...</td>\n",
       "      <td>38</td>\n",
       "      <td>True</td>\n",
       "      <td>33</td>\n",
       "      <td>100</td>\n",
       "      <td>0</td>\n",
       "    </tr>\n",
       "    <tr>\n",
       "      <th>249995</th>\n",
       "      <td>249996</td>\n",
       "      <td>There are a lot of things that I don't like ab...</td>\n",
       "      <td>806</td>\n",
       "      <td>True</td>\n",
       "      <td>688</td>\n",
       "      <td>98</td>\n",
       "      <td>2</td>\n",
       "    </tr>\n",
       "    <tr>\n",
       "      <th>249996</th>\n",
       "      <td>249997</td>\n",
       "      <td>A year after an unprecedented public outcry ag...</td>\n",
       "      <td>1024</td>\n",
       "      <td>False</td>\n",
       "      <td>776</td>\n",
       "      <td>95</td>\n",
       "      <td>6</td>\n",
       "    </tr>\n",
       "    <tr>\n",
       "      <th>249997</th>\n",
       "      <td>249998</td>\n",
       "      <td>Battles Between the English and the Scots\\n\\nT...</td>\n",
       "      <td>854</td>\n",
       "      <td>True</td>\n",
       "      <td>630</td>\n",
       "      <td>98</td>\n",
       "      <td>7</td>\n",
       "    </tr>\n",
       "  </tbody>\n",
       "</table>\n",
       "<p>214797 rows × 7 columns</p>\n",
       "</div>"
      ],
      "text/plain": [
       "            id                                               text  length  \\\n",
       "0            1  Cops will have to take \"extreme care\" to avoid...     433   \n",
       "1            2  The latest edition of the German Football Hall...     715   \n",
       "2            3  Dangerous animals, especially snakes, in a car...    1024   \n",
       "3            4  I started my first MLP story way back in 2014 ...    1024   \n",
       "4            5  This article is a disambiguation page for The ...      84   \n",
       "...        ...                                                ...     ...   \n",
       "249993  249994  Rise: The Dawn of Justice: $3-4 per copy\\n\\nRi...     874   \n",
       "249994  249995  \"You are like a child and you do not know what...      38   \n",
       "249995  249996  There are a lot of things that I don't like ab...     806   \n",
       "249996  249997  A year after an unprecedented public outcry ag...    1024   \n",
       "249997  249998  Battles Between the English and the Scots\\n\\nT...     854   \n",
       "\n",
       "        ended  english words  english %  non-eng vocabs  \n",
       "0        True            334         97               7  \n",
       "1        True            534         96              12  \n",
       "2       False            852         99               1  \n",
       "3       False            767         97               7  \n",
       "4        True             69        100               0  \n",
       "...       ...            ...        ...             ...  \n",
       "249993   True            322        100               0  \n",
       "249994   True             33        100               0  \n",
       "249995   True            688         98               2  \n",
       "249996  False            776         95               6  \n",
       "249997   True            630         98               7  \n",
       "\n",
       "[214797 rows x 7 columns]"
      ]
     },
     "execution_count": 82,
     "metadata": {},
     "output_type": "execute_result"
    }
   ],
   "source": [
    "df_ge90eng[df_ge90eng[\"english words\"]>20]"
   ]
  },
  {
   "cell_type": "code",
   "execution_count": 71,
   "id": "1d54e3aa",
   "metadata": {},
   "outputs": [
    {
     "data": {
      "text/html": [
       "<div>\n",
       "<style scoped>\n",
       "    .dataframe tbody tr th:only-of-type {\n",
       "        vertical-align: middle;\n",
       "    }\n",
       "\n",
       "    .dataframe tbody tr th {\n",
       "        vertical-align: top;\n",
       "    }\n",
       "\n",
       "    .dataframe thead th {\n",
       "        text-align: right;\n",
       "    }\n",
       "</style>\n",
       "<table border=\"1\" class=\"dataframe\">\n",
       "  <thead>\n",
       "    <tr style=\"text-align: right;\">\n",
       "      <th></th>\n",
       "      <th>ended</th>\n",
       "      <th>length</th>\n",
       "      <th>text</th>\n",
       "      <th>english words</th>\n",
       "      <th>english %</th>\n",
       "      <th>non-eng vocabs</th>\n",
       "    </tr>\n",
       "    <tr>\n",
       "      <th>id</th>\n",
       "      <th></th>\n",
       "      <th></th>\n",
       "      <th></th>\n",
       "      <th></th>\n",
       "      <th></th>\n",
       "      <th></th>\n",
       "    </tr>\n",
       "  </thead>\n",
       "  <tbody>\n",
       "    <tr>\n",
       "      <th>113106</th>\n",
       "      <td>True</td>\n",
       "      <td>409</td>\n",
       "      <td>Hartals are a familiar ritual in Kerala, but M...</td>\n",
       "      <td>296</td>\n",
       "      <td>96</td>\n",
       "      <td>7</td>\n",
       "    </tr>\n",
       "    <tr>\n",
       "      <th>82299</th>\n",
       "      <td>True</td>\n",
       "      <td>204</td>\n",
       "      <td>About our Arsenal Football Site\\n\\nWelcome to ...</td>\n",
       "      <td>166</td>\n",
       "      <td>97</td>\n",
       "      <td>4</td>\n",
       "    </tr>\n",
       "    <tr>\n",
       "      <th>169383</th>\n",
       "      <td>True</td>\n",
       "      <td>782</td>\n",
       "      <td>Definition\\n\\nUnder supervision and according ...</td>\n",
       "      <td>597</td>\n",
       "      <td>99</td>\n",
       "      <td>2</td>\n",
       "    </tr>\n",
       "    <tr>\n",
       "      <th>142626</th>\n",
       "      <td>True</td>\n",
       "      <td>661</td>\n",
       "      <td>Attention stoners: keep your weed away from yo...</td>\n",
       "      <td>498</td>\n",
       "      <td>97</td>\n",
       "      <td>9</td>\n",
       "    </tr>\n",
       "    <tr>\n",
       "      <th>47827</th>\n",
       "      <td>True</td>\n",
       "      <td>516</td>\n",
       "      <td>1-3/4-in x 36-in Silver Drip Cap Door Bottom i...</td>\n",
       "      <td>391</td>\n",
       "      <td>98</td>\n",
       "      <td>4</td>\n",
       "    </tr>\n",
       "    <tr>\n",
       "      <th>...</th>\n",
       "      <td>...</td>\n",
       "      <td>...</td>\n",
       "      <td>...</td>\n",
       "      <td>...</td>\n",
       "      <td>...</td>\n",
       "      <td>...</td>\n",
       "    </tr>\n",
       "    <tr>\n",
       "      <th>60406</th>\n",
       "      <td>True</td>\n",
       "      <td>212</td>\n",
       "      <td>LOS ANGELES — David Litt, known as President O...</td>\n",
       "      <td>150</td>\n",
       "      <td>92</td>\n",
       "      <td>8</td>\n",
       "    </tr>\n",
       "    <tr>\n",
       "      <th>218165</th>\n",
       "      <td>True</td>\n",
       "      <td>762</td>\n",
       "      <td>Predicting a sharp and somewhat bewildering sh...</td>\n",
       "      <td>584</td>\n",
       "      <td>93</td>\n",
       "      <td>13</td>\n",
       "    </tr>\n",
       "    <tr>\n",
       "      <th>208074</th>\n",
       "      <td>True</td>\n",
       "      <td>348</td>\n",
       "      <td>The European Commission could look to take som...</td>\n",
       "      <td>282</td>\n",
       "      <td>99</td>\n",
       "      <td>2</td>\n",
       "    </tr>\n",
       "    <tr>\n",
       "      <th>100457</th>\n",
       "      <td>False</td>\n",
       "      <td>1024</td>\n",
       "      <td>Last week marked the 30th anniversary of \"1984...</td>\n",
       "      <td>753</td>\n",
       "      <td>98</td>\n",
       "      <td>14</td>\n",
       "    </tr>\n",
       "    <tr>\n",
       "      <th>38651</th>\n",
       "      <td>True</td>\n",
       "      <td>1007</td>\n",
       "      <td>Amaysim claims it will enter the NBN market wi...</td>\n",
       "      <td>728</td>\n",
       "      <td>94</td>\n",
       "      <td>12</td>\n",
       "    </tr>\n",
       "  </tbody>\n",
       "</table>\n",
       "<p>200000 rows × 6 columns</p>\n",
       "</div>"
      ],
      "text/plain": [
       "        ended  length                                               text  \\\n",
       "id                                                                         \n",
       "113106   True     409  Hartals are a familiar ritual in Kerala, but M...   \n",
       "82299    True     204  About our Arsenal Football Site\\n\\nWelcome to ...   \n",
       "169383   True     782  Definition\\n\\nUnder supervision and according ...   \n",
       "142626   True     661  Attention stoners: keep your weed away from yo...   \n",
       "47827    True     516  1-3/4-in x 36-in Silver Drip Cap Door Bottom i...   \n",
       "...       ...     ...                                                ...   \n",
       "60406    True     212  LOS ANGELES — David Litt, known as President O...   \n",
       "218165   True     762  Predicting a sharp and somewhat bewildering sh...   \n",
       "208074   True     348  The European Commission could look to take som...   \n",
       "100457  False    1024  Last week marked the 30th anniversary of \"1984...   \n",
       "38651    True    1007  Amaysim claims it will enter the NBN market wi...   \n",
       "\n",
       "        english words  english %  non-eng vocabs  \n",
       "id                                                \n",
       "113106            296         96               7  \n",
       "82299             166         97               4  \n",
       "169383            597         99               2  \n",
       "142626            498         97               9  \n",
       "47827             391         98               4  \n",
       "...               ...        ...             ...  \n",
       "60406             150         92               8  \n",
       "218165            584         93              13  \n",
       "208074            282         99               2  \n",
       "100457            753         98              14  \n",
       "38651             728         94              12  \n",
       "\n",
       "[200000 rows x 6 columns]"
      ]
     },
     "execution_count": 71,
     "metadata": {},
     "output_type": "execute_result"
    }
   ],
   "source": [
    "df_ge90eng[df_ge90eng[\"english words\"]>20].sample(n=100000).set_index(\"id\")"
   ]
  },
  {
   "cell_type": "code",
   "execution_count": 83,
   "id": "4272c2ce",
   "metadata": {},
   "outputs": [],
   "source": [
    "df_ge90eng[df_ge90eng[\"english words\"]>20].sample(n=100000).set_index(\"id\").to_csv(f\"{dataset_name}.clean100k.csv\")"
   ]
  },
  {
   "cell_type": "code",
   "execution_count": 45,
   "id": "93b27dc8",
   "metadata": {},
   "outputs": [],
   "source": [
    "df_brutti = df_dataset.sort_values(by=[\"non-eng vocabs\"], ascending=False)[:10000]"
   ]
  },
  {
   "cell_type": "code",
   "execution_count": 47,
   "id": "cee6283c",
   "metadata": {},
   "outputs": [
    {
     "data": {
      "text/html": [
       "<div>\n",
       "<style scoped>\n",
       "    .dataframe tbody tr th:only-of-type {\n",
       "        vertical-align: middle;\n",
       "    }\n",
       "\n",
       "    .dataframe tbody tr th {\n",
       "        vertical-align: top;\n",
       "    }\n",
       "\n",
       "    .dataframe thead th {\n",
       "        text-align: right;\n",
       "    }\n",
       "</style>\n",
       "<table border=\"1\" class=\"dataframe\">\n",
       "  <thead>\n",
       "    <tr style=\"text-align: right;\">\n",
       "      <th></th>\n",
       "      <th>id</th>\n",
       "      <th>text</th>\n",
       "      <th>length</th>\n",
       "      <th>ended</th>\n",
       "      <th>english words</th>\n",
       "      <th>english %</th>\n",
       "      <th>non-eng vocabs</th>\n",
       "    </tr>\n",
       "  </thead>\n",
       "  <tbody>\n",
       "    <tr>\n",
       "      <th>113150</th>\n",
       "      <td>113151</td>\n",
       "      <td>Description\\n\\nWelcome to Adventotaurs MSSC!\\n...</td>\n",
       "      <td>1024</td>\n",
       "      <td>False</td>\n",
       "      <td>59</td>\n",
       "      <td>17</td>\n",
       "      <td>269</td>\n",
       "    </tr>\n",
       "    <tr>\n",
       "      <th>202110</th>\n",
       "      <td>202111</td>\n",
       "      <td>MeI2 na ispatik?\\n\\nHan ate!\\n\\nSokol hackata....</td>\n",
       "      <td>1024</td>\n",
       "      <td>False</td>\n",
       "      <td>216</td>\n",
       "      <td>45</td>\n",
       "      <td>207</td>\n",
       "    </tr>\n",
       "    <tr>\n",
       "      <th>94742</th>\n",
       "      <td>94743</td>\n",
       "      <td>MEI\\n\\n[Muzei web de legwacie zende bujicza ur...</td>\n",
       "      <td>1024</td>\n",
       "      <td>False</td>\n",
       "      <td>217</td>\n",
       "      <td>52</td>\n",
       "      <td>186</td>\n",
       "    </tr>\n",
       "    <tr>\n",
       "      <th>182845</th>\n",
       "      <td>182846</td>\n",
       "      <td>Progress! It's finally here! Angel this week! ...</td>\n",
       "      <td>1024</td>\n",
       "      <td>False</td>\n",
       "      <td>300</td>\n",
       "      <td>61</td>\n",
       "      <td>181</td>\n",
       "    </tr>\n",
       "    <tr>\n",
       "      <th>78840</th>\n",
       "      <td>78841</td>\n",
       "      <td>cup 260b\\n\\nLarge Tumbler:\\n\\n\\nLarger size Fe...</td>\n",
       "      <td>1024</td>\n",
       "      <td>False</td>\n",
       "      <td>366</td>\n",
       "      <td>67</td>\n",
       "      <td>172</td>\n",
       "    </tr>\n",
       "    <tr>\n",
       "      <th>...</th>\n",
       "      <td>...</td>\n",
       "      <td>...</td>\n",
       "      <td>...</td>\n",
       "      <td>...</td>\n",
       "      <td>...</td>\n",
       "      <td>...</td>\n",
       "      <td>...</td>\n",
       "    </tr>\n",
       "    <tr>\n",
       "      <th>64878</th>\n",
       "      <td>64879</td>\n",
       "      <td>1 Clean Episode L24: We're Going to Play Saw T...</td>\n",
       "      <td>1024</td>\n",
       "      <td>False</td>\n",
       "      <td>657</td>\n",
       "      <td>90</td>\n",
       "      <td>45</td>\n",
       "    </tr>\n",
       "    <tr>\n",
       "      <th>76541</th>\n",
       "      <td>76542</td>\n",
       "      <td>Decorative Makarov refunds Obama for compromis...</td>\n",
       "      <td>1024</td>\n",
       "      <td>False</td>\n",
       "      <td>677</td>\n",
       "      <td>93</td>\n",
       "      <td>45</td>\n",
       "    </tr>\n",
       "    <tr>\n",
       "      <th>96547</th>\n",
       "      <td>96548</td>\n",
       "      <td>Partial transcripts for 1-3 pages above may be...</td>\n",
       "      <td>1024</td>\n",
       "      <td>False</td>\n",
       "      <td>632</td>\n",
       "      <td>92</td>\n",
       "      <td>45</td>\n",
       "    </tr>\n",
       "    <tr>\n",
       "      <th>249581</th>\n",
       "      <td>249582</td>\n",
       "      <td>Back when Smash was in its games development i...</td>\n",
       "      <td>1024</td>\n",
       "      <td>False</td>\n",
       "      <td>738</td>\n",
       "      <td>91</td>\n",
       "      <td>45</td>\n",
       "    </tr>\n",
       "    <tr>\n",
       "      <th>92238</th>\n",
       "      <td>92239</td>\n",
       "      <td>One of the strange things about grammar school...</td>\n",
       "      <td>1024</td>\n",
       "      <td>False</td>\n",
       "      <td>751</td>\n",
       "      <td>94</td>\n",
       "      <td>45</td>\n",
       "    </tr>\n",
       "  </tbody>\n",
       "</table>\n",
       "<p>8262 rows × 7 columns</p>\n",
       "</div>"
      ],
      "text/plain": [
       "            id                                               text  length  \\\n",
       "113150  113151  Description\\n\\nWelcome to Adventotaurs MSSC!\\n...    1024   \n",
       "202110  202111  MeI2 na ispatik?\\n\\nHan ate!\\n\\nSokol hackata....    1024   \n",
       "94742    94743  MEI\\n\\n[Muzei web de legwacie zende bujicza ur...    1024   \n",
       "182845  182846  Progress! It's finally here! Angel this week! ...    1024   \n",
       "78840    78841  cup 260b\\n\\nLarge Tumbler:\\n\\n\\nLarger size Fe...    1024   \n",
       "...        ...                                                ...     ...   \n",
       "64878    64879  1 Clean Episode L24: We're Going to Play Saw T...    1024   \n",
       "76541    76542  Decorative Makarov refunds Obama for compromis...    1024   \n",
       "96547    96548  Partial transcripts for 1-3 pages above may be...    1024   \n",
       "249581  249582  Back when Smash was in its games development i...    1024   \n",
       "92238    92239  One of the strange things about grammar school...    1024   \n",
       "\n",
       "        ended  english words  english %  non-eng vocabs  \n",
       "113150  False             59         17             269  \n",
       "202110  False            216         45             207  \n",
       "94742   False            217         52             186  \n",
       "182845  False            300         61             181  \n",
       "78840   False            366         67             172  \n",
       "...       ...            ...        ...             ...  \n",
       "64878   False            657         90              45  \n",
       "76541   False            677         93              45  \n",
       "96547   False            632         92              45  \n",
       "249581  False            738         91              45  \n",
       "92238   False            751         94              45  \n",
       "\n",
       "[8262 rows x 7 columns]"
      ]
     },
     "execution_count": 47,
     "metadata": {},
     "output_type": "execute_result"
    }
   ],
   "source": [
    "df_brutti[df_brutti[\"ended\"]==False]"
   ]
  },
  {
   "cell_type": "code",
   "execution_count": 5,
   "id": "8e36bf00",
   "metadata": {},
   "outputs": [],
   "source": [
    "df = pd.read_csv(\"webtext.train.jsonl.clean100k.csv\")"
   ]
  },
  {
   "cell_type": "code",
   "execution_count": 6,
   "id": "f613c9b3",
   "metadata": {},
   "outputs": [
    {
     "data": {
      "text/html": [
       "<div>\n",
       "<style scoped>\n",
       "    .dataframe tbody tr th:only-of-type {\n",
       "        vertical-align: middle;\n",
       "    }\n",
       "\n",
       "    .dataframe tbody tr th {\n",
       "        vertical-align: top;\n",
       "    }\n",
       "\n",
       "    .dataframe thead th {\n",
       "        text-align: right;\n",
       "    }\n",
       "</style>\n",
       "<table border=\"1\" class=\"dataframe\">\n",
       "  <thead>\n",
       "    <tr style=\"text-align: right;\">\n",
       "      <th></th>\n",
       "      <th>id</th>\n",
       "      <th>ended</th>\n",
       "      <th>length</th>\n",
       "      <th>text</th>\n",
       "      <th>english words</th>\n",
       "      <th>english %</th>\n",
       "      <th>non-eng vocabs</th>\n",
       "    </tr>\n",
       "  </thead>\n",
       "  <tbody>\n",
       "    <tr>\n",
       "      <th>0</th>\n",
       "      <td>172092</td>\n",
       "      <td>True</td>\n",
       "      <td>634</td>\n",
       "      <td>Everton goalkeeper Tim Howard has signed a con...</td>\n",
       "      <td>488</td>\n",
       "      <td>95</td>\n",
       "      <td>7</td>\n",
       "    </tr>\n",
       "    <tr>\n",
       "      <th>1</th>\n",
       "      <td>208655</td>\n",
       "      <td>True</td>\n",
       "      <td>264</td>\n",
       "      <td>That addresses performance. As for battery lif...</td>\n",
       "      <td>202</td>\n",
       "      <td>97</td>\n",
       "      <td>1</td>\n",
       "    </tr>\n",
       "    <tr>\n",
       "      <th>2</th>\n",
       "      <td>25537</td>\n",
       "      <td>False</td>\n",
       "      <td>1024</td>\n",
       "      <td>Posted on February 18, 2014 by Bryan Ball\\n\\nB...</td>\n",
       "      <td>819</td>\n",
       "      <td>97</td>\n",
       "      <td>6</td>\n",
       "    </tr>\n",
       "    <tr>\n",
       "      <th>3</th>\n",
       "      <td>81025</td>\n",
       "      <td>True</td>\n",
       "      <td>335</td>\n",
       "      <td>Jasper Jolly\\n\\nhe US dollar has reached its h...</td>\n",
       "      <td>266</td>\n",
       "      <td>97</td>\n",
       "      <td>5</td>\n",
       "    </tr>\n",
       "    <tr>\n",
       "      <th>4</th>\n",
       "      <td>6966</td>\n",
       "      <td>True</td>\n",
       "      <td>48</td>\n",
       "      <td>I received a package containing food contents ...</td>\n",
       "      <td>41</td>\n",
       "      <td>100</td>\n",
       "      <td>0</td>\n",
       "    </tr>\n",
       "    <tr>\n",
       "      <th>...</th>\n",
       "      <td>...</td>\n",
       "      <td>...</td>\n",
       "      <td>...</td>\n",
       "      <td>...</td>\n",
       "      <td>...</td>\n",
       "      <td>...</td>\n",
       "      <td>...</td>\n",
       "    </tr>\n",
       "    <tr>\n",
       "      <th>99995</th>\n",
       "      <td>22089</td>\n",
       "      <td>False</td>\n",
       "      <td>1024</td>\n",
       "      <td>Who Pays\\n\\nAmbulance Billing\\n\\nThe Ministry ...</td>\n",
       "      <td>785</td>\n",
       "      <td>100</td>\n",
       "      <td>0</td>\n",
       "    </tr>\n",
       "    <tr>\n",
       "      <th>99996</th>\n",
       "      <td>146668</td>\n",
       "      <td>True</td>\n",
       "      <td>466</td>\n",
       "      <td>Description\\n\\nAutomatic Bottle Opener\\n\\n\\nTh...</td>\n",
       "      <td>366</td>\n",
       "      <td>98</td>\n",
       "      <td>5</td>\n",
       "    </tr>\n",
       "    <tr>\n",
       "      <th>99997</th>\n",
       "      <td>100597</td>\n",
       "      <td>True</td>\n",
       "      <td>89</td>\n",
       "      <td>We have created a bunch of 'how-to' videos, to...</td>\n",
       "      <td>66</td>\n",
       "      <td>95</td>\n",
       "      <td>2</td>\n",
       "    </tr>\n",
       "    <tr>\n",
       "      <th>99998</th>\n",
       "      <td>64251</td>\n",
       "      <td>True</td>\n",
       "      <td>72</td>\n",
       "      <td>$14.99\\n\\nEasily &amp; securely mount your iPhone ...</td>\n",
       "      <td>42</td>\n",
       "      <td>95</td>\n",
       "      <td>2</td>\n",
       "    </tr>\n",
       "    <tr>\n",
       "      <th>99999</th>\n",
       "      <td>118408</td>\n",
       "      <td>False</td>\n",
       "      <td>1024</td>\n",
       "      <td>History has been able to declare its \"best yea...</td>\n",
       "      <td>766</td>\n",
       "      <td>98</td>\n",
       "      <td>9</td>\n",
       "    </tr>\n",
       "  </tbody>\n",
       "</table>\n",
       "<p>100000 rows × 7 columns</p>\n",
       "</div>"
      ],
      "text/plain": [
       "           id  ended  length  \\\n",
       "0      172092   True     634   \n",
       "1      208655   True     264   \n",
       "2       25537  False    1024   \n",
       "3       81025   True     335   \n",
       "4        6966   True      48   \n",
       "...       ...    ...     ...   \n",
       "99995   22089  False    1024   \n",
       "99996  146668   True     466   \n",
       "99997  100597   True      89   \n",
       "99998   64251   True      72   \n",
       "99999  118408  False    1024   \n",
       "\n",
       "                                                    text  english words  \\\n",
       "0      Everton goalkeeper Tim Howard has signed a con...            488   \n",
       "1      That addresses performance. As for battery lif...            202   \n",
       "2      Posted on February 18, 2014 by Bryan Ball\\n\\nB...            819   \n",
       "3      Jasper Jolly\\n\\nhe US dollar has reached its h...            266   \n",
       "4      I received a package containing food contents ...             41   \n",
       "...                                                  ...            ...   \n",
       "99995  Who Pays\\n\\nAmbulance Billing\\n\\nThe Ministry ...            785   \n",
       "99996  Description\\n\\nAutomatic Bottle Opener\\n\\n\\nTh...            366   \n",
       "99997  We have created a bunch of 'how-to' videos, to...             66   \n",
       "99998  $14.99\\n\\nEasily & securely mount your iPhone ...             42   \n",
       "99999  History has been able to declare its \"best yea...            766   \n",
       "\n",
       "       english %  non-eng vocabs  \n",
       "0             95               7  \n",
       "1             97               1  \n",
       "2             97               6  \n",
       "3             97               5  \n",
       "4            100               0  \n",
       "...          ...             ...  \n",
       "99995        100               0  \n",
       "99996         98               5  \n",
       "99997         95               2  \n",
       "99998         95               2  \n",
       "99999         98               9  \n",
       "\n",
       "[100000 rows x 7 columns]"
      ]
     },
     "execution_count": 6,
     "metadata": {},
     "output_type": "execute_result"
    }
   ],
   "source": [
    "df"
   ]
  },
  {
   "cell_type": "markdown",
   "id": "83fb903e",
   "metadata": {},
   "source": [
    "# Uniform test datasets"
   ]
  },
  {
   "cell_type": "code",
   "execution_count": 4,
   "id": "3ab8f284",
   "metadata": {},
   "outputs": [],
   "source": [
    "import os\n",
    "import pandas as pd\n",
    "import pickle"
   ]
  },
  {
   "cell_type": "code",
   "execution_count": 9,
   "id": "3927f846",
   "metadata": {},
   "outputs": [],
   "source": [
    "output_path = \"./data/test\""
   ]
  },
  {
   "cell_type": "markdown",
   "id": "8ceb678a",
   "metadata": {},
   "source": [
    "## GPT-2 vs WebText"
   ]
  },
  {
   "cell_type": "code",
   "execution_count": 37,
   "id": "8f99cc9b",
   "metadata": {},
   "outputs": [],
   "source": [
    "path_prefix = \"./data\"\n",
    "files = ['large-762M-k40.test.jsonl', 'large-762M.test.jsonl', 'medium-345M-k40.test.jsonl', 'medium-345M.test.jsonl', 'small-117M-k40.test.jsonl', 'small-117M.test.jsonl', 'webtext.test.jsonl', 'xl-1542M-k40.test.jsonl', 'xl-1542M.test.jsonl']"
   ]
  },
  {
   "cell_type": "code",
   "execution_count": 39,
   "id": "51c42d9a",
   "metadata": {},
   "outputs": [],
   "source": [
    "for file in files:\n",
    "    path = os.path.join(path_prefix, file)\n",
    "    if os.path.exists(path):\n",
    "        df = pd.read_json(path, lines = True)\n",
    "        raw_texts = df.text.to_list()\n",
    "        if \"webtext\" in file:\n",
    "            prefix = \"\"\n",
    "            tp = \"human\"\n",
    "        else:\n",
    "            prefix = \"gpt2.\"\n",
    "            tp = \"machine\"\n",
    "        with open(os.path.join(output_path, f\"{prefix}{os.path.splitext(file)[0]}.{tp}.pickle\"), \"wb\") as raw_file:\n",
    "            pickle.dump(raw_texts, raw_file)"
   ]
  },
  {
   "cell_type": "markdown",
   "id": "54ebccd3",
   "metadata": {},
   "source": [
    "## GROVER"
   ]
  },
  {
   "cell_type": "code",
   "execution_count": 43,
   "id": "649b8598",
   "metadata": {},
   "outputs": [],
   "source": [
    "path_prefix = \"./data/grover\"\n",
    "files = sorted([f for f in os.listdir(path_prefix) if os.path.isfile(os.path.join(path_prefix, f))])"
   ]
  },
  {
   "cell_type": "code",
   "execution_count": 42,
   "id": "1b691903",
   "metadata": {},
   "outputs": [],
   "source": [
    "for file in files:\n",
    "    path = os.path.join(path_prefix, file)\n",
    "    if os.path.exists(path):\n",
    "        df = pd.read_json(path, lines = True)\n",
    "        human_texts = df[df.label == \"human\"].article.to_list()\n",
    "        machine_texts = df[df.label == \"machine\"].article.to_list()\n",
    "        target = os.path.splitext(file)[0].replace(\"generator=\",\"grover-\").replace(\"~dataset=\",\"-\")\n",
    "        with open(os.path.join(output_path, target+\".human.pickle\"), \"wb\") as raw_file:\n",
    "            pickle.dump(human_texts, raw_file)\n",
    "        with open(os.path.join(output_path, target+\".machine.pickle\"), \"wb\") as raw_file:\n",
    "            pickle.dump(machine_texts, raw_file)"
   ]
  },
  {
   "cell_type": "code",
   "execution_count": 44,
   "id": "752047ba",
   "metadata": {},
   "outputs": [],
   "source": [
    "for file in files:\n",
    "    path = os.path.join(path_prefix, file)\n",
    "    if os.path.exists(path):\n",
    "        df = pd.read_json(path, lines = True)\n",
    "        break"
   ]
  },
  {
   "cell_type": "markdown",
   "id": "c4e7aa58",
   "metadata": {},
   "source": [
    "## GPT-3"
   ]
  },
  {
   "cell_type": "code",
   "execution_count": 27,
   "id": "290df363",
   "metadata": {},
   "outputs": [],
   "source": [
    "path_prefix = \"./data\"\n",
    "file = \"175b_samples.jsonl\""
   ]
  },
  {
   "cell_type": "code",
   "execution_count": 35,
   "id": "2df3a9d5",
   "metadata": {},
   "outputs": [],
   "source": [
    "path = os.path.join(path_prefix, file)\n",
    "if os.path.exists(path):\n",
    "    df = pd.read_json(path, lines = True)\n",
    "    raw_texts = df[df.columns[0]].to_list()\n",
    "    with open(os.path.join(output_path, f\"gpt3.{os.path.splitext(file)[0]}.machine.pickle\"), \"wb\") as raw_file:\n",
    "        pickle.dump(raw_texts, raw_file)"
   ]
  },
  {
   "cell_type": "code",
   "execution_count": null,
   "id": "16453b1b",
   "metadata": {},
   "outputs": [],
   "source": []
  }
 ],
 "metadata": {
  "kernelspec": {
   "display_name": "ml-env",
   "language": "python",
   "name": "ml-env"
  },
  "language_info": {
   "codemirror_mode": {
    "name": "ipython",
    "version": 3
   },
   "file_extension": ".py",
   "mimetype": "text/x-python",
   "name": "python",
   "nbconvert_exporter": "python",
   "pygments_lexer": "ipython3",
   "version": "3.9.16"
  }
 },
 "nbformat": 4,
 "nbformat_minor": 5
}
