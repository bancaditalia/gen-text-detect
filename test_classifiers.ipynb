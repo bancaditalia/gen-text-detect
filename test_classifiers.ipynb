{
 "cells": [
  {
   "cell_type": "code",
   "execution_count": 44,
   "metadata": {},
   "outputs": [],
   "source": [
    "import os\n",
    "import pickle\n",
    "import pandas as pd\n",
    "import numpy as np"
   ]
  },
  {
   "cell_type": "markdown",
   "metadata": {},
   "source": [
    "Save path for evaluation reports"
   ]
  },
  {
   "cell_type": "code",
   "execution_count": 45,
   "metadata": {},
   "outputs": [],
   "source": [
    "results_path = \"./results\""
   ]
  },
  {
   "cell_type": "markdown",
   "metadata": {},
   "source": [
    "# Load training data"
   ]
  },
  {
   "cell_type": "markdown",
   "metadata": {},
   "source": [
    "Load pickled embedded training data"
   ]
  },
  {
   "cell_type": "code",
   "execution_count": 54,
   "metadata": {},
   "outputs": [],
   "source": [
    "path_prefix = \"./../../get_text_detect_space/datasets/embed/\"\n",
    "dataset_path = \"webtext.train.jsonl.clean100k.csv+xl-1542M.train.jsonl.clean100k.csv_embed.pickle\""
   ]
  },
  {
   "cell_type": "code",
   "execution_count": 55,
   "metadata": {},
   "outputs": [],
   "source": [
    "with open(os.path.join(path_prefix, dataset_path), \"rb\") as f:\n",
    "    training_data = pickle.load(f)\n",
    "\n",
    "X = training_data[\"X\"]\n",
    "y = training_data[\"y\"]"
   ]
  },
  {
   "cell_type": "code",
   "execution_count": 59,
   "metadata": {},
   "outputs": [
    {
     "data": {
      "text/plain": [
       "array([[ 1.56034485e-01, -1.03202422e-03,  9.29313446e-02, ...,\n",
       "        -6.20653304e-03,  1.78792963e-02, -1.16704679e-02],\n",
       "       [ 1.19502099e-01,  1.64194560e-02, -1.96907246e-02, ...,\n",
       "        -1.13290602e-02,  5.91688235e-03,  1.52714059e-03],\n",
       "       [ 1.67067327e-01,  5.72166997e-02, -9.31411220e-03, ...,\n",
       "        -6.56531715e-03, -1.25897509e-02,  2.12441978e-03],\n",
       "       ...,\n",
       "       [ 1.45809149e-01, -3.29254096e-02, -2.40912571e-02, ...,\n",
       "         6.88818067e-03, -4.50552379e-03, -3.19229779e-03],\n",
       "       [ 1.07385538e-01, -5.34839545e-02,  2.93454104e-02, ...,\n",
       "        -1.70121954e-02, -6.23178832e-03,  8.76551081e-03],\n",
       "       [ 1.83371955e-01,  9.32380781e-02, -1.46499623e-03, ...,\n",
       "         1.69348226e-05, -6.23653770e-03,  8.20869394e-03]])"
      ]
     },
     "execution_count": 59,
     "metadata": {},
     "output_type": "execute_result"
    }
   ],
   "source": [
    "X"
   ]
  },
  {
   "cell_type": "code",
   "execution_count": 64,
   "metadata": {},
   "outputs": [],
   "source": [
    "base_prefix_path = \"./../../get_text_detect_space/datasets\"\n",
    "tfidf_path = f\"{base_prefix_path}/embed/webtext.train.jsonl.clean100k.csv+xl-1542M.train.jsonl.clean100k.csv_embed.pickle\"\n",
    "pos_path = f\"{base_prefix_path}/pos/embed/webtext_xl-1542M.pos_embed.pickle\"\n",
    "\n",
    "with open(tfidf_path, \"rb\") as f:\n",
    "    training_data = pickle.load(f)\n",
    "\n",
    "X = training_data[\"X\"]\n",
    "y = training_data[\"y\"]\n",
    "\n",
    "with open(pos_path, \"rb\") as f:\n",
    "    training_data = pickle.load(f)\n",
    "    \n",
    "X = np.concatenate([X, training_data[\"X\"]], axis=1)\n"
   ]
  },
  {
   "cell_type": "code",
   "execution_count": 102,
   "metadata": {},
   "outputs": [
    {
     "data": {
      "text/plain": [
       "(200000, 600)"
      ]
     },
     "execution_count": 102,
     "metadata": {},
     "output_type": "execute_result"
    }
   ],
   "source": [
    "X.shape"
   ]
  },
  {
   "cell_type": "markdown",
   "metadata": {},
   "source": [
    "# Load test data"
   ]
  },
  {
   "cell_type": "markdown",
   "metadata": {},
   "source": [
    "Load pickled embedded test data"
   ]
  },
  {
   "cell_type": "code",
   "execution_count": 92,
   "metadata": {},
   "outputs": [],
   "source": [
    "path_prefix = \"./../../get_text_detect_space/datasets/embed/\"\n",
    "dataset_names = [\"webtext.test.human_embed.pickle\", \"gpt2.xl-1542M.test.machine_embed.pickle\"]"
   ]
  },
  {
   "cell_type": "code",
   "execution_count": 93,
   "metadata": {},
   "outputs": [],
   "source": [
    "with open(os.path.join(path_prefix, dataset_names[0]), \"rb\") as f:\n",
    "    test_data = pickle.load(f)\n",
    "    X_test = test_data[\"X\"]\n",
    "    y_test = test_data[\"y\"]\n",
    "if len(dataset_names)>1:\n",
    "    for dataset_name in dataset_names[1:]:\n",
    "        with open(os.path.join(path_prefix, dataset_name), \"rb\") as f:\n",
    "            test_data = pickle.load(f)\n",
    "            X_test = np.concatenate((X_test, test_data[\"X\"]))\n",
    "            y_test += test_data[\"y\"]"
   ]
  },
  {
   "cell_type": "code",
   "execution_count": 94,
   "metadata": {},
   "outputs": [],
   "source": [
    "path_prefix = \"./../../get_text_detect_space/datasets/pos/embed/\"\n",
    "dataset_name = \"webtext.test_xl-1542M.test.pos_embed.pickle\"\n",
    "with open(os.path.join(path_prefix, dataset_name), \"rb\") as f:\n",
    "    test_data = pickle.load(f)\n",
    "    X_test = np.concatenate([X_test, test_data[\"X\"]], axis=1)"
   ]
  },
  {
   "cell_type": "code",
   "execution_count": 95,
   "metadata": {},
   "outputs": [
    {
     "data": {
      "text/plain": [
       "array([[ 0.036449  ,  0.01040318, -0.01484086, ...,  0.06093252,\n",
       "        -0.01726509, -0.01650083],\n",
       "       [ 0.1697334 ,  0.00916163,  0.08250503, ...,  0.00875937,\n",
       "        -0.00962994, -0.00285187],\n",
       "       [ 0.08371905, -0.0375891 ,  0.01756523, ...,  0.01225226,\n",
       "         0.01454416, -0.02042341],\n",
       "       ...,\n",
       "       [ 0.16086878, -0.10212953, -0.00653402, ..., -0.00609007,\n",
       "         0.00459895,  0.0048186 ],\n",
       "       [ 0.14679124, -0.05596965,  0.00043219, ...,  0.01100336,\n",
       "        -0.01325901,  0.01135516],\n",
       "       [ 0.13941275, -0.04264188,  0.0272543 , ...,  0.00278548,\n",
       "         0.00502804, -0.00166508]])"
      ]
     },
     "execution_count": 95,
     "metadata": {},
     "output_type": "execute_result"
    }
   ],
   "source": [
    "X_test"
   ]
  },
  {
   "cell_type": "code",
   "execution_count": 96,
   "metadata": {},
   "outputs": [
    {
     "data": {
      "text/plain": [
       "(10000, 600)"
      ]
     },
     "execution_count": 96,
     "metadata": {},
     "output_type": "execute_result"
    }
   ],
   "source": [
    "X_test.shape"
   ]
  },
  {
   "cell_type": "markdown",
   "metadata": {},
   "source": [
    "# Train classifiers"
   ]
  },
  {
   "cell_type": "code",
   "execution_count": 79,
   "metadata": {},
   "outputs": [],
   "source": [
    "from sklearn.model_selection import GridSearchCV\n",
    "from sklearn.metrics import classification_report"
   ]
  },
  {
   "cell_type": "markdown",
   "metadata": {},
   "source": [
    "## GradientBoosting"
   ]
  },
  {
   "cell_type": "code",
   "execution_count": 80,
   "metadata": {},
   "outputs": [],
   "source": [
    "from sklearn.ensemble import GradientBoostingClassifier"
   ]
  },
  {
   "cell_type": "code",
   "execution_count": 81,
   "metadata": {},
   "outputs": [],
   "source": [
    "gboost = GradientBoostingClassifier(random_state=42)\n",
    "parameters = {'n_estimators':[100, 200, 300], 'max_depth':[3, 4, 5]}\n",
    "# parameters = {'n_estimators':[100, 200, 300], 'max_depth':[3, 4, 5], 'learning_rate':[0.2, 0.5, 1.0]}\n",
    "\n",
    "clf_gboost = GridSearchCV(gboost, parameters, n_jobs=-1)"
   ]
  },
  {
   "cell_type": "code",
   "execution_count": 82,
   "metadata": {},
   "outputs": [
    {
     "data": {
      "text/html": [
       "<style>#sk-container-id-2 {color: black;background-color: white;}#sk-container-id-2 pre{padding: 0;}#sk-container-id-2 div.sk-toggleable {background-color: white;}#sk-container-id-2 label.sk-toggleable__label {cursor: pointer;display: block;width: 100%;margin-bottom: 0;padding: 0.3em;box-sizing: border-box;text-align: center;}#sk-container-id-2 label.sk-toggleable__label-arrow:before {content: \"▸\";float: left;margin-right: 0.25em;color: #696969;}#sk-container-id-2 label.sk-toggleable__label-arrow:hover:before {color: black;}#sk-container-id-2 div.sk-estimator:hover label.sk-toggleable__label-arrow:before {color: black;}#sk-container-id-2 div.sk-toggleable__content {max-height: 0;max-width: 0;overflow: hidden;text-align: left;background-color: #f0f8ff;}#sk-container-id-2 div.sk-toggleable__content pre {margin: 0.2em;color: black;border-radius: 0.25em;background-color: #f0f8ff;}#sk-container-id-2 input.sk-toggleable__control:checked~div.sk-toggleable__content {max-height: 200px;max-width: 100%;overflow: auto;}#sk-container-id-2 input.sk-toggleable__control:checked~label.sk-toggleable__label-arrow:before {content: \"▾\";}#sk-container-id-2 div.sk-estimator input.sk-toggleable__control:checked~label.sk-toggleable__label {background-color: #d4ebff;}#sk-container-id-2 div.sk-label input.sk-toggleable__control:checked~label.sk-toggleable__label {background-color: #d4ebff;}#sk-container-id-2 input.sk-hidden--visually {border: 0;clip: rect(1px 1px 1px 1px);clip: rect(1px, 1px, 1px, 1px);height: 1px;margin: -1px;overflow: hidden;padding: 0;position: absolute;width: 1px;}#sk-container-id-2 div.sk-estimator {font-family: monospace;background-color: #f0f8ff;border: 1px dotted black;border-radius: 0.25em;box-sizing: border-box;margin-bottom: 0.5em;}#sk-container-id-2 div.sk-estimator:hover {background-color: #d4ebff;}#sk-container-id-2 div.sk-parallel-item::after {content: \"\";width: 100%;border-bottom: 1px solid gray;flex-grow: 1;}#sk-container-id-2 div.sk-label:hover label.sk-toggleable__label {background-color: #d4ebff;}#sk-container-id-2 div.sk-serial::before {content: \"\";position: absolute;border-left: 1px solid gray;box-sizing: border-box;top: 0;bottom: 0;left: 50%;z-index: 0;}#sk-container-id-2 div.sk-serial {display: flex;flex-direction: column;align-items: center;background-color: white;padding-right: 0.2em;padding-left: 0.2em;position: relative;}#sk-container-id-2 div.sk-item {position: relative;z-index: 1;}#sk-container-id-2 div.sk-parallel {display: flex;align-items: stretch;justify-content: center;background-color: white;position: relative;}#sk-container-id-2 div.sk-item::before, #sk-container-id-2 div.sk-parallel-item::before {content: \"\";position: absolute;border-left: 1px solid gray;box-sizing: border-box;top: 0;bottom: 0;left: 50%;z-index: -1;}#sk-container-id-2 div.sk-parallel-item {display: flex;flex-direction: column;z-index: 1;position: relative;background-color: white;}#sk-container-id-2 div.sk-parallel-item:first-child::after {align-self: flex-end;width: 50%;}#sk-container-id-2 div.sk-parallel-item:last-child::after {align-self: flex-start;width: 50%;}#sk-container-id-2 div.sk-parallel-item:only-child::after {width: 0;}#sk-container-id-2 div.sk-dashed-wrapped {border: 1px dashed gray;margin: 0 0.4em 0.5em 0.4em;box-sizing: border-box;padding-bottom: 0.4em;background-color: white;}#sk-container-id-2 div.sk-label label {font-family: monospace;font-weight: bold;display: inline-block;line-height: 1.2em;}#sk-container-id-2 div.sk-label-container {text-align: center;}#sk-container-id-2 div.sk-container {/* jupyter's `normalize.less` sets `[hidden] { display: none; }` but bootstrap.min.css set `[hidden] { display: none !important; }` so we also need the `!important` here to be able to override the default hidden behavior on the sphinx rendered scikit-learn.org. See: https://github.com/scikit-learn/scikit-learn/issues/21755 */display: inline-block !important;position: relative;}#sk-container-id-2 div.sk-text-repr-fallback {display: none;}</style><div id=\"sk-container-id-2\" class=\"sk-top-container\"><div class=\"sk-text-repr-fallback\"><pre>GridSearchCV(estimator=GradientBoostingClassifier(random_state=42), n_jobs=-1,\n",
       "             param_grid={&#x27;max_depth&#x27;: [3, 4, 5],\n",
       "                         &#x27;n_estimators&#x27;: [100, 200, 300]})</pre><b>In a Jupyter environment, please rerun this cell to show the HTML representation or trust the notebook. <br />On GitHub, the HTML representation is unable to render, please try loading this page with nbviewer.org.</b></div><div class=\"sk-container\" hidden><div class=\"sk-item sk-dashed-wrapped\"><div class=\"sk-label-container\"><div class=\"sk-label sk-toggleable\"><input class=\"sk-toggleable__control sk-hidden--visually\" id=\"sk-estimator-id-4\" type=\"checkbox\" ><label for=\"sk-estimator-id-4\" class=\"sk-toggleable__label sk-toggleable__label-arrow\">GridSearchCV</label><div class=\"sk-toggleable__content\"><pre>GridSearchCV(estimator=GradientBoostingClassifier(random_state=42), n_jobs=-1,\n",
       "             param_grid={&#x27;max_depth&#x27;: [3, 4, 5],\n",
       "                         &#x27;n_estimators&#x27;: [100, 200, 300]})</pre></div></div></div><div class=\"sk-parallel\"><div class=\"sk-parallel-item\"><div class=\"sk-item\"><div class=\"sk-label-container\"><div class=\"sk-label sk-toggleable\"><input class=\"sk-toggleable__control sk-hidden--visually\" id=\"sk-estimator-id-5\" type=\"checkbox\" ><label for=\"sk-estimator-id-5\" class=\"sk-toggleable__label sk-toggleable__label-arrow\">estimator: GradientBoostingClassifier</label><div class=\"sk-toggleable__content\"><pre>GradientBoostingClassifier(random_state=42)</pre></div></div></div><div class=\"sk-serial\"><div class=\"sk-item\"><div class=\"sk-estimator sk-toggleable\"><input class=\"sk-toggleable__control sk-hidden--visually\" id=\"sk-estimator-id-6\" type=\"checkbox\" ><label for=\"sk-estimator-id-6\" class=\"sk-toggleable__label sk-toggleable__label-arrow\">GradientBoostingClassifier</label><div class=\"sk-toggleable__content\"><pre>GradientBoostingClassifier(random_state=42)</pre></div></div></div></div></div></div></div></div></div></div>"
      ],
      "text/plain": [
       "GridSearchCV(estimator=GradientBoostingClassifier(random_state=42), n_jobs=-1,\n",
       "             param_grid={'max_depth': [3, 4, 5],\n",
       "                         'n_estimators': [100, 200, 300]})"
      ]
     },
     "execution_count": 82,
     "metadata": {},
     "output_type": "execute_result"
    }
   ],
   "source": [
    "clf_gboost.fit(X, y)"
   ]
  },
  {
   "cell_type": "markdown",
   "metadata": {},
   "source": [
    "Save cross-validation results"
   ]
  },
  {
   "cell_type": "code",
   "execution_count": 97,
   "metadata": {},
   "outputs": [],
   "source": [
    "filename = 'clf_gboost_trained_on_tfidf-and-pos.sav'\n",
    "pickle.dump(clf_gboost, open(filename, 'wb'))"
   ]
  },
  {
   "cell_type": "code",
   "execution_count": 100,
   "metadata": {},
   "outputs": [
    {
     "data": {
      "text/html": [
       "<div>\n",
       "<style scoped>\n",
       "    .dataframe tbody tr th:only-of-type {\n",
       "        vertical-align: middle;\n",
       "    }\n",
       "\n",
       "    .dataframe tbody tr th {\n",
       "        vertical-align: top;\n",
       "    }\n",
       "\n",
       "    .dataframe thead th {\n",
       "        text-align: right;\n",
       "    }\n",
       "</style>\n",
       "<table border=\"1\" class=\"dataframe\">\n",
       "  <thead>\n",
       "    <tr style=\"text-align: right;\">\n",
       "      <th></th>\n",
       "      <th>mean_fit_time</th>\n",
       "      <th>std_fit_time</th>\n",
       "      <th>mean_score_time</th>\n",
       "      <th>std_score_time</th>\n",
       "      <th>param_max_depth</th>\n",
       "      <th>param_n_estimators</th>\n",
       "      <th>params</th>\n",
       "      <th>split0_test_score</th>\n",
       "      <th>split1_test_score</th>\n",
       "      <th>split2_test_score</th>\n",
       "      <th>split3_test_score</th>\n",
       "      <th>split4_test_score</th>\n",
       "      <th>mean_test_score</th>\n",
       "      <th>std_test_score</th>\n",
       "      <th>rank_test_score</th>\n",
       "    </tr>\n",
       "  </thead>\n",
       "  <tbody>\n",
       "    <tr>\n",
       "      <th>0</th>\n",
       "      <td>5251.148904</td>\n",
       "      <td>40.381404</td>\n",
       "      <td>0.333035</td>\n",
       "      <td>0.001426</td>\n",
       "      <td>3</td>\n",
       "      <td>100</td>\n",
       "      <td>{'max_depth': 3, 'n_estimators': 100}</td>\n",
       "      <td>0.682625</td>\n",
       "      <td>0.682975</td>\n",
       "      <td>0.679750</td>\n",
       "      <td>0.681400</td>\n",
       "      <td>0.683775</td>\n",
       "      <td>0.682105</td>\n",
       "      <td>0.001404</td>\n",
       "      <td>9</td>\n",
       "    </tr>\n",
       "    <tr>\n",
       "      <th>1</th>\n",
       "      <td>10548.490164</td>\n",
       "      <td>97.220282</td>\n",
       "      <td>0.630662</td>\n",
       "      <td>0.018553</td>\n",
       "      <td>3</td>\n",
       "      <td>200</td>\n",
       "      <td>{'max_depth': 3, 'n_estimators': 200}</td>\n",
       "      <td>0.700975</td>\n",
       "      <td>0.700700</td>\n",
       "      <td>0.697175</td>\n",
       "      <td>0.699025</td>\n",
       "      <td>0.702575</td>\n",
       "      <td>0.700090</td>\n",
       "      <td>0.001842</td>\n",
       "      <td>6</td>\n",
       "    </tr>\n",
       "    <tr>\n",
       "      <th>2</th>\n",
       "      <td>15381.641376</td>\n",
       "      <td>40.741760</td>\n",
       "      <td>0.506601</td>\n",
       "      <td>0.015179</td>\n",
       "      <td>3</td>\n",
       "      <td>300</td>\n",
       "      <td>{'max_depth': 3, 'n_estimators': 300}</td>\n",
       "      <td>0.710450</td>\n",
       "      <td>0.710525</td>\n",
       "      <td>0.705950</td>\n",
       "      <td>0.705750</td>\n",
       "      <td>0.712925</td>\n",
       "      <td>0.709120</td>\n",
       "      <td>0.002815</td>\n",
       "      <td>4</td>\n",
       "    </tr>\n",
       "    <tr>\n",
       "      <th>3</th>\n",
       "      <td>7055.397690</td>\n",
       "      <td>37.817309</td>\n",
       "      <td>0.426139</td>\n",
       "      <td>0.000891</td>\n",
       "      <td>4</td>\n",
       "      <td>100</td>\n",
       "      <td>{'max_depth': 4, 'n_estimators': 100}</td>\n",
       "      <td>0.692225</td>\n",
       "      <td>0.694675</td>\n",
       "      <td>0.690700</td>\n",
       "      <td>0.690250</td>\n",
       "      <td>0.693425</td>\n",
       "      <td>0.692255</td>\n",
       "      <td>0.001653</td>\n",
       "      <td>8</td>\n",
       "    </tr>\n",
       "    <tr>\n",
       "      <th>4</th>\n",
       "      <td>14067.782288</td>\n",
       "      <td>103.672379</td>\n",
       "      <td>0.783945</td>\n",
       "      <td>0.016438</td>\n",
       "      <td>4</td>\n",
       "      <td>200</td>\n",
       "      <td>{'max_depth': 4, 'n_estimators': 200}</td>\n",
       "      <td>0.708925</td>\n",
       "      <td>0.707675</td>\n",
       "      <td>0.705800</td>\n",
       "      <td>0.706875</td>\n",
       "      <td>0.709575</td>\n",
       "      <td>0.707770</td>\n",
       "      <td>0.001363</td>\n",
       "      <td>5</td>\n",
       "    </tr>\n",
       "    <tr>\n",
       "      <th>5</th>\n",
       "      <td>19682.640307</td>\n",
       "      <td>75.392464</td>\n",
       "      <td>0.659557</td>\n",
       "      <td>0.016924</td>\n",
       "      <td>4</td>\n",
       "      <td>300</td>\n",
       "      <td>{'max_depth': 4, 'n_estimators': 300}</td>\n",
       "      <td>0.716825</td>\n",
       "      <td>0.715125</td>\n",
       "      <td>0.713575</td>\n",
       "      <td>0.716450</td>\n",
       "      <td>0.718150</td>\n",
       "      <td>0.716025</td>\n",
       "      <td>0.001559</td>\n",
       "      <td>2</td>\n",
       "    </tr>\n",
       "    <tr>\n",
       "      <th>6</th>\n",
       "      <td>8799.906909</td>\n",
       "      <td>68.603176</td>\n",
       "      <td>0.527979</td>\n",
       "      <td>0.045454</td>\n",
       "      <td>5</td>\n",
       "      <td>100</td>\n",
       "      <td>{'max_depth': 5, 'n_estimators': 100}</td>\n",
       "      <td>0.700025</td>\n",
       "      <td>0.698475</td>\n",
       "      <td>0.697125</td>\n",
       "      <td>0.697100</td>\n",
       "      <td>0.702425</td>\n",
       "      <td>0.699030</td>\n",
       "      <td>0.002009</td>\n",
       "      <td>7</td>\n",
       "    </tr>\n",
       "    <tr>\n",
       "      <th>7</th>\n",
       "      <td>15239.709910</td>\n",
       "      <td>452.647093</td>\n",
       "      <td>0.510447</td>\n",
       "      <td>0.026485</td>\n",
       "      <td>5</td>\n",
       "      <td>200</td>\n",
       "      <td>{'max_depth': 5, 'n_estimators': 200}</td>\n",
       "      <td>0.714900</td>\n",
       "      <td>0.713250</td>\n",
       "      <td>0.712950</td>\n",
       "      <td>0.713750</td>\n",
       "      <td>0.714950</td>\n",
       "      <td>0.713960</td>\n",
       "      <td>0.000828</td>\n",
       "      <td>3</td>\n",
       "    </tr>\n",
       "    <tr>\n",
       "      <th>8</th>\n",
       "      <td>20994.867189</td>\n",
       "      <td>418.843968</td>\n",
       "      <td>0.722291</td>\n",
       "      <td>0.013630</td>\n",
       "      <td>5</td>\n",
       "      <td>300</td>\n",
       "      <td>{'max_depth': 5, 'n_estimators': 300}</td>\n",
       "      <td>0.723500</td>\n",
       "      <td>0.720125</td>\n",
       "      <td>0.719425</td>\n",
       "      <td>0.720675</td>\n",
       "      <td>0.723175</td>\n",
       "      <td>0.721380</td>\n",
       "      <td>0.001650</td>\n",
       "      <td>1</td>\n",
       "    </tr>\n",
       "  </tbody>\n",
       "</table>\n",
       "</div>"
      ],
      "text/plain": [
       "   mean_fit_time  std_fit_time  mean_score_time  std_score_time   \n",
       "0    5251.148904     40.381404         0.333035        0.001426  \\\n",
       "1   10548.490164     97.220282         0.630662        0.018553   \n",
       "2   15381.641376     40.741760         0.506601        0.015179   \n",
       "3    7055.397690     37.817309         0.426139        0.000891   \n",
       "4   14067.782288    103.672379         0.783945        0.016438   \n",
       "5   19682.640307     75.392464         0.659557        0.016924   \n",
       "6    8799.906909     68.603176         0.527979        0.045454   \n",
       "7   15239.709910    452.647093         0.510447        0.026485   \n",
       "8   20994.867189    418.843968         0.722291        0.013630   \n",
       "\n",
       "  param_max_depth param_n_estimators                                 params   \n",
       "0               3                100  {'max_depth': 3, 'n_estimators': 100}  \\\n",
       "1               3                200  {'max_depth': 3, 'n_estimators': 200}   \n",
       "2               3                300  {'max_depth': 3, 'n_estimators': 300}   \n",
       "3               4                100  {'max_depth': 4, 'n_estimators': 100}   \n",
       "4               4                200  {'max_depth': 4, 'n_estimators': 200}   \n",
       "5               4                300  {'max_depth': 4, 'n_estimators': 300}   \n",
       "6               5                100  {'max_depth': 5, 'n_estimators': 100}   \n",
       "7               5                200  {'max_depth': 5, 'n_estimators': 200}   \n",
       "8               5                300  {'max_depth': 5, 'n_estimators': 300}   \n",
       "\n",
       "   split0_test_score  split1_test_score  split2_test_score  split3_test_score   \n",
       "0           0.682625           0.682975           0.679750           0.681400  \\\n",
       "1           0.700975           0.700700           0.697175           0.699025   \n",
       "2           0.710450           0.710525           0.705950           0.705750   \n",
       "3           0.692225           0.694675           0.690700           0.690250   \n",
       "4           0.708925           0.707675           0.705800           0.706875   \n",
       "5           0.716825           0.715125           0.713575           0.716450   \n",
       "6           0.700025           0.698475           0.697125           0.697100   \n",
       "7           0.714900           0.713250           0.712950           0.713750   \n",
       "8           0.723500           0.720125           0.719425           0.720675   \n",
       "\n",
       "   split4_test_score  mean_test_score  std_test_score  rank_test_score  \n",
       "0           0.683775         0.682105        0.001404                9  \n",
       "1           0.702575         0.700090        0.001842                6  \n",
       "2           0.712925         0.709120        0.002815                4  \n",
       "3           0.693425         0.692255        0.001653                8  \n",
       "4           0.709575         0.707770        0.001363                5  \n",
       "5           0.718150         0.716025        0.001559                2  \n",
       "6           0.702425         0.699030        0.002009                7  \n",
       "7           0.714950         0.713960        0.000828                3  \n",
       "8           0.723175         0.721380        0.001650                1  "
      ]
     },
     "execution_count": 100,
     "metadata": {},
     "output_type": "execute_result"
    }
   ],
   "source": [
    "df_clf_gboost = pd.DataFrame(clf_gboost.cv_results_)\n",
    "\n",
    "df_clf_gboost.to_csv(os.path.join(results_path,\"gboost_cv_tfidf-and-pos_results.csv\"))\n",
    "df_clf_gboost"
   ]
  },
  {
   "cell_type": "markdown",
   "metadata": {},
   "source": [
    "Evaluate best-classifier on test data"
   ]
  },
  {
   "cell_type": "code",
   "execution_count": 101,
   "metadata": {},
   "outputs": [
    {
     "data": {
      "text/html": [
       "<div>\n",
       "<style scoped>\n",
       "    .dataframe tbody tr th:only-of-type {\n",
       "        vertical-align: middle;\n",
       "    }\n",
       "\n",
       "    .dataframe tbody tr th {\n",
       "        vertical-align: top;\n",
       "    }\n",
       "\n",
       "    .dataframe thead th {\n",
       "        text-align: right;\n",
       "    }\n",
       "</style>\n",
       "<table border=\"1\" class=\"dataframe\">\n",
       "  <thead>\n",
       "    <tr style=\"text-align: right;\">\n",
       "      <th></th>\n",
       "      <th>0</th>\n",
       "      <th>1</th>\n",
       "      <th>accuracy</th>\n",
       "      <th>macro avg</th>\n",
       "      <th>weighted avg</th>\n",
       "    </tr>\n",
       "  </thead>\n",
       "  <tbody>\n",
       "    <tr>\n",
       "      <th>precision</th>\n",
       "      <td>0.713852</td>\n",
       "      <td>0.709199</td>\n",
       "      <td>0.7115</td>\n",
       "      <td>0.711526</td>\n",
       "      <td>0.711526</td>\n",
       "    </tr>\n",
       "    <tr>\n",
       "      <th>recall</th>\n",
       "      <td>0.706000</td>\n",
       "      <td>0.717000</td>\n",
       "      <td>0.7115</td>\n",
       "      <td>0.711500</td>\n",
       "      <td>0.711500</td>\n",
       "    </tr>\n",
       "    <tr>\n",
       "      <th>f1-score</th>\n",
       "      <td>0.709904</td>\n",
       "      <td>0.713078</td>\n",
       "      <td>0.7115</td>\n",
       "      <td>0.711491</td>\n",
       "      <td>0.711491</td>\n",
       "    </tr>\n",
       "    <tr>\n",
       "      <th>support</th>\n",
       "      <td>5000.000000</td>\n",
       "      <td>5000.000000</td>\n",
       "      <td>0.7115</td>\n",
       "      <td>10000.000000</td>\n",
       "      <td>10000.000000</td>\n",
       "    </tr>\n",
       "  </tbody>\n",
       "</table>\n",
       "</div>"
      ],
      "text/plain": [
       "                     0            1  accuracy     macro avg  weighted avg\n",
       "precision     0.713852     0.709199    0.7115      0.711526      0.711526\n",
       "recall        0.706000     0.717000    0.7115      0.711500      0.711500\n",
       "f1-score      0.709904     0.713078    0.7115      0.711491      0.711491\n",
       "support    5000.000000  5000.000000    0.7115  10000.000000  10000.000000"
      ]
     },
     "execution_count": 101,
     "metadata": {},
     "output_type": "execute_result"
    }
   ],
   "source": [
    "y_predict = clf_gboost.predict(X_test)\n",
    "df_cr = pd.DataFrame(classification_report(y_test, y_predict, output_dict=True))\n",
    "df_cr.to_csv(os.path.join(results_path,\"gboost_test_tfidf-and-pos_results.csv\"))\n",
    "df_cr"
   ]
  },
  {
   "cell_type": "markdown",
   "metadata": {},
   "source": [
    "## SVM"
   ]
  },
  {
   "cell_type": "code",
   "execution_count": 61,
   "metadata": {},
   "outputs": [],
   "source": [
    "from sklearn.svm import SVC"
   ]
  },
  {
   "cell_type": "code",
   "execution_count": 62,
   "metadata": {},
   "outputs": [],
   "source": [
    "svm = SVC(random_state=42)\n",
    "#parameters = {'C':[0.5, 1.0, 2.0, 3.0], 'kernel':['linear', 'poly', 'rbf', 'sigmoid'], 'degree':[1, 2, 3],\n",
    "#             'coef0':[0.0, 0.5, 1.0]}\n",
    "parameters = {'C':[0.5, 1.0, 2.0, 3.0]}\n",
    "\n",
    "clf_svm = GridSearchCV(svm, parameters, n_jobs=-1)"
   ]
  },
  {
   "cell_type": "code",
   "execution_count": null,
   "metadata": {},
   "outputs": [],
   "source": [
    "clf_svm.fit(X, y)"
   ]
  },
  {
   "cell_type": "markdown",
   "metadata": {},
   "source": [
    "Save cross-validation results"
   ]
  },
  {
   "cell_type": "code",
   "execution_count": null,
   "metadata": {},
   "outputs": [],
   "source": [
    "df_clf_svm = pd.DataFrame(clf_svm.cv_results_)\n",
    "\n",
    "df_clf_svm.to_csv(os.path.join(results_path,\"svm_cv_results.csv\"))\n",
    "df_clf_svm"
   ]
  },
  {
   "cell_type": "markdown",
   "metadata": {},
   "source": [
    "Evaluate best-classifier on test data"
   ]
  },
  {
   "cell_type": "code",
   "execution_count": null,
   "metadata": {},
   "outputs": [],
   "source": [
    "y_predict = clf_svm.predict(X_test)\n",
    "df_cr = pd.DataFrame(classification_report(y_test, y_predict, output_dict=True))\n",
    "df_cr.to_csv(os.path.join(results_path,\"svm_test_results.csv\"))\n",
    "df_cr"
   ]
  },
  {
   "cell_type": "markdown",
   "metadata": {},
   "source": [
    "## Random forest"
   ]
  },
  {
   "cell_type": "code",
   "execution_count": null,
   "metadata": {},
   "outputs": [],
   "source": [
    "from sklearn.ensemble import RandomForestClassifier"
   ]
  },
  {
   "cell_type": "code",
   "execution_count": null,
   "metadata": {},
   "outputs": [],
   "source": [
    "rf = RandomForestClassifier(random_state=42, n_jobs=-1)\n",
    "parameters = {'n_estimators':[100, 200, 300], 'criterion':['gini', 'entropy', 'log_loss']}\n",
    "\n",
    "clf_rf = GridSearchCV(rf, parameters, n_jobs=-1)"
   ]
  },
  {
   "cell_type": "code",
   "execution_count": null,
   "metadata": {},
   "outputs": [],
   "source": [
    "clf_rf.fit(X, y)"
   ]
  },
  {
   "cell_type": "markdown",
   "metadata": {},
   "source": [
    "Save cross-validation results"
   ]
  },
  {
   "cell_type": "code",
   "execution_count": null,
   "metadata": {},
   "outputs": [],
   "source": [
    "df_clf_rf = pd.DataFrame(clf_rf.cv_results_)\n",
    "\n",
    "df_clf_rf.to_csv(os.path.join(results_path,\"randomforest_cv_results.csv\"))\n",
    "df_clf_rf"
   ]
  },
  {
   "cell_type": "markdown",
   "metadata": {},
   "source": [
    "Evaluate best-classifier on test data"
   ]
  },
  {
   "cell_type": "code",
   "execution_count": null,
   "metadata": {},
   "outputs": [],
   "source": [
    "y_predict = clf_rf.predict(X_test)\n",
    "df_cr = pd.DataFrame(classification_report(y_test, y_predict, output_dict=True))\n",
    "df_cr.to_csv(os.path.join(results_path,\"randomforest_test_results.csv\"))\n",
    "df_cr"
   ]
  }
 ],
 "metadata": {
  "kernelspec": {
   "display_name": "text-detector",
   "language": "python",
   "name": "text-detector"
  },
  "language_info": {
   "codemirror_mode": {
    "name": "ipython",
    "version": 3
   },
   "file_extension": ".py",
   "mimetype": "text/x-python",
   "name": "python",
   "nbconvert_exporter": "python",
   "pygments_lexer": "ipython3",
   "version": "3.10.9"
  }
 },
 "nbformat": 4,
 "nbformat_minor": 5
}
