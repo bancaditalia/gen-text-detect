{
 "cells": [
  {
   "cell_type": "code",
   "execution_count": 75,
   "id": "2407adf1",
   "metadata": {},
   "outputs": [],
   "source": [
    "import os\n",
    "import pickle\n",
    "import pandas as pd\n",
    "import numpy as np"
   ]
  },
  {
   "cell_type": "markdown",
   "id": "16cd3b4d",
   "metadata": {},
   "source": [
    "Save path for evaluation reports"
   ]
  },
  {
   "cell_type": "code",
   "execution_count": 76,
   "id": "5fd32d7c",
   "metadata": {},
   "outputs": [],
   "source": [
    "results_path = \"./results\""
   ]
  },
  {
   "cell_type": "markdown",
   "id": "2b1f6309",
   "metadata": {},
   "source": [
    "# Load training data"
   ]
  },
  {
   "cell_type": "markdown",
   "id": "7a1af5a4",
   "metadata": {},
   "source": [
    "Load pickled embedded training data"
   ]
  },
  {
   "cell_type": "code",
   "execution_count": 77,
   "id": "3a0cc20f",
   "metadata": {},
   "outputs": [],
   "source": [
    "path_prefix = \"./data/embed\"\n",
    "dataset_path = \"webtext.train.jsonl.clean100k.csv+xl-1542M.train.jsonl.clean100k.csv_embed.pickle\""
   ]
  },
  {
   "cell_type": "code",
   "execution_count": 78,
   "id": "e6fcea12",
   "metadata": {},
   "outputs": [],
   "source": [
    "with open(os.path.join(path_prefix, dataset_path), \"rb\") as f:\n",
    "    training_data = pickle.load(f)\n",
    "\n",
    "X = training_data[\"X\"]\n",
    "y = training_data[\"y\"]"
   ]
  },
  {
   "cell_type": "markdown",
   "id": "c555d239",
   "metadata": {},
   "source": [
    "# Load test data"
   ]
  },
  {
   "cell_type": "markdown",
   "id": "ad8ecafc",
   "metadata": {},
   "source": [
    "Load pickled embedded test data"
   ]
  },
  {
   "cell_type": "code",
   "execution_count": 90,
   "id": "b8b93bda",
   "metadata": {},
   "outputs": [],
   "source": [
    "path_prefix = \"./data/embed\"\n",
    "dataset_names = [\"webtext.test.human_embed.pickle\", \"gpt2.xl-1542M.test.machine_embed.pickle\"]"
   ]
  },
  {
   "cell_type": "code",
   "execution_count": 92,
   "id": "7dbc80c8",
   "metadata": {},
   "outputs": [],
   "source": [
    "with open(os.path.join(path_prefix, dataset_names[0]), \"rb\") as f:\n",
    "    test_data = pickle.load(f)\n",
    "    X_test = test_data[\"X\"]\n",
    "    y_test = test_data[\"y\"]\n",
    "if len(dataset_names)>1:\n",
    "    for dataset_name in dataset_names[1:]:\n",
    "        with open(os.path.join(path_prefix, dataset_name), \"rb\") as f:\n",
    "            test_data = pickle.load(f)\n",
    "            X_test = np.concatenate((X_test, test_data[\"X\"]))\n",
    "            y_test += test_data[\"y\"]"
   ]
  },
  {
   "cell_type": "markdown",
   "id": "9fef30a3",
   "metadata": {},
   "source": [
    "# Train classifiers"
   ]
  },
  {
   "cell_type": "code",
   "execution_count": 81,
   "id": "5d285cab",
   "metadata": {},
   "outputs": [],
   "source": [
    "from sklearn.model_selection import GridSearchCV\n",
    "from sklearn.metrics import classification_report"
   ]
  },
  {
   "cell_type": "markdown",
   "id": "f05881ae",
   "metadata": {},
   "source": [
    "## GradientBoosting"
   ]
  },
  {
   "cell_type": "code",
   "execution_count": 82,
   "id": "55878312",
   "metadata": {},
   "outputs": [],
   "source": [
    "from sklearn.ensemble import GradientBoostingClassifier"
   ]
  },
  {
   "cell_type": "code",
   "execution_count": 86,
   "id": "a4ba8e5d",
   "metadata": {},
   "outputs": [],
   "source": [
    "gboost = GradientBoostingClassifier(random_state=42)\n",
    "parameters = {'n_estimators':[100, 200, 300], 'max_depth':[3, 4, 5], 'learning_rate':[0.2, 0.5, 1.0]}\n",
    "\n",
    "clf_gboost = GridSearchCV(gboost, parameters, n_jobs=-1)"
   ]
  },
  {
   "cell_type": "code",
   "execution_count": null,
   "id": "78492e52",
   "metadata": {},
   "outputs": [],
   "source": [
    "clf_gboost.fit(X, y)"
   ]
  },
  {
   "cell_type": "markdown",
   "id": "0222940c",
   "metadata": {},
   "source": [
    "Save cross-validation results"
   ]
  },
  {
   "cell_type": "code",
   "execution_count": null,
   "id": "0c934859",
   "metadata": {},
   "outputs": [],
   "source": [
    "df_clf_gboost = pd.DataFrame(clf_gboost.cv_results_)\n",
    "\n",
    "df_clf_gboost.to_csv(os.path.join(results_path,\"gboost_cv_results.csv\"))\n",
    "df_clf_gboost"
   ]
  },
  {
   "cell_type": "markdown",
   "id": "fe0ac673",
   "metadata": {},
   "source": [
    "Evaluate best-classifier on test data"
   ]
  },
  {
   "cell_type": "code",
   "execution_count": null,
   "id": "28a8bf8f",
   "metadata": {},
   "outputs": [],
   "source": [
    "y_predict = clf_gboost.predict(X_test)\n",
    "df_cr = pd.DataFrame(classification_report(y_test, y_predict, output_dict=True))\n",
    "df_cr.to_csv(os.path.join(results_path,\"gboost_test_results.csv\"))\n",
    "df_cr"
   ]
  },
  {
   "cell_type": "markdown",
   "id": "412a47c9",
   "metadata": {},
   "source": [
    "## SVM"
   ]
  },
  {
   "cell_type": "code",
   "execution_count": null,
   "id": "a784adb0",
   "metadata": {},
   "outputs": [],
   "source": [
    "from sklearn.svm import SVC"
   ]
  },
  {
   "cell_type": "code",
   "execution_count": null,
   "id": "61a73727",
   "metadata": {},
   "outputs": [],
   "source": [
    "svm = SVC(random_state=42)\n",
    "parameters = {'C':[0.5, 1.0, 2.0, 3.0], 'kernel':['linear', 'poly', 'rbf', 'sigmoid'], 'degree':[1, 2, 3],\n",
    "             'coef0':[0.0, 0.5, 1.0]}\n",
    "\n",
    "clf_svm = GridSearchCV(svm, parameters, n_jobs=-1)"
   ]
  },
  {
   "cell_type": "code",
   "execution_count": null,
   "id": "45673c0c",
   "metadata": {},
   "outputs": [],
   "source": [
    "clf_svm.fit(X, y)"
   ]
  },
  {
   "cell_type": "markdown",
   "id": "22f9d3ab",
   "metadata": {},
   "source": [
    "Save cross-validation results"
   ]
  },
  {
   "cell_type": "code",
   "execution_count": null,
   "id": "fa7ac9a1",
   "metadata": {},
   "outputs": [],
   "source": [
    "df_clf_svm = pd.DataFrame(clf_svm.cv_results_)\n",
    "\n",
    "df_clf_svm.to_csv(os.path.join(results_path,\"svm_cv_results.csv\"))\n",
    "df_clf_svm"
   ]
  },
  {
   "cell_type": "markdown",
   "id": "a20fac9d",
   "metadata": {},
   "source": [
    "Evaluate best-classifier on test data"
   ]
  },
  {
   "cell_type": "code",
   "execution_count": null,
   "id": "c239d512",
   "metadata": {},
   "outputs": [],
   "source": [
    "y_predict = clf_svm.predict(X_test)\n",
    "df_cr = pd.DataFrame(classification_report(y_test, y_predict, output_dict=True))\n",
    "df_cr.to_csv(os.path.join(results_path,\"svm_test_results.csv\"))\n",
    "df_cr"
   ]
  },
  {
   "cell_type": "markdown",
   "id": "2998c955",
   "metadata": {},
   "source": [
    "## Random forest"
   ]
  },
  {
   "cell_type": "code",
   "execution_count": null,
   "id": "dee03227",
   "metadata": {},
   "outputs": [],
   "source": [
    "from sklearn.ensemble import RandomForestClassifier"
   ]
  },
  {
   "cell_type": "code",
   "execution_count": null,
   "id": "5a4957a7",
   "metadata": {},
   "outputs": [],
   "source": [
    "rf = RandomForestClassifier(random_state=42, n_jobs=-1)\n",
    "parameters = {'n_estimators':[100, 200, 300], 'criterion':['gini', 'entropy', 'log_loss']}\n",
    "\n",
    "clf_rf = GridSearchCV(rf, parameters, n_jobs=-1)"
   ]
  },
  {
   "cell_type": "code",
   "execution_count": null,
   "id": "5568e899",
   "metadata": {},
   "outputs": [],
   "source": [
    "clf_rf.fit(X, y)"
   ]
  },
  {
   "cell_type": "markdown",
   "id": "0b08a0b8",
   "metadata": {},
   "source": [
    "Save cross-validation results"
   ]
  },
  {
   "cell_type": "code",
   "execution_count": null,
   "id": "41a2efe0",
   "metadata": {},
   "outputs": [],
   "source": [
    "df_clf_rf = pd.DataFrame(clf_rf.cv_results_)\n",
    "\n",
    "df_clf_rf.to_csv(os.path.join(results_path,\"randomforest_cv_results.csv\"))\n",
    "df_clf_rf"
   ]
  },
  {
   "cell_type": "markdown",
   "id": "eafa7cef",
   "metadata": {},
   "source": [
    "Evaluate best-classifier on test data"
   ]
  },
  {
   "cell_type": "code",
   "execution_count": null,
   "id": "9258e99a",
   "metadata": {},
   "outputs": [],
   "source": [
    "y_predict = clf_rf.predict(X_test)\n",
    "df_cr = pd.DataFrame(classification_report(y_test, y_predict, output_dict=True))\n",
    "df_cr.to_csv(os.path.join(results_path,\"randomforest_test_results.csv\"))\n",
    "df_cr"
   ]
  }
 ],
 "metadata": {
  "kernelspec": {
   "display_name": "ml-env",
   "language": "python",
   "name": "ml-env"
  },
  "language_info": {
   "codemirror_mode": {
    "name": "ipython",
    "version": 3
   },
   "file_extension": ".py",
   "mimetype": "text/x-python",
   "name": "python",
   "nbconvert_exporter": "python",
   "pygments_lexer": "ipython3",
   "version": "3.9.16"
  }
 },
 "nbformat": 4,
 "nbformat_minor": 5
}
