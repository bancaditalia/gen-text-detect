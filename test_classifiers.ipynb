{
 "cells": [
  {
   "cell_type": "code",
   "execution_count": null,
   "id": "aae04366",
   "metadata": {},
   "outputs": [],
   "source": [
    "import os\n",
    "import pickle\n",
    "import pandas as pd\n",
    "import numpy as np"
   ]
  },
  {
   "cell_type": "markdown",
   "id": "ff7ff8a9",
   "metadata": {},
   "source": [
    "Save path for evaluation reports"
   ]
  },
  {
   "cell_type": "code",
   "execution_count": null,
   "id": "be151209",
   "metadata": {},
   "outputs": [],
   "source": [
    "results_path = \"./results\""
   ]
  },
  {
   "cell_type": "markdown",
   "id": "11e3809c",
   "metadata": {},
   "source": [
    "# Load training data"
   ]
  },
  {
   "cell_type": "markdown",
   "id": "3b144f9d",
   "metadata": {},
   "source": [
    "Load pickled embedded training data"
   ]
  },
  {
   "cell_type": "code",
   "execution_count": null,
   "id": "af45dee6",
   "metadata": {},
   "outputs": [],
   "source": [
    "path_prefix = \"./data/embed\"\n",
    "dataset_path = \"webtext.train.jsonl.clean100k.csv+xl-1542M.train.jsonl.clean100k.csv_embed.pickle\""
   ]
  },
  {
   "cell_type": "code",
   "execution_count": null,
   "id": "e8c270da",
   "metadata": {},
   "outputs": [],
   "source": [
    "with open(os.path.join(path_prefix, dataset_path), \"rb\") as f:\n",
    "    training_data = pickle.load(f)\n",
    "\n",
    "X = training_data[\"X\"]\n",
    "y = training_data[\"y\"]"
   ]
  },
  {
   "cell_type": "markdown",
   "id": "ff85cc0f",
   "metadata": {},
   "source": [
    "# Load test data"
   ]
  },
  {
   "cell_type": "markdown",
   "id": "cc0fde46",
   "metadata": {},
   "source": [
    "Load pickled embedded test data"
   ]
  },
  {
   "cell_type": "code",
   "execution_count": null,
   "id": "b7495f40",
   "metadata": {},
   "outputs": [],
   "source": [
    "path_prefix = \"./data/embed\"\n",
    "dataset_names = [\"webtext.test.human_embed.pickle\", \"gpt2.xl-1542M.test.machine_embed.pickle\"]"
   ]
  },
  {
   "cell_type": "code",
   "execution_count": null,
   "id": "532692d6",
   "metadata": {},
   "outputs": [],
   "source": [
    "with open(os.path.join(path_prefix, dataset_names[0]), \"rb\") as f:\n",
    "    test_data = pickle.load(f)\n",
    "    X_test = test_data[\"X\"]\n",
    "    y_test = test_data[\"y\"]\n",
    "with open(os.path.join(path_prefix, dataset_names[1]), \"rb\") as f:\n",
    "    test_data = pickle.load(f)\n",
    "    X_test = np.concatenate((X_test, test_data[\"X\"]))\n",
    "    y_test += test_data[\"y\"]"
   ]
  },
  {
   "cell_type": "markdown",
   "id": "de2fd447",
   "metadata": {},
   "source": [
    "# Train classifiers"
   ]
  },
  {
   "cell_type": "code",
   "execution_count": null,
   "id": "f5501a87",
   "metadata": {},
   "outputs": [],
   "source": [
    "from sklearn.model_selection import GridSearchCV\n",
    "from sklearn.metrics import classification_report"
   ]
  },
  {
   "cell_type": "markdown",
   "id": "24e698f3",
   "metadata": {},
   "source": [
    "## GradientBoosting"
   ]
  },
  {
   "cell_type": "code",
   "execution_count": null,
   "id": "c83bff12",
   "metadata": {},
   "outputs": [],
   "source": [
    "from sklearn.ensemble import GradientBoostingClassifier"
   ]
  },
  {
   "cell_type": "code",
   "execution_count": null,
   "id": "e7a8898e",
   "metadata": {},
   "outputs": [],
   "source": [
    "gboost = GradientBoostingClassifier(random_state=42)\n",
    "parameters = {'n_estimators':[100, 200, 300], 'max_depth':[3, 4, 5], 'learning_rate':[0.2, 0.5, 1.0]}\n",
    "parameters = {'n_estimators':[20, 50], 'max_depth':[1, 2], 'learning_rate':[1.0]}\n",
    "\n",
    "clf_gboost = GridSearchCV(gboost, parameters)"
   ]
  },
  {
   "cell_type": "code",
   "execution_count": null,
   "id": "68f2beef",
   "metadata": {},
   "outputs": [],
   "source": [
    "clf_gboost.fit(X, y)"
   ]
  },
  {
   "cell_type": "markdown",
   "id": "1de05156",
   "metadata": {},
   "source": [
    "Save cross-validation results"
   ]
  },
  {
   "cell_type": "code",
   "execution_count": null,
   "id": "f25bfe35",
   "metadata": {},
   "outputs": [],
   "source": [
    "df_clf_gboost = pd.DataFrame(clf_gboost.cv_results_)\n",
    "\n",
    "df_clf_gboost.to_csv(os.path.join(results_path,\"gboost_cv_results.csv\"))\n",
    "df_clf_gboost"
   ]
  },
  {
   "cell_type": "markdown",
   "id": "b50cbce0",
   "metadata": {},
   "source": [
    "Evaluate best-classifier on test data"
   ]
  },
  {
   "cell_type": "code",
   "execution_count": null,
   "id": "d099d2fe",
   "metadata": {},
   "outputs": [],
   "source": [
    "y_predict = clf_gboost.predict(X_test)\n",
    "df_cr = pd.DataFrame(classification_report(y_test, y_predict, output_dict=True))\n",
    "df_cr.to_csv(os.path.join(results_path,\"gboost_test_results.csv\"))\n",
    "df_cr"
   ]
  },
  {
   "cell_type": "markdown",
   "id": "e1185019",
   "metadata": {},
   "source": [
    "## SVM"
   ]
  },
  {
   "cell_type": "code",
   "execution_count": null,
   "id": "4c5bede5",
   "metadata": {},
   "outputs": [],
   "source": [
    "from sklearn.svm import SVC"
   ]
  },
  {
   "cell_type": "code",
   "execution_count": null,
   "id": "71e49efe",
   "metadata": {},
   "outputs": [],
   "source": [
    "svm = SVC(random_state=42)\n",
    "parameters = {'C':[0.5, 1.0, 2.0, 3.0], 'kernel':['linear', 'poly', 'rbf', 'sigmoid'], 'degree':[1, 2, 3],\n",
    "             'coef0':[0.0, 0.5, 1.0]}\n",
    "\n",
    "clf_svm = GridSearchCV(svm, parameters)"
   ]
  },
  {
   "cell_type": "code",
   "execution_count": null,
   "id": "eb50b4fe",
   "metadata": {},
   "outputs": [],
   "source": [
    "clf_svm.fit(X, y)"
   ]
  },
  {
   "cell_type": "markdown",
   "id": "8cde670b",
   "metadata": {},
   "source": [
    "Save cross-validation results"
   ]
  },
  {
   "cell_type": "code",
   "execution_count": null,
   "id": "3b6a9512",
   "metadata": {},
   "outputs": [],
   "source": [
    "df_clf_svm = pd.DataFrame(clf_svm.cv_results_)\n",
    "\n",
    "df_clf_svm.to_csv(os.path.join(results_path,\"svm_cv_results.csv\"))\n",
    "df_clf_svm"
   ]
  },
  {
   "cell_type": "markdown",
   "id": "fe269e4a",
   "metadata": {},
   "source": [
    "Evaluate best-classifier on test data"
   ]
  },
  {
   "cell_type": "code",
   "execution_count": null,
   "id": "4336d083",
   "metadata": {},
   "outputs": [],
   "source": [
    "y_predict = clf_svm.predict(X_test)\n",
    "df_cr = pd.DataFrame(classification_report(y_test, y_predict, output_dict=True))\n",
    "df_cr.to_csv(os.path.join(results_path,\"svm_test_results.csv\"))\n",
    "df_cr"
   ]
  },
  {
   "cell_type": "markdown",
   "id": "f1fbafa5",
   "metadata": {},
   "source": [
    "## Random forest"
   ]
  },
  {
   "cell_type": "code",
   "execution_count": null,
   "id": "6eae4599",
   "metadata": {},
   "outputs": [],
   "source": [
    "from sklearn.ensemble import RandomForestClassifier"
   ]
  },
  {
   "cell_type": "code",
   "execution_count": null,
   "id": "89f21d97",
   "metadata": {},
   "outputs": [],
   "source": [
    "rf = RandomForestClassifier(random_state=42, n_jobs=-1)\n",
    "parameters = {'n_estimators':[100, 200, 300], 'criterion':['gini', 'entropy', 'log_loss']}\n",
    "\n",
    "clf_rf = GridSearchCV(rf, parameters)"
   ]
  },
  {
   "cell_type": "code",
   "execution_count": null,
   "id": "15936445",
   "metadata": {},
   "outputs": [],
   "source": [
    "clf_rf.fit(X, y)"
   ]
  },
  {
   "cell_type": "markdown",
   "id": "5063cbf5",
   "metadata": {},
   "source": [
    "Save cross-validation results"
   ]
  },
  {
   "cell_type": "code",
   "execution_count": null,
   "id": "7448e606",
   "metadata": {},
   "outputs": [],
   "source": [
    "df_clf_rf = pd.DataFrame(clf_rf.cv_results_)\n",
    "\n",
    "df_clf_rf.to_csv(os.path.join(results_path,\"randomforest_cv_results.csv\"))\n",
    "df_clf_rf"
   ]
  },
  {
   "cell_type": "markdown",
   "id": "2e7bfb10",
   "metadata": {},
   "source": [
    "Evaluate best-classifier on test data"
   ]
  },
  {
   "cell_type": "code",
   "execution_count": null,
   "id": "c77c4e96",
   "metadata": {},
   "outputs": [],
   "source": [
    "y_predict = clf_rf.predict(X_test)\n",
    "df_cr = pd.DataFrame(classification_report(y_test, y_predict, output_dict=True))\n",
    "df_cr.to_csv(os.path.join(results_path,\"randomforest_test_results.csv\"))\n",
    "df_cr"
   ]
  }
 ],
 "metadata": {
  "kernelspec": {
   "display_name": "ml-env",
   "language": "python",
   "name": "ml-env"
  },
  "language_info": {
   "codemirror_mode": {
    "name": "ipython",
    "version": 3
   },
   "file_extension": ".py",
   "mimetype": "text/x-python",
   "name": "python",
   "nbconvert_exporter": "python",
   "pygments_lexer": "ipython3",
   "version": "3.9.16"
  }
 },
 "nbformat": 4,
 "nbformat_minor": 5
}
