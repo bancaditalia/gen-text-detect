{
 "cells": [
  {
   "cell_type": "code",
   "execution_count": 1,
   "id": "9f963291",
   "metadata": {},
   "outputs": [],
   "source": [
    "import json\n",
    "import pandas as pd\n",
    "import os"
   ]
  },
  {
   "cell_type": "code",
   "execution_count": 30,
   "id": "021f41dc",
   "metadata": {},
   "outputs": [],
   "source": [
    "data_path = \"./\"\n",
    "model_path = \"./\"\n",
    "embed_path = \"./data/embed\""
   ]
  },
  {
   "cell_type": "code",
   "execution_count": 36,
   "id": "67fee124",
   "metadata": {},
   "outputs": [],
   "source": [
    "import pickle\n",
    "\n",
    "def load_dataset(file_path):\n",
    "    ds = None\n",
    "    if os.path.splitext(file_path)[-1] == \".csv\":\n",
    "        ds = pd.read_csv(os.path.join(data_path, file_path))\n",
    "    elif os.path.splitext(file_path)[-1] == \".jsonl\":\n",
    "        ds = pd.read_json(os.path.join(data_path, file_path), lines=True)\n",
    "    elif os.path.splitext(file_path)[-1] == \".pickle\":\n",
    "        with open(file_path, \"rb\") as f:\n",
    "            ds = pickle.load(f)\n",
    "    return ds"
   ]
  },
  {
   "cell_type": "markdown",
   "id": "2d32dc41",
   "metadata": {},
   "source": [
    "# Words-embedding"
   ]
  },
  {
   "cell_type": "markdown",
   "id": "26b42680",
   "metadata": {},
   "source": [
    "## Load training datasets"
   ]
  },
  {
   "cell_type": "code",
   "execution_count": 37,
   "id": "0e5e64f7",
   "metadata": {},
   "outputs": [],
   "source": [
    "real_data_file = 'webtext.train.jsonl.clean100k.csv'\n",
    "fake_data_file = 'xl-1542M.train.jsonl.clean100k.csv'"
   ]
  },
  {
   "cell_type": "code",
   "execution_count": 38,
   "id": "2a99aa2a",
   "metadata": {},
   "outputs": [],
   "source": [
    "df_real = load_dataset(real_data_file)\n",
    "df_fake = load_dataset(fake_data_file)\n",
    "\n",
    "corpus = df_real[\"text\"].to_list() + df_fake[\"text\"].to_list()\n",
    "labels = [0 for _ in range(len(df_real))] + [1 for _ in range(len(df_fake))]"
   ]
  },
  {
   "cell_type": "markdown",
   "id": "01d885f3",
   "metadata": {},
   "source": [
    "## Build vocabulary"
   ]
  },
  {
   "cell_type": "code",
   "execution_count": 7,
   "id": "af737da1",
   "metadata": {},
   "outputs": [],
   "source": [
    "from nlp_engine.preprocessing import transformers as tfs\n",
    "from sklearn.pipeline import make_pipeline"
   ]
  },
  {
   "cell_type": "code",
   "execution_count": 8,
   "id": "4423dbec",
   "metadata": {},
   "outputs": [],
   "source": [
    "tokenized_corpus = make_pipeline(\n",
    "    tfs.WordTokenizer(), \n",
    "    tfs.WordsFilter(drop_symbols=False, drop_digits=True)\n",
    ").fit_transform(corpus)"
   ]
  },
  {
   "cell_type": "code",
   "execution_count": 9,
   "id": "7cfa4c74",
   "metadata": {},
   "outputs": [],
   "source": [
    "from nlp_engine.analysis import vocabulary"
   ]
  },
  {
   "cell_type": "code",
   "execution_count": 10,
   "id": "4e963532",
   "metadata": {},
   "outputs": [],
   "source": [
    "vocab_real = vocabulary.get_vocabulary(tokenized_corpus[:len(df_real)])\n",
    "vocab_fake = vocabulary.get_vocabulary(tokenized_corpus[len(df_real):])"
   ]
  },
  {
   "cell_type": "code",
   "execution_count": 11,
   "id": "8f00b9e3",
   "metadata": {},
   "outputs": [],
   "source": [
    "vocab_shared = vocab_real.intersection(vocab_fake)"
   ]
  },
  {
   "cell_type": "code",
   "execution_count": 12,
   "id": "2269fdb0",
   "metadata": {},
   "outputs": [
    {
     "name": "stdout",
     "output_type": "stream",
     "text": [
      "Size of \"real\" vocabulary: 290187\n",
      "Size of \"fake\" vocabulary: 511432\n",
      "Size of intersection: 160741\n"
     ]
    }
   ],
   "source": [
    "print(f'Size of \"real\" vocabulary: {len(vocab_real)}\\nSize of \"fake\" vocabulary: {len(vocab_fake)}\\nSize of intersection: {len(vocab_shared)}')"
   ]
  },
  {
   "cell_type": "markdown",
   "id": "ffa4433f",
   "metadata": {},
   "source": [
    "## Compute TF-IDF embedding"
   ]
  },
  {
   "cell_type": "code",
   "execution_count": 13,
   "id": "512ffb57",
   "metadata": {},
   "outputs": [],
   "source": [
    "from sklearn.feature_extraction.text import TfidfVectorizer\n",
    "from sklearn.decomposition import TruncatedSVD"
   ]
  },
  {
   "cell_type": "code",
   "execution_count": 14,
   "id": "a1e8e962",
   "metadata": {},
   "outputs": [],
   "source": [
    "def identity(x):\n",
    "    return x"
   ]
  },
  {
   "cell_type": "code",
   "execution_count": 15,
   "id": "0301fced",
   "metadata": {},
   "outputs": [],
   "source": [
    "pipeline = make_pipeline(\n",
    "    tfs.WordTokenizer(),\n",
    "    tfs.WordsFilter(\n",
    "        drop_symbols=False, \n",
    "        drop_digits=True, \n",
    "        whitelist=vocab_shared),\n",
    "    TfidfVectorizer(\n",
    "        ngram_range=(1,3), \n",
    "        max_features=1000000, \n",
    "        sublinear_tf=True, \n",
    "        tokenizer=identity, \n",
    "        preprocessor=identity),\n",
    "    TruncatedSVD(n_components=300)\n",
    ")"
   ]
  },
  {
   "cell_type": "code",
   "execution_count": 16,
   "id": "6af4c3a8",
   "metadata": {
    "scrolled": false
   },
   "outputs": [
    {
     "name": "stderr",
     "output_type": "stream",
     "text": [
      "/Users/alessandro/Documents/dev/ml-env/lib/python3.9/site-packages/sklearn/feature_extraction/text.py:528: UserWarning: The parameter 'token_pattern' will not be used since 'tokenizer' is not None'\n",
      "  warnings.warn(\n"
     ]
    },
    {
     "name": "stdout",
     "output_type": "stream",
     "text": [
      "CPU times: user 24min 13s, sys: 8min 50s, total: 33min 4s\n",
      "Wall time: 29min 43s\n"
     ]
    },
    {
     "data": {
      "text/html": [
       "<style>#sk-container-id-1 {color: black;background-color: white;}#sk-container-id-1 pre{padding: 0;}#sk-container-id-1 div.sk-toggleable {background-color: white;}#sk-container-id-1 label.sk-toggleable__label {cursor: pointer;display: block;width: 100%;margin-bottom: 0;padding: 0.3em;box-sizing: border-box;text-align: center;}#sk-container-id-1 label.sk-toggleable__label-arrow:before {content: \"▸\";float: left;margin-right: 0.25em;color: #696969;}#sk-container-id-1 label.sk-toggleable__label-arrow:hover:before {color: black;}#sk-container-id-1 div.sk-estimator:hover label.sk-toggleable__label-arrow:before {color: black;}#sk-container-id-1 div.sk-toggleable__content {max-height: 0;max-width: 0;overflow: hidden;text-align: left;background-color: #f0f8ff;}#sk-container-id-1 div.sk-toggleable__content pre {margin: 0.2em;color: black;border-radius: 0.25em;background-color: #f0f8ff;}#sk-container-id-1 input.sk-toggleable__control:checked~div.sk-toggleable__content {max-height: 200px;max-width: 100%;overflow: auto;}#sk-container-id-1 input.sk-toggleable__control:checked~label.sk-toggleable__label-arrow:before {content: \"▾\";}#sk-container-id-1 div.sk-estimator input.sk-toggleable__control:checked~label.sk-toggleable__label {background-color: #d4ebff;}#sk-container-id-1 div.sk-label input.sk-toggleable__control:checked~label.sk-toggleable__label {background-color: #d4ebff;}#sk-container-id-1 input.sk-hidden--visually {border: 0;clip: rect(1px 1px 1px 1px);clip: rect(1px, 1px, 1px, 1px);height: 1px;margin: -1px;overflow: hidden;padding: 0;position: absolute;width: 1px;}#sk-container-id-1 div.sk-estimator {font-family: monospace;background-color: #f0f8ff;border: 1px dotted black;border-radius: 0.25em;box-sizing: border-box;margin-bottom: 0.5em;}#sk-container-id-1 div.sk-estimator:hover {background-color: #d4ebff;}#sk-container-id-1 div.sk-parallel-item::after {content: \"\";width: 100%;border-bottom: 1px solid gray;flex-grow: 1;}#sk-container-id-1 div.sk-label:hover label.sk-toggleable__label {background-color: #d4ebff;}#sk-container-id-1 div.sk-serial::before {content: \"\";position: absolute;border-left: 1px solid gray;box-sizing: border-box;top: 0;bottom: 0;left: 50%;z-index: 0;}#sk-container-id-1 div.sk-serial {display: flex;flex-direction: column;align-items: center;background-color: white;padding-right: 0.2em;padding-left: 0.2em;position: relative;}#sk-container-id-1 div.sk-item {position: relative;z-index: 1;}#sk-container-id-1 div.sk-parallel {display: flex;align-items: stretch;justify-content: center;background-color: white;position: relative;}#sk-container-id-1 div.sk-item::before, #sk-container-id-1 div.sk-parallel-item::before {content: \"\";position: absolute;border-left: 1px solid gray;box-sizing: border-box;top: 0;bottom: 0;left: 50%;z-index: -1;}#sk-container-id-1 div.sk-parallel-item {display: flex;flex-direction: column;z-index: 1;position: relative;background-color: white;}#sk-container-id-1 div.sk-parallel-item:first-child::after {align-self: flex-end;width: 50%;}#sk-container-id-1 div.sk-parallel-item:last-child::after {align-self: flex-start;width: 50%;}#sk-container-id-1 div.sk-parallel-item:only-child::after {width: 0;}#sk-container-id-1 div.sk-dashed-wrapped {border: 1px dashed gray;margin: 0 0.4em 0.5em 0.4em;box-sizing: border-box;padding-bottom: 0.4em;background-color: white;}#sk-container-id-1 div.sk-label label {font-family: monospace;font-weight: bold;display: inline-block;line-height: 1.2em;}#sk-container-id-1 div.sk-label-container {text-align: center;}#sk-container-id-1 div.sk-container {/* jupyter's `normalize.less` sets `[hidden] { display: none; }` but bootstrap.min.css set `[hidden] { display: none !important; }` so we also need the `!important` here to be able to override the default hidden behavior on the sphinx rendered scikit-learn.org. See: https://github.com/scikit-learn/scikit-learn/issues/21755 */display: inline-block !important;position: relative;}#sk-container-id-1 div.sk-text-repr-fallback {display: none;}</style><div id=\"sk-container-id-1\" class=\"sk-top-container\"><div class=\"sk-text-repr-fallback\"><pre>Pipeline(steps=[(&#x27;wordtokenizer&#x27;, WordTokenizer()),\n",
       "                (&#x27;wordsfilter&#x27;,\n",
       "                 WordsFilter(drop_digits=True,\n",
       "                             whitelist={&#x27;!&#x27;, &#x27;&quot;&#x27;, &#x27;#&#x27;, &#x27;$&#x27;, &#x27;%&#x27;, &#x27;&amp;&#x27;, &quot;&#x27;&quot;, &#x27;(&#x27;,\n",
       "                                        &#x27;)&#x27;, &#x27;*&#x27;, &#x27;+&#x27;, &#x27;,&#x27;, &#x27;-&#x27;, &#x27;.&#x27;, &#x27;/&#x27;, &#x27;:&#x27;,\n",
       "                                        &#x27;;&#x27;, &#x27;&lt;&#x27;, &#x27;=&#x27;, &#x27;&gt;&#x27;, &#x27;?&#x27;, &#x27;@&#x27;, &#x27;[&#x27;, &#x27;\\\\&#x27;,\n",
       "                                        &#x27;]&#x27;, &#x27;^&#x27;, &#x27;`&#x27;, &#x27;a&#x27;, &#x27;a0&#x27;, &#x27;a02&#x27;, ...})),\n",
       "                (&#x27;tfidfvectorizer&#x27;,\n",
       "                 TfidfVectorizer(max_features=1000000, ngram_range=(1, 3),\n",
       "                                 preprocessor=&lt;function identity at 0x2e0af8f70&gt;,\n",
       "                                 sublinear_tf=True,\n",
       "                                 tokenizer=&lt;function identity at 0x2e0af8f70&gt;)),\n",
       "                (&#x27;truncatedsvd&#x27;, TruncatedSVD(n_components=300))])</pre><b>In a Jupyter environment, please rerun this cell to show the HTML representation or trust the notebook. <br />On GitHub, the HTML representation is unable to render, please try loading this page with nbviewer.org.</b></div><div class=\"sk-container\" hidden><div class=\"sk-item sk-dashed-wrapped\"><div class=\"sk-label-container\"><div class=\"sk-label sk-toggleable\"><input class=\"sk-toggleable__control sk-hidden--visually\" id=\"sk-estimator-id-1\" type=\"checkbox\" ><label for=\"sk-estimator-id-1\" class=\"sk-toggleable__label sk-toggleable__label-arrow\">Pipeline</label><div class=\"sk-toggleable__content\"><pre>Pipeline(steps=[(&#x27;wordtokenizer&#x27;, WordTokenizer()),\n",
       "                (&#x27;wordsfilter&#x27;,\n",
       "                 WordsFilter(drop_digits=True,\n",
       "                             whitelist={&#x27;!&#x27;, &#x27;&quot;&#x27;, &#x27;#&#x27;, &#x27;$&#x27;, &#x27;%&#x27;, &#x27;&amp;&#x27;, &quot;&#x27;&quot;, &#x27;(&#x27;,\n",
       "                                        &#x27;)&#x27;, &#x27;*&#x27;, &#x27;+&#x27;, &#x27;,&#x27;, &#x27;-&#x27;, &#x27;.&#x27;, &#x27;/&#x27;, &#x27;:&#x27;,\n",
       "                                        &#x27;;&#x27;, &#x27;&lt;&#x27;, &#x27;=&#x27;, &#x27;&gt;&#x27;, &#x27;?&#x27;, &#x27;@&#x27;, &#x27;[&#x27;, &#x27;\\\\&#x27;,\n",
       "                                        &#x27;]&#x27;, &#x27;^&#x27;, &#x27;`&#x27;, &#x27;a&#x27;, &#x27;a0&#x27;, &#x27;a02&#x27;, ...})),\n",
       "                (&#x27;tfidfvectorizer&#x27;,\n",
       "                 TfidfVectorizer(max_features=1000000, ngram_range=(1, 3),\n",
       "                                 preprocessor=&lt;function identity at 0x2e0af8f70&gt;,\n",
       "                                 sublinear_tf=True,\n",
       "                                 tokenizer=&lt;function identity at 0x2e0af8f70&gt;)),\n",
       "                (&#x27;truncatedsvd&#x27;, TruncatedSVD(n_components=300))])</pre></div></div></div><div class=\"sk-serial\"><div class=\"sk-item\"><div class=\"sk-estimator sk-toggleable\"><input class=\"sk-toggleable__control sk-hidden--visually\" id=\"sk-estimator-id-2\" type=\"checkbox\" ><label for=\"sk-estimator-id-2\" class=\"sk-toggleable__label sk-toggleable__label-arrow\">WordTokenizer</label><div class=\"sk-toggleable__content\"><pre>WordTokenizer()</pre></div></div></div><div class=\"sk-item\"><div class=\"sk-estimator sk-toggleable\"><input class=\"sk-toggleable__control sk-hidden--visually\" id=\"sk-estimator-id-3\" type=\"checkbox\" ><label for=\"sk-estimator-id-3\" class=\"sk-toggleable__label sk-toggleable__label-arrow\">WordsFilter</label><div class=\"sk-toggleable__content\"><pre>WordsFilter(drop_digits=True,\n",
       "            whitelist={&#x27;!&#x27;, &#x27;&quot;&#x27;, &#x27;#&#x27;, &#x27;$&#x27;, &#x27;%&#x27;, &#x27;&amp;&#x27;, &quot;&#x27;&quot;, &#x27;(&#x27;, &#x27;)&#x27;, &#x27;*&#x27;, &#x27;+&#x27;,\n",
       "                       &#x27;,&#x27;, &#x27;-&#x27;, &#x27;.&#x27;, &#x27;/&#x27;, &#x27;:&#x27;, &#x27;;&#x27;, &#x27;&lt;&#x27;, &#x27;=&#x27;, &#x27;&gt;&#x27;, &#x27;?&#x27;, &#x27;@&#x27;,\n",
       "                       &#x27;[&#x27;, &#x27;\\\\&#x27;, &#x27;]&#x27;, &#x27;^&#x27;, &#x27;`&#x27;, &#x27;a&#x27;, &#x27;a0&#x27;, &#x27;a02&#x27;, ...})</pre></div></div></div><div class=\"sk-item\"><div class=\"sk-estimator sk-toggleable\"><input class=\"sk-toggleable__control sk-hidden--visually\" id=\"sk-estimator-id-4\" type=\"checkbox\" ><label for=\"sk-estimator-id-4\" class=\"sk-toggleable__label sk-toggleable__label-arrow\">TfidfVectorizer</label><div class=\"sk-toggleable__content\"><pre>TfidfVectorizer(max_features=1000000, ngram_range=(1, 3),\n",
       "                preprocessor=&lt;function identity at 0x2e0af8f70&gt;,\n",
       "                sublinear_tf=True,\n",
       "                tokenizer=&lt;function identity at 0x2e0af8f70&gt;)</pre></div></div></div><div class=\"sk-item\"><div class=\"sk-estimator sk-toggleable\"><input class=\"sk-toggleable__control sk-hidden--visually\" id=\"sk-estimator-id-5\" type=\"checkbox\" ><label for=\"sk-estimator-id-5\" class=\"sk-toggleable__label sk-toggleable__label-arrow\">TruncatedSVD</label><div class=\"sk-toggleable__content\"><pre>TruncatedSVD(n_components=300)</pre></div></div></div></div></div></div></div>"
      ],
      "text/plain": [
       "Pipeline(steps=[('wordtokenizer', WordTokenizer()),\n",
       "                ('wordsfilter',\n",
       "                 WordsFilter(drop_digits=True,\n",
       "                             whitelist={'!', '\"', '#', '$', '%', '&', \"'\", '(',\n",
       "                                        ')', '*', '+', ',', '-', '.', '/', ':',\n",
       "                                        ';', '<', '=', '>', '?', '@', '[', '\\\\',\n",
       "                                        ']', '^', '`', 'a', 'a0', 'a02', ...})),\n",
       "                ('tfidfvectorizer',\n",
       "                 TfidfVectorizer(max_features=1000000, ngram_range=(1, 3),\n",
       "                                 preprocessor=<function identity at 0x2e0af8f70>,\n",
       "                                 sublinear_tf=True,\n",
       "                                 tokenizer=<function identity at 0x2e0af8f70>)),\n",
       "                ('truncatedsvd', TruncatedSVD(n_components=300))])"
      ]
     },
     "execution_count": 16,
     "metadata": {},
     "output_type": "execute_result"
    }
   ],
   "source": [
    "%%time\n",
    "pipeline.fit(corpus, labels)"
   ]
  },
  {
   "cell_type": "markdown",
   "id": "f8934172",
   "metadata": {},
   "source": [
    "Transform training data and store it"
   ]
  },
  {
   "cell_type": "code",
   "execution_count": 18,
   "id": "6d943a57",
   "metadata": {},
   "outputs": [],
   "source": [
    "corpus_embed = pipeline.transform(corpus)"
   ]
  },
  {
   "cell_type": "code",
   "execution_count": 20,
   "id": "e496c1b2",
   "metadata": {},
   "outputs": [],
   "source": [
    "import pickle\n",
    "\n",
    "with open(os.path.join(embed_path,f\"{real_data_file}+{fake_data_file}_embed.pickle\"), \"wb\") as f:\n",
    "    pickle.dump({\"X\": corpus_embed, \"y\": labels}, f)"
   ]
  },
  {
   "cell_type": "markdown",
   "id": "344601cf",
   "metadata": {},
   "source": [
    "## Embed test datasets"
   ]
  },
  {
   "cell_type": "code",
   "execution_count": 31,
   "id": "ab3c4aea",
   "metadata": {},
   "outputs": [],
   "source": [
    "test_path = \"./data/test\"\n",
    "test_dataset_files = sorted([f for f in os.listdir(test_path) if os.path.isfile(os.path.join(test_path, f))])"
   ]
  },
  {
   "cell_type": "code",
   "execution_count": 34,
   "id": "c3e3a481",
   "metadata": {},
   "outputs": [],
   "source": [
    "for test in test_dataset_files:\n",
    "    with open(os.path.join(test_path, test), \"rb\") as f:\n",
    "        X = pickle.load(f)\n",
    "    X_embed = pipeline.transform(X)\n",
    "    if \"machine\" in test:\n",
    "        y = 1\n",
    "    else:\n",
    "        y = 0\n",
    "    labels = [y for _ in range(len(X))]\n",
    "    with open(os.path.join(embed_path,f\"{os.path.splitext(test)[0]}_embed.pickle\"), \"wb\") as f:\n",
    "        pickle.dump({\"X\": X_embed, \"y\": labels}, f)"
   ]
  },
  {
   "cell_type": "code",
   "execution_count": null,
   "id": "a8d78135",
   "metadata": {},
   "outputs": [],
   "source": []
  }
 ],
 "metadata": {
  "kernelspec": {
   "display_name": "ml-env",
   "language": "python",
   "name": "ml-env"
  },
  "language_info": {
   "codemirror_mode": {
    "name": "ipython",
    "version": 3
   },
   "file_extension": ".py",
   "mimetype": "text/x-python",
   "name": "python",
   "nbconvert_exporter": "python",
   "pygments_lexer": "ipython3",
   "version": "3.9.16"
  }
 },
 "nbformat": 4,
 "nbformat_minor": 5
}
