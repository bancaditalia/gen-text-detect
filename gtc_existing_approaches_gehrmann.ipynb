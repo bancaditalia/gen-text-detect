{
 "cells": [
  {
   "cell_type": "markdown",
   "id": "3819f420",
   "metadata": {},
   "source": [
    "# Benchmark of existing approaches for detecting machine-generated text"
   ]
  },
  {
   "cell_type": "markdown",
   "id": "5bdd5a04",
   "metadata": {},
   "source": [
    "## Contents \n",
    "1. [GLTR](#GLRT)\n",
    "    1. [Install dependencies](#Install-dependencies)\n",
    "    1. [GLTR Code](#GLTR-Code)\n",
    "    "
   ]
  },
  {
   "cell_type": "markdown",
   "id": "9faa5fa6",
   "metadata": {},
   "source": [
    "## GLTR\n",
    "\n",
    "_Sebastian Gehrmann, Hendrik Strobelt, and Alexander M. Rush. 2019. \"Gltr: Statistical detection and visualization of generated text\"._\n",
    "\n",
    "This is a zero-shot approach (no fine tuning of LM). The original code provides a webserver, which receives a text as input and returns a set of statistics, which are then rendered client-side. "
   ]
  },
  {
   "cell_type": "markdown",
   "id": "b63d58d8",
   "metadata": {},
   "source": [
    "### Install dependencies\n",
    "Dependencies from: [https://github.com/HendrikStrobelt/detecting-fake-text/blob/master/requirements.txt](detecting-fake-text/requirements.txt)."
   ]
  },
  {
   "cell_type": "code",
   "execution_count": 1,
   "id": "7c619d59",
   "metadata": {
    "scrolled": true
   },
   "outputs": [
    {
     "name": "stdout",
     "output_type": "stream",
     "text": [
      "Requirement already satisfied: transformers in /opt/anaconda3/envs/detector/lib/python3.9/site-packages (4.26.1)\n",
      "Requirement already satisfied: packaging>=20.0 in /opt/anaconda3/envs/detector/lib/python3.9/site-packages (from transformers) (22.0)\n",
      "Requirement already satisfied: numpy>=1.17 in /opt/anaconda3/envs/detector/lib/python3.9/site-packages (from transformers) (1.23.5)\n",
      "Requirement already satisfied: pyyaml>=5.1 in /opt/anaconda3/envs/detector/lib/python3.9/site-packages (from transformers) (6.0)\n",
      "Requirement already satisfied: tqdm>=4.27 in /opt/anaconda3/envs/detector/lib/python3.9/site-packages (from transformers) (4.65.0)\n",
      "Requirement already satisfied: huggingface-hub<1.0,>=0.11.0 in /opt/anaconda3/envs/detector/lib/python3.9/site-packages (from transformers) (0.13.1)\n",
      "Requirement already satisfied: regex!=2019.12.17 in /opt/anaconda3/envs/detector/lib/python3.9/site-packages (from transformers) (2022.7.9)\n",
      "Requirement already satisfied: requests in /opt/anaconda3/envs/detector/lib/python3.9/site-packages (from transformers) (2.28.2)\n",
      "Requirement already satisfied: filelock in /opt/anaconda3/envs/detector/lib/python3.9/site-packages (from transformers) (3.9.0)\n",
      "Requirement already satisfied: tokenizers!=0.11.3,<0.14,>=0.11.1 in /opt/anaconda3/envs/detector/lib/python3.9/site-packages (from transformers) (0.11.4)\n",
      "Requirement already satisfied: typing-extensions>=3.7.4.3 in /opt/anaconda3/envs/detector/lib/python3.9/site-packages (from huggingface-hub<1.0,>=0.11.0->transformers) (4.4.0)\n",
      "Requirement already satisfied: certifi>=2017.4.17 in /opt/anaconda3/envs/detector/lib/python3.9/site-packages (from requests->transformers) (2022.12.7)\n",
      "Requirement already satisfied: idna<4,>=2.5 in /opt/anaconda3/envs/detector/lib/python3.9/site-packages (from requests->transformers) (3.4)\n",
      "Requirement already satisfied: urllib3<1.27,>=1.21.1 in /opt/anaconda3/envs/detector/lib/python3.9/site-packages (from requests->transformers) (1.26.14)\n",
      "Requirement already satisfied: charset-normalizer<4,>=2 in /opt/anaconda3/envs/detector/lib/python3.9/site-packages (from requests->transformers) (2.0.4)\n",
      "Requirement already satisfied: torch in /opt/anaconda3/envs/detector/lib/python3.9/site-packages (1.13.1)\n",
      "Requirement already satisfied: typing-extensions in /opt/anaconda3/envs/detector/lib/python3.9/site-packages (from torch) (4.4.0)\n",
      "Requirement already satisfied: numpy in /opt/anaconda3/envs/detector/lib/python3.9/site-packages (1.23.5)\n",
      "zsh:1: no matches found: connexion[swagger-ui]\n",
      "Requirement already satisfied: flask in /opt/anaconda3/envs/detector/lib/python3.9/site-packages (2.2.2)\n",
      "Requirement already satisfied: click>=8.0 in /opt/anaconda3/envs/detector/lib/python3.9/site-packages (from flask) (8.0.4)\n",
      "Requirement already satisfied: itsdangerous>=2.0 in /opt/anaconda3/envs/detector/lib/python3.9/site-packages (from flask) (2.0.1)\n",
      "Requirement already satisfied: Werkzeug>=2.2.2 in /opt/anaconda3/envs/detector/lib/python3.9/site-packages (from flask) (2.2.2)\n",
      "Requirement already satisfied: importlib-metadata>=3.6.0 in /opt/anaconda3/envs/detector/lib/python3.9/site-packages (from flask) (4.11.3)\n",
      "Requirement already satisfied: Jinja2>=3.0 in /opt/anaconda3/envs/detector/lib/python3.9/site-packages (from flask) (3.1.2)\n",
      "Requirement already satisfied: zipp>=0.5 in /opt/anaconda3/envs/detector/lib/python3.9/site-packages (from importlib-metadata>=3.6.0->flask) (3.11.0)\n",
      "Requirement already satisfied: MarkupSafe>=2.0 in /opt/anaconda3/envs/detector/lib/python3.9/site-packages (from Jinja2>=3.0->flask) (2.1.1)\n",
      "Requirement already satisfied: PyYaml in /opt/anaconda3/envs/detector/lib/python3.9/site-packages (6.0)\n",
      "Requirement already satisfied: flask_cors in /opt/anaconda3/envs/detector/lib/python3.9/site-packages (3.0.10)\n",
      "Requirement already satisfied: Flask>=0.9 in /opt/anaconda3/envs/detector/lib/python3.9/site-packages (from flask_cors) (2.2.2)\n",
      "Requirement already satisfied: Six in /opt/anaconda3/envs/detector/lib/python3.9/site-packages (from flask_cors) (1.16.0)\n",
      "Requirement already satisfied: click>=8.0 in /opt/anaconda3/envs/detector/lib/python3.9/site-packages (from Flask>=0.9->flask_cors) (8.0.4)\n",
      "Requirement already satisfied: Werkzeug>=2.2.2 in /opt/anaconda3/envs/detector/lib/python3.9/site-packages (from Flask>=0.9->flask_cors) (2.2.2)\n",
      "Requirement already satisfied: importlib-metadata>=3.6.0 in /opt/anaconda3/envs/detector/lib/python3.9/site-packages (from Flask>=0.9->flask_cors) (4.11.3)\n",
      "Requirement already satisfied: Jinja2>=3.0 in /opt/anaconda3/envs/detector/lib/python3.9/site-packages (from Flask>=0.9->flask_cors) (3.1.2)\n",
      "Requirement already satisfied: itsdangerous>=2.0 in /opt/anaconda3/envs/detector/lib/python3.9/site-packages (from Flask>=0.9->flask_cors) (2.0.1)\n",
      "Requirement already satisfied: zipp>=0.5 in /opt/anaconda3/envs/detector/lib/python3.9/site-packages (from importlib-metadata>=3.6.0->Flask>=0.9->flask_cors) (3.11.0)\n",
      "Requirement already satisfied: MarkupSafe>=2.0 in /opt/anaconda3/envs/detector/lib/python3.9/site-packages (from Jinja2>=3.0->Flask>=0.9->flask_cors) (2.1.1)\n"
     ]
    }
   ],
   "source": [
    "# pytorch-pretrained-bert>=0.6.1\n",
    "!pip install transformers\n",
    "!pip install torch\n",
    "!pip install numpy\n",
    "!pip install connexion[swagger-ui]\n",
    "!pip install flask\n",
    "!pip install PyYaml\n",
    "!pip install flask_cors"
   ]
  },
  {
   "cell_type": "markdown",
   "id": "1a177608",
   "metadata": {},
   "source": [
    "### GLTR Code\n",
    "Source code: [https://github.com/HendrikStrobelt/detecting-fake-text](https://github.com/HendrikStrobelt/detecting-fake-text)\n",
    "\n",
    "Logic extracted form `backend/api.py`"
   ]
  },
  {
   "cell_type": "code",
   "execution_count": 2,
   "id": "05840d84",
   "metadata": {},
   "outputs": [],
   "source": [
    "import numpy as np\n",
    "import torch\n",
    "import time\n",
    "\n",
    "from transformers import (GPT2LMHeadModel, GPT2Tokenizer,\n",
    "                          BertTokenizer, BertForMaskedLM)"
   ]
  },
  {
   "cell_type": "code",
   "execution_count": 3,
   "id": "2d01209a",
   "metadata": {},
   "outputs": [],
   "source": [
    "def top_k_logits(logits, k):\n",
    "    if k == 0:\n",
    "        return logits\n",
    "    values, _ = torch.topk(logits, k)\n",
    "    min_values = values[:, -1]\n",
    "    return torch.where(logits < min_values,\n",
    "                       torch.ones_like(logits, dtype=logits.dtype) * -1e10,\n",
    "                       logits)\n"
   ]
  },
  {
   "cell_type": "code",
   "execution_count": 4,
   "id": "101f2e4d",
   "metadata": {},
   "outputs": [],
   "source": [
    "class GPT2BasedGLTR():\n",
    "    def __init__(self, model_name_or_path=\"gpt2\"):\n",
    "        self.device = torch.device(\"cuda\" if torch.cuda.is_available() else \"cpu\")\n",
    "        self.enc = GPT2Tokenizer.from_pretrained(model_name_or_path)\n",
    "        self.model = GPT2LMHeadModel.from_pretrained(model_name_or_path)\n",
    "        self.model.to(self.device)\n",
    "        self.model.eval()\n",
    "        self.start_token = self.enc(self.enc.bos_token, return_tensors='pt').data['input_ids'][0]\n",
    "        print(\"Loaded GPT-2 model!\")    \n",
    "\n",
    "    def check_probabilities(self, in_text, topk=40):\n",
    "        # Process input\n",
    "        token_ids = self.enc(in_text, return_tensors='pt').data['input_ids'][0]\n",
    "        token_ids = torch.concat([self.start_token, token_ids])\n",
    "        # Forward through the model\n",
    "        output = self.model(token_ids.to(self.device))\n",
    "        all_logits = output.logits[:-1].detach().squeeze()\n",
    "        # construct target and pred\n",
    "        # yhat = torch.softmax(logits[0, :-1], dim=-1)\n",
    "        all_probs = torch.softmax(all_logits, dim=1)\n",
    "\n",
    "        y = token_ids[1:]\n",
    "        # Sort the predictions for each timestep\n",
    "        sorted_preds = torch.argsort(all_probs, dim=1, descending=True).cpu()\n",
    "        # [(pos, prob), ...]\n",
    "        real_topk_pos = list(\n",
    "            [int(np.where(sorted_preds[i] == y[i].item())[0][0])\n",
    "             for i in range(y.shape[0])])\n",
    "        real_topk_probs = all_probs[np.arange(\n",
    "            0, y.shape[0], 1), y].data.cpu().numpy().tolist()\n",
    "        real_topk_probs = list(map(lambda x: round(x, 5), real_topk_probs))\n",
    "\n",
    "        real_topk = list(zip(real_topk_pos, real_topk_probs))\n",
    "        # [str, str, ...]\n",
    "        bpe_strings = self.enc.convert_ids_to_tokens(token_ids[:])\n",
    "\n",
    "        bpe_strings = [self.postprocess(s) for s in bpe_strings]\n",
    "\n",
    "        topk_prob_values, topk_prob_inds = torch.topk(all_probs, k=topk, dim=1)\n",
    "\n",
    "        pred_topk = [list(zip(self.enc.convert_ids_to_tokens(topk_prob_inds[i]),\n",
    "                              topk_prob_values[i].data.cpu().numpy().tolist()\n",
    "                              )) for i in range(y.shape[0])]\n",
    "        pred_topk = [[(self.postprocess(t[0]), t[1]) for t in pred] for pred in pred_topk]\n",
    "\n",
    "        # pred_topk = []\n",
    "        payload = {'bpe_strings': bpe_strings,\n",
    "                   'real_topk': real_topk,\n",
    "                   'pred_topk': pred_topk}\n",
    "        if torch.cuda.is_available():\n",
    "            torch.cuda.empty_cache()\n",
    "\n",
    "        return payload\n",
    "\n",
    "    def sample_unconditional(self, length=100, topk=5, temperature=1.0):\n",
    "        '''\n",
    "        Sample `length` words from the model.\n",
    "        Code strongly inspired by\n",
    "        https://github.com/huggingface/pytorch-pretrained-BERT/blob/master/examples/run_gpt2.py\n",
    "\n",
    "        '''\n",
    "        context = torch.full((1, 1),\n",
    "                             # ORIGINAL: self.enc.encoder[self.start_token,\n",
    "                             int(self.start_token[0]), # FIX\n",
    "                             device=self.device,\n",
    "                             dtype=torch.long)\n",
    "        prev = context\n",
    "        output = context\n",
    "        past = None\n",
    "        # Forward through the model\n",
    "        with torch.no_grad():\n",
    "            for i in range(length):\n",
    "                # ORIGINAL: logits, past = self.model(prev, past_key_values=past)\n",
    "                logits = self.model(prev, past_key_values=past).logits # FIX\n",
    "                logits = logits[:, -1, :] / temperature\n",
    "                # Filter predictions to topk and softmax\n",
    "                probs = torch.softmax(top_k_logits(logits, k=topk),\n",
    "                                      dim=-1)\n",
    "                # Sample\n",
    "                prev = torch.multinomial(probs, num_samples=1)\n",
    "                # Construct output\n",
    "                output = torch.cat((output, prev), dim=1)\n",
    "\n",
    "        output_text = self.enc.decode(output[0].tolist())\n",
    "        return output_text\n",
    "\n",
    "    def postprocess(self, token):\n",
    "        with_space = False\n",
    "        with_break = False\n",
    "        if token.startswith('Ġ'):\n",
    "            with_space = True\n",
    "            token = token[1:]\n",
    "            # print(token)\n",
    "        elif token.startswith('â'):\n",
    "            token = ' '\n",
    "        elif token.startswith('Ċ'):\n",
    "            token = ' '\n",
    "            with_break = True\n",
    "\n",
    "        token = '-' if token.startswith('â') else token\n",
    "        token = '“' if token.startswith('ľ') else token\n",
    "        token = '”' if token.startswith('Ŀ') else token\n",
    "        token = \"'\" if token.startswith('Ļ') else token\n",
    "\n",
    "        if with_space:\n",
    "            token = '\\u0120' + token\n",
    "        if with_break:\n",
    "            token = '\\u010A' + token\n",
    "\n",
    "        return token"
   ]
  },
  {
   "cell_type": "code",
   "execution_count": 5,
   "id": "311407ee",
   "metadata": {},
   "outputs": [],
   "source": [
    "class BERTBasedGLTR():\n",
    "    def __init__(self, model_name_or_path=\"bert-base-cased\"):\n",
    "        self.device = torch.device(\"cuda\" if torch.cuda.is_available() else \"cpu\")\n",
    "        \n",
    "        self.tokenizer = BertTokenizer.from_pretrained(\n",
    "            model_name_or_path,\n",
    "            do_lower_case=False)\n",
    "        self.model = BertForMaskedLM.from_pretrained(\n",
    "            model_name_or_path)\n",
    "        self.model.to(self.device)\n",
    "        self.model.eval()\n",
    "        # BERT-specific symbols\n",
    "        self.mask_tok = self.tokenizer.convert_tokens_to_ids([\"[MASK]\"])[0]\n",
    "        self.pad = self.tokenizer.convert_tokens_to_ids([\"[PAD]\"])[0]\n",
    "        print(\"Loaded BERT model!\")\n",
    "\n",
    "    def check_probabilities(self, in_text, topk=40, max_context=20,\n",
    "                            batch_size=20):\n",
    "        '''\n",
    "        Same behavior as GPT-2\n",
    "        Extra param: max_context controls how many words should be\n",
    "        fed in left and right\n",
    "        Speeds up inference since BERT requires prediction word by word\n",
    "        '''\n",
    "        in_text = \"[CLS] \" + in_text + \" [SEP]\"\n",
    "        tokenized_text = self.tokenizer.tokenize(in_text)\n",
    "        # Construct target\n",
    "        y_toks = self.tokenizer.convert_tokens_to_ids(tokenized_text)\n",
    "        # Only use sentence A embedding here since we have non-separable seq's\n",
    "        segments_ids = [0] * len(y_toks)\n",
    "        y = torch.tensor([y_toks]).to(self.device)\n",
    "        segments_tensor = torch.tensor([segments_ids]).to(self.device)\n",
    "\n",
    "        # TODO batching...\n",
    "        # Create batches of (x,y)\n",
    "        input_batches = []\n",
    "        target_batches = []\n",
    "        for min_ix in range(0, len(y_toks), batch_size):\n",
    "            max_ix = min(min_ix + batch_size, len(y_toks) - 1)\n",
    "            cur_input_batch = []\n",
    "            cur_target_batch = []\n",
    "            # Construct each batch\n",
    "            for running_ix in range(max_ix - min_ix):\n",
    "                tokens_tensor = y.clone()\n",
    "                mask_index = min_ix + running_ix\n",
    "                tokens_tensor[0, mask_index + 1] = self.mask_tok\n",
    "\n",
    "                # Reduce computational complexity by subsetting\n",
    "                min_index = max(0, mask_index - max_context)\n",
    "                max_index = min(tokens_tensor.shape[1] - 1,\n",
    "                                mask_index + max_context + 1)\n",
    "\n",
    "                tokens_tensor = tokens_tensor[:, min_index:max_index]\n",
    "                # Add padding\n",
    "                needed_padding = max_context * 2 + 1 - tokens_tensor.shape[1]\n",
    "                if min_index == 0 and max_index == y.shape[1] - 1:\n",
    "                    # Only when input is shorter than max_context\n",
    "                    left_needed = (max_context) - mask_index\n",
    "                    right_needed = needed_padding - left_needed\n",
    "                    p = torch.nn.ConstantPad1d((left_needed, right_needed),\n",
    "                                               self.pad)\n",
    "                    tokens_tensor = p(tokens_tensor)\n",
    "                elif min_index == 0:\n",
    "                    p = torch.nn.ConstantPad1d((needed_padding, 0), self.pad)\n",
    "                    tokens_tensor = p(tokens_tensor)\n",
    "                elif max_index == y.shape[1] - 1:\n",
    "                    p = torch.nn.ConstantPad1d((0, needed_padding), self.pad)\n",
    "                    tokens_tensor = p(tokens_tensor)\n",
    "\n",
    "                cur_input_batch.append(tokens_tensor)\n",
    "                cur_target_batch.append(y[:, mask_index + 1])\n",
    "                # new_segments = segments_tensor[:, min_index:max_index]\n",
    "            cur_input_batch = torch.cat(cur_input_batch, dim=0)\n",
    "            cur_target_batch = torch.cat(cur_target_batch, dim=0)\n",
    "            input_batches.append(cur_input_batch)\n",
    "            target_batches.append(cur_target_batch)\n",
    "\n",
    "        real_topk = []\n",
    "        pred_topk = []\n",
    "\n",
    "        with torch.no_grad():\n",
    "            for src, tgt in zip(input_batches, target_batches):\n",
    "                # Compute one batch of inputs\n",
    "                # By construction, MASK is always the middle\n",
    "                # ORIGINAL: logits = self.model(src, torch.zeros_like(src))[:, max_context + 1]\n",
    "                logits = self.model(src, torch.zeros_like(src)).logits[:, max_context + 1] # FIX\n",
    "                yhat = torch.softmax(logits, dim=-1)\n",
    "\n",
    "                sorted_preds = np.argsort(-yhat.data.cpu().numpy())\n",
    "                # TODO: compare with batch of tgt\n",
    "\n",
    "                # [(pos, prob), ...]\n",
    "                real_topk_pos = list(\n",
    "                    [int(np.where(sorted_preds[i] == tgt[i].item())[0][0])\n",
    "                     for i in range(yhat.shape[0])])\n",
    "                real_topk_probs = yhat[np.arange(\n",
    "                    0, yhat.shape[0], 1), tgt].data.cpu().numpy().tolist()\n",
    "                real_topk.extend(list(zip(real_topk_pos, real_topk_probs)))\n",
    "\n",
    "                # # [[(pos, prob), ...], [(pos, prob), ..], ...]\n",
    "                pred_topk.extend([list(zip(self.tokenizer.convert_ids_to_tokens(\n",
    "                    sorted_preds[i][:topk]),\n",
    "                    yhat[i][sorted_preds[i][\n",
    "                            :topk]].data.cpu().numpy().tolist()))\n",
    "                    for i in range(yhat.shape[0])])\n",
    "\n",
    "        bpe_strings = [self.postprocess(s) for s in tokenized_text]\n",
    "        pred_topk = [[(self.postprocess(t[0]), t[1]) for t in pred] for pred in pred_topk]\n",
    "        payload = {'bpe_strings': bpe_strings,\n",
    "                   'real_topk': real_topk,\n",
    "                   'pred_topk': pred_topk}\n",
    "        return payload\n",
    "\n",
    "    def postprocess(self, token):\n",
    "\n",
    "        with_space = True\n",
    "        with_break = token == '[SEP]'\n",
    "        if token.startswith('##'):\n",
    "            with_space = False\n",
    "            token = token[2:]\n",
    "\n",
    "        if with_space:\n",
    "            token = '\\u0120' + token\n",
    "        if with_break:\n",
    "            token = '\\u010A' + token\n",
    "        #\n",
    "        # # print ('....', token)\n",
    "        return token"
   ]
  },
  {
   "cell_type": "code",
   "execution_count": 27,
   "id": "1ab7120d",
   "metadata": {},
   "outputs": [],
   "source": [
    "def test_bert_prob(raw_text):\n",
    "    '''\n",
    "    Tests for BERT\n",
    "    '''\n",
    "    lm = BERTBasedGLTR()\n",
    "    start = time.time()\n",
    "    payload = lm.check_probabilities(raw_text, topk=5)\n",
    "    end = time.time()\n",
    "    print(\"{:.2f} Seconds for a run with BERT\".format(end - start))\n",
    "    print(f\"Payload: {payload}\")\n",
    "    return payload\n",
    "\n",
    "def test_gpt2_prob(raw_text):\n",
    "    '''\n",
    "    Tests for GPT-2\n",
    "    '''\n",
    "    lm = GPT2BasedGLTR()\n",
    "    start = time.time()\n",
    "    payload = lm.check_probabilities(raw_text, topk=5)\n",
    "    end = time.time()\n",
    "    print(\"{:.2f} Seconds for a check with GPT-2\".format(end - start))\n",
    "    print(f\"payload: {payload}\")\n",
    "    return payload\n",
    "\n",
    "\n",
    "def test_gpt2_unconditional_sampling():\n",
    "    '''\n",
    "    Tests for GPT-2\n",
    "    '''\n",
    "    lm = GPT2BasedGLTR()\n",
    "    start = time.time()\n",
    "    sample = lm.sample_unconditional()\n",
    "    end = time.time()\n",
    "    print(\"{:.2f} Seconds for a sample from GPT-2\".format(end - start))\n",
    "    print(\"SAMPLE:\", sample)    "
   ]
  },
  {
   "cell_type": "code",
   "execution_count": 7,
   "id": "f269b8c6",
   "metadata": {},
   "outputs": [],
   "source": [
    "raw_text = \"\"\"\n",
    "In a shocking finding, scientist discovered a herd of unicorns living in a remote, previously unexplored valley, in the Andes Mountains. Even more surprising to the researchers was the fact that the unicorns spoke perfect English.\n",
    "\n",
    "The scientist named the population, after their distinctive horn, Ovid’s Unicorn. These four-horned, silver-white unicorns were previously unknown to science.\n",
    "\n",
    "Now, after almost two centuries, the mystery of what sparked this odd phenomenon is finally solved.\n",
    "\n",
    "Dr. Jorge Pérez, an evolutionary biologist from the University of La Paz, and several companions, were exploring the Andes Mountains when they found a small valley, with no other animals or humans. Pérez noticed that the valley had what appeared to be a natural fountain, surrounded by two peaks of rock and silver snow.\n",
    "\n",
    "Pérez and the others then ventured further into the valley. “By the time we reached the top of one peak, the water looked blue, with some crystals on top,” said Pérez.\n",
    "\n",
    "Pérez and his friends were astonished to see the unicorn herd. These creatures could be seen from the air without having to move too much to see them – they were so close they could touch their horns.\n",
    "\n",
    "While examining these bizarre creatures the scientists discovered that the creatures also spoke some fairly regular English. Pérez stated, “We can see, for example, that they have a common ‘language,’ something like a dialect or dialectic.”\n",
    "\n",
    "Dr. Pérez believes that the unicorns may have originated in Argentina, where the animals were believed to be descendants of a lost race of people who lived there before the arrival of humans in those parts of South America.\n",
    "\n",
    "While their origins are still unclear, some believe that perhaps the creatures were created when a human and a unicorn met each other in a time before human civilization. According to Pérez, “In South America, such incidents seem to be quite common.”\n",
    "\n",
    "However, Pérez also pointed out that it is likely that the only way of knowing for sure if unicorns are indeed the descendants of a lost alien race is through DNA. “But they seem to be able to communicate in English quite well, which I believe is a sign of evolution, or at least a change in social organization,” said the scientist.\n",
    "\"\"\"\n",
    "raw_text = \"\"\"\n",
    "In a shocking finding, scientist discovered a herd of unicorns living in a remote, previously unexplored valley, in the Andes Mountains. Even more surprising to the researchers was the fact that the unicorns spoke perfect English.\n",
    "\"\"\""
   ]
  },
  {
   "cell_type": "code",
   "execution_count": 28,
   "id": "0b39432e",
   "metadata": {},
   "outputs": [
    {
     "name": "stdout",
     "output_type": "stream",
     "text": [
      "Loaded GPT-2 model!\n",
      "0.13 Seconds for a check with GPT-2\n",
      "payload: {'bpe_strings': ['<|endoftext|>', 'Ċ ', 'In', 'Ġa', 'Ġshocking', 'Ġfinding', ',', 'Ġscientist', 'Ġdiscovered', 'Ġa', 'Ġherd', 'Ġof', 'Ġunic', 'orns', 'Ġliving', 'Ġin', 'Ġa', 'Ġremote', ',', 'Ġpreviously', 'Ġunexpl', 'ored', 'Ġvalley', ',', 'Ġin', 'Ġthe', 'ĠAnd', 'es', 'ĠMountains', '.', 'ĠEven', 'Ġmore', 'Ġsurprising', 'Ġto', 'Ġthe', 'Ġresearchers', 'Ġwas', 'Ġthe', 'Ġfact', 'Ġthat', 'Ġthe', 'Ġunic', 'orns', 'Ġspoke', 'Ġperfect', 'ĠEnglish', '.', 'Ċ '], 'real_topk': [(0, 0.0623), (2, 0.02149), (1, 0.09866), (16, 0.00723), (82, 0.00113), (0, 0.48223), (1516, 4e-05), (82, 0.00165), (1, 0.10015), (2767, 2e-05), (0, 0.97461), (868, 0.00016), (0, 0.99857), (11, 0.01713), (0, 0.54262), (0, 0.34731), (7, 0.01207), (5, 0.04114), (417, 0.00027), (2, 0.0744), (0, 0.99256), (8, 0.01505), (4, 0.04378), (1, 0.06449), (0, 0.17177), (68, 0.00269), (0, 0.56245), (1, 0.12027), (0, 0.3117), (68, 0.0006), (1, 0.09908), (2, 0.09152), (6, 0.00971), (1, 0.12462), (0, 0.07961), (1, 0.26692), (1, 0.35177), (0, 0.52609), (0, 0.92775), (0, 0.41226), (0, 0.17672), (0, 0.99786), (181, 0.00036), (170, 0.00055), (0, 0.59237), (0, 0.46648), (0, 0.67021)], 'pred_topk': [[('Ċ ', 0.06229913979768753), ('The', 0.037699952721595764), ('\"', 0.02411320060491562), ('A', 0.019402941688895226), ('I', 0.018320996314287186)], [('The', 0.08049708604812622), ('A', 0.04129622504115105), ('In', 0.021487221121788025), ('\"', 0.02127174846827984), ('This', 0.017059501260519028)], [('Ġthe', 0.15741358697414398), ('Ġa', 0.09866034239530563), ('Ġthis', 0.07084044069051743), ('Ġan', 0.035874996334314346), ('Ġhis', 0.023675769567489624)], [('Ġrecent', 0.04634970426559448), ('Ġnew', 0.034102678298950195), ('Ġstatement', 0.031161433085799217), ('Ġmove', 0.029254700988531113), ('Ġrare', 0.018128247931599617)], [('Ġtwist', 0.0817260891199112), ('Ġdevelopment', 0.07948163151741028), ('Ġmove', 0.06181635707616806), ('Ġnew', 0.045100387185811996), ('Ġincident', 0.03590288758277893)], [(',', 0.482234388589859), ('Ġthat', 0.11817526817321777), ('Ġin', 0.058908794075250626), ('Ġfrom', 0.026671554893255234), ('Ġon', 0.024245480075478554)], [('Ġa', 0.22065383195877075), ('Ġthe', 0.1910925954580307), ('Ġan', 0.030258778482675552), ('Ġpolice', 0.025185126811265945), ('Ġtwo', 0.01915077306330204)], [('ĠDr', 0.0854562520980835), ('Ġat', 0.03341004624962807), ('Ġwho', 0.03288479521870613), ('Ġand', 0.027223791927099228), ('ĠDavid', 0.023535793647170067)], [('Ġthat', 0.5031302571296692), ('Ġa', 0.10015252977609634), ('Ġthe', 0.07146337628364563), ('Ġan', 0.016897162422537804), ('Ġin', 0.008413600735366344)], [('Ġnew', 0.1333475559949875), ('Ġway', 0.020233793184161186), ('Ġmysterious', 0.017226651310920715), ('Ġsecret', 0.014007306657731533), ('Ġrare', 0.013953123241662979)], [('Ġof', 0.9746135473251343), ('Ġthat', 0.004117365926504135), ('-', 0.0020049146842211485), ('Ġin', 0.0010776002891361713), ('Ġanimal', 0.0007666031015105546)], [('Ġwolves', 0.020470822229981422), ('Ġsheep', 0.017612116411328316), ('Ġcows', 0.01657031662762165), ('Ġwild', 0.015279389917850494), ('Ġelephants', 0.015270765870809555)], [('orns', 0.9985707998275757), ('urs', 0.0003584944934118539), ('orn', 0.0003571717825252563), ('am', 0.00015656327013857663), ('ast', 0.0001403531205141917)], [('Ġthat', 0.10292404890060425), ('Ġin', 0.08531531691551208), ('Ġwere', 0.04446645453572273), (',', 0.035317037254571915), ('Ġhad', 0.026172606274485588)], [('Ġin', 0.5426185131072998), ('Ġon', 0.20339851081371307), ('Ġnear', 0.019366921856999397), ('Ġat', 0.0190992783755064), ('Ġunder', 0.017682012170553207)], [('Ġa', 0.34730949997901917), ('Ġthe', 0.18664321303367615), ('Ġan', 0.06568509340286255), ('Ġtheir', 0.015083083882927895), ('Ġone', 0.009795748628675938)], [('Ġcave', 0.055219925940036774), ('Ġforest', 0.03968188539147377), ('Ġsmall', 0.024834562093019485), ('Ġdesert', 0.02223898097872734), ('Ġtiny', 0.01978549361228943)], [('Ġarea', 0.08822502195835114), ('Ġpart', 0.07736328989267349), ('Ġforest', 0.04389670118689537), ('Ġvillage', 0.043534163385629654), ('Ġmountain', 0.04131617769598961)], [('Ġremote', 0.08557894825935364), ('Ġbarren', 0.04471971094608307), ('Ġisolated', 0.04429221525788307), ('Ġmountainous', 0.03832996264100075), ('Ġdesert', 0.02698969841003418)], [('Ġunknown', 0.20462200045585632), ('Ġund', 0.07677848637104034), ('Ġunexpl', 0.07439866662025452), ('Ġuntouched', 0.0714137926697731), ('Ġunin', 0.06730955839157104)], [('ored', 0.992563784122467), ('o', 0.005456667393445969), ('oded', 0.0017635776894167066), ('oted', 3.350894621689804e-05), ('oring', 2.8895994546473958e-05)], [('Ġarea', 0.23542872071266174), ('Ġregion', 0.08906666934490204), ('Ġpart', 0.057222165167331696), ('Ġworld', 0.047754038125276566), (',', 0.021046040579676628)], [('Ġin', 0.24121783673763275), ('.', 0.16547304391860962), ('Ġof', 0.08800015598535538), ('Ġnear', 0.05516917631030083), (',', 0.043776798993349075)], [('Ġand', 0.09624794870615005), ('Ġin', 0.06449419260025024), ('Ġwhich', 0.037439603358507156), ('Ġthat', 0.030383890494704247), ('Ġwhere', 0.02395343966782093)], [('Ġthe', 0.1717708706855774), ('Ġa', 0.08734728395938873), ('Ġan', 0.03854778781533241), ('Ġwhat', 0.028151001781225204), ('Ġnorthern', 0.024477802217006683)], [('ĠHimal', 0.07073082774877548), ('Ġmiddle', 0.03686724603176117), ('Ġearly', 0.019767217338085175), ('ĠSouth', 0.016790561378002167), ('Ġwild', 0.014945688657462597)], [('es', 0.5624500513076782), ('aman', 0.3236958682537079), ('ean', 0.06460262835025787), ('hra', 0.01244559045881033), ('am', 0.005189875606447458)], [('.', 0.33858346939086914), ('ĠMountains', 0.12027334421873093), (',', 0.1113051101565361), ('Ġmountains', 0.03984178602695465), ('Ġin', 0.031346701085567474)], [('.', 0.31169527769088745), ('Ġof', 0.2705412209033966), (',', 0.1378188580274582), ('Ġin', 0.06050792336463928), ('Ġnear', 0.021978311240673065)], [('Ċ ', 0.5705979466438293), ('ĠThe', 0.11535759270191193), ('ĠThey', 0.03925503045320511), ('Ċ ', 0.023634370416402817), ('ĠIt', 0.013961084187030792)], [('Ġthough', 0.4125332534313202), ('Ġmore', 0.09908203035593033), ('Ġafter', 0.0537603422999382), ('Ġif', 0.044674765318632126), ('Ġthe', 0.04265758767724037)], [('Ġshocking', 0.46904146671295166), ('Ġdisturbing', 0.11445874720811844), ('Ġsurprising', 0.09151732921600342), ('Ġstartling', 0.05409660562872887), ('Ġalarming', 0.03843376412987709)], [(',', 0.6054145693778992), ('Ġwas', 0.14690907299518585), ('Ġis', 0.10928377509117126), ('Ġthan', 0.03721392899751663), (':', 0.018347539007663727)], [('Ġscientists', 0.15192753076553345), ('Ġthe', 0.12461608648300171), ('Ġus', 0.061576586216688156), ('Ġresearchers', 0.05711089074611664), ('Ġme', 0.04694588854908943)], [('Ġresearchers', 0.0796070322394371), ('Ġlocals', 0.07864837348461151), ('Ġscientists', 0.05635172873735428), ('Ġworld', 0.05576962232589722), ('Ġpublic', 0.033728573471307755)], [(',', 0.35914355516433716), ('Ġwas', 0.26692259311676025), ('Ġis', 0.2099025398492813), ('Ġwere', 0.05550820380449295), ('Ġare', 0.018271107226610184)], [('Ġthat', 0.3662349283695221), ('Ġthe', 0.3517672121524811), ('Ġhow', 0.11521779745817184), ('Ġtheir', 0.05904298648238182), ('Ġa', 0.02719235233962536)], [('Ġfact', 0.5260927677154541), ('Ġdiscovery', 0.06952890008687973), ('Ġfinding', 0.024355972185730934), ('Ġpresence', 0.024061566218733788), ('Ġlocation', 0.013662565499544144)], [('Ġthat', 0.9277468323707581), ('Ġthe', 0.023569131270051003), ('Ġthey', 0.019714996218681335), (',', 0.006437668111175299), ('Ġof', 0.0022414783015847206)], [('Ġthe', 0.41226300597190857), ('Ġthey', 0.1753399819135666), ('Ġthese', 0.04886617884039879), ('Ġthis', 0.03487568721175194), ('Ġtheir', 0.03169875964522362)], [('Ġunic', 0.1767188161611557), ('Ġanimals', 0.13060586154460907), ('Ġunicorn', 0.08987502008676529), ('Ġherd', 0.037998031824827194), ('Ġcreatures', 0.021768057718873024)], [('orns', 0.9978582262992859), ('orn', 0.00186854915227741), ('urs', 0.0001083551105693914), ('opes', 1.7936907170224003e-05), ('ur', 9.246522495232057e-06)], [('Ġwere', 0.2788839042186737), ('Ġhad', 0.09003061801195145), ('Ġare', 0.04474965110421181), (\"'\", 0.037776537239551544), (',', 0.03506309166550636)], [('Ġa', 0.11430506408214569), ('Ġin', 0.06802956759929657), ('Ġthe', 0.0583977997303009), ('ĠEnglish', 0.046982698142528534), ('Ġonly', 0.0416901521384716)], [('ĠEnglish', 0.5923748016357422), ('ĠSpanish', 0.08719298988580704), ('ĠItalian', 0.022190963849425316), ('ĠFrench', 0.020802313461899757), (',', 0.014081994071602821)], [('.', 0.4664756953716278), (',', 0.257781445980072), ('Ġand', 0.08019030839204788), (' ', 0.017638739198446274), ('Ġ-', 0.011715023778378963)], [('Ċ ', 0.6702064275741577), ('ĠThe', 0.060710664838552475), ('Ċ ', 0.022994346916675568), ('ĠThey', 0.01900620199739933), ('Ġ\"', 0.01618051901459694)]]}\n"
     ]
    }
   ],
   "source": [
    "test_gpt2_prob(raw_text)"
   ]
  },
  {
   "cell_type": "code",
   "execution_count": 9,
   "id": "3386c11b",
   "metadata": {},
   "outputs": [
    {
     "name": "stderr",
     "output_type": "stream",
     "text": [
      "Some weights of the model checkpoint at bert-base-cased were not used when initializing BertForMaskedLM: ['cls.seq_relationship.bias', 'cls.seq_relationship.weight']\n",
      "- This IS expected if you are initializing BertForMaskedLM from the checkpoint of a model trained on another task or with another architecture (e.g. initializing a BertForSequenceClassification model from a BertForPreTraining model).\n",
      "- This IS NOT expected if you are initializing BertForMaskedLM from the checkpoint of a model that you expect to be exactly identical (initializing a BertForSequenceClassification model from a BertForSequenceClassification model).\n"
     ]
    },
    {
     "name": "stdout",
     "output_type": "stream",
     "text": [
      "Loaded BERT model!\n",
      "1.25 Seconds for a run with BERT\n",
      "Payload: {'bpe_strings': ['Ġ[CLS]', 'ĠIn', 'Ġa', 'Ġshocking', 'Ġfinding', 'Ġ,', 'Ġscientist', 'Ġdiscovered', 'Ġa', 'Ġherd', 'Ġof', 'Ġun', 'icorn', 's', 'Ġliving', 'Ġin', 'Ġa', 'Ġremote', 'Ġ,', 'Ġpreviously', 'Ġune', 'x', 'p', 'lore', 'd', 'Ġvalley', 'Ġ,', 'Ġin', 'Ġthe', 'ĠAndes', 'ĠMountains', 'Ġ.', 'ĠEven', 'Ġmore', 'Ġsurprising', 'Ġto', 'Ġthe', 'Ġresearchers', 'Ġwas', 'Ġthe', 'Ġfact', 'Ġthat', 'Ġthe', 'Ġun', 'icorn', 's', 'Ġspoke', 'Ġperfect', 'ĠEnglish', 'Ġ.', 'ĊĠ[SEP]'], 'real_topk': [(3027, 5.5672160669928417e-05), (7, 0.009465886279940605), (22045, 2.2552958398591727e-06), (4709, 3.501650644466281e-05), (0, 0.02194361761212349), (6661, 2.1899437342653982e-05), (9352, 1.3698520888283383e-05), (5, 0.010780667886137962), (6944, 1.8216718672192656e-05), (10, 0.007114449981600046), (838, 0.00017013915930874646), (21035, 2.1172065771679627e-06), (28, 0.002641993574798107), (332, 0.00036359214573167264), (8, 0.006572860758751631), (4, 0.012969361618161201), (1062, 0.00012155678996350616), (1, 0.02547322027385235), (1442, 8.933817298384383e-05), (4865, 1.9773568055825308e-05), (6129, 1.2964521374669857e-05), (7569, 7.782946340739727e-06), (3357, 2.6043640900752507e-05), (792, 0.00014618379645980895), (267, 0.0005090587073937058), (7, 0.008167963474988937), (9, 0.00745257968083024), (0, 0.053900670260190964), (21755, 4.7494282284787914e-07), (2743, 3.306843063910492e-05), (107, 0.0012447100598365068), (12673, 3.3975877613556804e-06), (59, 0.0018681868677958846), (11013, 4.935376182402251e-06), (6, 0.010625647380948067), (0, 0.051483187824487686), (25774, 5.562870342146198e-07), (32, 0.0026496448554098606), (0, 0.04924510419368744), (793, 0.00014978180115576833), (32, 0.0027036762330681086), (0, 0.04440011456608772), (476, 0.0002084513398585841), (14861, 4.457087470655097e-06), (27, 0.0031600596848875284), (834, 0.00012299827358219773), (375, 0.0002362939849263057), (704, 0.00015560891188215464), (63, 0.0014006649143993855), (13898, 6.777659109502565e-06)], 'pred_topk': [[('Ġ(', 0.0325533002614975), ('Ġ,', 0.018737373873591423), ('Ġthe', 0.0143409613519907), ('Ġa', 0.012846815399825573), ('Ġas', 0.009784737601876259)], [('Ġ(', 0.033164262771606445), ('Ġ,', 0.028486846014857292), ('Ġthe', 0.013946506194770336), ('Ġ)', 0.01247355155646801), ('Ġas', 0.010724848136305809)], [('Ġ,', 0.03196825459599495), ('Ġ(', 0.02868671342730522), ('Ġthe', 0.014992346055805683), ('Ġa', 0.01217617280781269), ('Ġ-', 0.010781376622617245)], [('Ġ,', 0.0299757681787014), ('Ġ(', 0.023754781112074852), ('Ġthe', 0.016837483271956444), ('Ġand', 0.011537345126271248), ('Ġa', 0.010386170819401741)], [('Ġ,', 0.02194361761212349), ('Ġthe', 0.018119972199201584), ('Ġ(', 0.016968190670013428), ('Ġand', 0.011952358298003674), ('Ġa', 0.011895386502146721)], [('Ġ,', 0.03528183698654175), ('Ġthe', 0.018270796164870262), ('Ġand', 0.015446197241544724), ('Ġ(', 0.014786260202527046), ('Ġa', 0.012600544840097427)], [('Ġ,', 0.05065588280558586), ('Ġ(', 0.018853891640901566), ('Ġthe', 0.018207522109150887), ('Ġand', 0.017025688663125038), ('Ġ-', 0.01465605292469263)], [('Ġ,', 0.059783775359392166), ('Ġand', 0.018933061510324478), ('Ġthe', 0.017333349213004112), ('Ġ(', 0.014522899873554707), ('Ġ-', 0.013206533156335354)], [('Ġ,', 0.059104666113853455), ('Ġthe', 0.02468452975153923), ('Ġand', 0.0176011323928833), ('Ġa', 0.014918340370059013), ('Ġ(', 0.01190111506730318)], [('Ġ,', 0.05513595789670944), ('Ġthe', 0.020685145631432533), ('Ġand', 0.016969624906778336), ('Ġ(', 0.013971970416605473), ('Ġa', 0.012481891550123692)], [('Ġ,', 0.0501861497759819), ('Ġthe', 0.023571524769067764), ('Ġand', 0.02067606896162033), ('Ġa', 0.01170896552503109), ('Ġ-', 0.011642546392977238)], [('Ġ,', 0.06698492914438248), ('Ġthe', 0.02537921443581581), ('Ġand', 0.02154550887644291), ('Ġa', 0.013965591788291931), ('Ġ-', 0.012876243330538273)], [('Ġ,', 0.05441293120384216), ('Ġthe', 0.02497089095413685), ('Ġand', 0.01956353522837162), ('Ġa', 0.014229469932615757), ('Ġ-', 0.010179799050092697)], [('Ġ,', 0.04587571695446968), ('Ġthe', 0.028713177889585495), ('Ġand', 0.022252731025218964), ('Ġa', 0.012589182704687119), ('Ġof', 0.01069608610123396)], [('Ġ,', 0.039234258234500885), ('Ġthe', 0.032581448554992676), ('Ġand', 0.020065689459443092), ('Ġa', 0.014015338383615017), ('Ġof', 0.009870948269963264)], [('Ġ,', 0.040488846600055695), ('Ġthe', 0.0359622947871685), ('Ġand', 0.022603774443268776), ('Ġit', 0.013144547119736671), ('Ġa', 0.012969361618161201)], [('Ġthe', 0.046199265867471695), ('Ġ,', 0.045161567628383636), ('Ġand', 0.023169927299022675), ('Ġit', 0.020643794909119606), ('Ġa', 0.017706602811813354)], [('Ġthe', 0.04421036317944527), ('Ġ,', 0.02547322027385235), ('Ġand', 0.02169712260365486), ('Ġit', 0.01607867144048214), ('Ġa', 0.015231614001095295)], [('Ġthe', 0.049378227442502975), ('Ġ,', 0.030797166749835014), ('Ġand', 0.02562364749610424), ('Ġit', 0.023012366145849228), ('Ġa', 0.018618343397974968)], [('Ġthe', 0.057782433927059174), ('Ġ,', 0.03316204622387886), ('Ġit', 0.03052767924964428), ('Ġand', 0.027394641190767288), ('Ġa', 0.019039466977119446)], [('Ġthe', 0.06311213225126266), ('Ġit', 0.03325258567929268), ('Ġand', 0.024464627727866173), ('Ġ,', 0.023587306961417198), ('Ġa', 0.020709898322820663)], [('Ġthe', 0.06720244139432907), ('Ġit', 0.04229924827814102), ('Ġand', 0.030610166490077972), ('Ġ,', 0.024435630068182945), ('Ġa', 0.01904868334531784)], [('Ġthe', 0.07046260684728622), ('Ġit', 0.05003613978624344), ('Ġand', 0.025191370397806168), ('Ġ,', 0.023042593151330948), ('Ġa', 0.014685982838273048)], [('Ġthe', 0.07711927592754364), ('Ġit', 0.050891369581222534), ('Ġand', 0.024637212976813316), ('Ġ,', 0.02304811216890812), ('Ġa', 0.017267771065235138)], [('Ġthe', 0.06766377389431), ('Ġit', 0.05668701231479645), ('Ġand', 0.023032881319522858), ('Ġ,', 0.02116263285279274), ('Ġa', 0.014309504069387913)], [('Ġthe', 0.06597721576690674), ('Ġit', 0.046370770782232285), ('Ġand', 0.01617024652659893), ('Ġits', 0.013020441867411137), ('Ġa', 0.012463484890758991)], [('Ġthe', 0.06890186667442322), ('Ġit', 0.0459941029548645), ('Ġand', 0.01956080086529255), ('Ġa', 0.012853531166911125), ('Ġits', 0.012464837171137333)], [('Ġthe', 0.053900670260190964), ('Ġit', 0.038807131350040436), ('Ġand', 0.01896636001765728), ('Ġa', 0.013031565584242344), ('Ġits', 0.011962931603193283)], [('Ġthe', 0.06736129522323608), ('Ġit', 0.055479370057582855), ('Ġand', 0.014067128300666809), ('Ġits', 0.013526690192520618), ('Ġa', 0.011775578372180462)], [('Ġthe', 0.07216320931911469), ('Ġit', 0.05936337634921074), ('Ġand', 0.019089244306087494), ('Ġ,', 0.016908857971429825), ('Ġits', 0.014958483166992664)], [('Ġthe', 0.06555835902690887), ('Ġit', 0.04177083820104599), ('Ġand', 0.017854947596788406), ('Ġits', 0.012962994165718555), ('Ġ,', 0.0108497254550457)], [('Ġthe', 0.06779676675796509), ('Ġit', 0.04026413708925247), ('Ġ,', 0.02540118806064129), ('Ġand', 0.022120116278529167), ('Ġof', 0.01433599554002285)], [('Ġthe', 0.06384088844060898), ('Ġit', 0.0325399786233902), ('Ġ,', 0.030520329251885414), ('Ġand', 0.025588683784008026), ('Ġof', 0.013436157256364822)], [('Ġthe', 0.06314562261104584), ('Ġit', 0.035117555409669876), ('Ġ,', 0.03395584970712662), ('Ġand', 0.024283625185489655), ('Ġof', 0.016669800505042076)], [('Ġthe', 0.06013045832514763), ('Ġ,', 0.03631828352808952), ('Ġit', 0.030948683619499207), ('Ġand', 0.030909055843949318), ('Ġof', 0.019932258874177933)], [('Ġthe', 0.051483187824487686), ('Ġ,', 0.03811015188694), ('Ġand', 0.031169036403298378), ('Ġit', 0.023880040273070335), ('Ġof', 0.01885988563299179)], [('Ġthe', 0.06444535404443741), ('Ġ,', 0.04342412203550339), ('Ġand', 0.028318366035819054), ('Ġit', 0.025651147589087486), ('Ġof', 0.02259911596775055)], [('Ġthe', 0.05357052758336067), ('Ġ,', 0.050992220640182495), ('Ġand', 0.03360743075609207), ('Ġof', 0.02881026268005371), ('Ġit', 0.01613958366215229)], [('Ġthe', 0.04924510419368744), ('Ġ,', 0.03655539080500603), ('Ġand', 0.029526161029934883), ('Ġof', 0.022230295464396477), ('Ġit', 0.01861741580069065)], [('Ġthe', 0.04957134276628494), ('Ġ,', 0.03642910346388817), ('Ġand', 0.029790610074996948), ('Ġof', 0.023028545081615448), ('Ġit', 0.014687770046293736)], [('Ġthe', 0.047869760543107986), ('Ġ,', 0.032195478677749634), ('Ġand', 0.026885980740189552), ('Ġof', 0.019605236127972603), ('Ġit', 0.012892434373497963)], [('Ġthe', 0.04440011456608772), ('Ġ,', 0.03514775633811951), ('Ġand', 0.03266816958785057), ('Ġof', 0.021212482824921608), ('Ġit', 0.014705225825309753)], [('Ġthe', 0.06151382625102997), ('Ġ,', 0.03989412263035774), ('Ġand', 0.03376847505569458), ('Ġof', 0.024670369923114777), ('Ġit', 0.017947519198060036)], [('Ġthe', 0.0678347796201706), ('Ġ,', 0.046191055327653885), ('Ġand', 0.032058943063020706), ('Ġof', 0.026953954249620438), ('Ġit', 0.02157643996179104)], [('Ġthe', 0.05850202217698097), ('Ġ,', 0.03343697264790535), ('Ġand', 0.02524326741695404), ('Ġof', 0.02088095434010029), ('Ġit', 0.017834462225437164)], [('Ġthe', 0.06279067695140839), ('Ġ,', 0.04643898829817772), ('Ġand', 0.028154008090496063), ('Ġof', 0.024566376581788063), ('Ġit', 0.01946483924984932)], [('Ġthe', 0.06695389002561569), ('Ġ,', 0.035637907683849335), ('Ġand', 0.027282999828457832), ('Ġof', 0.02145371399819851), ('Ġit', 0.019886141642928123)], [('Ġthe', 0.05493507534265518), ('Ġand', 0.022045426070690155), ('Ġof', 0.01975017413496971), ('Ġ,', 0.019644949585199356), ('Ġit', 0.017648236826062202)], [('Ġthe', 0.035510458052158356), ('Ġand', 0.016685061156749725), ('Ġlove', 0.015136598609387875), ('Ġof', 0.013865831308066845), ('Ġwith', 0.013016633689403534)], [('Ġthe', 0.04052861034870148), ('Ġ,', 0.019234534353017807), ('Ġof', 0.01858310028910637), ('Ġand', 0.01675141602754593), ('Ġit', 0.015447301790118217)]]}\n"
     ]
    }
   ],
   "source": [
    "test_bert_prob(raw_text)"
   ]
  },
  {
   "cell_type": "code",
   "execution_count": null,
   "id": "f6065a26",
   "metadata": {},
   "outputs": [],
   "source": [
    "test_gpt2_unconditional_sampling()"
   ]
  },
  {
   "cell_type": "markdown",
   "id": "51f14358",
   "metadata": {},
   "source": [
    "## Evaluation"
   ]
  },
  {
   "cell_type": "code",
   "execution_count": 11,
   "id": "361a519e",
   "metadata": {},
   "outputs": [],
   "source": [
    "import json\n",
    "import pandas as pd\n",
    "import os\n",
    "import time"
   ]
  },
  {
   "cell_type": "code",
   "execution_count": 12,
   "id": "e98680a3",
   "metadata": {},
   "outputs": [],
   "source": [
    "data_path = \"./data\"\n",
    "datasets = sorted([f for f in os.listdir(data_path) if os.path.isfile(os.path.join(data_path, f))])"
   ]
  },
  {
   "cell_type": "code",
   "execution_count": 13,
   "id": "8957d06e",
   "metadata": {},
   "outputs": [
    {
     "data": {
      "text/plain": [
       "['large-762M-k40.test.jsonl',\n",
       " 'large-762M-k40.train.jsonl',\n",
       " 'large-762M-k40.valid.jsonl',\n",
       " 'large-762M.test.jsonl',\n",
       " 'large-762M.train.jsonl',\n",
       " 'large-762M.valid.jsonl',\n",
       " 'medium-345M-k40.test.jsonl',\n",
       " 'medium-345M-k40.train.jsonl',\n",
       " 'medium-345M-k40.valid.jsonl',\n",
       " 'medium-345M.test.jsonl',\n",
       " 'medium-345M.train.jsonl',\n",
       " 'medium-345M.valid.jsonl',\n",
       " 'small-117M-k40.test.jsonl',\n",
       " 'small-117M-k40.train.jsonl',\n",
       " 'small-117M-k40.valid.jsonl',\n",
       " 'small-117M.test.jsonl',\n",
       " 'small-117M.train.jsonl',\n",
       " 'small-117M.valid.jsonl',\n",
       " 'webtext.test.jsonl',\n",
       " 'webtext.train.jsonl',\n",
       " 'webtext.valid.jsonl',\n",
       " 'xl-1542M-k40.test.jsonl',\n",
       " 'xl-1542M-k40.train.jsonl',\n",
       " 'xl-1542M-k40.valid.jsonl',\n",
       " 'xl-1542M.test.jsonl',\n",
       " 'xl-1542M.train.jsonl',\n",
       " 'xl-1542M.valid.jsonl']"
      ]
     },
     "execution_count": 13,
     "metadata": {},
     "output_type": "execute_result"
    }
   ],
   "source": [
    "datasets"
   ]
  },
  {
   "cell_type": "code",
   "execution_count": 14,
   "id": "ffb6f1d9",
   "metadata": {},
   "outputs": [],
   "source": [
    "ds_hw_filename = 'webtext.train.jsonl'\n",
    "ds_mg_filename = 'small-117M.train.jsonl'"
   ]
  },
  {
   "cell_type": "code",
   "execution_count": 15,
   "id": "78f70341",
   "metadata": {},
   "outputs": [],
   "source": [
    "ds_mg = pd.read_json(os.path.join(data_path, ds_mg_filename), lines = True)        \n",
    "ds_hw = pd.read_json(os.path.join(data_path, ds_hw_filename), lines = True)        "
   ]
  },
  {
   "cell_type": "markdown",
   "id": "37fddafc",
   "metadata": {},
   "source": [
    "### Auxiliary functions"
   ]
  },
  {
   "cell_type": "code",
   "execution_count": 16,
   "id": "44ba2c23",
   "metadata": {},
   "outputs": [],
   "source": [
    "from gtd_utils import *"
   ]
  },
  {
   "cell_type": "code",
   "execution_count": 17,
   "id": "d7fda9a2",
   "metadata": {},
   "outputs": [],
   "source": [
    "class GehrmanWrapper:\n",
    "    def __init__(self):\n",
    "        pass\n",
    "\n",
    "    def predict(self, X):\n",
    "        y_pred = []\n",
    "        for x in X:\n",
    "            (is_generated, fake, real) = evaluate(x)\n",
    "            y_pred.append(1 if is_generated else 0)      \n",
    "        return y_pred"
   ]
  },
  {
   "cell_type": "code",
   "execution_count": 18,
   "id": "605ae2a4",
   "metadata": {},
   "outputs": [],
   "source": [
    "mg_pd = create_dataset(ds_mg[\"text\"], is_machine_generated=True)\n",
    "hw_pd = create_dataset(ds_hw[\"text\"], is_machine_generated=False)\n",
    "shuffled = concat_and_shuffle([mg_pd, hw_pd])"
   ]
  },
  {
   "cell_type": "code",
   "execution_count": 79,
   "id": "e382dd4b",
   "metadata": {},
   "outputs": [
    {
     "data": {
      "text/html": [
       "<div>\n",
       "<style scoped>\n",
       "    .dataframe tbody tr th:only-of-type {\n",
       "        vertical-align: middle;\n",
       "    }\n",
       "\n",
       "    .dataframe tbody tr th {\n",
       "        vertical-align: top;\n",
       "    }\n",
       "\n",
       "    .dataframe thead th {\n",
       "        text-align: right;\n",
       "    }\n",
       "</style>\n",
       "<table border=\"1\" class=\"dataframe\">\n",
       "  <thead>\n",
       "    <tr style=\"text-align: right;\">\n",
       "      <th></th>\n",
       "      <th>index</th>\n",
       "      <th>X</th>\n",
       "      <th>y</th>\n",
       "    </tr>\n",
       "  </thead>\n",
       "  <tbody>\n",
       "    <tr>\n",
       "      <th>0</th>\n",
       "      <td>165827</td>\n",
       "      <td>Disclaimer: If you race, please keep your brea...</td>\n",
       "      <td>1</td>\n",
       "    </tr>\n",
       "    <tr>\n",
       "      <th>1</th>\n",
       "      <td>149518</td>\n",
       "      <td>A new Ukip policy has emerged - making guns le...</td>\n",
       "      <td>0</td>\n",
       "    </tr>\n",
       "    <tr>\n",
       "      <th>2</th>\n",
       "      <td>186441</td>\n",
       "      <td>\\nFounded by an engineer on one of America's l...</td>\n",
       "      <td>1</td>\n",
       "    </tr>\n",
       "    <tr>\n",
       "      <th>3</th>\n",
       "      <td>239181</td>\n",
       "      <td>Coverage journalism by Reuters Press analyst B...</td>\n",
       "      <td>1</td>\n",
       "    </tr>\n",
       "    <tr>\n",
       "      <th>4</th>\n",
       "      <td>145170</td>\n",
       "      <td>A Second Amendment supporter confronts Holder ...</td>\n",
       "      <td>1</td>\n",
       "    </tr>\n",
       "    <tr>\n",
       "      <th>...</th>\n",
       "      <td>...</td>\n",
       "      <td>...</td>\n",
       "      <td>...</td>\n",
       "    </tr>\n",
       "    <tr>\n",
       "      <th>499995</th>\n",
       "      <td>125166</td>\n",
       "      <td>\"I figured something that wasn't even close he...</td>\n",
       "      <td>1</td>\n",
       "    </tr>\n",
       "    <tr>\n",
       "      <th>499996</th>\n",
       "      <td>208589</td>\n",
       "      <td>This Twitter encounter between ESPN and Redski...</td>\n",
       "      <td>1</td>\n",
       "    </tr>\n",
       "    <tr>\n",
       "      <th>499997</th>\n",
       "      <td>36171</td>\n",
       "      <td>From 731 to 331, counties will be claimed and ...</td>\n",
       "      <td>1</td>\n",
       "    </tr>\n",
       "    <tr>\n",
       "      <th>499998</th>\n",
       "      <td>208412</td>\n",
       "      <td>.\\n\\nFriday 10WHUD scriptƽ t at 12.25 pm, nb m...</td>\n",
       "      <td>1</td>\n",
       "    </tr>\n",
       "    <tr>\n",
       "      <th>499999</th>\n",
       "      <td>64302</td>\n",
       "      <td>'Ugly' leaders state he gets up to argue smart...</td>\n",
       "      <td>1</td>\n",
       "    </tr>\n",
       "  </tbody>\n",
       "</table>\n",
       "<p>500000 rows × 3 columns</p>\n",
       "</div>"
      ],
      "text/plain": [
       "         index                                                  X  y\n",
       "0       165827  Disclaimer: If you race, please keep your brea...  1\n",
       "1       149518  A new Ukip policy has emerged - making guns le...  0\n",
       "2       186441  \\nFounded by an engineer on one of America's l...  1\n",
       "3       239181  Coverage journalism by Reuters Press analyst B...  1\n",
       "4       145170  A Second Amendment supporter confronts Holder ...  1\n",
       "...        ...                                                ... ..\n",
       "499995  125166  \"I figured something that wasn't even close he...  1\n",
       "499996  208589  This Twitter encounter between ESPN and Redski...  1\n",
       "499997   36171  From 731 to 331, counties will be claimed and ...  1\n",
       "499998  208412  .\\n\\nFriday 10WHUD scriptƽ t at 12.25 pm, nb m...  1\n",
       "499999   64302  'Ugly' leaders state he gets up to argue smart...  1\n",
       "\n",
       "[500000 rows x 3 columns]"
      ]
     },
     "execution_count": 79,
     "metadata": {},
     "output_type": "execute_result"
    }
   ],
   "source": [
    "shuffled"
   ]
  },
  {
   "cell_type": "code",
   "execution_count": 80,
   "id": "f3dcdad5",
   "metadata": {},
   "outputs": [],
   "source": [
    "sample_df = shuffled.sample(n=10, random_state=1)"
   ]
  },
  {
   "cell_type": "markdown",
   "id": "4d28125f",
   "metadata": {},
   "source": [
    "## Nota\n",
    "\n",
    "Sebbene nel paper Gehrmann parli di una automatic evaluation, non sono riuscito a trovare come viene automatizzato il processo di discriminazione. Nel codice non ho trovato traccia di come questo venga fatto, né delle soglie usate per la fase di classificazione. "
   ]
  },
  {
   "cell_type": "code",
   "execution_count": 207,
   "id": "c8d2bc46",
   "metadata": {},
   "outputs": [
    {
     "name": "stdout",
     "output_type": "stream",
     "text": [
      "Loaded GPT-2 model!\n",
      "1.02 Seconds for a check with GPT-2\n",
      "payload: {'bpe_strings': ['<|endoftext|>', 'I', \"'ve\", 'Ġbeen', 'Ġa', 'Ġgamer', 'Ġfor', 'Ġover', 'Ġten', 'Ġyears', '.', 'ĠDuring', 'Ġthat', 'Ġtime', ',', 'ĠI', \"'ve\", 'Ġbeen', 'Ġinvolved', 'Ġin', 'Ġa', 'Ġnumber', 'Ġof', 'Ġgames', ',', 'Ġand', 'ĠI', \"'ve\", 'Ġseen', 'Ġvery', 'Ġfew', 'Ġof', 'Ġthem', 'Ġin', 'Ġthe', 'Ġhistory', 'Ġof', 'Ġthe', 'Ġcompany', '.', 'ĠMy', 'Ġfirst', 'Ġforay', 'Ġinto', 'Ġthis', 'Ġwas', 'Ġas', 'Ġa', 'Ġmember', 'Ġof', 'Ġthe', 'ĠU', '.', 'S', '.', 'ĠArmy', '.', 'ĠI', 'Ġplayed', 'Ġsome', 'Ġof', 'Ġthe', 'Ġgames', 'ĠI', 'Ġliked', 'Ġfrom', 'Ġthe', 'Ġearly', 'Ġ1980', 's', 'Ġthrough', 'Ġthe', 'Ġearly', 'Ġ1990', 's', ',', 'Ġbut', 'Ġmy', 'Ġfirst', 'Ġforay', 'Ġinto', 'Ġthe', 'Ġhobby', 'Ġwas', 'Ġat', 'Ġthe', 'Ġbeginning', 'Ġof', 'Ġ2000', 'Ġwhen', 'ĠI', 'Ġwas', 'Ġstationed', 'Ġin', 'ĠAfghanistan', '.', 'ĠAfter', 'ĠI', 'Ġgot', 'Ġback', 'Ġto', 'Ġmy', 'Ġhometown', 'Ġand', 'Ġwent', 'Ġto', 'Ġschool', ',', 'ĠI', 'Ġstarted', 'Ġplaying', 'Ġgames', '.', 'ĠI', 'Ġbegan', 'Ġplaying', 'Ġmultiplayer', 'Ġgames', ',', 'Ġwhich', 'Ġwas', 'Ġa', 'Ġvery', 'Ġpopular', 'Ġform', 'Ġof', 'Ġgaming', '.', 'ĠOne', 'Ġof', 'Ġthe', 'Ġgames', 'ĠI', 'Ġstarted', 'Ġplaying', 'Ġwas', 'Ġthe', 'Ġfirst', '-', 'person', 'Ġshooter', 'Ġ\"', 'The', 'ĠWolf', 'ĠAmong', 'ĠUs', '\"', 'Ġwhich', 'Ġis', 'Ġstill', 'Ġthe', 'Ġbest', '-', 'selling', 'Ġtitle', 'Ġof', 'Ġall', 'Ġtime', '.', 'ĠI', 'Ġwas', 'Ġat', 'Ġthe', 'Ġbeginning', 'Ġof', 'Ġthe', 'Ġgame', 'Ġdevelopment', 'Ġprocess', '.', 'ĠI', 'Ġhad', 'Ġalready', 'Ġseen', 'Ġa', 'Ġfew', 'Ġdemos', 'Ġof', 'Ġthe', 'Ġgame', '.', 'ĠI', 'Ġwas', 'Ġalso', 'Ġvery', 'Ġinterested', 'Ġin', 'Ġthe', 'Ġmultiplayer', 'Ġaspects', 'Ġof', 'Ġthe', 'Ġgame', ',', 'Ġand', 'ĠI', 'Ġwanted', 'Ġto', 'Ġsee', 'Ġwhat', 'Ġthe', 'Ġplayers', 'Ġwould', 'Ġdo', 'Ġin', 'Ġthe', 'Ġgame', '.', 'ĠIn', 'Ġthe', 'Ġbeginning', ',', 'ĠI', 'Ġdidn', \"'t\", 'Ġknow', 'Ġabout', 'Ġmultiplayer', '.', 'ĠI', 'Ġthought', 'Ġit', 'Ġwould', 'Ġbe', 'Ġcool', 'Ġto', 'Ġhave', 'Ġsome', 'Ġsort', 'Ġof', 'Ġ\"', 'party', 'Ġgame', '\"', 'Ġwith', 'Ġsome', 'Ġkind', 'Ġof', 'Ġ\"', 'game', 'Ġmode', '\"', 'Ġwhich', 'Ġwould', 'Ġgive', 'Ġthe', 'Ġplayer', 'Ġa', 'Ġreal', 'Ġadvantage', '.', 'ĠBut', 'Ġas', 'Ġtime', 'Ġwent', 'Ġon', ',', 'ĠI', 'Ġrealized', 'Ġthat', 'Ġthere', 'Ġwere', 'Ġa', 'Ġlot', 'Ġof', 'Ġdifferent', 'Ġthings', 'ĠI', 'Ġwanted', 'Ġto', 'Ġcreate', '.', 'ĠTo', 'Ġmake', 'Ġit', 'Ġfun', 'Ġfor', 'Ġthe', 'Ġplayer', ',', 'Ġthe', 'Ġmultiplayer', 'Ġcomponent', 'Ġwas', 'Ġadded', '.', 'ĠI', 'Ġstarted', 'Ġplaying', 'Ġthe', 'Ġgame', 'Ġas', 'Ġa', 'Ġmember', 'Ġof', 'Ġthe', 'ĠU', '.', 'S', '.', 'ĠArmy', '.', 'ĠWhen', 'ĠI', 'Ġreturned', 'Ġto', 'Ġmy', 'Ġhometown', ',', 'ĠI', 'Ġfound', 'Ġmyself', 'Ġin', 'Ġthe', 'Ġmiddle', 'Ġof', 'Ġa', 'Ġwar', 'Ġwith', 'Ġa', 'Ġgroup', 'Ġof', 'ĠTaliban', 'Ġsoldiers', '.', 'ĠI', 'Ġwas', 'Ġkilled', 'Ġby', 'Ġone', 'Ġof', 'Ġthe', 'ĠTaliban', 'Ġand', 'ĠI', 'Ġwas', 'Ġthe', 'Ġonly', 'Ġcasualty', '.', 'ĠI', 'Ġdecided', 'Ġto', 'Ġtake', 'Ġa', 'Ġlook', 'Ġat', 'Ġmultiplayer', '.', 'ĠI', 'Ġtook', 'Ġthe', 'Ġchance', 'Ġto', 'Ġhave', 'Ġsome', 'Ġfun', 'Ġwith', 'Ġthe', 'Ġmultiplayer', '.', 'ĠI', 'Ġwas', 'Ġin', 'Ġa', 'Ġplace', 'Ġthat', 'Ġwas', 'Ġpretty', 'Ġhostile', 'Ġto', 'Ġthe', 'ĠTaliban', ',', 'Ġand', 'ĠI', 'Ġdecided', 'Ġthat', 'ĠI', 'Ġwanted', 'Ġto', 'Ġmake', 'Ġit', 'Ġfun', 'Ġfor', 'Ġthe', 'Ġplayer', '.', 'ĠThe', 'Ġgame', 'Ġwas', 'Ġdesigned', 'Ġto', 'Ġbe', 'Ġa', 'Ġgood', 'Ġway', 'Ġof', 'Ġshowing', 'Ġoff', 'Ġcombat', 'Ġexperience', '.', 'ĠIt', 'Ġwas', 'Ġsupposed', 'Ġto', 'Ġbe', 'Ġa', 'Ġcombat', '-', 'focused', 'Ġgame', ',', 'Ġand', 'ĠI', 'Ġwanted', 'Ġto', 'Ġshow', 'Ġoff', 'Ġhow', 'Ġwell', 'Ġthe', 'Ġplayers', 'Ġcould', 'Ġplay', '.', 'ĠThe', 'Ġmultiplayer', 'Ġwas', 'Ġdesigned', 'Ġto', 'Ġbe', 'Ġa', 'Ġnice', 'Ġway', 'Ġto', 'Ġshow', 'Ġoff', 'Ġthat', '.', 'ĠThe', 'Ġgame', 'Ġis', 'Ġa', 'Ġmultiplayer', 'Ġgame', ',', 'Ġand', 'Ġthe', 'Ġgame', 'Ġis', 'Ġdesigned', 'Ġto', 'Ġbe', 'Ġa', 'Ġfun', 'Ġand', 'Ġinteresting', 'Ġmultiplayer', 'Ġgame', '.'], 'real_topk': [(4, 0.01832), (1, 0.08814), (0, 0.29104), (2, 0.04831), (7, 0.00963), (0, 0.42686), (1, 0.11352), (5, 0.04292), (0, 0.99087), (1, 0.19425), (27, 0.00515), (0, 0.56189), (0, 0.98051), (0, 0.48163), (0, 0.75924), (0, 0.53101), (0, 0.15984), (0, 0.0959), (0, 0.7167), (0, 0.21803), (1, 0.23505), (0, 0.99631), (0, 0.17185), (0, 0.32492), (2, 0.062), (0, 0.25272), (0, 0.49394), (7, 0.03107), (31, 0.00477), (1, 0.3324), (2, 0.10365), (0, 0.51397), (4, 0.03177), (0, 0.25858), (24, 0.00655), (0, 0.89315), (0, 0.25887), (12, 0.02186), (0, 0.7395), (10, 0.01953), (0, 0.09493), (1, 0.0569), (0, 0.95889), (9, 0.01359), (1, 0.07062), (6, 0.0225), (0, 0.65645), (2, 0.02703), (0, 0.95749), (0, 0.46656), (36, 0.00277), (0, 0.54433), (0, 0.87687), (0, 0.96867), (0, 0.22583), (0, 0.11842), (0, 0.31572), (1, 0.06725), (6, 0.01858), (0, 0.2624), (0, 0.6258), (0, 0.11171), (0, 0.19357), (5, 0.0427), (6, 0.02566), (0, 0.28209), (0, 0.10011), (8, 0.0312), (0, 0.65416), (3, 0.07256), (0, 0.65607), (0, 0.42991), (0, 0.75321), (0, 0.9991), (0, 0.45267), (1, 0.17389), (4, 0.02159), (0, 0.15061), (0, 0.18184), (0, 0.91123), (0, 0.18297), (5, 0.02685), (0, 0.41391), (6, 0.04227), (0, 0.3829), (2, 0.05264), (0, 0.95495), (15, 0.01421), (2, 0.15847), (0, 0.76203), (0, 0.19482), (3, 0.03198), (0, 0.56151), (3, 0.04024), (0, 0.62499), (7, 0.02806), (3, 0.0334), (3, 0.0556), (2, 0.1061), (1, 0.297), (1, 0.12176), (3, 0.0308), (2, 0.07571), (2, 0.04278), (0, 0.37153), (2, 0.09801), (0, 0.47316), (0, 0.74399), (0, 0.12051), (0, 0.28932), (0, 0.08521), (1, 0.11324), (0, 0.28995), (17, 0.01212), (0, 0.29931), (39, 0.00362), (0, 0.33404), (0, 0.15319), (2, 0.08232), (1, 0.12277), (0, 0.13477), (2, 0.04919), (1, 0.08628), (4, 0.04521), (0, 0.82869), (0, 0.26798), (0, 0.24112), (6, 0.02211), (0, 0.70033), (0, 0.6322), (3, 0.06681), (0, 0.63208), (2, 0.05295), (0, 0.83514), (0, 0.60473), (0, 0.10014), (2, 0.01751), (3, 0.03231), (0, 0.94692), (0, 0.80184), (4, 0.02037), (0, 0.0406), (11, 0.01135), (0, 0.65842), (0, 0.99899), (1, 0.22666), (1, 0.17621), (2, 0.04713), (2, 0.05198), (4, 0.05256), (1, 0.13434), (0, 0.50749), (0, 0.9112), (2, 0.09534), (0, 0.4097), (0, 0.76258), (0, 0.97721), (0, 0.67665), (0, 0.24236), (1, 0.10686), (13, 0.01341), (0, 0.23552), (1, 0.10587), (0, 0.93382), (0, 0.31041), (0, 0.11018), (2, 0.09034), (0, 0.72001), (4, 0.03657), (0, 0.33863), (1, 0.08019), (5, 0.0362), (4, 0.03299), (0, 0.24004), (1, 0.13297), (4, 0.01871), (0, 0.46546), (0, 0.56026), (0, 0.81203), (6, 0.0413), (0, 0.36636), (0, 0.19407), (2, 0.0323), (7, 0.03024), (1, 0.16196), (0, 0.93114), (0, 0.29809), (2, 0.03183), (1, 0.0887), (0, 0.75587), (0, 0.6754), (0, 0.92836), (1, 0.31792), (0, 0.29943), (0, 0.31674), (1, 0.11053), (0, 0.90016), (0, 0.18574), (2, 0.23545), (0, 0.14109), (3, 0.03541), (0, 0.31483), (0, 0.2726), (3, 0.09669), (0, 0.28336), (0, 0.37938), (0, 0.62939), (5, 0.02584), (0, 0.25535), (1, 0.22609), (0, 0.61724), (0, 0.67469), (2, 0.07253), (0, 0.99954), (0, 0.24365), (7, 0.03102), (1, 0.23502), (0, 0.2684), (0, 0.47866), (4, 0.06215), (0, 0.23165), (1, 0.3554), (0, 0.87575), (1, 0.19373), (0, 0.60341), (0, 0.26602), (1, 0.08719), (1, 0.11107), (0, 0.99964), (3, 0.03773), (17, 0.00514), (0, 0.30031), (0, 0.67149), (3, 0.05481), (3, 0.1052), (1, 0.13306), (0, 0.99945), (1, 0.05076), (0, 0.03224), (0, 0.19115), (0, 0.41169), (8, 0.0332), (0, 0.37931), (3, 0.04578), (2, 0.21885), (0, 0.52578), (0, 0.2236), (18, 0.00906), (10, 0.0163), (0, 0.2502), (2, 0.05333), (7, 0.04301), (1, 0.28684), (0, 0.82779), (0, 0.81628), (0, 0.83269), (0, 0.6156), (0, 0.34643), (0, 0.74076), (3, 0.10103), (1, 0.19888), (0, 0.21382), (0, 0.69989), (0, 0.95611), (2, 0.06622), (2, 0.06425), (2, 0.08048), (0, 0.36162), (0, 0.85003), (6, 0.02203), (0, 0.31062), (21, 0.00626), (2, 0.06173), (3, 0.10376), (1, 0.09922), (1, 0.15754), (0, 0.5734), (1, 0.30356), (0, 0.72889), (5, 0.03239), (1, 0.04794), (10, 0.01989), (0, 0.31351), (12, 0.01397), (0, 0.41881), (0, 0.1823), (4, 0.04548), (1, 0.0981), (1, 0.13401), (0, 0.37332), (3, 0.05122), (0, 0.47186), (1, 0.04671), (0, 0.88653), (0, 0.54721), (0, 0.35427), (0, 0.99916), (0, 0.9977), (0, 0.98761), (0, 0.82733), (1, 0.23214), (9, 0.0215), (0, 0.8073), (5, 0.0625), (0, 0.53799), (2, 0.19205), (0, 0.54435), (0, 0.58792), (0, 0.75103), (4, 0.04348), (2, 0.11327), (1, 0.1022), (1, 0.1602), (0, 0.22778), (0, 0.98747), (0, 0.40254), (0, 0.18777), (1, 0.14789), (1, 0.16936), (1, 0.10772), (0, 0.96319), (0, 0.16114), (9, 0.02591), (0, 0.54227), (0, 0.34273), (0, 0.25887), (8, 0.01794), (1, 0.17043), (0, 0.26542), (0, 0.84284), (0, 0.51854), (0, 0.43346), (3, 0.05519), (0, 0.21767), (0, 0.38601), (12, 0.01225), (0, 0.55357), (7, 0.01609), (0, 0.62172), (0, 0.31936), (6, 0.0189), (0, 0.73328), (3, 0.04751), (1, 0.17091), (3, 0.03604), (0, 0.72529), (2, 0.06481), (1, 0.19097), (0, 0.44547), (15, 0.0138), (1, 0.12987), (7, 0.01474), (0, 0.68083), (14, 0.00932), (1, 0.15529), (0, 0.4687), (0, 0.51639), (0, 0.3772), (1, 0.26712), (1, 0.11144), (0, 0.36832), (1, 0.05926), (10, 0.0174), (1, 0.22866), (20, 0.0088), (2, 0.07802), (0, 0.35612), (4, 0.02332), (1, 0.0507), (0, 0.45164), (0, 0.18064), (0, 0.58789), (1, 0.31879), (0, 0.42046), (0, 0.41169), (5, 0.0373), (1, 0.15597), (0, 0.48749), (0, 0.5163), (0, 0.84316), (0, 0.14798), (1, 0.15874), (0, 0.48351), (0, 0.77119), (0, 0.68858), (0, 0.41401), (0, 0.63917), (2, 0.07027), (0, 0.17996), (0, 0.31479), (4, 0.02385), (0, 0.44106), (0, 0.54861), (0, 0.21575), (12, 0.01473), (3, 0.05015), (2, 0.0347), (4, 0.0276), (0, 0.4177), (13, 0.01014), (8, 0.02586), (0, 0.44565), (2, 0.11331), (0, 0.42714), (14, 0.01138), (0, 0.99853), (0, 0.63953), (0, 0.40186), (9, 0.01348), (1, 0.09305), (0, 0.22706), (0, 0.55491), (0, 0.44133), (1, 0.19813), (0, 0.3331), (0, 0.34318), (0, 0.59551), (1, 0.09429), (0, 0.34376), (3, 0.06697), (4, 0.04357), (0, 0.45013), (2, 0.12741), (0, 0.24265), (0, 0.10911), (2, 0.18418), (1, 0.11669), (1, 0.12578), (1, 0.16615), (0, 0.08279), (0, 0.67682), (0, 0.50382), (0, 0.35936), (19, 0.00802), (0, 0.40848), (0, 0.7064), (0, 0.39575), (0, 0.76665), (3, 0.06027), (2, 0.10115), (1, 0.14877), (1, 0.15531), (2, 0.03543), (0, 0.09256), (4, 0.03668), (0, 0.28449), (0, 0.39911), (0, 0.54024), (2, 0.1378), (3, 0.07343), (1, 0.17855), (1, 0.12824), (0, 0.82306), (0, 0.73902), (0, 0.43876), (1, 0.23897), (5, 0.04136), (2, 0.08332), (2, 0.15132), (1, 0.25524), (0, 0.87493)], 'pred_topk': [[('Ċ ', 0.06229851022362709), ('The', 0.037699710577726364), ('\"', 0.024113230407238007), ('A', 0.019403040409088135), ('I', 0.018321022391319275)], [(\"'m\", 0.0933871790766716), (\"'ve\", 0.08814240992069244), ('Ġhave', 0.06308969110250473), ('Ġam', 0.04735485091805458), ('Ġwas', 0.04694262146949768)], [('Ġbeen', 0.291037380695343), ('Ġalways', 0.07528025656938553), ('Ġhad', 0.046309515833854675), ('Ġnever', 0.042135708034038544), ('Ġseen', 0.03927300125360489)], [('Ġworking', 0.05592095106840134), ('Ġusing', 0.050081729888916016), ('Ġa', 0.048307016491889954), ('Ġplaying', 0.04112011566758156), ('Ġtrying', 0.03152451664209366)], [('Ġfan', 0.17894873023033142), ('Ġbig', 0.06928257644176483), ('Ġhuge', 0.03617054969072342), ('Ġbit', 0.03186468034982681), ('Ġlittle', 0.02697869949042797)], [('Ġfor', 0.4268588125705719), ('Ġsince', 0.30269747972488403), ('Ġall', 0.06137438863515854), ('Ġand', 0.022838247939944267), ('Ġever', 0.02160995453596115)], [('Ġa', 0.23529388010501862), ('Ġover', 0.1135205626487732), ('Ġmany', 0.05744345486164093), ('Ġmore', 0.04805002734065056), ('Ġabout', 0.04355156421661377)], [('Ġa', 0.16754421591758728), ('Ġ20', 0.14828653633594513), ('Ġ10', 0.11576266586780548), ('Ġ30', 0.07669562846422195), ('Ġ15', 0.06069345772266388)], [('Ġyears', 0.9908672571182251), ('Ġmonths', 0.0018773582996800542), ('Ġyear', 0.0005631307139992714), ('Ġand', 0.0004989689914509654), ('Ġseasons', 0.0004987881402485073)], [('Ġnow', 0.38025739789009094), ('.', 0.19425129890441895), ('Ġand', 0.178867369890213), (',', 0.17875003814697266), ('Ġbut', 0.008018474094569683)], [('ĠI', 0.40710633993148804), ('ĠMy', 0.05572914332151413), ('Ċ ', 0.03034660592675209), ('ĠIt', 0.029569538310170174), ('ĠThe', 0.024300608783960342)], [('Ġthat', 0.5618915557861328), ('Ġthose', 0.1265980750322342), ('Ġthis', 0.11185886710882187), ('Ġmy', 0.07529642432928085), ('Ġthe', 0.04915056750178337)], [('Ġtime', 0.9805102348327637), ('Ġperiod', 0.006583732087165117), ('Ġsame', 0.002175859874114394), ('Ġspan', 0.002013462595641613), ('Ġlong', 0.0006291134632192552)], [(',', 0.4816344976425171), ('ĠI', 0.42996835708618164), ('Ġmy', 0.013049370609223843), ('Ġwe', 0.00436933059245348), ('Ġit', 0.00401649996638298)], [('ĠI', 0.7592362761497498), ('Ġmy', 0.038290977478027344), ('Ġthe', 0.0151249123737216), ('Ġthere', 0.01502645667642355), ('Ġwe', 0.010567674413323402)], [(\"'ve\", 0.5310131907463074), ('Ġhave', 0.08968593180179596), ('Ġplayed', 0.03632275015115738), ('Ġwas', 0.035934653133153915), ('Ġhad', 0.019482554867863655)], [('Ġbeen', 0.15983593463897705), ('Ġplayed', 0.14694474637508392), ('Ġworked', 0.0375707633793354), ('Ġhad', 0.035917069762945175), ('Ġalways', 0.03421222046017647)], [('Ġinvolved', 0.09589766710996628), ('Ġa', 0.09054160118103027), ('Ġplaying', 0.05088620260357857), ('Ġable', 0.03845343366265297), ('Ġworking', 0.026197567582130432)], [('Ġin', 0.716701328754425), ('Ġwith', 0.22357213497161865), ('Ġas', 0.004322156775742769), ('Ġon', 0.003512159688398242), ('Ġprimarily', 0.0025526736862957478)], [('Ġa', 0.2180289775133133), ('Ġmany', 0.09481117129325867), ('Ġthe', 0.06721784919500351), ('Ġvarious', 0.042059361934661865), ('Ġseveral', 0.04029593616724014)], [('Ġlot', 0.31580743193626404), ('Ġnumber', 0.2350483238697052), ('Ġvariety', 0.06664174795150757), ('Ġwide', 0.060164473950862885), ('Ġfew', 0.0371633842587471)], [('Ġof', 0.9963131546974182), ('Ġ(', 0.00020750336989294738), (',', 0.00017523198039270937), ('Ġmore', 0.00014849069702904671), ('Ġand', 0.00014413970347959548)], [('Ġgames', 0.17184646427631378), ('Ġdifferent', 0.15103736519813538), ('Ġvideo', 0.0628441646695137), ('Ġprojects', 0.034746114164590836), ('Ġgaming', 0.025968501344323158)], [(',', 0.32492268085479736), ('Ġand', 0.12728717923164368), ('.', 0.0968911424279213), ('Ġincluding', 0.08289247006177902), ('Ġthat', 0.06325496733188629)], [('Ġincluding', 0.2824700176715851), ('Ġmost', 0.0838426873087883), ('Ġand', 0.06199648231267929), ('Ġfrom', 0.06152481585741043), ('Ġmostly', 0.054005853831768036)], [('ĠI', 0.2527214586734772), ('Ġhave', 0.06561622768640518), ('Ġmy', 0.030790328979492188), ('Ġa', 0.0232838224619627), ('Ġin', 0.021802151575684547)], [(\"'ve\", 0.4939398467540741), (\"'m\", 0.07897137850522995), ('Ġhave', 0.07191084325313568), ('Ġwas', 0.017471235245466232), ('Ġlove', 0.01526661030948162)], [('Ġbeen', 0.14916734397411346), ('Ġalways', 0.09534317255020142), ('Ġplayed', 0.09104930609464645), ('Ġnever', 0.05353411287069321), ('Ġalso', 0.04382413998246193)], [('Ġa', 0.23857030272483826), ('Ġmany', 0.12734432518482208), ('Ġsome', 0.061155032366514206), ('Ġthe', 0.05452952906489372), ('Ġso', 0.035969022661447525)], [('Ġlittle', 0.4094179570674896), ('Ġfew', 0.3323976397514343), ('Ġmany', 0.02985656075179577), ('Ġmuch', 0.018972918391227722), ('Ġdifferent', 0.017171362414956093)], [('Ġpeople', 0.1218845546245575), ('Ġgames', 0.11925201117992401), ('Ġof', 0.10365142673254013), ('Ġthings', 0.016171544790267944), ('Ġother', 0.014453009702265263)], [('Ġthem', 0.5139724016189575), ('Ġmy', 0.1367790251970291), ('Ġthe', 0.11501219868659973), ('Ġthese', 0.08460047096014023), ('Ġthose', 0.06519411504268646)], [('.', 0.09559495747089386), ('Ġthat', 0.05606461688876152), ('Ġsucceed', 0.04387153312563896), (',', 0.033063460141420364), ('Ġin', 0.03177450969815254)], [('Ġthe', 0.2585756182670593), ('Ġa', 0.11304781585931778), ('Ġmy', 0.10176695138216019), ('Ġtheir', 0.03579285368323326), ('Ġperson', 0.03410404548048973)], [('Ġpast', 0.09555410593748093), ('Ġlast', 0.07180681824684143), ('Ġsame', 0.03808572143316269), ('Ġform', 0.03317438066005707), ('Ġway', 0.026427138596773148)], [('Ġof', 0.8931455612182617), ('Ġbooks', 0.08010928332805634), ('Ġbook', 0.0048559801653027534), ('.', 0.003690009703859687), ('ĠI', 0.001988622359931469)], [('Ġthe', 0.25887054204940796), ('Ġgaming', 0.11124119162559509), ('Ġvideo', 0.10282713174819946), ('Ġmy', 0.04452604055404663), ('Ġgames', 0.028053954243659973)], [('Ġindustry', 0.12513723969459534), ('Ġgame', 0.10002800077199936), ('Ġgenre', 0.06273122131824493), ('Ġfranchise', 0.053102992475032806), ('Ġseries', 0.04238426312804222)], [('.', 0.7394959330558777), (',', 0.07594821602106094), ('ĠI', 0.03717637062072754), ('Ġ(', 0.02035636641085148), ('Ġthat', 0.020249949768185616)], [('ĠI', 0.20340922474861145), ('Ċ ', 0.07040262222290039), ('ĠThe', 0.0433771051466465), ('ĠIt', 0.037119392305612564), ('ĠIn', 0.03577043488621712)], [('Ġfirst', 0.09493017196655273), ('Ġfavorite', 0.055270981043577194), ('Ġmain', 0.0547906719148159), ('Ġgoal', 0.028687555342912674), ('Ġbiggest', 0.025463704019784927)], [('Ġgame', 0.2579076588153839), ('Ġforay', 0.05689997225999832), ('Ġexperience', 0.0545659177005291), ('Ġgaming', 0.019841782748699188), ('Ġmajor', 0.018879789859056473)], [('Ġinto', 0.9588944315910339), ('Ġwas', 0.009791271761059761), ('Ġin', 0.006209388375282288), ('Ġwith', 0.0028540571220219135), ('Ġonto', 0.0017594607779756188)], [('Ġthe', 0.16651004552841187), ('Ġgaming', 0.15281802415847778), ('Ġvideo', 0.0805804505944252), ('Ġgames', 0.042872097343206406), ('Ġa', 0.028291577473282814)], [('Ġindustry', 0.07398909330368042), ('Ġwas', 0.07061758637428284), ('Ġfield', 0.060589808970689774), ('Ġbusiness', 0.05993465334177017), ('Ġgame', 0.0586039163172245)], [('Ġwith', 0.10845929384231567), ('Ġthe', 0.079888716340065), ('Ġin', 0.07576937973499298), ('Ġa', 0.06453759968280792), ('Ġwhen', 0.056030187755823135)], [('Ġa', 0.6564485430717468), ('Ġan', 0.12909582257270813), ('Ġthe', 0.0655752420425415), ('Ġpart', 0.03796565160155296), ('Ġone', 0.0032827449031174183)], [('Ġprogrammer', 0.04325248301029205), ('Ġdeveloper', 0.033512551337480545), ('Ġmember', 0.02703472226858139), ('Ġgame', 0.020993869751691818), ('Ġfreelance', 0.014195087365806103)], [('Ġof', 0.9574934840202332), ('Ġin', 0.010101184248924255), (',', 0.004968533292412758), ('Ġand', 0.00351752364076674), ('Ġat', 0.0024765068665146828)], [('Ġthe', 0.46655869483947754), ('Ġa', 0.06321476399898529), ('ĠTeam', 0.0336136631667614), ('Ġan', 0.013553536497056484), ('ĠThe', 0.012998508289456367)], [('Ġteam', 0.05433397367596626), ('Ġboard', 0.012967036105692387), ('Ġcommunity', 0.012815183028578758), ('Ġcompany', 0.0119654955342412), ('ĠTeam', 0.011121459305286407)], [('.', 0.5443278551101685), ('GC', 0.05787069723010063), ('ES', 0.013129759579896927), ('G', 0.01094958744943142), ('LT', 0.01040203683078289)], [('S', 0.8768678307533264), ('K', 0.09684401750564575), ('N', 0.01305566355586052), ('ĠS', 0.003459617728367448), ('C', 0.0013452064013108611)], [('.', 0.9686702489852905), ('.-', 0.00655360659584403), ('.,', 0.001803835853934288), ('ĠArmy', 0.0012000104179605842), (\".'\", 0.0007824793574400246)], [('ĠArmy', 0.2258267104625702), ('ĠNavy', 0.06540419906377792), ('Ġteam', 0.024290306493639946), ('Ġmilitary', 0.018182747066020966), ('ĠGaming', 0.011036895215511322)], [('.', 0.11841611564159393), (',', 0.09555596113204956), ('Ġin', 0.08246871083974838), (\"'s\", 0.07240675389766693), ('Ġand', 0.03603725880384445)], [('ĠI', 0.3157224655151367), ('ĠIn', 0.05557547137141228), ('Ċ ', 0.05060436204075813), ('ĠIt', 0.041433367878198624), ('ĠAs', 0.04131405055522919)], [('Ġwas', 0.2136053591966629), ('Ġplayed', 0.06724981218576431), (\"'ve\", 0.06661558151245117), ('Ġhad', 0.05329322814941406), ('Ġjoined', 0.03115546889603138)], [('Ġa', 0.10979217290878296), ('Ġthe', 0.06920280307531357), ('ĠBattlefield', 0.04097222536802292), ('Ġgames', 0.02016899548470974), ('Ġas', 0.019691411405801773)], [('Ġof', 0.26240041851997375), ('Ġgames', 0.10844330489635468), ('Ġvideo', 0.019862474873661995), ('Ġcompetitive', 0.015286476351320744), ('ĠHalo', 0.014212300069630146)], [('Ġthe', 0.6257984042167664), ('Ġmy', 0.11264677345752716), ('Ġthese', 0.03476281464099884), ('Ġthose', 0.031315263360738754), ('Ġthem', 0.014568840153515339)], [('Ġgames', 0.11171010881662369), ('Ġmost', 0.11014951020479202), ('Ġfirst', 0.09075179696083069), ('Ġbest', 0.04550597071647644), ('Ġmore', 0.021582098677754402)], [('ĠI', 0.1935727447271347), ('Ġthat', 0.12682807445526123), (',', 0.05099901929497719), ('Ġon', 0.05006987601518631), ('Ġin', 0.049117542803287506)], [('Ġloved', 0.13777168095111847), ('Ġplayed', 0.10699423402547836), (\"'d\", 0.08820869028568268), ('Ġwas', 0.07863540202379227), (\"'ve\", 0.04787488281726837)], [(',', 0.2734701931476593), ('Ġand', 0.16508783400058746), ('Ġin', 0.0437963493168354), ('Ġthe', 0.03670394420623779), ('Ġ(', 0.028882982209324837)], [('Ġthe', 0.28209421038627625), ('Ġthat', 0.22568891942501068), ('Ġthere', 0.054731953889131546), ('Ġmy', 0.03874242678284645), ('Ġtime', 0.029584752395749092)], [('Ġearly', 0.10010736435651779), ('Ġtime', 0.09134859591722488), ('Ġbeginning', 0.07637644559144974), ('Ġfirst', 0.04740440472960472), ('Ġstart', 0.03280652314424515)], [('Ġdays', 0.25810539722442627), (\"Ġ'\", 0.1315179169178009), ('Ġ90', 0.08378113061189651), ('Ġ1990', 0.04936637729406357), ('Ġ2000', 0.04539766162633896)], [('s', 0.6541574597358704), (\"'s\", 0.3340586721897125), (' ', 0.0032087801955640316), ('Ġto', 0.0014756693271920085), ('-', 0.0006611507851630449)], [(',', 0.30886250734329224), ('Ġand', 0.11562236398458481), ('.', 0.08871501684188843), ('Ġthrough', 0.07256027311086655), ('Ġto', 0.0663117915391922)], [('Ġthe', 0.6560702919960022), ('Ġto', 0.04621331766247749), ('Ġearly', 0.03900469094514847), ('Ġmy', 0.030306048691272736), ('Ġ1990', 0.008368817158043385)], [('Ġearly', 0.4299061894416809), ('Ġmid', 0.1394200474023819), ('Ġ1990', 0.12773127853870392), ('Ġlate', 0.10260052233934402), (\"Ġ'\", 0.02759118191897869)], [('Ġ1990', 0.7532127499580383), ('Ġ2000', 0.10708941519260406), ('Ġ90', 0.06682440638542175), (\"Ġ'\", 0.035185523331165314), ('Ġ1980', 0.010974899865686893)], [('s', 0.9990955591201782), (\"'s\", 0.0006875027320347726), ('.', 3.487350113573484e-05), (',', 2.2764063032809645e-05), ('th', 1.505990803707391e-05)], [(',', 0.45267269015312195), ('.', 0.2867697775363922), ('Ġand', 0.07784717530012131), ('Ġ(', 0.02556416764855385), ('Ġas', 0.015743980184197426)], [('Ġand', 0.49712538719177246), ('Ġbut', 0.1738894134759903), ('Ġincluding', 0.04020209610462189), ('Ġas', 0.018180327489972115), ('Ġso', 0.016380256041884422)], [('ĠI', 0.26951923966407776), ('Ġit', 0.04855940118432045), ('Ġthe', 0.04728926718235016), ('Ġnever', 0.0303307194262743), ('Ġmy', 0.021586278453469276)], [('Ġfirst', 0.15060937404632568), ('Ġonly', 0.05426318943500519), ('Ġfavorite', 0.046907879412174225), ('Ġexperience', 0.03721435368061066), ('Ġinterest', 0.03417222574353218)], [('Ġforay', 0.18183517456054688), ('Ġexperience', 0.12480185180902481), ('Ġgame', 0.09047900885343552), ('Ġtime', 0.03843330219388008), ('Ġreal', 0.032724104821681976)], [('Ġinto', 0.9112306237220764), ('Ġwas', 0.03234980255365372), ('Ġin', 0.006339412648230791), ('Ġback', 0.003758070059120655), ('Ġwith', 0.0032891950104385614)], [('Ġthe', 0.1829676479101181), ('Ġvideo', 0.0751596987247467), ('Ġgaming', 0.07493468374013901), ('Ġgames', 0.044623833149671555), ('Ġa', 0.034981582313776016)], [('Ġgame', 0.09696784615516663), ('Ġgaming', 0.053990915417671204), ('Ġindustry', 0.052494537085294724), ('Ġworld', 0.040199242532253265), ('Ġcompany', 0.031865306198596954)], [('Ġwas', 0.4139104187488556), ('Ġcame', 0.1718590408563614), ('Ġbegan', 0.0596003420650959), ('Ġtook', 0.039261698722839355), ('Ġof', 0.033906955271959305)], [('Ġas', 0.1503605991601944), ('Ġin', 0.11945702880620956), ('Ġwhen', 0.0845579206943512), ('Ġwith', 0.07054467499256134), ('Ġthe', 0.05185472220182419)], [('Ġthe', 0.38289618492126465), ('Ġa', 0.11072660982608795), ('Ġan', 0.023130008950829506), ('Ġage', 0.011635114438831806), ('ĠPAX', 0.011102558113634586)], [('Ġage', 0.11556395143270493), ('Ġend', 0.05853146314620972), ('Ġbeginning', 0.0526396706700325), ('Ġtime', 0.038818202912807465), ('Ġstart', 0.02289031632244587)], [('Ġof', 0.9549539685249329), ('Ġwhen', 0.007811840157955885), (',', 0.007102674804627895), ('Ġin', 0.006534908898174763), ('.', 0.004562937188893557)], [('Ġthe', 0.3690869212150574), ('Ġmy', 0.0400015264749527), ('Ġthis', 0.023562917485833168), ('Ġ2001', 0.022461945191025734), ('Ġ2003', 0.02205692231655121)], [('.', 0.41887331008911133), (',', 0.2136801928281784), ('Ġwhen', 0.1584692746400833), ('s', 0.04675845056772232), ('Ġas', 0.02378632314503193)], [('ĠI', 0.762031078338623), ('Ġmy', 0.03211904317140579), ('Ġa', 0.025090502575039864), ('Ġthe', 0.022274792194366455), (',', 0.01580694690346718)], [('Ġwas', 0.194817915558815), ('Ġjoined', 0.1299629807472229), ('Ġplayed', 0.06642723828554153), ('Ġstarted', 0.053667329251766205), ('Ġgot', 0.026172535493969917)], [('Ġa', 0.0835760086774826), ('Ġassigned', 0.05313468351960182), ('Ġin', 0.034367628395557404), ('Ġstationed', 0.03197896480560303), ('Ġplaying', 0.028052182868123055)], [('Ġin', 0.561506986618042), ('Ġat', 0.25417855381965637), ('Ġoverseas', 0.042906783521175385), ('Ġon', 0.0355159267783165), ('Ġwith', 0.026364214718341827)], [('Ġthe', 0.08495427668094635), ('ĠIraq', 0.06175258383154869), ('ĠJapan', 0.04878848418593407), ('ĠAfghanistan', 0.04024422541260719), ('ĠKorea', 0.022991256788372993)], [('.', 0.6249934434890747), (',', 0.08504828065633774), ('Ġand', 0.06387243419885635), ('Ġfor', 0.031035268679261208), ('Ġwith', 0.02825922705233097)], [('ĠI', 0.28443679213523865), ('Ċ ', 0.1479290872812271), ('ĠIt', 0.04155249521136284), ('ĠThe', 0.04141766577959061), ('ĠMy', 0.03537778928875923)], [('Ġa', 0.2013729214668274), ('Ġthat', 0.11939510703086853), ('Ġspending', 0.03625405579805374), ('ĠI', 0.033395491540431976), ('Ġsome', 0.0328010730445385)], [('Ġleft', 0.16778792440891266), ('Ġreturned', 0.0959709957242012), ('Ġwas', 0.0671285092830658), ('Ġgot', 0.055601414293050766), ('Ġjoined', 0.0540769025683403)], [('Ġmy', 0.1600828766822815), ('Ġout', 0.12027674913406372), ('Ġback', 0.10609690099954605), ('Ġto', 0.07650157064199448), ('Ġa', 0.05792379379272461)], [('Ġhome', 0.39211305975914), ('Ġto', 0.29700490832328796), ('Ġfrom', 0.06080557778477669), ('Ġinto', 0.05705535039305687), (',', 0.052326980978250504)], [('Ġthe', 0.4767953157424927), ('Ġmy', 0.12176363170146942), ('ĠAfghanistan', 0.036280546337366104), ('ĠAmerica', 0.016382142901420593), ('ĠEurope', 0.01582961529493332)], [('Ġhome', 0.2438822239637375), ('Ġbase', 0.08332439512014389), ('Ġcountry', 0.05249433219432831), ('Ġhometown', 0.03080078586935997), ('Ġunit', 0.02716335654258728)], [('Ġof', 0.4169028699398041), (',', 0.30147868394851685), ('Ġand', 0.07570523023605347), ('Ġin', 0.06106935068964958), ('ĠI', 0.04369964823126793)], [('Ġstarted', 0.09957586973905563), ('Ġbegan', 0.044217549264431), ('Ġwent', 0.04277871549129486), ('Ġgot', 0.041562002152204514), ('Ġplayed', 0.03820350393652916)], [('Ġto', 0.37153226137161255), ('Ġback', 0.2175726592540741), ('Ġon', 0.094318687915802), ('Ġinto', 0.04290147125720978), ('Ġout', 0.03846631571650505)], [('Ġwork', 0.11960422992706299), ('Ġthe', 0.10660813748836517), ('Ġschool', 0.09800916910171509), ('Ġcollege', 0.08745359629392624), ('ĠAfghanistan', 0.06040243059396744)], [(',', 0.4731566905975342), ('Ġin', 0.12137400358915329), ('Ġthere', 0.08735640347003937), ('Ġfor', 0.06079552322626114), ('Ġand', 0.047344714403152466)], [('ĠI', 0.7439857721328735), ('Ġmy', 0.07192464917898178), ('Ġthe', 0.031552355736494064), ('Ġit', 0.02734568901360035), ('Ġand', 0.010304336436092854)], [('Ġstarted', 0.12050695717334747), ('Ġwas', 0.08833444118499756), ('Ġbegan', 0.05307631194591522), ('Ġwent', 0.039805732667446136), ('Ġplayed', 0.03334684669971466)], [('Ġplaying', 0.28932052850723267), ('Ġto', 0.12180982530117035), ('Ġworking', 0.05838438495993614), ('Ġgetting', 0.03422408923506737), ('Ġa', 0.03206677734851837)], [('Ġgames', 0.08520794659852982), ('Ġthe', 0.0758022889494896), ('Ġa', 0.06381098926067352), ('Ġsome', 0.034367289394140244), ('Ġvideo', 0.02678324654698372)], [('Ġlike', 0.1369251161813736), ('.', 0.11324416100978851), ('Ġand', 0.08145353198051453), (',', 0.05482149124145508), ('Ġthat', 0.05347643047571182)], [('ĠI', 0.28995394706726074), ('Ċ ', 0.11685918271541595), ('ĠIn', 0.035893816500902176), ('ĠIt', 0.03390123322606087), ('ĠMy', 0.033800508826971054)], [('Ġwas', 0.09656687825918198), ('Ġplayed', 0.08003110438585281), ('Ġstarted', 0.064451202750206), (\"'ve\", 0.047508109360933304), ('Ġhad', 0.0394836887717247)], [('Ġplaying', 0.2993101179599762), ('Ġto', 0.18257276713848114), ('Ġwith', 0.053163737058639526), ('Ġgetting', 0.01815178245306015), ('Ġusing', 0.017565548419952393)], [('Ġthe', 0.06259360164403915), ('Ġgames', 0.057992175221443176), ('Ġa', 0.03810044750571251), ('Ġwith', 0.02351207658648491), ('Ġsome', 0.019546402618288994)], [('Ġgames', 0.33404263854026794), ('Ġonline', 0.10574177652597427), (',', 0.04871927946805954), ('Ġwith', 0.043261464685201645), ('Ġin', 0.04033519700169563)], [(',', 0.15319271385669708), ('Ġlike', 0.09689942747354507), ('Ġin', 0.07905684411525726), ('Ġwith', 0.07089962810277939), ('Ġand', 0.060537341982126236)], [('Ġand', 0.21073448657989502), ('Ġbut', 0.13231366872787476), ('Ġwhich', 0.082320436835289), ('Ġas', 0.02247324213385582), ('Ġlike', 0.021895110607147217)], [('ĠI', 0.1542140245437622), ('Ġwas', 0.12277297675609589), ('Ġis', 0.10816754400730133), ('Ġwere', 0.08676069229841232), ('Ġare', 0.0399300754070282)], [('Ġa', 0.13477328419685364), ('Ġpretty', 0.057544026523828506), ('Ġthe', 0.056007254868745804), ('Ġmy', 0.038850776851177216), ('Ġvery', 0.038820553570985794)], [('Ġbit', 0.08224744349718094), ('Ġlot', 0.05253555253148079), ('Ġvery', 0.04918869212269783), ('Ġlittle', 0.04836922883987427), ('Ġgreat', 0.03580208867788315)], [('Ġdifferent', 0.10315139591693878), ('Ġpopular', 0.08627964556217194), ('Ġfun', 0.0343899130821228), ('Ġinteresting', 0.03376903757452965), ('Ġcool', 0.031190773472189903)], [('Ġhobby', 0.176049143075943), ('Ġgenre', 0.07261625677347183), ('Ġway', 0.05917639285326004), ('Ġgame', 0.059065431356430054), ('Ġform', 0.04520970955491066)], [('Ġof', 0.8286929726600647), ('Ġin', 0.04198968783020973), ('.', 0.0254129096865654), ('Ġfor', 0.018402108922600746), (',', 0.012598071247339249)], [('Ġgaming', 0.2679758369922638), ('Ġmultiplayer', 0.20253203809261322), ('Ġonline', 0.05844983458518982), ('Ġplay', 0.05493074655532837), ('Ġvideo', 0.05212973803281784)], [('.', 0.24111968278884888), ('Ġin', 0.1913856714963913), (',', 0.09578646719455719), ('Ġfor', 0.07723010331392288), ('Ġat', 0.0637170597910881)], [('ĠI', 0.2614295482635498), ('Ċ ', 0.08349800109863281), ('ĠThe', 0.04329439997673035), ('ĠIt', 0.04191821813583374), ('ĠIn', 0.03849567472934723)], [('Ġof', 0.7003286480903625), ('Ġday', 0.11510619521141052), ('Ġthing', 0.03307346627116203), ('Ġgame', 0.019693098962306976), ('Ġtime', 0.010528096929192543)], [('Ġthe', 0.6321952939033508), ('Ġmy', 0.29713132977485657), ('Ġthose', 0.03151789307594299), ('Ġthem', 0.01335199549794197), ('Ġthese', 0.010859014466404915)], [('Ġfirst', 0.265483021736145), ('Ġthings', 0.15615516901016235), ('Ġmost', 0.0728313997387886), ('Ġgames', 0.06681346148252487), ('Ġmain', 0.035032711923122406)], [('ĠI', 0.6320757865905762), ('Ġthat', 0.2502549886703491), ('Ġwas', 0.013097213581204414), ('Ġin', 0.01238374225795269), ('Ġon', 0.007170496508479118)], [('Ġplayed', 0.2719977796077728), ('Ġwas', 0.0739019438624382), ('Ġstarted', 0.0529509000480175), ('Ġliked', 0.05193069949746132), ('Ġloved', 0.05052533373236656)], [('Ġplaying', 0.8351401686668396), ('Ġwas', 0.028805891051888466), ('Ġto', 0.02716073952615261), ('Ġusing', 0.0115004051476717), ('Ġwith', 0.010815919376909733)], [('Ġwas', 0.6047259569168091), ('Ġat', 0.05259622633457184), ('Ġin', 0.03208428621292114), (',', 0.03187276050448418), ('Ġwith', 0.029170313850045204)], [('Ġthe', 0.10014265030622482), ('ĠCall', 0.029497504234313965), ('Ġ\"', 0.02794899046421051), ('Ġa', 0.027188269421458244), ('ĠThe', 0.022833937779068947)], [('Ġ\"', 0.039410319179296494), ('Ġmultiplayer', 0.021494312211871147), ('Ġfirst', 0.017513994127511978), ('ĠCall', 0.011565802618861198), ('Ġonline', 0.010056519880890846)], [('Ġgame', 0.08210767060518265), ('Ġmultiplayer', 0.04930029809474945), ('Ġever', 0.03836143761873245), ('-', 0.03230554237961769), ('Ġ\"', 0.018389316275715828)], [('person', 0.9469174146652222), ('ever', 0.04756132885813713), ('party', 0.000911439536139369), ('aid', 0.00035519982338882983), ('Person', 0.0003469584044069052)], [('Ġshooter', 0.8018372654914856), ('Ġaction', 0.01938769407570362), ('Ġshooters', 0.01756349578499794), ('-', 0.005137736909091473), ('Ġsurvival', 0.005132683087140322)], [(',', 0.1842569261789322), ('.', 0.13394613564014435), ('Ġ(', 0.03702138364315033), ('Ġcalled', 0.02290184795856476), ('Ġ\"', 0.020371345803141594)], [('The', 0.040599193423986435), ('Call', 0.03630940616130829), ('D', 0.025317706167697906), ('S', 0.019196584820747375), ('Star', 0.016991280019283295)], [('ĠLast', 0.07127243280410767), ('ĠWalking', 0.030592678114771843), ('ĠBanner', 0.024460865184664726), ('ĠElder', 0.02242618054151535), ('ĠWitcher', 0.017344556748867035)], [('ĠAmong', 0.6584171652793884), ('enstein', 0.11125019192695618), ('ĠPack', 0.03954358771443367), ('ĠBrigade', 0.02702425792813301), ('man', 0.026013176888227463)], [('ĠUs', 0.9989914298057556), ('ĠYou', 0.000428329745773226), ('Ġthe', 0.00022364663891494274), ('ĠThieves', 0.0001307857601204887), ('ĠSheep', 4.2572803067741916e-05)], [('.\"', 0.26050832867622375), ('\"', 0.22665584087371826), ('\".', 0.18406088650226593), (',\"', 0.16817212104797363), ('\",', 0.12774206697940826)], [('Ġ(', 0.19098791480064392), ('Ġwhich', 0.17621497809886932), ('Ġand', 0.07762371003627777), ('Ġby', 0.0605318658053875), ('Ġfrom', 0.0549800768494606)], [('Ġwas', 0.34590739011764526), ('ĠI', 0.21012862026691437), ('Ġis', 0.047132786363363266), ('Ġhad', 0.037106890231370926), ('Ġcame', 0.024346062913537025)], [('Ġa', 0.27677860856056213), ('Ġan', 0.05827324092388153), ('Ġstill', 0.05197937414050102), ('Ġone', 0.051655203104019165), ('Ġthe', 0.04773973301053047)], [('Ġin', 0.10702884197235107), ('Ġplayed', 0.0905415266752243), ('Ġone', 0.06943542510271072), ('Ġa', 0.06417613476514816), ('Ġthe', 0.05255676433444023)], [('Ġmost', 0.3694695830345154), ('Ġbest', 0.13433879613876343), ('Ġonly', 0.030599374324083328), ('Ġnumber', 0.02709713578224182), ('Ġtop', 0.025906026363372803)], [('-', 0.5074903964996338), ('Ġknown', 0.09302571415901184), ('Ġshooter', 0.03979766368865967), ('Ġmultiplayer', 0.028189998120069504), ('Ġgame', 0.018280571326613426)], [('selling', 0.9111968874931335), ('known', 0.06531956046819687), ('seller', 0.004275546874850988), ('reviewed', 0.0038527166470885277), ('sell', 0.003707270137965679)], [('Ġgame', 0.2471308559179306), ('Ġshooter', 0.10919362306594849), ('Ġtitle', 0.09533633291721344), ('Ġvideo', 0.06664694845676422), ('ĠFPS', 0.03927908465266228)], [('Ġof', 0.4096950888633728), ('Ġin', 0.30968615412712097), ('Ġon', 0.11809733510017395), ('Ġever', 0.048600345849990845), ('Ġfor', 0.01715547777712345)], [('Ġall', 0.7625824213027954), ('Ġthe', 0.13976465165615082), ('Ġits', 0.009291665628552437), ('Ġmy', 0.009268902242183685), ('Ġany', 0.00859138648957014)], [('Ġtime', 0.9772146344184875), ('-', 0.01712089031934738), ('Ġtimes', 0.0015760345850139856), ('time', 0.000591826334130019), ('Ġthe', 0.0005060344119556248)], [('.', 0.676645040512085), (',', 0.10999589413404465), ('Ġin', 0.04430186748504639), ('Ġand', 0.026674354448914528), ('Ġon', 0.015291287563741207)], [('ĠI', 0.24235504865646362), ('Ċ ', 0.11482331156730652), ('ĠIt', 0.1016874611377716), ('ĠThe', 0.0878622829914093), ('ĠIn', 0.0358736626803875)], [('Ġplayed', 0.10796760767698288), ('Ġwas', 0.10686291009187698), ('Ġstarted', 0.06957098841667175), ('Ġalso', 0.05174969881772995), ('Ġhad', 0.04003363847732544)], [('Ġplaying', 0.06843885779380798), ('Ġa', 0.06594769656658173), ('Ġvery', 0.05978458747267723), ('Ġhooked', 0.041585709899663925), ('Ġalso', 0.037233415991067886)], [('Ġthe', 0.2355194389820099), ('Ġthat', 0.22904783487319946), ('Ġa', 0.11496442556381226), ('Ġfirst', 0.05206064507365227), ('Ġone', 0.044892434030771255)], [('Ġtime', 0.2902834117412567), ('Ġbeginning', 0.10586533695459366), ('Ġsame', 0.04801816865801811), ('Ġstart', 0.03095606155693531), ('Ġheight', 0.030726175755262375)], [('Ġof', 0.9338240027427673), ('Ġand', 0.010288916528224945), (',', 0.009740161709487438), ('Ġstages', 0.005499241407960653), ('Ġstage', 0.004832336213439703)], [('Ġthe', 0.31041285395622253), ('Ġmy', 0.2409157007932663), ('Ġthat', 0.08373282104730606), ('Ġthis', 0.055985283106565475), ('Ġa', 0.04191536828875542)], [('Ġgame', 0.11017689853906631), ('Ġyear', 0.03788689151406288), (\"Ġ'\", 0.03717195615172386), ('Ġdevelopment', 0.03634163364768028), ('Ġfirst', 0.034489039331674576)], [(',', 0.11493716388940811), ('Ġwhen', 0.09137270599603653), ('Ġdevelopment', 0.09033574163913727), (\"'s\", 0.0861266553401947), ('Ġand', 0.07338530570268631)], [('Ġprocess', 0.720012366771698), ('Ġcycle', 0.039577458053827286), ('Ġphase', 0.022682903334498405), ('Ġteam', 0.02210022136569023), ('Ġand', 0.021893633529543877)], [(',', 0.23196116089820862), ('Ġand', 0.22836492955684662), ('Ġwhen', 0.13590282201766968), ('Ġfor', 0.07098367065191269), ('.', 0.036571890115737915)], [('ĠI', 0.33863189816474915), ('ĠThe', 0.07325439900159836), ('ĠIt', 0.06831395626068115), ('Ċ ', 0.04329794645309448), ('ĠWhen', 0.026857243850827217)], [('Ġwas', 0.1885174959897995), ('Ġhad', 0.08018834888935089), ('Ġstarted', 0.07995010167360306), ('Ġplayed', 0.04035816341638565), ('Ġwanted', 0.02931566722691059)], [('Ġa', 0.1254328340291977), ('Ġbeen', 0.09078394621610641), ('Ġno', 0.0792236477136612), ('Ġto', 0.0673014223575592), ('Ġnever', 0.05056898295879364)], [('Ġplayed', 0.1108534038066864), ('Ġbeen', 0.08125568181276321), ('Ġstarted', 0.07626861333847046), ('Ġmade', 0.05402316153049469), ('Ġseen', 0.03299196437001228)], [('Ġa', 0.2400364875793457), ('Ġthe', 0.18041107058525085), ('Ġsome', 0.10821934044361115), ('Ġmany', 0.05381743609905243), ('Ġseveral', 0.018709247931838036)], [('Ġlot', 0.4091373085975647), ('Ġfew', 0.1329704076051712), ('Ġnumber', 0.08036684989929199), ('Ġcouple', 0.042577460408210754), ('Ġgreat', 0.019451189786195755)], [('Ġof', 0.23437608778476715), ('Ġgames', 0.13891515135765076), ('Ġother', 0.034100331366062164), ('Ġpeople', 0.02336823008954525), ('Ġdemos', 0.018708975985646248)], [('Ġof', 0.4654628038406372), ('Ġand', 0.0990007296204567), (',', 0.0869130939245224), ('Ġfor', 0.03800690546631813), ('Ġfrom', 0.029597099870443344)], [('Ġthe', 0.5602622628211975), ('Ġit', 0.11138017475605011), ('Ġthis', 0.06038011983036995), ('Ġ\"', 0.024848295375704765), ('ĠThe', 0.022917883470654488)], [('Ġgame', 0.8120347261428833), ('Ġfirst', 0.021479781717061996), ('Ġdemo', 0.01840110868215561), ('Ġgames', 0.013474765233695507), ('Ġoriginal', 0.0074865734204649925)], [(',', 0.3170245587825775), ('Ġand', 0.12532486021518707), ('Ġbefore', 0.06399551033973694), ('Ġat', 0.05454399436712265), ('Ġin', 0.048958245664834976)], [('ĠI', 0.36635661125183105), ('ĠIt', 0.06444907188415527), ('ĠThe', 0.05808201804757118), ('ĠOne', 0.031183607876300812), ('ĠWhen', 0.026248814538121223)], [('Ġwas', 0.19407129287719727), ('Ġhad', 0.09065455198287964), ('Ġstarted', 0.061638299375772476), ('Ġplayed', 0.03694320097565651), ('Ġknew', 0.026763925328850746)], [('Ġvery', 0.0541534461081028), ('Ġplaying', 0.036402422934770584), ('Ġalso', 0.03230099380016327), ('Ġable', 0.032148074358701706), ('Ġexcited', 0.031092489138245583)], [('Ġat', 0.07282496243715286), ('Ġworking', 0.06737880408763885), ('Ġinvolved', 0.058949362486600876), ('Ġplaying', 0.052610963582992554), ('Ġa', 0.04978218674659729)], [('Ġexcited', 0.21670633554458618), ('Ġinterested', 0.1619616597890854), ('Ġimpressed', 0.12012851238250732), ('Ġfamiliar', 0.07705944031476974), ('Ġhappy', 0.02720937319099903)], [('Ġin', 0.9311440587043762), ('Ġto', 0.026739146560430527), ('Ġand', 0.008010972291231155), ('Ġby', 0.003982720896601677), (',', 0.0038195382803678513)], [('Ġthe', 0.29808759689331055), ('Ġplaying', 0.038486454635858536), ('Ġmultiplayer', 0.038312144577503204), ('Ġhow', 0.03318144753575325), ('Ġwhat', 0.026911985129117966)], [('Ġgame', 0.08450929075479507), ('Ġconcept', 0.03679003193974495), ('Ġmultiplayer', 0.031831834465265274), ('Ġdevelopment', 0.02336840145289898), ('Ġidea', 0.023083820939064026)], [('Ġaspect', 0.3436141014099121), ('Ġaspects', 0.08869761228561401), ('Ġgame', 0.0586322546005249), ('Ġgenre', 0.03802400454878807), ('Ġgames', 0.03796863555908203)], [('Ġof', 0.7558716535568237), ('.', 0.07363716512918472), (',', 0.07198289781808853), ('Ġand', 0.025594210252165794), ('Ġas', 0.013334478251636028)], [('Ġthe', 0.6753951907157898), ('Ġit', 0.06458001583814621), ('Ġthis', 0.031222419813275337), ('Ġmultiplayer', 0.02711295709013939), ('Ġ\"', 0.018191808834671974)], [('Ġgame', 0.9283624887466431), ('Ġgames', 0.005907241255044937), ('Ġshooter', 0.004797901958227158), ('Ġtitle', 0.003736096667125821), ('Ġproject', 0.0035768048837780952)], [('.', 0.42174798250198364), (',', 0.3179212510585785), ('Ġand', 0.07172912359237671), ('Ġas', 0.02936948835849762), ('Ġso', 0.011068923398852348)], [('Ġand', 0.29943007230758667), ('Ġso', 0.17761771380901337), ('Ġwhich', 0.11337284743785858), ('Ġbut', 0.08969693630933762), ('Ġas', 0.07672244310379028)], [('ĠI', 0.31674039363861084), ('Ġthe', 0.0495060533285141), ('Ġwanted', 0.04933863878250122), ('Ġso', 0.03759504109621048), ('Ġwas', 0.03701049089431763)], [('Ġwas', 0.1813504695892334), ('Ġwanted', 0.11052626371383667), ('Ġstarted', 0.05618489906191826), ('Ġhad', 0.05418936535716057), ('Ġthought', 0.03926589712500572)], [('Ġto', 0.9001586437225342), ('Ġa', 0.02547851763665676), ('Ġthe', 0.016664722934365273), ('Ġsomething', 0.0075453538447618484), ('Ġsome', 0.0054780286736786366)], [('Ġsee', 0.18574343621730804), ('Ġtry', 0.08000924438238144), ('Ġlearn', 0.06949415057897568), ('Ġmake', 0.06810115277767181), ('Ġplay', 0.060325995087623596)], [('Ġhow', 0.41062697768211365), ('Ġif', 0.2364301234483719), ('Ġwhat', 0.2354508936405182), ('Ġthe', 0.024683218449354172), ('Ġwhere', 0.012598973698914051)], [('Ġthe', 0.14109013974666595), ('ĠI', 0.09291258454322815), ('Ġit', 0.08789273351430893), ('Ġkind', 0.08532124757766724), ('Ġwould', 0.06604643911123276)], [('Ġgame', 0.13521423935890198), ('Ġcommunity', 0.09991699457168579), ('Ġmultiplayer', 0.06262098252773285), ('Ġplayers', 0.03540971130132675), ('Ġgameplay', 0.03296421095728874)], [('Ġwould', 0.31483083963394165), ('Ġcould', 0.22846248745918274), ('Ġwere', 0.15534448623657227), ('Ġwanted', 0.06334500759840012), ('Ġhad', 0.022039594128727913)], [('Ġdo', 0.27259957790374756), ('Ġlike', 0.20920078456401825), ('Ġbe', 0.10240847617387772), ('Ġthink', 0.0815114825963974), ('Ġwant', 0.061478350311517715)], [('Ġwith', 0.24739819765090942), ('.', 0.22076693177223206), ('Ġif', 0.09906961768865585), ('Ġin', 0.0966949611902237), ('Ġwhen', 0.0829426571726799)], [('Ġthe', 0.2833646535873413), ('Ġa', 0.09596160054206848), ('Ġcombat', 0.05741287022829056), ('Ġmultiplayer', 0.05607648938894272), ('Ġorder', 0.037191763520240784)], [('Ġgame', 0.37937965989112854), ('Ġmultiplayer', 0.13274569809436798), ('Ġreal', 0.035178400576114655), ('Ġfuture', 0.020612267777323723), ('Ġfirst', 0.016460886225104332)], [('.', 0.629392147064209), (',', 0.08425535261631012), ('Ġand', 0.03446507453918457), ('Ġif', 0.030629558488726616), ('Ġas', 0.017738662660121918)], [('ĠI', 0.31425008177757263), ('Ċ ', 0.09683013707399368), ('ĠSo', 0.0858522281050682), ('ĠThe', 0.05403159558773041), ('ĠIt', 0.02615469880402088)], [('Ġthe', 0.25535404682159424), ('Ġorder', 0.08567918837070465), ('Ġfact', 0.07456555962562561), ('Ġaddition', 0.053776029497385025), ('Ġmy', 0.053543493151664734)], [('Ġend', 0.2483159601688385), ('Ġbeginning', 0.22608907520771027), ('Ġearly', 0.109617680311203), ('Ġfirst', 0.05258791521191597), ('Ġgame', 0.03976728394627571)], [(',', 0.6172405481338501), ('Ġof', 0.1783101111650467), ('ĠI', 0.11611273884773254), ('Ġit', 0.01186998002231121), ('Ġthere', 0.009799727238714695)], [('ĠI', 0.6746856570243835), ('Ġthe', 0.07138476520776749), ('Ġit', 0.04104508459568024), ('Ġthere', 0.032490894198417664), ('Ġwe', 0.02343965880572796)], [('Ġwas', 0.22562022507190704), ('Ġhad', 0.08036394417285919), ('Ġdidn', 0.07253079861402512), ('Ġthought', 0.062340639531612396), ('Ġwanted', 0.05364840850234032)], [(\"'t\", 0.9995356798171997), ('Ċ ', 6.546604709001258e-05), (\"'\", 5.9767811762867495e-05), ('.', 5.947124373051338e-05), ('ï¿½', 4.187773811281659e-05)], [('Ġknow', 0.24364922940731049), ('Ġreally', 0.198390930891037), ('Ġhave', 0.13441430032253265), ('Ġwant', 0.09510915726423264), ('Ġthink', 0.05321318656206131)], [('Ġwhat', 0.3278862237930298), ('Ġhow', 0.14302775263786316), ('Ġmuch', 0.0944858118891716), ('Ġanything', 0.0795019343495369), ('Ġthat', 0.05856918916106224)], [('Ġthe', 0.3624612092971802), ('Ġmultiplayer', 0.2350209504365921), ('Ġany', 0.03203066438436508), ('Ġit', 0.02105981856584549), ('Ġ\"', 0.016574999317526817)], [('.', 0.2683952748775482), (',', 0.24158857762813568), ('Ġgames', 0.07407207787036896), ('Ġat', 0.07350686192512512), ('Ġin', 0.033450897783041)], [('ĠI', 0.4786624312400818), ('ĠIt', 0.05988694727420807), ('ĠBut', 0.03982336446642876), ('ĠThe', 0.03891689330339432), ('ĠIn', 0.028326604515314102)], [('Ġwas', 0.17858494818210602), ('Ġdidn', 0.11221354454755783), ('Ġhad', 0.0783030241727829), ('Ġjust', 0.06977391988039017), ('Ġthought', 0.06215202435851097)], [('Ġit', 0.2316548079252243), ('Ġthat', 0.2070670872926712), (',', 0.12988115847110748), ('ĠI', 0.05399319529533386), ('Ġthe', 0.053965188562870026)], [('Ġwas', 0.5070829391479492), ('Ġwould', 0.35540273785591125), ('Ġmight', 0.03487265855073929), (\"'d\", 0.012005507946014404), ('Ġcould', 0.010354291647672653)], [('Ġbe', 0.8757451772689819), ('Ġmake', 0.010987730696797371), ('Ġjust', 0.010617385618388653), ('Ġhave', 0.009984007105231285), ('Ġtake', 0.009167433716356754)], [('Ġfun', 0.20263968408107758), ('Ġcool', 0.1937263309955597), ('Ġa', 0.14542679488658905), ('Ġinteresting', 0.0936470627784729), ('Ġgreat', 0.035813357681035995)], [('Ġto', 0.6034115552902222), ('Ġif', 0.14368903636932373), (',', 0.07253887504339218), ('Ġfor', 0.04546350613236427), ('.', 0.0403134785592556)], [('Ġhave', 0.26602140069007874), ('Ġplay', 0.13967099785804749), ('Ġsee', 0.06489361077547073), ('Ġtry', 0.0592171773314476), ('Ġdo', 0.03814258053898811)], [('Ġa', 0.3280138373374939), ('Ġsome', 0.08719462901353836), ('Ġthe', 0.051807936280965805), ('Ġmultiplayer', 0.040586408227682114), ('Ġplayers', 0.039522405713796616)], [('Ġkind', 0.1396043300628662), ('Ġsort', 0.11106984317302704), ('Ġmultiplayer', 0.0637013241648674), ('Ġfun', 0.059482257813215256), ('Ġof', 0.04541877284646034)], [('Ġof', 0.999637246131897), ('Ġa', 3.424782698857598e-05), (',', 2.4665148885105737e-05), ('.', 2.4556620701332577e-05), ('Ġto', 2.3154152586357668e-05)], [('Ġmultiplayer', 0.10693290084600449), ('Ġonline', 0.062306348234415054), ('Ġa', 0.038218677043914795), ('Ġ\"', 0.03772733360528946), ('Ġgame', 0.03715064376592636)], [('game', 0.031193166971206665), ('multi', 0.030449895188212395), ('team', 0.020323658362030983), ('real', 0.013408748432993889), ('match', 0.012915744446218014)], [('Ġgame', 0.3003110885620117), ('\"', 0.22849078476428986), ('Ġmode', 0.12984393537044525), ('-', 0.03644688054919243), ('Ġsystem', 0.03379437327384949)], [('\"', 0.6714860796928406), ('.\"', 0.08787776529788971), (',\"', 0.07873226702213287), ('\",', 0.06087486445903778), ('\".', 0.06031962111592293)], [('Ġwhere', 0.3412143886089325), ('Ġthat', 0.1079411655664444), ('Ġin', 0.05926160886883736), ('Ġwith', 0.0548105351626873), ('Ġor', 0.03777141869068146)], [('Ġa', 0.18062762916088104), ('Ġfriends', 0.12097840756177902), ('Ġthe', 0.11092797666788101), ('Ġsome', 0.10519851744174957), ('Ġplayers', 0.03857744485139847)], [('Ġsort', 0.18584856390953064), ('Ġkind', 0.13305629789829254), ('Ġof', 0.12735804915428162), ('Ġfriends', 0.07403212785720825), ('Ġpeople', 0.03448754921555519)], [('Ġof', 0.9994496703147888), ('-', 4.1828156099654734e-05), ('Ġ\"', 3.78151198674459e-05), (',', 3.400086279725656e-05), ('.', 2.8625043341889977e-05)], [('Ġmultiplayer', 0.05184689164161682), ('Ġ\"', 0.050758425146341324), ('Ġgame', 0.029164349660277367), ('Ġcombat', 0.0179008636623621), ('Ġgroup', 0.017811359837651253)], [('game', 0.03223951905965805), ('team', 0.030269594863057137), ('party', 0.02956591732800007), ('player', 0.020484087988734245), ('combat', 0.01752243936061859)], [('Ġmode', 0.1911506950855255), ('\"', 0.0744922086596489), ('Ġof', 0.053132493048906326), ('Ġplay', 0.04990764334797859), ('pad', 0.04185941070318222)], [('\"', 0.4116883873939514), ('.\"', 0.265433132648468), ('\".', 0.19123901426792145), (',\"', 0.06140550598502159), ('\",', 0.047897692769765854)], [('Ġthat', 0.1903570294380188), ('Ġwhere', 0.1509275585412979), ('Ġin', 0.0594269260764122), ('Ġand', 0.055383533239364624), ('Ġor', 0.05186789482831955)], [('Ġwould', 0.37931230664253235), ('ĠI', 0.1454656571149826), ('Ġwas', 0.09440821409225464), ('Ġcould', 0.048579759895801544), ('Ġallowed', 0.038604896515607834)], [('Ġallow', 0.30899202823638916), ('Ġbe', 0.13006512820720673), ('Ġlet', 0.118097223341465), ('Ġgive', 0.04577574133872986), ('Ġhave', 0.044409364461898804)], [('Ġplayers', 0.2435401827096939), ('Ġyou', 0.2280476689338684), ('Ġthe', 0.2188466340303421), ('Ġpeople', 0.05035676434636116), ('Ġa', 0.042218707501888275)], [('Ġplayer', 0.5257776379585266), ('Ġplayers', 0.29865482449531555), ('Ġgame', 0.05703885853290558), ('Ġuser', 0.01128478441387415), ('Ġgamer', 0.007874684408307076)], [('Ġa', 0.22359518706798553), ('Ġthe', 0.21078509092330933), ('Ġsome', 0.09904202818870544), ('Ġmore', 0.05771079286932945), ('Ġan', 0.04791991040110588)], [('Ġchance', 0.15518681704998016), ('Ġsense', 0.07642202079296112), ('Ġway', 0.0601213239133358), ('Ġlot', 0.05834098160266876), ('Ġdifferent', 0.04705674573779106)], [('Ġsense', 0.20276948809623718), ('-', 0.10968928784132004), ('Ġchance', 0.10579343140125275), ('Ġchallenge', 0.06699138134717941), ('Ġopportunity', 0.05457674711942673)], [('.', 0.2501981556415558), ('Ġover', 0.23570023477077484), ('Ġin', 0.21079891920089722), ('Ġwhen', 0.04356890544295311), (',', 0.04023351892828941)], [('ĠI', 0.2457050085067749), ('ĠThe', 0.06404417008161545), ('ĠBut', 0.05332506075501442), ('ĠHowever', 0.049744635820388794), ('ĠIn', 0.0487556979060173)], [('ĠI', 0.15721958875656128), ('Ġthen', 0.12014961987733841), ('Ġthe', 0.06266658753156662), ('Ġwhen', 0.056404151022434235), ('Ġafter', 0.055601753294467926)], [('ĠI', 0.3359062969684601), ('Ġtime', 0.2868362069129944), ('Ġthe', 0.150203675031662), ('Ġit', 0.03465358912944794), ('Ġsoon', 0.03287149593234062)], [('Ġwent', 0.8277866840362549), ('Ġprogressed', 0.0640212893486023), ('Ġpassed', 0.06254587322473526), ('Ġwore', 0.006671215873211622), ('Ġgoes', 0.0063443370163440704)], [('Ġon', 0.8162772059440613), ('Ġby', 0.16511401534080505), ('Ġalong', 0.014262516051530838), (',', 0.0009564480278640985), ('Ġand', 0.0004251763748470694)], [(',', 0.8326883912086487), ('Ġand', 0.08560141921043396), ('ĠI', 0.0389176569879055), ('Ġit', 0.004719140473753214), ('Ġthe', 0.004368480760604143)], [('ĠI', 0.6156043410301208), ('Ġthe', 0.10278601944446564), ('Ġit', 0.054135508835315704), ('Ġand', 0.03982879966497421), ('Ġmy', 0.023575467988848686)], [('Ġrealized', 0.3464340269565582), ('Ġstarted', 0.13946247100830078), ('Ġbegan', 0.06211693584918976), ('Ġwas', 0.03952069580554962), ('Ġgot', 0.03461023047566414)], [('Ġthat', 0.7407568097114563), ('ĠI', 0.05210819095373154), ('Ġthere', 0.03687448054552078), ('Ġit', 0.0298454686999321), ('Ġthe', 0.02956128865480423)], [('ĠI', 0.18182624876499176), ('Ġit', 0.15239864587783813), ('Ġthe', 0.11789669096469879), ('Ġthere', 0.1010279729962349), ('Ġmultiplayer', 0.06590940058231354)], [('Ġwas', 0.46988117694854736), ('Ġwere', 0.19887825846672058), ('Ġwasn', 0.12497339397668839), ('Ġweren', 0.03204590827226639), ('Ġis', 0.03040974587202072)], [('Ġa', 0.2138221263885498), ('Ġno', 0.06913352757692337), ('Ġmany', 0.0626354068517685), ('Ġtoo', 0.0621659979224205), ('Ġsome', 0.06097569316625595)], [('Ġlot', 0.6998946070671082), ('Ġfew', 0.1019471138715744), ('Ġnumber', 0.09229499101638794), ('Ġcouple', 0.022918017581105232), ('Ġbunch', 0.010943959467113018)], [('Ġof', 0.9561140537261963), ('Ġmore', 0.03648778423666954), ('Ġfewer', 0.0007739380816929042), ('Ġless', 0.0005881614633835852), ('Ġdifferent', 0.00040596164762973785)], [('Ġpeople', 0.12787362933158875), ('Ġthings', 0.09803962707519531), ('Ġdifferent', 0.0662226527929306), ('Ġplayers', 0.04368242621421814), ('Ġgames', 0.04068171977996826)], [('Ġways', 0.3242594301700592), ('Ġtypes', 0.08313197642564774), ('Ġthings', 0.06424921751022339), ('Ġkinds', 0.05265355855226517), ('Ġgames', 0.034194428473711014)], [('Ġthat', 0.3808014690876007), ('Ġgoing', 0.10120456665754318), ('ĠI', 0.08047766983509064), ('Ġyou', 0.07023404538631439), ('Ġto', 0.06262875348329544)], [('Ġwanted', 0.36161869764328003), ('Ġcould', 0.35412687063217163), ('Ġwas', 0.06256531924009323), ('Ġdidn', 0.035775065422058105), ('Ġneeded', 0.029784193262457848)], [('Ġto', 0.8500270247459412), ('Ġthe', 0.04183592274785042), ('Ġin', 0.027523202821612358), ('Ġout', 0.008826389908790588), ('Ġplayers', 0.008084394037723541)], [('Ġdo', 0.5679986476898193), ('Ġsee', 0.05409901216626167), ('Ġaccomplish', 0.03572126850485802), ('Ġtry', 0.03468781337141991), ('Ġadd', 0.031228039413690567)], [('.', 0.31062087416648865), ('Ġwith', 0.13956840336322784), (',', 0.12174393981695175), ('Ġin', 0.10158591717481613), ('Ġand', 0.07857561856508255)], [('ĠI', 0.2748411297798157), ('ĠThe', 0.06539813429117203), ('ĠOne', 0.06385200470685959), ('Ċ ', 0.05505058541893959), ('ĠSo', 0.04504562169313431)], [('Ġme', 0.1476956158876419), ('Ġbe', 0.07030614465475082), ('Ġmake', 0.06172860786318779), ('Ġthis', 0.049551162868738174), ('Ġbegin', 0.047607824206352234)], [('Ġa', 0.1766587346792221), ('Ġthe', 0.16884568333625793), ('Ġthis', 0.12401456385850906), ('Ġit', 0.10376202315092087), ('Ġmultiplayer', 0.045082636177539825)], [('Ġmore', 0.14640143513679504), ('Ġfun', 0.09921597689390182), ('Ġa', 0.0905718058347702), ('Ġwork', 0.06939826905727386), ('Ġinteresting', 0.051898445934057236)], [(',', 0.44284334778785706), ('Ġfor', 0.15753546357154846), ('Ġto', 0.13885758817195892), ('Ġand', 0.13673298060894012), ('.', 0.02232496254146099)], [('Ġthe', 0.5733954310417175), ('Ġpeople', 0.08183014392852783), ('Ġeveryone', 0.07201622426509857), ('Ġplayers', 0.06151795759797096), ('Ġmy', 0.01851605251431465)], [('Ġplayers', 0.47721752524375916), ('Ġplayer', 0.3035578429698944), ('Ġgame', 0.015000220388174057), ('Ġgamer', 0.0144330570474267), ('Ġpeople', 0.01282547414302826)], [(',', 0.7288935780525208), ('Ġand', 0.06320474296808243), ('.', 0.04194728657603264), ('Ġto', 0.03686334192752838), ('ĠI', 0.018342336639761925)], [('ĠI', 0.4563409090042114), ('Ġto', 0.12130731344223022), ('Ġit', 0.06379437446594238), ('Ġand', 0.05917777493596077), ('Ġthere', 0.05631079897284508)], [('Ġgame', 0.3332749307155609), ('Ġmultiplayer', 0.04794435575604439), ('Ġplayer', 0.03907465562224388), ('Ġgameplay', 0.02677968516945839), ('Ġidea', 0.02651357278227806)], [('Ġaspect', 0.21786165237426758), ('Ġwas', 0.09223365038633347), ('Ġwould', 0.06292235851287842), ('Ġaspects', 0.04327194020152092), ('Ġpart', 0.03599569946527481)], [('Ġwas', 0.31351137161254883), ('Ġwould', 0.16711167991161346), ('Ġof', 0.11179189383983612), ('Ġhad', 0.03127932548522949), ('Ġrequired', 0.01821405626833439)], [('Ġa', 0.08127346634864807), ('Ġsomething', 0.06526920199394226), ('Ġvery', 0.05870187655091286), ('Ġimportant', 0.05228068307042122), ('Ġreally', 0.0403248593211174)], [('.', 0.4188072979450226), (',', 0.16700489819049835), ('Ġto', 0.11700166016817093), ('Ġin', 0.05041554942727089), ('Ġand', 0.0347212553024292)], [('ĠI', 0.1823025643825531), ('ĠThe', 0.10887610912322998), ('ĠIt', 0.05935047194361687), ('ĠSo', 0.0517861545085907), ('ĠIn', 0.0446840263903141)], [('Ġwanted', 0.1692236065864563), ('Ġwas', 0.07012755423784256), ('Ġthought', 0.0503317192196846), ('Ġhad', 0.04962252080440521), ('Ġstarted', 0.04547647014260292)], [('Ġto', 0.2055305391550064), ('Ġplaying', 0.09809760749340057), ('Ġthinking', 0.07994956523180008), ('Ġworking', 0.06949266046285629), ('Ġmaking', 0.03925732523202896)], [('Ġwith', 0.13999705016613007), ('Ġthe', 0.13400566577911377), ('Ġmultiplayer', 0.0997290089726448), ('Ġa', 0.06762175261974335), ('Ġgames', 0.03871653228998184)], [('Ġgame', 0.37332484126091003), ('Ġfirst', 0.12518084049224854), ('Ġmultiplayer', 0.1214136928319931), ('Ġ\"', 0.039579082280397415), ('Ġdemo', 0.026367362588644028)], [('Ġwith', 0.1258981078863144), ('Ġin', 0.09655594080686569), ('Ġon', 0.07476764917373657), ('Ġas', 0.051217131316661835), ('Ġat', 0.0474824421107769)], [('Ġa', 0.4718641936779022), ('Ġsoon', 0.152666836977005), ('Ġan', 0.08237391710281372), ('ĠI', 0.04796111211180687), ('Ġthe', 0.02625667303800583)], [('Ġspectator', 0.054836489260196686), ('Ġmember', 0.04670737311244011), ('Ġsolo', 0.03371734544634819), ('Ġkid', 0.03099464438855648), ('Ġgroup', 0.030473170801997185)], [('Ġof', 0.8865281939506531), (',', 0.034062717109918594), ('Ġand', 0.024415694177150726), ('.', 0.011649981141090393), ('Ġin', 0.007648817729204893)], [('Ġthe', 0.5472078919410706), ('Ġa', 0.1456964761018753), ('Ġmy', 0.06518585234880447), ('ĠTeam', 0.05909721180796623), ('Ġan', 0.026585528627038002)], [('ĠU', 0.3542739748954773), ('ĠArmy', 0.10599078238010406), ('Ġteam', 0.04919936880469322), ('Ġmilitary', 0.028156418353319168), ('ĠUnited', 0.011811002157628536)], [('.', 0.9991573095321655), ('-', 0.00020345828670542687), (',', 9.324526763521135e-05), ('/', 2.4179789761547e-05), ('Ġ.', 2.407706961093936e-05)], [('S', 0.9977007508277893), ('K', 0.0006775202346034348), ('N', 0.0006034086691215634), ('ĠS', 0.0004222703573759645), ('A', 0.00013630682951770723)], [('.', 0.9876130819320679), ('ĠArmy', 0.0049888864159584045), ('.-', 0.0011551767820492387), ('.,', 0.001046238117851317), ('Ġmilitary', 0.0006577832391485572)], [('ĠArmy', 0.8273276686668396), ('Ġmilitary', 0.024096718057990074), ('ĠMarines', 0.016338525339961052), ('ĠMarine', 0.015356590040028095), ('ĠAir', 0.014797384850680828)], [(',', 0.24708561599254608), ('.', 0.2321384698152542), ('Ġand', 0.12081653624773026), ('Ġin', 0.05590568855404854), ('Ġat', 0.018721917644143105)], [('ĠI', 0.31554049253463745), ('ĠIt', 0.06442365795373917), ('ĠThe', 0.05937068536877632), ('ĠIn', 0.0467308908700943), ('ĠAfter', 0.03442041203379631)], [('ĠI', 0.8072989583015442), ('Ġthe', 0.0568777360022068), ('Ġit', 0.02360818348824978), ('Ġwe', 0.02041030116379261), ('Ġyou', 0.018052751198410988)], [('Ġwas', 0.16546955704689026), ('Ġgot', 0.126494899392128), ('Ġjoined', 0.11356937885284424), ('Ġleft', 0.06871848553419113), ('Ġstarted', 0.06404095143079758)], [('Ġto', 0.5379860401153564), ('Ġhome', 0.17435626685619354), (',', 0.12234408408403397), ('Ġfrom', 0.08195202052593231), ('Ġback', 0.01299011055380106)], [('ĠAfghanistan', 0.3207550644874573), ('Ġthe', 0.2705152928829193), ('Ġmy', 0.192045196890831), ('Ġschool', 0.01943296007812023), ('ĠIraq', 0.012813865207135677)], [('Ġhometown', 0.5443471074104309), ('Ġhome', 0.27818652987480164), ('Ġcountry', 0.02127249352633953), ('Ġbase', 0.015180859714746475), ('Ġhomeland', 0.012387420982122421)], [(',', 0.5879204869270325), ('Ġin', 0.08901525288820267), ('Ġof', 0.06581135839223862), ('Ġand', 0.051459986716508865), ('Ġto', 0.04292309284210205)], [('ĠI', 0.7510337829589844), ('Ġmy', 0.05080505460500717), ('Ġthe', 0.04140060022473335), ('Ġit', 0.032769691199064255), ('Ġthere', 0.0121925612911582)], [('Ġwas', 0.16714850068092346), ('Ġstarted', 0.07597582787275314), ('Ġhad', 0.05470997840166092), ('Ġplayed', 0.05182603746652603), ('Ġfound', 0.04347705841064453)], [('Ġthat', 0.2667732536792755), ('Ġout', 0.23327212035655975), ('Ġmyself', 0.1132713034749031), ('Ġa', 0.07264187186956406), ('Ġthe', 0.05956604704260826)], [('Ġplaying', 0.2999517321586609), ('Ġin', 0.10220304131507874), ('Ġat', 0.0343698151409626), ('Ġspending', 0.020009228959679604), ('Ġworking', 0.017641115933656693)], [('Ġa', 0.4050484299659729), ('Ġthe', 0.16019539535045624), ('ĠAfghanistan', 0.06473071873188019), ('Ġan', 0.04390069842338562), ('Ġmany', 0.024510035291314125)], [('Ġmiddle', 0.22777894139289856), ('Ġsame', 0.1187567263841629), ('Ġmidst', 0.08850603550672531), ('Ġmilitary', 0.027691813185811043), ('ĠArmy', 0.021017054095864296)], [('Ġof', 0.9874728918075562), (',', 0.0011033323826268315), ('.', 0.0008886789437383413), ('Ġbetween', 0.0008644709014333785), ('Ġand', 0.0004509243881329894)], [('Ġa', 0.4025360941886902), ('Ġthe', 0.10887890309095383), ('Ġan', 0.04227513074874878), ('Ġsome', 0.040701527148485184), ('Ġcombat', 0.018306605517864227)], [('Ġwar', 0.1877676546573639), ('Ġgame', 0.050063807517290115), ('Ġbattle', 0.038879524916410446), ('Ġvery', 0.0378703773021698), ('Ġlot', 0.023852864280343056)], [('.', 0.1851034015417099), ('Ġwith', 0.14788950979709625), (',', 0.1046902984380722), ('Ġin', 0.0994148999452591), ('Ġzone', 0.09910289943218231)], [('Ġthe', 0.22171267867088318), ('Ġa', 0.16935868561267853), ('Ġmy', 0.085035540163517), ('ĠTaliban', 0.04763006791472435), ('Ġsome', 0.044918060302734375)], [('Ġlot', 0.13187812268733978), ('Ġgroup', 0.1077171117067337), ('Ġvery', 0.0589287169277668), ('Ġbunch', 0.044644925743341446), ('Ġnumber', 0.03132260590791702)], [('Ġof', 0.9631859660148621), ('Ġthat', 0.008678512647747993), ('Ġcalled', 0.00653162132948637), ('Ġfrom', 0.0033302023075520992), ('Ġin', 0.0026886211708188057)], [('ĠTaliban', 0.1611422896385193), ('Ġinsurgents', 0.06478825956583023), ('Ġpeople', 0.03018755279481411), ('ĠAfghan', 0.02689610980451107), ('Ġyoung', 0.023553894832730293)], [('Ġfighters', 0.2317291498184204), ('.', 0.16351893544197083), ('Ġinsurgents', 0.08753005415201187), ('Ġwho', 0.04432288929820061), (',', 0.0364481657743454)], [('.', 0.5422651171684265), ('Ġwho', 0.11585638672113419), (',', 0.08635635673999786), ('Ġand', 0.043816059827804565), ('Ġin', 0.03646445274353027)], [('ĠI', 0.34273025393486023), ('ĠThe', 0.11598346382379532), ('ĠThey', 0.10847530514001846), ('ĠOne', 0.03806447237730026), ('ĠIt', 0.03365488350391388)], [('Ġwas', 0.258872926235199), ('Ġhad', 0.07824180275201797), ('Ġdidn', 0.03385533392429352), ('Ġstarted', 0.027819333598017693), ('Ġthought', 0.026100371032953262)], [('Ġin', 0.06276769191026688), ('Ġvery', 0.045846909284591675), ('Ġa', 0.02541855350136757), ('Ġplaying', 0.024805495515465736), ('Ġtrying', 0.024119842797517776)], [('Ġin', 0.20192711055278778), ('Ġby', 0.1704254001379013), ('.', 0.14411385357379913), (',', 0.11807814985513687), ('Ġand', 0.11021050810813904)], [('Ġone', 0.26541510224342346), ('Ġthe', 0.15961632132530212), ('Ġa', 0.14585550129413605), ('Ġthem', 0.1296345591545105), ('Ġan', 0.0363689586520195)], [('Ġof', 0.8428356051445007), (',', 0.03027983009815216), ('.', 0.02278442122042179), ('Ġsoldier', 0.011527218855917454), ('Ġand', 0.010059665888547897)], [('Ġthe', 0.5185361504554749), ('Ġthem', 0.30318257212638855), ('Ġmy', 0.04825465381145477), ('Ġtheir', 0.04758307337760925), ('Ġthese', 0.02903573215007782)], [('ĠTaliban', 0.43345537781715393), ('Ġsoldiers', 0.22904838621616364), ('Ġmen', 0.046215929090976715), ('Ġinsurgents', 0.04015953093767166), ('Ġgroup', 0.01916334219276905)], [('Ġsoldiers', 0.2766916751861572), ('.', 0.11586261540651321), (',', 0.10034573078155518), ('Ġand', 0.05518918111920357), ('Ġfighters', 0.049366824328899384)], [('ĠI', 0.21767248213291168), ('Ġwas', 0.0996866226196289), ('Ġmy', 0.0969548299908638), ('Ġthe', 0.06972959637641907), ('Ġthey', 0.04019599035382271)], [('Ġwas', 0.38600847125053406), ('Ġhad', 0.08526838570833206), ('Ġlost', 0.03515248745679855), ('Ġdidn', 0.03508175536990166), ('Ġgot', 0.020986026152968407)], [('Ġtaken', 0.051192544400691986), ('Ġleft', 0.048038139939308167), ('Ġforced', 0.04473208263516426), ('Ġsent', 0.04091776907444), ('Ġin', 0.030791768804192543)], [('Ġonly', 0.5535675883293152), ('Ġone', 0.11762777715921402), ('Ġfirst', 0.09146753698587418), ('Ġlast', 0.04619602859020233), ('Ġtarget', 0.02391139231622219)], [('Ġone', 0.4938867390155792), ('Ġsurvivor', 0.1694151610136032), ('Ġperson', 0.09471986442804337), ('Ġmember', 0.046605125069618225), ('Ġsoldier', 0.022151170298457146)], [('.', 0.6217162013053894), ('Ġof', 0.15508835017681122), (',', 0.05067894235253334), ('Ġin', 0.048609714955091476), ('Ġthat', 0.009003563784062862)], [('ĠI', 0.31936192512512207), ('ĠThe', 0.09940582513809204), ('ĠIt', 0.04700043424963951), ('ĠMy', 0.04377313703298569), ('ĠAfter', 0.031479574739933014)], [('Ġwas', 0.24062025547027588), ('Ġhad', 0.07500503957271576), ('Ġdidn', 0.039822112768888474), ('Ġthought', 0.028173549100756645), ('Ġwanted', 0.02313959412276745)], [('Ġto', 0.7332768440246582), ('Ġthat', 0.15358655154705048), ('ĠI', 0.04793994128704071), ('Ġit', 0.011705398559570312), ('Ġnot', 0.010254518128931522)], [('Ġgo', 0.12103772908449173), ('Ġplay', 0.10834696888923645), ('Ġjoin', 0.06079476699233055), ('Ġtake', 0.04750839248299599), ('Ġmake', 0.04020373523235321)], [('Ġthe', 0.17776790261268616), ('Ġa', 0.17090946435928345), ('Ġmy', 0.09580937027931213), ('Ġpart', 0.07372685521841049), ('Ġit', 0.047827333211898804)], [('Ġbreak', 0.1676868349313736), ('Ġchance', 0.054419178515672684), ('Ġstand', 0.04461738094687462), ('Ġlook', 0.03604470193386078), ('Ġdifferent', 0.03268713504076004)], [('Ġat', 0.7252882122993469), ('Ġinto', 0.056425388902425766), ('Ġand', 0.04906775802373886), ('Ġback', 0.03118579462170601), ('Ġaround', 0.029381848871707916)], [('Ġthe', 0.4014196991920471), ('Ġwhat', 0.16908195614814758), ('Ġmultiplayer', 0.06480655074119568), ('Ġhow', 0.06244903802871704), ('Ġsome', 0.041512202471494675)], [('Ġand', 0.2675960659980774), ('.', 0.19096525013446808), (',', 0.10388384759426117), ('Ġgames', 0.0738120749592781), ('Ġin', 0.06549374014139175)], [('ĠI', 0.4454672932624817), ('ĠThe', 0.055486030876636505), ('Ċ ', 0.05374445021152496), ('ĠIt', 0.0404411181807518), ('ĠAfter', 0.03162511810660362)], [('Ġstarted', 0.0849413350224495), ('Ġwas', 0.08142098039388657), ('Ġwanted', 0.06901363283395767), ('Ġdecided', 0.05606403574347496), ('Ġhad', 0.0514708086848259)], [('Ġa', 0.42941462993621826), ('Ġthe', 0.12987352907657623), ('Ġsome', 0.07027886807918549), ('Ġmy', 0.053173672407865524), ('Ġout', 0.022081520408391953)], [('Ġtime', 0.12969368696212769), ('Ġgame', 0.10317859053611755), ('Ġopportunity', 0.0980721116065979), ('Ġfirst', 0.05393624305725098), ('Ġidea', 0.035622488707304)], [('Ġto', 0.6808314323425293), ('Ġand', 0.12241118401288986), ('Ġthat', 0.06301499903202057), ('Ġof', 0.04720937833189964), (',', 0.018804723396897316)], [('Ġplay', 0.2938106656074524), ('Ġsee', 0.07472465932369232), ('Ġtry', 0.05337723717093468), ('Ġgo', 0.035896532237529755), ('Ġcreate', 0.028991933912038803)], [('Ġa', 0.4739469587802887), ('Ġsome', 0.15529151260852814), ('Ġmy', 0.06372226774692535), ('Ġfun', 0.061218492686748505), ('Ġthe', 0.04643774777650833)], [('Ġfun', 0.4686991572380066), ('Ġfriends', 0.06468605995178223), ('Ġtime', 0.050888627767562866), ('Ġof', 0.039648737758398056), ('Ġkind', 0.031365931034088135)], [('Ġwith', 0.5163915753364563), ('Ġand', 0.11930441111326218), ('.', 0.09793966263532639), (',', 0.06119189038872719), ('Ġplaying', 0.03299669921398163)], [('Ġthe', 0.3772023320198059), ('Ġit', 0.22653895616531372), ('Ġa', 0.06211685389280319), ('Ġsome', 0.05653000250458717), ('Ġmultiplayer', 0.05188196897506714)], [('Ġgame', 0.4367482662200928), ('Ġmultiplayer', 0.26712149381637573), ('Ġplayers', 0.021142568439245224), ('Ġplayer', 0.019637249410152435), ('Ġgameplay', 0.011028449051082134)], [('Ġcomponent', 0.25289633870124817), ('.', 0.11143798381090164), ('Ġaspect', 0.08061128109693527), ('Ġgame', 0.04282441362738609), (',', 0.039658721536397934)], [('ĠI', 0.36832329630851746), ('ĠThe', 0.07549575716257095), ('ĠIt', 0.045232851058244705), ('Ċ ', 0.04146811366081238), ('ĠIn', 0.03754343464970589)], [('Ġstarted', 0.07698936015367508), ('Ġwas', 0.05926082655787468), ('Ġdecided', 0.053456880152225494), ('Ġwanted', 0.05333385616540909), ('Ġhad', 0.046556249260902405)], [('Ġvery', 0.10345900058746338), ('Ġable', 0.06211373955011368), ('Ġsurprised', 0.04899227246642113), ('Ġreally', 0.03597337007522583), ('Ġa', 0.03213677927851677)], [('Ġthe', 0.29402515292167664), ('Ġa', 0.22866055369377136), ('ĠAfghanistan', 0.06338203698396683), ('Ġcharge', 0.03607378900051117), ('Ġmy', 0.02244388498365879)], [('Ġgroup', 0.060678012669086456), ('Ġvery', 0.06034745275974274), ('Ġposition', 0.03767353668808937), ('Ġlot', 0.02803121879696846), ('Ġsituation', 0.026070820167660713)], [('Ġwhere', 0.4754127860069275), ('Ġcalled', 0.15475426614284515), ('Ġthat', 0.07801566272974014), ('Ġwith', 0.07664165645837784), ('ĠI', 0.037408340722322464)], [('Ġwas', 0.3561243414878845), ('Ġhad', 0.1549336463212967), ('ĠI', 0.13617879152297974), ('Ġwasn', 0.028544189408421516), ('Ġthe', 0.01724490150809288)], [('Ġvery', 0.25110211968421936), ('Ġnot', 0.04177267476916313), ('Ġreally', 0.03263426944613457), ('Ġa', 0.030056985095143318), ('Ġpretty', 0.023315543308854103)], [('Ġmuch', 0.10789496451616287), ('Ġhostile', 0.0507010854780674), ('Ġdangerous', 0.030801307410001755), ('Ġquiet', 0.028241587802767754), ('Ġcrowded', 0.022736424580216408)], [('Ġto', 0.4516432583332062), (',', 0.17746618390083313), ('.', 0.11765829473733902), ('Ġand', 0.07682208716869354), ('Ġfor', 0.041790712624788284)], [('Ġthe', 0.18064196407794952), ('Ġme', 0.15704865753650665), ('Ġmy', 0.02974499948322773), ('Ġpeople', 0.028240319341421127), ('Ġmultiplayer', 0.020741131156682968)], [('ĠTaliban', 0.5878884792327881), ('ĠU', 0.055885445326566696), ('Ġgame', 0.03852362930774689), ('Ġmilitary', 0.027870796620845795), ('Ġwar', 0.017436709254980087)], [('.', 0.34638315439224243), (',', 0.31878921389579773), ('Ġand', 0.1651095598936081), ('Ġbecause', 0.01856807805597782), ('Ġso', 0.014469551853835583)], [('Ġand', 0.4204555153846741), ('Ġso', 0.3042902648448944), ('Ġbut', 0.10669375211000443), ('Ġwhich', 0.03153957799077034), ('ĠI', 0.011308245360851288)], [('ĠI', 0.4116949141025543), ('Ġthey', 0.06869307905435562), ('Ġthe', 0.06748789548873901), ('Ġthere', 0.057524096220731735), ('Ġit', 0.054712604731321335)], [('Ġwas', 0.18787361681461334), ('Ġwanted', 0.12334784865379333), ('Ġhad', 0.08193075656890869), ('Ġthought', 0.04491490498185158), ('Ġdidn', 0.04324106499552727)], [('Ġto', 0.7487398386001587), ('Ġthat', 0.15596812963485718), ('ĠI', 0.03458702191710472), ('Ġit', 0.014471492730081081), ('Ġnot', 0.006057312712073326)], [('ĠI', 0.4874877333641052), ('Ġit', 0.11583885550498962), ('Ġthe', 0.06002858653664589), ('Ġif', 0.03844226151704788), ('Ġmultiplayer', 0.027156271040439606)], [('Ġwanted', 0.5163003206253052), ('Ġwould', 0.19859036803245544), ('Ġneeded', 0.058217935264110565), (\"'d\", 0.04750087112188339), ('Ġwas', 0.03521626442670822)], [('Ġto', 0.8431647419929504), ('Ġa', 0.036321915686130524), ('Ġthe', 0.03199906274676323), ('Ġsome', 0.01093524880707264), ('Ġsomething', 0.010401323437690735)], [('Ġmake', 0.14798228442668915), ('Ġcreate', 0.0954192504286766), ('Ġplay', 0.07583147287368774), ('Ġtry', 0.0695338025689125), ('Ġhave', 0.05072706937789917)], [('Ġa', 0.2760884463787079), ('Ġit', 0.1587439626455307), ('Ġthe', 0.11796129494905472), ('Ġsomething', 0.09324745088815689), ('Ġmultiplayer', 0.07744298875331879)], [('Ġfun', 0.48350730538368225), ('Ġa', 0.1089637354016304), ('Ġas', 0.04098886996507645), ('Ġmore', 0.03865913674235344), ('Ġinteresting', 0.024722930043935776)], [('Ġfor', 0.7711942195892334), ('.', 0.07697096467018127), ('Ġto', 0.04834594577550888), ('Ġand', 0.02475493773818016), ('Ġenough', 0.012041098438203335)], [('Ġthe', 0.6885786652565002), ('Ġthem', 0.14698933064937592), ('Ġeveryone', 0.03293227404356003), ('Ġpeople', 0.017364220693707466), ('Ġmy', 0.013567344285547733)], [('Ġplayer', 0.41400936245918274), ('Ġplayers', 0.37747207283973694), ('Ġgame', 0.013555891811847687), ('Ġpeople', 0.012574796564877033), ('Ġsoldiers', 0.011252384632825851)], [('.', 0.639170229434967), ('Ġto', 0.07941529899835587), (',', 0.07502758502960205), ('Ġby', 0.0425947867333889), ('Ġand', 0.03376254439353943)], [('ĠI', 0.3444525897502899), ('ĠSo', 0.1082925871014595), ('ĠThe', 0.07026976346969604), ('ĠIt', 0.03313034027814865), ('ĠIn', 0.031246796250343323)], [('Ġgame', 0.17996129393577576), ('Ġmultiplayer', 0.17187361419200897), ('Ġfirst', 0.07379119098186493), ('Ġidea', 0.048139359802007675), ('Ġgoal', 0.01614263653755188)], [('Ġwas', 0.3147905170917511), ('ĠI', 0.0642469972372055), ('Ġhad', 0.03651367127895355), ('Ġstarted', 0.03489160165190697), ('Ġitself', 0.03207774832844734)], [('Ġcalled', 0.06654956936836243), ('Ġvery', 0.061772216111421585), ('Ġa', 0.04439859092235565), ('Ġpretty', 0.033762235194444656), ('Ġdesigned', 0.0238458551466465)], [('Ġto', 0.44106197357177734), ('Ġfor', 0.08377484232187271), ('Ġwith', 0.06394879519939423), ('Ġin', 0.05834966152906418), ('Ġas', 0.053705450147390366)], [('Ġbe', 0.548608124256134), ('Ġhave', 0.04473321512341499), ('Ġgive', 0.03896940499544144), ('Ġallow', 0.030275627970695496), ('Ġwork', 0.027224130928516388)], [('Ġa', 0.21575060486793518), ('Ġfun', 0.1661185920238495), ('Ġplayed', 0.09554757177829742), ('Ġvery', 0.04805973172187805), ('Ġeasy', 0.027783451601862907)], [('Ġ\"', 0.09234540164470673), ('Ġmultiplayer', 0.06683895736932755), ('Ġfun', 0.058379869908094406), ('Ġgame', 0.027385905385017395), ('Ġvery', 0.02523639239370823)], [('Ġmultiplayer', 0.07348617911338806), ('Ġgame', 0.06545976549386978), ('Ġchallenge', 0.05485164374113083), ('Ġway', 0.050146494060754776), ('Ġexperience', 0.04702567681670189)], [('Ġto', 0.6683451533317566), ('Ġfor', 0.29029029607772827), ('Ġof', 0.03469563275575638), ('Ġthat', 0.0008896475192159414), (',', 0.0007986195851117373)], [('Ġplaying', 0.13590966165065765), ('Ġgetting', 0.081046462059021), ('Ġdoing', 0.07217556983232498), ('Ġmaking', 0.03719080239534378), ('Ġshowing', 0.027604980394244194)], [('Ġoff', 0.4177042245864868), ('Ġthe', 0.27052679657936096), ('Ġthat', 0.08705665916204453), ('Ġhow', 0.03747547045350075), ('Ġpeople', 0.01999347284436226)], [('Ġthe', 0.42525455355644226), ('Ġmy', 0.0891878604888916), ('Ġa', 0.04656184837222099), ('Ġhow', 0.04341829940676689), ('Ġwhat', 0.03519287705421448)], [('Ġskills', 0.17708908021450043), ('.', 0.12162046134471893), (',', 0.09256279468536377), ('Ġand', 0.06605633348226547), ('Ġabilities', 0.06185990199446678)], [('.', 0.4456479549407959), (',', 0.19197668135166168), ('Ġand', 0.08191120624542236), ('Ġin', 0.04548240825533867), ('Ġto', 0.03187611326575279)], [('ĠI', 0.24632957577705383), ('ĠThe', 0.13432204723358154), ('ĠIt', 0.11331262439489365), ('ĠIn', 0.03523140028119087), ('ĠSo', 0.0332639142870903)], [('Ġwas', 0.4271433353424072), ('Ġhad', 0.08916463702917099), (\"'s\", 0.04710095748305321), ('Ġwould', 0.04224454611539841), ('Ġwasn', 0.0288663599640131)], [('Ġdesigned', 0.12172196060419083), ('Ġa', 0.11323422938585281), ('Ġalso', 0.06854184716939926), ('Ġvery', 0.061645232141017914), ('Ġnot', 0.03088998608291149)], [('Ġto', 0.998529314994812), ('Ġfor', 0.00032993711647577584), (',', 0.00023410686117131263), ('Ġthat', 0.00017991825006902218), ('Ġbe', 9.912254608934745e-05)], [('Ġbe', 0.6395329833030701), ('Ġhave', 0.08602931350469589), ('Ġgive', 0.027378974482417107), ('Ġlook', 0.014828899875283241), ('Ġshow', 0.014567624777555466)], [('Ġa', 0.4018605053424835), ('Ġfun', 0.06014645844697952), ('Ġan', 0.041742727160453796), ('Ġabout', 0.038876455277204514), ('Ġvery', 0.026734868064522743)], [('Ġmultiplayer', 0.09325234591960907), ('Ġfun', 0.05698270723223686), ('Ġ\"', 0.055907003581523895), ('Ġgame', 0.045953474938869476), ('Ġgood', 0.034309022128582)], [('Ġgame', 0.3294294774532318), ('-', 0.09305322170257568), ('Ġexperience', 0.08472462743520737), ('Ġsimulator', 0.06273376196622849), ('Ġsimulation', 0.05584213137626648)], [('focused', 0.22706358134746552), ('based', 0.22337619960308075), ('oriented', 0.18562954664230347), ('only', 0.04870595782995224), ('themed', 0.03579261526465416)], [('Ġgame', 0.554908037185669), ('Ġexperience', 0.06579118221998215), ('Ġshooter', 0.0569392591714859), ('Ġcombat', 0.02240961231291294), (',', 0.021380139514803886)], [(',', 0.44132664799690247), ('.', 0.27503129839897156), ('Ġwith', 0.05187000334262848), ('Ġthat', 0.04571578651666641), ('Ġand', 0.025532368570566177)], [('Ġbut', 0.43927091360092163), ('Ġand', 0.19812940061092377), ('Ġso', 0.08952698856592178), ('Ġwith', 0.061497148126363754), ('Ġwhich', 0.039038706570863724)], [('ĠI', 0.33310261368751526), ('Ġit', 0.21566858887672424), ('Ġthe', 0.09735491871833801), ('Ġthere', 0.037040673196315765), ('Ġthat', 0.02042461186647415)], [('Ġwanted', 0.34318307042121887), ('Ġthought', 0.09274354577064514), ('Ġwas', 0.08408266305923462), ('Ġhad', 0.042179543524980545), ('Ġdidn', 0.038588181138038635)], [('Ġto', 0.5955053567886353), ('Ġthe', 0.1404995322227478), ('Ġit', 0.10782386362552643), ('Ġplayers', 0.027897706255316734), ('Ġa', 0.023223835974931717)], [('Ġmake', 0.2513784170150757), ('Ġshow', 0.09428506344556808), ('Ġgive', 0.0716211199760437), ('Ġhave', 0.040692828595638275), ('Ġuse', 0.03890053182840347)], [('Ġoff', 0.3437647819519043), ('Ġthe', 0.2367115169763565), ('Ġthat', 0.13035699725151062), ('Ġit', 0.047935545444488525), ('Ġhow', 0.03287377581000328)], [('Ġthe', 0.24875864386558533), ('Ġthat', 0.12425524741411209), ('Ġsome', 0.09533815085887909), ('Ġhow', 0.06696780771017075), ('Ġcombat', 0.06266994774341583)], [('Ġthe', 0.14626890420913696), ('Ġmuch', 0.10005464404821396), ('Ġto', 0.060883305966854095), ('Ġgood', 0.04574479162693024), ('Ġwell', 0.04357445612549782)], [('Ġthe', 0.4501277208328247), ('ĠI', 0.1167181134223938), ('Ġit', 0.09428353607654572), ('Ġa', 0.02965201623737812), ('Ġyou', 0.027399791404604912)], [('Ġplayer', 0.19074399769306183), ('Ġgame', 0.14777499437332153), ('Ġplayers', 0.1274104118347168), ('Ġcombat', 0.09621552377939224), ('Ġmultiplayer', 0.07072655111551285)], [('Ġcould', 0.2426520586013794), ('Ġwere', 0.20497524738311768), ('Ġwould', 0.08807875216007233), ('Ġhad', 0.05335525795817375), ('Ġdid', 0.04961281269788742)], [('Ġplay', 0.10911156237125397), ('Ġdo', 0.10227429121732712), ('Ġperform', 0.08666408061981201), ('Ġhandle', 0.06456857919692993), ('Ġuse', 0.058135583996772766)], [('Ġthe', 0.23247097432613373), ('Ġit', 0.228115513920784), ('.', 0.18418189883232117), ('Ġwith', 0.026380913332104683), ('Ġthrough', 0.023050783202052116)], [('ĠI', 0.2604460120201111), ('ĠThe', 0.11669213324785233), ('ĠSo', 0.07598981261253357), ('ĠIt', 0.05026913434267044), ('ĠBut', 0.038156475871801376)], [('Ġgame', 0.1891864836215973), ('Ġmultiplayer', 0.12577658891677856), ('Ġfirst', 0.03940291330218315), ('Ġplayer', 0.03152374178171158), ('Ġidea', 0.02975173108279705)], [('Ġcomponent', 0.20980249345302582), ('Ġwas', 0.16614986956119537), ('Ġaspect', 0.05341676250100136), ('Ġpart', 0.04239434376358986), ('Ġelement', 0.03013143688440323)], [('Ġdesigned', 0.08278873562812805), ('Ġa', 0.0686311274766922), ('Ġalso', 0.04491608962416649), ('Ġvery', 0.04291485249996185), ('Ġnot', 0.025592023506760597)], [('Ġto', 0.6768229603767395), ('Ġfor', 0.07113349437713623), ('Ġso', 0.06634393334388733), ('Ġas', 0.03325563669204712), ('Ġwith', 0.023611029610037804)], [('Ġbe', 0.5038155913352966), ('Ġhave', 0.06119955703616142), ('Ġgive', 0.0510791651904583), ('Ġallow', 0.03776123747229576), ('Ġmake', 0.028432222083210945)], [('Ġa', 0.3593645691871643), ('Ġfun', 0.09782370924949646), ('Ġvery', 0.04077059403061867), ('Ġan', 0.034967247396707535), ('Ġmore', 0.0247223898768425)], [('Ġfun', 0.10892673581838608), ('Ġgood', 0.09610477834939957), ('Ġ\"', 0.032917264848947525), ('Ġmultiplayer', 0.030162598937749863), ('Ġvery', 0.030006060376763344)], [('Ġway', 0.408478707075119), (',', 0.03837256506085396), ('Ġlittle', 0.02434646524488926), ('Ġmix', 0.020624147728085518), ('Ġand', 0.020568206906318665)], [('Ġto', 0.70639967918396), ('Ġof', 0.2198532223701477), ('Ġfor', 0.06398581713438034), ('Ġthat', 0.002144833793863654), (',', 0.0009676230256445706)], [('Ġshow', 0.3957473039627075), ('Ġintroduce', 0.05308910086750984), ('Ġgive', 0.0437672920525074), ('Ġget', 0.03584303334355354), ('Ġshowcase', 0.035373058170080185)], [('Ġoff', 0.7666508555412292), ('Ġthe', 0.07790473103523254), ('Ġthat', 0.033898524940013885), ('Ġhow', 0.01801958680152893), ('Ġa', 0.007072578649967909)], [('Ġthe', 0.3264252245426178), ('Ġcombat', 0.11187273263931274), ('Ġhow', 0.0810505822300911), ('Ġthat', 0.06026753783226013), ('Ġsome', 0.04336439073085785)], [('Ġthe', 0.13275207579135895), ('Ġexperience', 0.1145058199763298), ('.', 0.10114976018667221), ('Ġcombat', 0.09930995851755142), (',', 0.056291449815034866)], [('ĠI', 0.23178733885288239), ('ĠThe', 0.1487652212381363), ('ĠIt', 0.08018060028553009), ('ĠSo', 0.0444946363568306), ('ĠIn', 0.03492743894457817)], [('Ġmultiplayer', 0.16952620446681976), ('Ġgame', 0.15530864894390106), ('Ġfirst', 0.03330206871032715), ('Ġplayer', 0.03143345192074776), ('Ġcombat', 0.02628147043287754)], [('Ġwas', 0.4032779932022095), ('Ġhad', 0.06724146008491516), ('Ġis', 0.035431869328022), ('Ġitself', 0.028905414044857025), ('Ġstarted', 0.02342868596315384)], [('Ġa', 0.09255866706371307), ('Ġvery', 0.09161023795604706), ('Ġstill', 0.038310810923576355), ('Ġbased', 0.029397232457995415), ('Ġdesigned', 0.029391851276159286)], [('Ġvery', 0.07384154945611954), ('Ġbit', 0.05628981068730354), ('Ġlittle', 0.04452652484178543), ('Ġlot', 0.0398612841963768), ('Ġmultiplayer', 0.03667965158820152)], [('Ġgame', 0.28448987007141113), ('Ġexperience', 0.06210295855998993), ('-', 0.05995941534638405), ('Ġmode', 0.04326596483588219), ('Ġshooter', 0.04123934358358383)], [(',', 0.39910605549812317), ('.', 0.21898257732391357), ('Ġwith', 0.06291547417640686), ('Ġthat', 0.056840699166059494), ('Ġand', 0.044674042612314224)], [('Ġand', 0.5402440428733826), ('Ġbut', 0.14226633310317993), ('Ġso', 0.1103895977139473), ('Ġwhich', 0.026811936870217323), ('Ġwith', 0.02103465609252453)], [('Ġit', 0.22824162244796753), ('ĠI', 0.22718533873558044), ('Ġthe', 0.13779592514038086), ('Ġyou', 0.0745636597275734), ('Ġthere', 0.04735542833805084)], [('Ġmultiplayer', 0.20091964304447174), ('Ġplayer', 0.16634471714496613), ('Ġplayers', 0.11022263020277023), ('Ġgame', 0.07343138009309769), ('Ġcombat', 0.028667643666267395)], [('Ġmode', 0.3428402841091156), ('Ġis', 0.1785484403371811), ('Ġwas', 0.09437166899442673), ('Ġmodes', 0.04754473641514778), ('Ġmechanics', 0.018184570595622063)], [('Ġa', 0.1746492087841034), ('Ġdesigned', 0.1282390058040619), ('Ġnot', 0.05010583624243736), ('Ġabout', 0.041305337101221085), ('Ġvery', 0.04067302495241165)], [('Ġto', 0.8230636715888977), ('Ġfor', 0.08421478420495987), ('Ġso', 0.018000230193138123), ('Ġas', 0.011428795754909515), ('Ġwith', 0.00803909171372652)], [('Ġbe', 0.7390172481536865), ('Ġhave', 0.05158992111682892), ('Ġgive', 0.018700459972023964), ('Ġwork', 0.01308793667703867), ('Ġshow', 0.012633205391466618)], [('Ġa', 0.43876227736473083), ('Ġfun', 0.27491626143455505), ('Ġan', 0.025545459240674973), ('Ġplayed', 0.022266188636422157), ('Ġvery', 0.0150168277323246)], [('Ġgood', 0.349411278963089), ('Ġfun', 0.2389659583568573), ('Ġnice', 0.036543313413858414), ('Ġmultiplayer', 0.032625023275613785), ('Ġgame', 0.029626887291669846)], [('Ġway', 0.4516899585723877), ('Ġgame', 0.1595507115125656), ('Ġexperience', 0.05557426065206528), ('Ġmultiplayer', 0.04674861580133438), (',', 0.04519741237163544)], [('Ġchallenging', 0.12262330204248428), ('Ġfun', 0.08643439412117004), ('Ġinteresting', 0.08331869542598724), ('Ġengaging', 0.08171215653419495), ('Ġeasy', 0.04508237913250923)], [('Ġexperience', 0.25076645612716675), ('Ġgame', 0.237504243850708), ('Ġmultiplayer', 0.15131743252277374), ('Ġway', 0.1428508162498474), ('Ġone', 0.029775943607091904)], [('Ġexperience', 0.6372552514076233), ('Ġgame', 0.2552408277988434), ('.', 0.024316340684890747), ('Ġmode', 0.009833088144659996), ('Ġenvironment', 0.003069524420425296)], [('.', 0.8749284744262695), (',', 0.026559293270111084), ('Ġfor', 0.023130282759666443), ('Ġthat', 0.01402558758854866), ('Ġto', 0.010400451719760895)]]}\n"
     ]
    }
   ],
   "source": [
    "#hw: tmp = test_gpt2_prob(\"In this work, we study the internal representations of GANs. To a human observer, a well-trained GAN appears to have learned facts about the objects in the image: for example, a door can appear on a building but not on a tree. We wish to understand how a GAN represents such structure. Do the objects emerge as pure pixel patterns without any explicit representation of objects such as doors and trees, or does the GAN contain internal variables that correspond to the objects that humans perceive? If the GAN does contain variables for doors and trees, do those variables cause the generation of those objects, or do they merely correlate? How are relationships between objects represented? By carefully examining representation units, we have found that many parts of GAN representations can be interpreted, not only as signals that correlate with object concepts but as variables that have a causal effect on the synthesis of objects in the output. These interpretable effects can be used to compare, debug, modify, and reason about a GAN model. Our method can be potentially applied to other generative models such as VAEs  and RealNVP.\")\n",
    "#mg \n",
    "tmp = test_gpt2_prob(\"I've been a gamer for over ten years. During that time, I've been involved in a number of games, and I've seen very few of them in the history of the company. My first foray into this was as a member of the U.S. Army. I played some of the games I liked from the early 1980s through the early 1990s, but my first foray into the hobby was at the beginning of 2000 when I was stationed in Afghanistan. After I got back to my hometown and went to school, I started playing games. I began playing multiplayer games, which was a very popular form of gaming. One of the games I started playing was the first-person shooter \\\"The Wolf Among Us\\\" which is still the best-selling title of all time. I was at the beginning of the game development process. I had already seen a few demos of the game. I was also very interested in the multiplayer aspects of the game, and I wanted to see what the players would do in the game. In the beginning, I didn't know about multiplayer. I thought it would be cool to have some sort of \\\"party game\\\" with some kind of \\\"game mode\\\" which would give the player a real advantage. But as time went on, I realized that there were a lot of different things I wanted to create. To make it fun for the player, the multiplayer component was added. I started playing the game as a member of the U.S. Army. When I returned to my hometown, I found myself in the middle of a war with a group of Taliban soldiers. I was killed by one of the Taliban and I was the only casualty. I decided to take a look at multiplayer. I took the chance to have some fun with the multiplayer. I was in a place that was pretty hostile to the Taliban, and I decided that I wanted to make it fun for the player. The game was designed to be a good way of showing off combat experience. It was supposed to be a combat-focused game, and I wanted to show off how well the players could play. The multiplayer was designed to be a nice way to show off that. The game is a multiplayer game, and the game is designed to be a fun and interesting multiplayer game.\")"
   ]
  },
  {
   "cell_type": "code",
   "execution_count": 208,
   "id": "e0329f49",
   "metadata": {},
   "outputs": [
    {
     "name": "stdout",
     "output_type": "stream",
     "text": [
      "(0.0, 0.1]     33\n",
      "(0.1, 0.2]     35\n",
      "(0.2, 0.3]     31\n",
      "(0.3, 0.4]     28\n",
      "(0.4, 0.5]     20\n",
      "(0.5, 0.6]     11\n",
      "(0.6, 0.7]     15\n",
      "(0.7, 0.8]     18\n",
      "(0.8, 0.9]     12\n",
      "(0.9, inf]    258\n",
      "dtype: int64\n"
     ]
    },
    {
     "data": {
      "text/plain": [
       "99"
      ]
     },
     "execution_count": 208,
     "metadata": {},
     "output_type": "execute_result"
    }
   ],
   "source": [
    "## real_topk includes, for each word (position, probability)\n",
    "#tmp['real_topk']\n",
    "## pred_topk includes, for each position, topk pairs of type (decoded_word, probability)\n",
    "#tmp['pred_topk']\n",
    "\n",
    "a = zip(tmp['real_topk'], pred_topk)\n",
    "b = list(map(lambda i: i[0][1]/i[1][1], a))\n",
    "intervals = [0, 0.1, 0.2, 0.3, 0.4, 0.5, 0.6, 0.7, 0.8, 0.9, float(\"inf\")]\n",
    "out = pd.cut(b, bins=intervals)\n",
    "out_val = out.value_counts()\n",
    "\n",
    "print(out_val)\n",
    "\n",
    "sum(out_val[:3])"
   ]
  },
  {
   "cell_type": "code",
   "execution_count": 209,
   "id": "68b6ee79",
   "metadata": {},
   "outputs": [
    {
     "data": {
      "text/plain": [
       "(array([88., 22., 12.,  4.,  4.,  5.,  2.,  2.,  2., 85.]),\n",
       " array([2.52325559e-05, 1.00026430e-01, 2.00027627e-01, 3.00028825e-01,\n",
       "        4.00030022e-01, 5.00031220e-01, 6.00032417e-01, 7.00033614e-01,\n",
       "        8.00034812e-01, 9.00036009e-01, 1.00003721e+00]),\n",
       " <BarContainer object of 10 artists>)"
      ]
     },
     "execution_count": 209,
     "metadata": {},
     "output_type": "execute_result"
    },
    {
     "data": {
      "image/png": "[encoded data removed]",
      "text/plain": [
       "<Figure size 640x480 with 1 Axes>"
      ]
     },
     "metadata": {},
     "output_type": "display_data"
    }
   ],
   "source": [
    "import matplotlib.pyplot as plt\n",
    "plt.hist(b_df)"
   ]
  },
  {
   "cell_type": "code",
   "execution_count": null,
   "id": "c7e7a62f",
   "metadata": {},
   "outputs": [],
   "source": []
  }
 ],
 "metadata": {
  "kernelspec": {
   "display_name": "Python [conda env:detector]",
   "language": "python",
   "name": "conda-env-detector-py"
  },
  "language_info": {
   "codemirror_mode": {
    "name": "ipython",
    "version": 3
   },
   "file_extension": ".py",
   "mimetype": "text/x-python",
   "name": "python",
   "nbconvert_exporter": "python",
   "pygments_lexer": "ipython3",
   "version": "3.9.16"
  }
 },
 "nbformat": 4,
 "nbformat_minor": 5
}
