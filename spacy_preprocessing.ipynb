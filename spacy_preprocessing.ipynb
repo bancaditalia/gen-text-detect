{
 "cells": [
  {
   "cell_type": "code",
   "execution_count": 1,
   "id": "0963046c",
   "metadata": {},
   "outputs": [],
   "source": [
    "import pandas as pd\n",
    "import os\n",
    "import json"
   ]
  },
  {
   "cell_type": "code",
   "execution_count": 6,
   "id": "010a7631",
   "metadata": {},
   "outputs": [],
   "source": [
    "data_path = \"./\"\n",
    "datasets = ['xl-1542M.train.jsonl.clean100k.csv', 'webtext.train.jsonl.clean100k.csv']"
   ]
  },
  {
   "cell_type": "code",
   "execution_count": 6,
   "id": "b80a7f42",
   "metadata": {},
   "outputs": [],
   "source": [
    "data_path = \"./\"\n",
    "datasets = ['xl-1542M-k40.train.jsonl.clean100k.csv']"
   ]
  },
  {
   "cell_type": "code",
   "execution_count": 13,
   "id": "263c176d",
   "metadata": {},
   "outputs": [],
   "source": [
    "data_path = \"./\"\n",
    "datasets = ['webtext.train.jsonl.clean200k.csv']"
   ]
  },
  {
   "cell_type": "code",
   "execution_count": 3,
   "id": "bbd806d6",
   "metadata": {},
   "outputs": [],
   "source": [
    "data_path = \"./\"\n",
    "datasets = ['xl-1542M-k40.train.jsonl.clean100k.csv', 'xl-1542M.train.jsonl.clean100k.csv', 'webtext.train.jsonl.clean200k.csv']"
   ]
  },
  {
   "cell_type": "code",
   "execution_count": 37,
   "id": "06c7560a",
   "metadata": {},
   "outputs": [],
   "source": [
    "data_path = \"./data\"\n",
    "datasets = ['xl-1542M.test.jsonl', 'webtext.test.jsonl']"
   ]
  },
  {
   "cell_type": "code",
   "execution_count": 2,
   "id": "09622e83",
   "metadata": {},
   "outputs": [],
   "source": [
    "import spacy\n",
    "\n",
    "nlp = spacy.load(\"en_core_web_sm\")"
   ]
  },
  {
   "cell_type": "code",
   "execution_count": 18,
   "id": "c3938f1e",
   "metadata": {},
   "outputs": [],
   "source": [
    "test_path = \"./data/test\"\n",
    "test_dataset_files = sorted([f for f in os.listdir(test_path) if os.path.isfile(os.path.join(test_path, f))])"
   ]
  },
  {
   "cell_type": "code",
   "execution_count": 4,
   "id": "80fe72b6",
   "metadata": {},
   "outputs": [],
   "source": [
    "import pickle\n",
    "\n",
    "def load_dataset(file_path, data_path=\"./\"):\n",
    "    ds = None\n",
    "    full_path = os.path.join(data_path, file_path)\n",
    "    if os.path.splitext(file_path)[-1] == \".csv\":\n",
    "        ds = pd.read_csv(full_path)\n",
    "    elif os.path.splitext(file_path)[-1] == \".jsonl\":\n",
    "        ds = pd.read_json(full_path, lines=True)\n",
    "    elif os.path.splitext(file_path)[-1] == \".pickle\":\n",
    "        with open(full_path, \"rb\") as f:\n",
    "            ds = pickle.load(f)\n",
    "    return ds"
   ]
  },
  {
   "cell_type": "code",
   "execution_count": 55,
   "id": "34b8622e",
   "metadata": {},
   "outputs": [],
   "source": [
    "datasets = {}\n",
    "for dataset in test_dataset_files:\n",
    "    datasets[dataset.replace('.pickle','')] = load_dataset(dataset, test_path)"
   ]
  },
  {
   "cell_type": "code",
   "execution_count": 5,
   "id": "e8a45206",
   "metadata": {},
   "outputs": [],
   "source": [
    "datasets = {}\n",
    "datasets['xl-1542M-k40.train'] = load_dataset('xl-1542M-k40.train.jsonl.clean100k.csv', \"./\")"
   ]
  },
  {
   "cell_type": "code",
   "execution_count": 4,
   "id": "01c1b139",
   "metadata": {},
   "outputs": [],
   "source": [
    "import time\n",
    "import sys"
   ]
  },
  {
   "cell_type": "code",
   "execution_count": 62,
   "id": "f58bcfdd",
   "metadata": {
    "scrolled": true
   },
   "outputs": [
    {
     "name": "stdout",
     "output_type": "stream",
     "text": [
      "\n",
      "Dataset gpt2.large-762M-k40.test.machine...\n",
      " processing text 5000/5000 -   Progress: 100% estimated   0s remaining\n",
      "Dataset gpt2.large-762M.test.machine...\n",
      " processing text 5000/5000 -   Progress: 100% estimated   0s remaining\n",
      "Dataset gpt2.medium-345M-k40.test.machine...\n",
      " processing text 5000/5000 -   Progress: 100% estimated   0s remaining\n",
      "Dataset gpt2.medium-345M.test.machine...\n",
      " processing text 5000/5000 -   Progress: 100% estimated   0s remainingg\n",
      "Dataset gpt2.small-117M-k40.test.machine...\n",
      " processing text 5000/5000 -   Progress: 100% estimated   0s remainingg\n",
      "Dataset gpt2.small-117M.test.machine...\n",
      " processing text 5000/5000 -   Progress: 100% estimated   0s remainingg\n",
      "Dataset gpt2.xl-1542M-k40.test.machine...\n",
      " processing text 5000/5000 -   Progress: 100% estimated   0s remainingg\n",
      "Dataset gpt2.xl-1542M.test.machine...\n",
      " processing text 5000/5000 -   Progress: 100% estimated   0s remainingg\n",
      "Dataset gpt3.175b_samples.machine...\n",
      " processing text 485/485 -   Progress: 100% estimated   0s remainingg\n",
      "Dataset grover-base-p0.90.human...\n",
      " processing text 15000/15000 -   Progress: 100% estimated   0s remainingg\n",
      "Dataset grover-base-p0.90.machine...\n",
      " processing text 10000/10000 -   Progress: 100% estimated   0s remainingg\n",
      "Dataset grover-base-p0.92.human...\n",
      " processing text 15000/15000 -   Progress: 100% estimated   0s remainingg\n",
      "Dataset grover-base-p0.92.machine...\n",
      " processing text 10000/10000 -   Progress: 100% estimated   0s remainingg\n",
      "Dataset grover-base-p0.94.human...\n",
      " processing text 15000/15000 -   Progress: 100% estimated   0s remainingg\n",
      "Dataset grover-base-p0.94.machine...\n",
      " processing text 10000/10000 -   Progress: 100% estimated   0s remainingg\n",
      "Dataset grover-base-p0.96.human...\n",
      " processing text 15000/15000 -   Progress: 100% estimated   0s remainingg\n",
      "Dataset grover-base-p0.96.machine...\n",
      " processing text 10000/10000 -   Progress: 100% estimated   0s remainingg\n",
      "Dataset grover-base-p0.98.human...\n",
      " processing text 15000/15000 -   Progress: 100% estimated   0s remainingg\n",
      "Dataset grover-base-p0.98.machine...\n",
      " processing text 10000/10000 -   Progress: 100% estimated   0s remainingg\n",
      "Dataset grover-base-p1.00.human...\n",
      " processing text 15000/15000 -   Progress: 100% estimated   0s remainingg\n",
      "Dataset grover-base-p1.00.machine...\n",
      " processing text 10000/10000 -   Progress: 100% estimated   0s remainingg\n",
      "Dataset grover-medium-p0.90.human...\n",
      " processing text 15000/15000 -   Progress: 100% estimated   0s remainingg\n",
      "Dataset grover-medium-p0.90.machine...\n",
      " processing text 10000/10000 -   Progress: 100% estimated   0s remainingg\n",
      "Dataset grover-medium-p0.92.human...\n",
      " processing text 15000/15000 -   Progress: 100% estimated   0s remainingg\n",
      "Dataset grover-medium-p0.92.machine...\n",
      " processing text 10000/10000 -   Progress: 100% estimated   0s remainingg\n",
      "Dataset grover-medium-p0.94.human...\n",
      " processing text 15000/15000 -   Progress: 100% estimated   0s remainingg\n",
      "Dataset grover-medium-p0.94.machine...\n",
      " processing text 10000/10000 -   Progress: 100% estimated   0s remainingg\n",
      "Dataset grover-medium-p0.96.human...\n",
      " processing text 15000/15000 -   Progress: 100% estimated   0s remainingg\n",
      "Dataset grover-medium-p0.96.machine...\n",
      " processing text 10000/10000 -   Progress: 100% estimated   0s remainingg\n",
      "Dataset grover-medium-p0.98.human...\n",
      " processing text 15000/15000 -   Progress: 100% estimated   0s remainingg\n",
      "Dataset grover-medium-p0.98.machine...\n",
      " processing text 10000/10000 -   Progress: 100% estimated   0s remainingg\n",
      "Dataset grover-medium-p1.00.human...\n",
      " processing text 15000/15000 -   Progress: 100% estimated   0s remainingg\n",
      "Dataset grover-medium-p1.00.machine...\n",
      " processing text 10000/10000 -   Progress: 100% estimated   0s remainingg\n",
      "Dataset grover-mega-p0.90.human...\n",
      " processing text 15000/15000 -   Progress: 100% estimated   0s remainingg\n",
      "Dataset grover-mega-p0.90.machine...\n",
      " processing text 10000/10000 -   Progress: 100% estimated   0s remainingg\n",
      "Dataset grover-mega-p0.92.human...\n",
      " processing text 15000/15000 -   Progress: 100% estimated   0s remaininggg\n",
      "Dataset grover-mega-p0.92.machine...\n",
      " processing text 10000/10000 -   Progress: 100% estimated   0s remainingg\n",
      "Dataset grover-mega-p0.94.human...\n",
      " processing text 15000/15000 -   Progress: 100% estimated   0s remaininggg\n",
      "Dataset grover-mega-p0.94.machine...\n",
      " processing text 10000/10000 -   Progress: 100% estimated   0s remainingg\n",
      "Dataset grover-mega-p0.96.human...\n",
      " processing text 15000/15000 -   Progress: 100% estimated   0s remaininggg\n",
      "Dataset grover-mega-p0.96.machine...\n",
      " processing text 10000/10000 -   Progress: 100% estimated   0s remainingg\n",
      "Dataset grover-mega-p0.98.human...\n",
      " processing text 15000/15000 -   Progress: 100% estimated   0s remaininggg\n",
      "Dataset grover-mega-p0.98.machine...\n",
      " processing text 10000/10000 -   Progress: 100% estimated   0s remainingg\n",
      "Dataset grover-mega-p1.00.human...\n",
      " processing text 15000/15000 -   Progress: 100% estimated   0s remaininggg\n",
      "Dataset grover-mega-p1.00.machine...\n",
      " processing text 10000/10000 -   Progress: 100% estimated   0s remainingg\n",
      "Dataset webtext.test.human...\n",
      " processing text 5000/5000 -   Progress: 100% estimated   0s remaininggg"
     ]
    }
   ],
   "source": [
    "tagged_datasets_pos = {}\n",
    "tagged_datasets_tag = {}\n",
    "\n",
    "fmt = \"  Progress: {:>3}% estimated {:>3}s remaining\"\n",
    "\n",
    "start = time.perf_counter()\n",
    "\n",
    "for dataset in datasets:\n",
    "    print(f\"\\nDataset {dataset}...\")\n",
    "    texts = datasets[dataset]\n",
    "    size = len(texts)\n",
    "    sys.stdout.write(f\" processing text 1/{size}\")\n",
    "    tagged_datasets_pos[dataset] = []\n",
    "    tagged_datasets_tag[dataset] = []\n",
    "    for i, text in enumerate(texts):\n",
    "        tokens = nlp(text)\n",
    "        tagged_datasets_pos[dataset].append([tk.pos_ for tk in tokens])\n",
    "        tagged_datasets_tag[dataset].append([tk.tag_ for tk in tokens])\n",
    "        stop = time.perf_counter()\n",
    "        remaining = round((stop - start) * (size / (i+1) - 1))\n",
    "        sys.stdout.write(f\"\\r processing text {i+1}/{size} - {fmt.format(100 * (i+1) // size, remaining)}\")"
   ]
  },
  {
   "cell_type": "code",
   "execution_count": 22,
   "id": "db62f96d",
   "metadata": {},
   "outputs": [],
   "source": [
    "test_path = \"./data/test\"\n",
    "test_dataset_files = sorted([f for f in os.listdir(test_path) if os.path.isfile(os.path.join(test_path, f)) and f[0]!=\".\"])\n",
    "\n",
    "datasets = {}\n",
    "for dataset in test_dataset_files:\n",
    "    datasets[dataset.replace('.pickle','')] = load_dataset(dataset, test_path)"
   ]
  },
  {
   "cell_type": "code",
   "execution_count": 24,
   "id": "9621aa57",
   "metadata": {
    "scrolled": true
   },
   "outputs": [
    {
     "name": "stdout",
     "output_type": "stream",
     "text": [
      "\n",
      "Dataset gpt2.large-762M-k40.test.machine...\n",
      " processing text 5000/5000 - 00:00:00 remaining\n",
      "Dataset gpt2.large-762M.test.machine...\n",
      " processing text 5000/5000 - 00:00:00 remaining\n",
      "Dataset gpt2.medium-345M-k40.test.machine...\n",
      " processing text 5000/5000 - 00:00:00 remainingg\n",
      "Dataset gpt2.medium-345M.test.machine...\n",
      " processing text 5000/5000 - 00:00:00 remainingg\n",
      "Dataset gpt2.small-117M-k40.test.machine...\n",
      " processing text 5000/5000 - 00:00:00 remainingg\n",
      "Dataset gpt2.small-117M.test.machine...\n",
      " processing text 5000/5000 - 00:00:00 remainingg\n",
      "Dataset gpt2.xl-1542M-k40.test.machine...\n",
      " processing text 5000/5000 - 00:00:00 remainingg\n",
      "Dataset gpt2.xl-1542M.test.machine...\n",
      " processing text 5000/5000 - 00:00:00 remainingg\n",
      "Dataset gpt3.175b_samples.machine...\n",
      " processing text 485/485 - 00:00:00 remaining\n",
      "Dataset grover-base-p0.94.human...\n",
      " processing text 15000/15000 - 00:00:00 remaininggg\n",
      "Dataset grover-base-p0.94.machine...\n",
      " processing text 10000/10000 - 00:00:00 remaininggg\n",
      "Dataset grover-medium-p0.94.human...\n",
      " processing text 15000/15000 - 00:00:00 remaininggg\n",
      "Dataset grover-medium-p0.94.machine...\n",
      " processing text 10000/10000 - 00:00:00 remaininggg\n",
      "Dataset grover-mega-p0.94.human...\n",
      " processing text 15000/15000 - 00:00:00 remaininggg\n",
      "Dataset grover-mega-p0.94.machine...\n",
      " processing text 10000/10000 - 00:00:00 remaininggg\n",
      "Dataset webtext.test.human...\n",
      " processing text 5000/5000 - 00:00:00 remainingggg"
     ]
    }
   ],
   "source": [
    "test_path = \"./data/test\"\n",
    "test_dataset_files = sorted([f for f in os.listdir(test_path) if os.path.isfile(os.path.join(test_path, f)) and f[0]!=\".\"])\n",
    "\n",
    "datasets = {}\n",
    "for dataset in test_dataset_files:\n",
    "    datasets[dataset.replace('.pickle','')] = load_dataset(dataset, test_path)\n",
    "\n",
    "tagged_datasets_entities = {}\n",
    "\n",
    "fmt = \"  Progress: {:>3}% estimated {:>3}s remaining\"\n",
    "\n",
    "start = time.perf_counter()\n",
    "\n",
    "for ds in datasets:\n",
    "    print(f\"\\nDataset {ds}...\")\n",
    "    texts = datasets[ds]\n",
    "    size = len(texts)\n",
    "    sys.stdout.write(f\" processing text 1/{size}\")\n",
    "    tagged_datasets_entities[ds] = []\n",
    "    for i, text in enumerate(texts):\n",
    "        doc = nlp(text)\n",
    "        tagged_datasets_entities[ds].append([ent.label_ for ent in doc.ents])\n",
    "        stop = time.perf_counter()\n",
    "        remaining = round((stop - start) * (size / (i+1) - 1))\n",
    "            \n",
    "        sys.stdout.write(f\"\\r processing text {i+1}/{size} - {remaining//3600:02d}:{remaining//60:02d}:{remaining%60:02d} remaining\")\n",
    "\n",
    "for ds in datasets:\n",
    "    with open(os.path.join(\"./data/entities/test\", f\"{ds}.entities.pickle\"), \"wb\") as entf:\n",
    "        pickle.dump(tagged_datasets_entities[ds], entf)"
   ]
  },
  {
   "cell_type": "code",
   "execution_count": 14,
   "id": "ad4a1583",
   "metadata": {},
   "outputs": [
    {
     "ename": "KeyError",
     "evalue": "'webtext.train.jsonl.clean200k.csv'",
     "output_type": "error",
     "traceback": [
      "\u001b[0;31m---------------------------------------------------------------------------\u001b[0m",
      "\u001b[0;31mKeyError\u001b[0m                                  Traceback (most recent call last)",
      "Cell \u001b[0;32mIn[14], line 5\u001b[0m\n\u001b[1;32m      3\u001b[0m \u001b[38;5;28;01mfor\u001b[39;00m ds \u001b[38;5;129;01min\u001b[39;00m datasets:\n\u001b[1;32m      4\u001b[0m     \u001b[38;5;28;01mwith\u001b[39;00m \u001b[38;5;28mopen\u001b[39m(os\u001b[38;5;241m.\u001b[39mpath\u001b[38;5;241m.\u001b[39mjoin(\u001b[38;5;124m\"\u001b[39m\u001b[38;5;124m./data/tag/test\u001b[39m\u001b[38;5;124m\"\u001b[39m, \u001b[38;5;124mf\u001b[39m\u001b[38;5;124m\"\u001b[39m\u001b[38;5;132;01m{\u001b[39;00mds\u001b[38;5;132;01m}\u001b[39;00m\u001b[38;5;124m.pos.pickle\u001b[39m\u001b[38;5;124m\"\u001b[39m), \u001b[38;5;124m\"\u001b[39m\u001b[38;5;124mwb\u001b[39m\u001b[38;5;124m\"\u001b[39m) \u001b[38;5;28;01mas\u001b[39;00m posf:\n\u001b[0;32m----> 5\u001b[0m         pickle\u001b[38;5;241m.\u001b[39mdump(\u001b[43mtagged_datasets_pos\u001b[49m\u001b[43m[\u001b[49m\u001b[43mds\u001b[49m\u001b[43m]\u001b[49m, posf)\n\u001b[1;32m      6\u001b[0m     \u001b[38;5;28;01mwith\u001b[39;00m \u001b[38;5;28mopen\u001b[39m(os\u001b[38;5;241m.\u001b[39mpath\u001b[38;5;241m.\u001b[39mjoin(\u001b[38;5;124m\"\u001b[39m\u001b[38;5;124m./data/tag/test\u001b[39m\u001b[38;5;124m\"\u001b[39m, \u001b[38;5;124mf\u001b[39m\u001b[38;5;124m\"\u001b[39m\u001b[38;5;132;01m{\u001b[39;00mds\u001b[38;5;132;01m}\u001b[39;00m\u001b[38;5;124m.tag.pickle\u001b[39m\u001b[38;5;124m\"\u001b[39m), \u001b[38;5;124m\"\u001b[39m\u001b[38;5;124mwb\u001b[39m\u001b[38;5;124m\"\u001b[39m) \u001b[38;5;28;01mas\u001b[39;00m tagf:\n\u001b[1;32m      7\u001b[0m         pickle\u001b[38;5;241m.\u001b[39mdump(tagged_datasets_tag[ds], tagf)\n",
      "\u001b[0;31mKeyError\u001b[0m: 'webtext.train.jsonl.clean200k.csv'"
     ]
    }
   ],
   "source": [
    "import pickle\n",
    "\n",
    "for ds in datasets:\n",
    "    with open(os.path.join(\"./data/tag/test\", f\"{ds}.pos.pickle\"), \"wb\") as posf:\n",
    "        pickle.dump(tagged_datasets_pos[ds], posf)\n",
    "    with open(os.path.join(\"./data/tag/test\", f\"{ds}.tag.pickle\"), \"wb\") as tagf:\n",
    "        pickle.dump(tagged_datasets_tag[ds], tagf)"
   ]
  },
  {
   "cell_type": "code",
   "execution_count": 5,
   "id": "20daac75",
   "metadata": {},
   "outputs": [],
   "source": [
    "df_datasets = {}\n",
    "for dataset in datasets:\n",
    "    path = os.path.join(data_path, dataset)\n",
    "    if os.path.exists(path):\n",
    "        if os.path.splitext(dataset)[-1] == \".csv\":\n",
    "            df_datasets[dataset] = pd.read_csv(path)\n",
    "        if os.path.splitext(dataset)[-1] == \".jsonl\":\n",
    "            df_datasets[dataset] = pd.read_json(path, lines=True)"
   ]
  },
  {
   "cell_type": "markdown",
   "id": "46c568e6",
   "metadata": {},
   "source": [
    "POS / TAG"
   ]
  },
  {
   "cell_type": "code",
   "execution_count": 16,
   "id": "f2fc1e8f",
   "metadata": {},
   "outputs": [
    {
     "name": "stdout",
     "output_type": "stream",
     "text": [
      "\n",
      "Dataset webtext.train.jsonl.clean200k.csv...\n",
      " processing text 200000/200000 -   Progress: 100% estimated   0s remainingg"
     ]
    }
   ],
   "source": [
    "import spacy\n",
    "\n",
    "nlp = spacy.load(\"en_core_web_sm\")\n",
    "\n",
    "tagged_datasets_pos = {}\n",
    "tagged_datasets_tag = {}\n",
    "\n",
    "fmt = \"  Progress: {:>3}% estimated {:>3}s remaining\"\n",
    "\n",
    "start = time.perf_counter()\n",
    "\n",
    "for ds in df_datasets:\n",
    "    print(f\"\\nDataset {ds}...\")\n",
    "    texts = df_datasets[ds][\"text\"].to_list()\n",
    "    size = len(texts)\n",
    "    sys.stdout.write(f\" processing text 1/{size}\")\n",
    "    tagged_datasets_pos[ds] = []\n",
    "    tagged_datasets_tag[ds] = []\n",
    "    for i, text in enumerate(texts):\n",
    "        tokens = nlp(text)\n",
    "        tagged_datasets_pos[ds].append([tk.pos_ for tk in tokens])\n",
    "        tagged_datasets_tag[ds].append([tk.tag_ for tk in tokens])\n",
    "        stop = time.perf_counter()\n",
    "        remaining = round((stop - start) * (size / (i+1) - 1))\n",
    "        sys.stdout.write(f\"\\r processing text {i+1}/{size} - {fmt.format(100 * (i+1) // size, remaining)}\")"
   ]
  },
  {
   "cell_type": "markdown",
   "id": "18b740f0",
   "metadata": {},
   "source": [
    "Entity Labels"
   ]
  },
  {
   "cell_type": "code",
   "execution_count": 17,
   "id": "d3dd9bd0",
   "metadata": {},
   "outputs": [
    {
     "name": "stdout",
     "output_type": "stream",
     "text": [
      "\n",
      "Dataset xl-1542M-k40.train.jsonl.clean100k.csv...\n",
      " processing text 100000/100000 - 00:00:00 remaining\n",
      "Dataset xl-1542M.train.jsonl.clean100k.csv...\n",
      " processing text 100000/100000 - 00:00:00 remainingggg\n",
      "Dataset webtext.train.jsonl.clean200k.csv...\n",
      " processing text 200000/200000 - 00:00:00 remainingggggg"
     ]
    }
   ],
   "source": [
    "import spacy\n",
    "import time\n",
    "import sys\n",
    "\n",
    "nlp = spacy.load(\"en_core_web_sm\")\n",
    "\n",
    "tagged_datasets_entities = {}\n",
    "\n",
    "fmt = \"  Progress: {:>3}% estimated {:>3}s remaining\"\n",
    "\n",
    "start = time.perf_counter()\n",
    "\n",
    "for ds in df_datasets:\n",
    "    print(f\"\\nDataset {ds}...\")\n",
    "    texts = df_datasets[ds][\"text\"].to_list()\n",
    "    size = len(texts)\n",
    "    sys.stdout.write(f\" processing text 1/{size}\")\n",
    "    tagged_datasets_entities[ds] = []\n",
    "    for i, text in enumerate(texts):\n",
    "        doc = nlp(text)\n",
    "        tagged_datasets_entities[ds].append([ent.label_ for ent in doc.ents])\n",
    "        stop = time.perf_counter()\n",
    "        remaining = round((stop - start) * (size / (i+1) - 1))\n",
    "            \n",
    "        sys.stdout.write(f\"\\r processing text {i+1}/{size} - {remaining//3600:02d}:{remaining//60:02d}:{remaining%60:02d} remaining\")\n",
    "        #sys.stdout.write(f\"\\r processing text {i+1}/{size} - {fmt.format(100 * (i+1) // size, remaining)}\")\n",
    "        \n",
    "import pickle\n",
    "\n",
    "data_path = \"./data\"\n",
    "\n",
    "for ds in df_datasets:\n",
    "    with open(os.path.join(data_path, f\"entities/{ds}.entities.pickle\"), \"wb\") as entf:\n",
    "        pickle.dump(tagged_datasets_entities[ds], entf)"
   ]
  },
  {
   "cell_type": "code",
   "execution_count": 17,
   "id": "8ca5728e",
   "metadata": {},
   "outputs": [],
   "source": [
    "import pickle\n",
    "\n",
    "data_path = \"./data\"\n",
    "\n",
    "for ds in df_datasets:\n",
    "    with open(os.path.join(data_path, f\"pos/{ds}.pos.pickle\"), \"wb\") as posf:\n",
    "        pickle.dump(tagged_datasets_pos[ds], posf)\n",
    "    with open(os.path.join(data_path, f\"tag/{ds}.tag.pickle\"), \"wb\") as tagf:\n",
    "        pickle.dump(tagged_datasets_tag[ds], tagf)"
   ]
  },
  {
   "cell_type": "code",
   "execution_count": null,
   "id": "ad378bc1",
   "metadata": {},
   "outputs": [],
   "source": [
    "print(f\"{remaining//3600}:{remaining//60}:{remaining%60}\")"
   ]
  }
 ],
 "metadata": {
  "kernelspec": {
   "display_name": "ml-env",
   "language": "python",
   "name": "ml-env"
  },
  "language_info": {
   "codemirror_mode": {
    "name": "ipython",
    "version": 3
   },
   "file_extension": ".py",
   "mimetype": "text/x-python",
   "name": "python",
   "nbconvert_exporter": "python",
   "pygments_lexer": "ipython3",
   "version": "3.9.16"
  }
 },
 "nbformat": 4,
 "nbformat_minor": 5
}
